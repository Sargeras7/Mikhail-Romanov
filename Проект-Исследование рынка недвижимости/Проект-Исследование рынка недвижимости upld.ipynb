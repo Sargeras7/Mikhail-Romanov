{
 "cells": [
  {
   "cell_type": "markdown",
   "metadata": {},
   "source": [
    "# Исследование объявлений о продаже квартир\n",
    "\n",
    "В вашем распоряжении данные сервиса Яндекс.Недвижимость — архив объявлений о продаже квартир в Санкт-Петербурге и соседних населённых пунктов за несколько лет. Нужно научиться определять рыночную стоимость объектов недвижимости. Ваша задача — установить параметры. Это позволит построить автоматизированную систему: она отследит аномалии и мошенническую деятельность. \n",
    "\n",
    "По каждой квартире на продажу доступны два вида данных. Первые вписаны пользователем, вторые — получены автоматически на основе картографических данных. Например, расстояние до центра, аэропорта, ближайшего парка и водоёма. "
   ]
  },
  {
   "cell_type": "markdown",
   "metadata": {},
   "source": [
    "### Откройте файл с данными и изучите общую информацию. "
   ]
  },
  {
   "cell_type": "code",
   "execution_count": 1,
   "metadata": {},
   "outputs": [],
   "source": [
    "import pandas as pd\n",
    "import matplotlib.pyplot as plt\n",
    "import numpy as np#UPD\n"
   ]
  },
  {
   "cell_type": "code",
   "execution_count": 2,
   "metadata": {},
   "outputs": [],
   "source": [
    "data = pd.read_csv('/datasets/real_estate_data.csv', sep='\\t')"
   ]
  },
  {
   "cell_type": "code",
   "execution_count": 3,
   "metadata": {},
   "outputs": [],
   "source": [
    "pd.set_option('display.max_columns', None)"
   ]
  },
  {
   "cell_type": "code",
   "execution_count": 4,
   "metadata": {},
   "outputs": [
    {
     "data": {
      "text/html": [
       "<div>\n",
       "<style scoped>\n",
       "    .dataframe tbody tr th:only-of-type {\n",
       "        vertical-align: middle;\n",
       "    }\n",
       "\n",
       "    .dataframe tbody tr th {\n",
       "        vertical-align: top;\n",
       "    }\n",
       "\n",
       "    .dataframe thead th {\n",
       "        text-align: right;\n",
       "    }\n",
       "</style>\n",
       "<table border=\"1\" class=\"dataframe\">\n",
       "  <thead>\n",
       "    <tr style=\"text-align: right;\">\n",
       "      <th></th>\n",
       "      <th>total_images</th>\n",
       "      <th>last_price</th>\n",
       "      <th>total_area</th>\n",
       "      <th>first_day_exposition</th>\n",
       "      <th>rooms</th>\n",
       "      <th>ceiling_height</th>\n",
       "      <th>floors_total</th>\n",
       "      <th>living_area</th>\n",
       "      <th>floor</th>\n",
       "      <th>is_apartment</th>\n",
       "      <th>studio</th>\n",
       "      <th>open_plan</th>\n",
       "      <th>kitchen_area</th>\n",
       "      <th>balcony</th>\n",
       "      <th>locality_name</th>\n",
       "      <th>airports_nearest</th>\n",
       "      <th>cityCenters_nearest</th>\n",
       "      <th>parks_around3000</th>\n",
       "      <th>parks_nearest</th>\n",
       "      <th>ponds_around3000</th>\n",
       "      <th>ponds_nearest</th>\n",
       "      <th>days_exposition</th>\n",
       "    </tr>\n",
       "  </thead>\n",
       "  <tbody>\n",
       "    <tr>\n",
       "      <th>0</th>\n",
       "      <td>20</td>\n",
       "      <td>13000000.0</td>\n",
       "      <td>108.00</td>\n",
       "      <td>2019-03-07T00:00:00</td>\n",
       "      <td>3</td>\n",
       "      <td>2.70</td>\n",
       "      <td>16.0</td>\n",
       "      <td>51.00</td>\n",
       "      <td>8</td>\n",
       "      <td>NaN</td>\n",
       "      <td>False</td>\n",
       "      <td>False</td>\n",
       "      <td>25.00</td>\n",
       "      <td>NaN</td>\n",
       "      <td>Санкт-Петербург</td>\n",
       "      <td>18863.0</td>\n",
       "      <td>16028.0</td>\n",
       "      <td>1.0</td>\n",
       "      <td>482.0</td>\n",
       "      <td>2.0</td>\n",
       "      <td>755.0</td>\n",
       "      <td>NaN</td>\n",
       "    </tr>\n",
       "    <tr>\n",
       "      <th>1</th>\n",
       "      <td>7</td>\n",
       "      <td>3350000.0</td>\n",
       "      <td>40.40</td>\n",
       "      <td>2018-12-04T00:00:00</td>\n",
       "      <td>1</td>\n",
       "      <td>NaN</td>\n",
       "      <td>11.0</td>\n",
       "      <td>18.60</td>\n",
       "      <td>1</td>\n",
       "      <td>NaN</td>\n",
       "      <td>False</td>\n",
       "      <td>False</td>\n",
       "      <td>11.00</td>\n",
       "      <td>2.0</td>\n",
       "      <td>посёлок Шушары</td>\n",
       "      <td>12817.0</td>\n",
       "      <td>18603.0</td>\n",
       "      <td>0.0</td>\n",
       "      <td>NaN</td>\n",
       "      <td>0.0</td>\n",
       "      <td>NaN</td>\n",
       "      <td>81.0</td>\n",
       "    </tr>\n",
       "    <tr>\n",
       "      <th>2</th>\n",
       "      <td>10</td>\n",
       "      <td>5196000.0</td>\n",
       "      <td>56.00</td>\n",
       "      <td>2015-08-20T00:00:00</td>\n",
       "      <td>2</td>\n",
       "      <td>NaN</td>\n",
       "      <td>5.0</td>\n",
       "      <td>34.30</td>\n",
       "      <td>4</td>\n",
       "      <td>NaN</td>\n",
       "      <td>False</td>\n",
       "      <td>False</td>\n",
       "      <td>8.30</td>\n",
       "      <td>0.0</td>\n",
       "      <td>Санкт-Петербург</td>\n",
       "      <td>21741.0</td>\n",
       "      <td>13933.0</td>\n",
       "      <td>1.0</td>\n",
       "      <td>90.0</td>\n",
       "      <td>2.0</td>\n",
       "      <td>574.0</td>\n",
       "      <td>558.0</td>\n",
       "    </tr>\n",
       "    <tr>\n",
       "      <th>3</th>\n",
       "      <td>0</td>\n",
       "      <td>64900000.0</td>\n",
       "      <td>159.00</td>\n",
       "      <td>2015-07-24T00:00:00</td>\n",
       "      <td>3</td>\n",
       "      <td>NaN</td>\n",
       "      <td>14.0</td>\n",
       "      <td>NaN</td>\n",
       "      <td>9</td>\n",
       "      <td>NaN</td>\n",
       "      <td>False</td>\n",
       "      <td>False</td>\n",
       "      <td>NaN</td>\n",
       "      <td>0.0</td>\n",
       "      <td>Санкт-Петербург</td>\n",
       "      <td>28098.0</td>\n",
       "      <td>6800.0</td>\n",
       "      <td>2.0</td>\n",
       "      <td>84.0</td>\n",
       "      <td>3.0</td>\n",
       "      <td>234.0</td>\n",
       "      <td>424.0</td>\n",
       "    </tr>\n",
       "    <tr>\n",
       "      <th>4</th>\n",
       "      <td>2</td>\n",
       "      <td>10000000.0</td>\n",
       "      <td>100.00</td>\n",
       "      <td>2018-06-19T00:00:00</td>\n",
       "      <td>2</td>\n",
       "      <td>3.03</td>\n",
       "      <td>14.0</td>\n",
       "      <td>32.00</td>\n",
       "      <td>13</td>\n",
       "      <td>NaN</td>\n",
       "      <td>False</td>\n",
       "      <td>False</td>\n",
       "      <td>41.00</td>\n",
       "      <td>NaN</td>\n",
       "      <td>Санкт-Петербург</td>\n",
       "      <td>31856.0</td>\n",
       "      <td>8098.0</td>\n",
       "      <td>2.0</td>\n",
       "      <td>112.0</td>\n",
       "      <td>1.0</td>\n",
       "      <td>48.0</td>\n",
       "      <td>121.0</td>\n",
       "    </tr>\n",
       "    <tr>\n",
       "      <th>5</th>\n",
       "      <td>10</td>\n",
       "      <td>2890000.0</td>\n",
       "      <td>30.40</td>\n",
       "      <td>2018-09-10T00:00:00</td>\n",
       "      <td>1</td>\n",
       "      <td>NaN</td>\n",
       "      <td>12.0</td>\n",
       "      <td>14.40</td>\n",
       "      <td>5</td>\n",
       "      <td>NaN</td>\n",
       "      <td>False</td>\n",
       "      <td>False</td>\n",
       "      <td>9.10</td>\n",
       "      <td>NaN</td>\n",
       "      <td>городской посёлок Янино-1</td>\n",
       "      <td>NaN</td>\n",
       "      <td>NaN</td>\n",
       "      <td>NaN</td>\n",
       "      <td>NaN</td>\n",
       "      <td>NaN</td>\n",
       "      <td>NaN</td>\n",
       "      <td>55.0</td>\n",
       "    </tr>\n",
       "    <tr>\n",
       "      <th>6</th>\n",
       "      <td>6</td>\n",
       "      <td>3700000.0</td>\n",
       "      <td>37.30</td>\n",
       "      <td>2017-11-02T00:00:00</td>\n",
       "      <td>1</td>\n",
       "      <td>NaN</td>\n",
       "      <td>26.0</td>\n",
       "      <td>10.60</td>\n",
       "      <td>6</td>\n",
       "      <td>NaN</td>\n",
       "      <td>False</td>\n",
       "      <td>False</td>\n",
       "      <td>14.40</td>\n",
       "      <td>1.0</td>\n",
       "      <td>посёлок Парголово</td>\n",
       "      <td>52996.0</td>\n",
       "      <td>19143.0</td>\n",
       "      <td>0.0</td>\n",
       "      <td>NaN</td>\n",
       "      <td>0.0</td>\n",
       "      <td>NaN</td>\n",
       "      <td>155.0</td>\n",
       "    </tr>\n",
       "    <tr>\n",
       "      <th>7</th>\n",
       "      <td>5</td>\n",
       "      <td>7915000.0</td>\n",
       "      <td>71.60</td>\n",
       "      <td>2019-04-18T00:00:00</td>\n",
       "      <td>2</td>\n",
       "      <td>NaN</td>\n",
       "      <td>24.0</td>\n",
       "      <td>NaN</td>\n",
       "      <td>22</td>\n",
       "      <td>NaN</td>\n",
       "      <td>False</td>\n",
       "      <td>False</td>\n",
       "      <td>18.90</td>\n",
       "      <td>2.0</td>\n",
       "      <td>Санкт-Петербург</td>\n",
       "      <td>23982.0</td>\n",
       "      <td>11634.0</td>\n",
       "      <td>0.0</td>\n",
       "      <td>NaN</td>\n",
       "      <td>0.0</td>\n",
       "      <td>NaN</td>\n",
       "      <td>NaN</td>\n",
       "    </tr>\n",
       "    <tr>\n",
       "      <th>8</th>\n",
       "      <td>20</td>\n",
       "      <td>2900000.0</td>\n",
       "      <td>33.16</td>\n",
       "      <td>2018-05-23T00:00:00</td>\n",
       "      <td>1</td>\n",
       "      <td>NaN</td>\n",
       "      <td>27.0</td>\n",
       "      <td>15.43</td>\n",
       "      <td>26</td>\n",
       "      <td>NaN</td>\n",
       "      <td>False</td>\n",
       "      <td>False</td>\n",
       "      <td>8.81</td>\n",
       "      <td>NaN</td>\n",
       "      <td>посёлок Мурино</td>\n",
       "      <td>NaN</td>\n",
       "      <td>NaN</td>\n",
       "      <td>NaN</td>\n",
       "      <td>NaN</td>\n",
       "      <td>NaN</td>\n",
       "      <td>NaN</td>\n",
       "      <td>189.0</td>\n",
       "    </tr>\n",
       "    <tr>\n",
       "      <th>9</th>\n",
       "      <td>18</td>\n",
       "      <td>5400000.0</td>\n",
       "      <td>61.00</td>\n",
       "      <td>2017-02-26T00:00:00</td>\n",
       "      <td>3</td>\n",
       "      <td>2.50</td>\n",
       "      <td>9.0</td>\n",
       "      <td>43.60</td>\n",
       "      <td>7</td>\n",
       "      <td>NaN</td>\n",
       "      <td>False</td>\n",
       "      <td>False</td>\n",
       "      <td>6.50</td>\n",
       "      <td>2.0</td>\n",
       "      <td>Санкт-Петербург</td>\n",
       "      <td>50898.0</td>\n",
       "      <td>15008.0</td>\n",
       "      <td>0.0</td>\n",
       "      <td>NaN</td>\n",
       "      <td>0.0</td>\n",
       "      <td>NaN</td>\n",
       "      <td>289.0</td>\n",
       "    </tr>\n",
       "  </tbody>\n",
       "</table>\n",
       "</div>"
      ],
      "text/plain": [
       "   total_images  last_price  total_area first_day_exposition  rooms  \\\n",
       "0            20  13000000.0      108.00  2019-03-07T00:00:00      3   \n",
       "1             7   3350000.0       40.40  2018-12-04T00:00:00      1   \n",
       "2            10   5196000.0       56.00  2015-08-20T00:00:00      2   \n",
       "3             0  64900000.0      159.00  2015-07-24T00:00:00      3   \n",
       "4             2  10000000.0      100.00  2018-06-19T00:00:00      2   \n",
       "5            10   2890000.0       30.40  2018-09-10T00:00:00      1   \n",
       "6             6   3700000.0       37.30  2017-11-02T00:00:00      1   \n",
       "7             5   7915000.0       71.60  2019-04-18T00:00:00      2   \n",
       "8            20   2900000.0       33.16  2018-05-23T00:00:00      1   \n",
       "9            18   5400000.0       61.00  2017-02-26T00:00:00      3   \n",
       "\n",
       "   ceiling_height  floors_total  living_area  floor is_apartment  studio  \\\n",
       "0            2.70          16.0        51.00      8          NaN   False   \n",
       "1             NaN          11.0        18.60      1          NaN   False   \n",
       "2             NaN           5.0        34.30      4          NaN   False   \n",
       "3             NaN          14.0          NaN      9          NaN   False   \n",
       "4            3.03          14.0        32.00     13          NaN   False   \n",
       "5             NaN          12.0        14.40      5          NaN   False   \n",
       "6             NaN          26.0        10.60      6          NaN   False   \n",
       "7             NaN          24.0          NaN     22          NaN   False   \n",
       "8             NaN          27.0        15.43     26          NaN   False   \n",
       "9            2.50           9.0        43.60      7          NaN   False   \n",
       "\n",
       "   open_plan  kitchen_area  balcony              locality_name  \\\n",
       "0      False         25.00      NaN            Санкт-Петербург   \n",
       "1      False         11.00      2.0             посёлок Шушары   \n",
       "2      False          8.30      0.0            Санкт-Петербург   \n",
       "3      False           NaN      0.0            Санкт-Петербург   \n",
       "4      False         41.00      NaN            Санкт-Петербург   \n",
       "5      False          9.10      NaN  городской посёлок Янино-1   \n",
       "6      False         14.40      1.0          посёлок Парголово   \n",
       "7      False         18.90      2.0            Санкт-Петербург   \n",
       "8      False          8.81      NaN             посёлок Мурино   \n",
       "9      False          6.50      2.0            Санкт-Петербург   \n",
       "\n",
       "   airports_nearest  cityCenters_nearest  parks_around3000  parks_nearest  \\\n",
       "0           18863.0              16028.0               1.0          482.0   \n",
       "1           12817.0              18603.0               0.0            NaN   \n",
       "2           21741.0              13933.0               1.0           90.0   \n",
       "3           28098.0               6800.0               2.0           84.0   \n",
       "4           31856.0               8098.0               2.0          112.0   \n",
       "5               NaN                  NaN               NaN            NaN   \n",
       "6           52996.0              19143.0               0.0            NaN   \n",
       "7           23982.0              11634.0               0.0            NaN   \n",
       "8               NaN                  NaN               NaN            NaN   \n",
       "9           50898.0              15008.0               0.0            NaN   \n",
       "\n",
       "   ponds_around3000  ponds_nearest  days_exposition  \n",
       "0               2.0          755.0              NaN  \n",
       "1               0.0            NaN             81.0  \n",
       "2               2.0          574.0            558.0  \n",
       "3               3.0          234.0            424.0  \n",
       "4               1.0           48.0            121.0  \n",
       "5               NaN            NaN             55.0  \n",
       "6               0.0            NaN            155.0  \n",
       "7               0.0            NaN              NaN  \n",
       "8               NaN            NaN            189.0  \n",
       "9               0.0            NaN            289.0  "
      ]
     },
     "execution_count": 4,
     "metadata": {},
     "output_type": "execute_result"
    }
   ],
   "source": [
    "# Ознакомимся с данными, просмотрев первые 10 строк\n",
    "data.head(10)"
   ]
  },
  {
   "cell_type": "code",
   "execution_count": 5,
   "metadata": {},
   "outputs": [
    {
     "name": "stdout",
     "output_type": "stream",
     "text": [
      "<class 'pandas.core.frame.DataFrame'>\n",
      "RangeIndex: 23699 entries, 0 to 23698\n",
      "Data columns (total 22 columns):\n",
      " #   Column                Non-Null Count  Dtype  \n",
      "---  ------                --------------  -----  \n",
      " 0   total_images          23699 non-null  int64  \n",
      " 1   last_price            23699 non-null  float64\n",
      " 2   total_area            23699 non-null  float64\n",
      " 3   first_day_exposition  23699 non-null  object \n",
      " 4   rooms                 23699 non-null  int64  \n",
      " 5   ceiling_height        14504 non-null  float64\n",
      " 6   floors_total          23613 non-null  float64\n",
      " 7   living_area           21796 non-null  float64\n",
      " 8   floor                 23699 non-null  int64  \n",
      " 9   is_apartment          2775 non-null   object \n",
      " 10  studio                23699 non-null  bool   \n",
      " 11  open_plan             23699 non-null  bool   \n",
      " 12  kitchen_area          21421 non-null  float64\n",
      " 13  balcony               12180 non-null  float64\n",
      " 14  locality_name         23650 non-null  object \n",
      " 15  airports_nearest      18157 non-null  float64\n",
      " 16  cityCenters_nearest   18180 non-null  float64\n",
      " 17  parks_around3000      18181 non-null  float64\n",
      " 18  parks_nearest         8079 non-null   float64\n",
      " 19  ponds_around3000      18181 non-null  float64\n",
      " 20  ponds_nearest         9110 non-null   float64\n",
      " 21  days_exposition       20518 non-null  float64\n",
      "dtypes: bool(2), float64(14), int64(3), object(3)\n",
      "memory usage: 3.7+ MB\n"
     ]
    }
   ],
   "source": [
    "data.info() #выведем основную информацию о датафрейме"
   ]
  },
  {
   "cell_type": "code",
   "execution_count": 6,
   "metadata": {},
   "outputs": [
    {
     "data": {
      "text/html": [
       "<div>\n",
       "<style scoped>\n",
       "    .dataframe tbody tr th:only-of-type {\n",
       "        vertical-align: middle;\n",
       "    }\n",
       "\n",
       "    .dataframe tbody tr th {\n",
       "        vertical-align: top;\n",
       "    }\n",
       "\n",
       "    .dataframe thead th {\n",
       "        text-align: right;\n",
       "    }\n",
       "</style>\n",
       "<table border=\"1\" class=\"dataframe\">\n",
       "  <thead>\n",
       "    <tr style=\"text-align: right;\">\n",
       "      <th></th>\n",
       "      <th>total_images</th>\n",
       "      <th>last_price</th>\n",
       "      <th>total_area</th>\n",
       "      <th>rooms</th>\n",
       "      <th>ceiling_height</th>\n",
       "      <th>floors_total</th>\n",
       "      <th>living_area</th>\n",
       "      <th>floor</th>\n",
       "      <th>kitchen_area</th>\n",
       "      <th>balcony</th>\n",
       "      <th>airports_nearest</th>\n",
       "      <th>cityCenters_nearest</th>\n",
       "      <th>parks_around3000</th>\n",
       "      <th>parks_nearest</th>\n",
       "      <th>ponds_around3000</th>\n",
       "      <th>ponds_nearest</th>\n",
       "      <th>days_exposition</th>\n",
       "    </tr>\n",
       "  </thead>\n",
       "  <tbody>\n",
       "    <tr>\n",
       "      <th>count</th>\n",
       "      <td>23699.000000</td>\n",
       "      <td>2.369900e+04</td>\n",
       "      <td>23699.000000</td>\n",
       "      <td>23699.000000</td>\n",
       "      <td>14504.000000</td>\n",
       "      <td>23613.000000</td>\n",
       "      <td>21796.000000</td>\n",
       "      <td>23699.000000</td>\n",
       "      <td>21421.000000</td>\n",
       "      <td>12180.000000</td>\n",
       "      <td>18157.000000</td>\n",
       "      <td>18180.000000</td>\n",
       "      <td>18181.000000</td>\n",
       "      <td>8079.000000</td>\n",
       "      <td>18181.000000</td>\n",
       "      <td>9110.000000</td>\n",
       "      <td>20518.000000</td>\n",
       "    </tr>\n",
       "    <tr>\n",
       "      <th>mean</th>\n",
       "      <td>9.858475</td>\n",
       "      <td>6.541549e+06</td>\n",
       "      <td>60.348651</td>\n",
       "      <td>2.070636</td>\n",
       "      <td>2.771499</td>\n",
       "      <td>10.673824</td>\n",
       "      <td>34.457852</td>\n",
       "      <td>5.892358</td>\n",
       "      <td>10.569807</td>\n",
       "      <td>1.150082</td>\n",
       "      <td>28793.672193</td>\n",
       "      <td>14191.277833</td>\n",
       "      <td>0.611408</td>\n",
       "      <td>490.804555</td>\n",
       "      <td>0.770255</td>\n",
       "      <td>517.980900</td>\n",
       "      <td>180.888634</td>\n",
       "    </tr>\n",
       "    <tr>\n",
       "      <th>std</th>\n",
       "      <td>5.682529</td>\n",
       "      <td>1.088701e+07</td>\n",
       "      <td>35.654083</td>\n",
       "      <td>1.078405</td>\n",
       "      <td>1.261056</td>\n",
       "      <td>6.597173</td>\n",
       "      <td>22.030445</td>\n",
       "      <td>4.885249</td>\n",
       "      <td>5.905438</td>\n",
       "      <td>1.071300</td>\n",
       "      <td>12630.880622</td>\n",
       "      <td>8608.386210</td>\n",
       "      <td>0.802074</td>\n",
       "      <td>342.317995</td>\n",
       "      <td>0.938346</td>\n",
       "      <td>277.720643</td>\n",
       "      <td>219.727988</td>\n",
       "    </tr>\n",
       "    <tr>\n",
       "      <th>min</th>\n",
       "      <td>0.000000</td>\n",
       "      <td>1.219000e+04</td>\n",
       "      <td>12.000000</td>\n",
       "      <td>0.000000</td>\n",
       "      <td>1.000000</td>\n",
       "      <td>1.000000</td>\n",
       "      <td>2.000000</td>\n",
       "      <td>1.000000</td>\n",
       "      <td>1.300000</td>\n",
       "      <td>0.000000</td>\n",
       "      <td>0.000000</td>\n",
       "      <td>181.000000</td>\n",
       "      <td>0.000000</td>\n",
       "      <td>1.000000</td>\n",
       "      <td>0.000000</td>\n",
       "      <td>13.000000</td>\n",
       "      <td>1.000000</td>\n",
       "    </tr>\n",
       "    <tr>\n",
       "      <th>25%</th>\n",
       "      <td>6.000000</td>\n",
       "      <td>3.400000e+06</td>\n",
       "      <td>40.000000</td>\n",
       "      <td>1.000000</td>\n",
       "      <td>2.520000</td>\n",
       "      <td>5.000000</td>\n",
       "      <td>18.600000</td>\n",
       "      <td>2.000000</td>\n",
       "      <td>7.000000</td>\n",
       "      <td>0.000000</td>\n",
       "      <td>18585.000000</td>\n",
       "      <td>9238.000000</td>\n",
       "      <td>0.000000</td>\n",
       "      <td>288.000000</td>\n",
       "      <td>0.000000</td>\n",
       "      <td>294.000000</td>\n",
       "      <td>45.000000</td>\n",
       "    </tr>\n",
       "    <tr>\n",
       "      <th>50%</th>\n",
       "      <td>9.000000</td>\n",
       "      <td>4.650000e+06</td>\n",
       "      <td>52.000000</td>\n",
       "      <td>2.000000</td>\n",
       "      <td>2.650000</td>\n",
       "      <td>9.000000</td>\n",
       "      <td>30.000000</td>\n",
       "      <td>4.000000</td>\n",
       "      <td>9.100000</td>\n",
       "      <td>1.000000</td>\n",
       "      <td>26726.000000</td>\n",
       "      <td>13098.500000</td>\n",
       "      <td>0.000000</td>\n",
       "      <td>455.000000</td>\n",
       "      <td>1.000000</td>\n",
       "      <td>502.000000</td>\n",
       "      <td>95.000000</td>\n",
       "    </tr>\n",
       "    <tr>\n",
       "      <th>75%</th>\n",
       "      <td>14.000000</td>\n",
       "      <td>6.800000e+06</td>\n",
       "      <td>69.900000</td>\n",
       "      <td>3.000000</td>\n",
       "      <td>2.800000</td>\n",
       "      <td>16.000000</td>\n",
       "      <td>42.300000</td>\n",
       "      <td>8.000000</td>\n",
       "      <td>12.000000</td>\n",
       "      <td>2.000000</td>\n",
       "      <td>37273.000000</td>\n",
       "      <td>16293.000000</td>\n",
       "      <td>1.000000</td>\n",
       "      <td>612.000000</td>\n",
       "      <td>1.000000</td>\n",
       "      <td>729.000000</td>\n",
       "      <td>232.000000</td>\n",
       "    </tr>\n",
       "    <tr>\n",
       "      <th>max</th>\n",
       "      <td>50.000000</td>\n",
       "      <td>7.630000e+08</td>\n",
       "      <td>900.000000</td>\n",
       "      <td>19.000000</td>\n",
       "      <td>100.000000</td>\n",
       "      <td>60.000000</td>\n",
       "      <td>409.700000</td>\n",
       "      <td>33.000000</td>\n",
       "      <td>112.000000</td>\n",
       "      <td>5.000000</td>\n",
       "      <td>84869.000000</td>\n",
       "      <td>65968.000000</td>\n",
       "      <td>3.000000</td>\n",
       "      <td>3190.000000</td>\n",
       "      <td>3.000000</td>\n",
       "      <td>1344.000000</td>\n",
       "      <td>1580.000000</td>\n",
       "    </tr>\n",
       "  </tbody>\n",
       "</table>\n",
       "</div>"
      ],
      "text/plain": [
       "       total_images    last_price    total_area         rooms  ceiling_height  \\\n",
       "count  23699.000000  2.369900e+04  23699.000000  23699.000000    14504.000000   \n",
       "mean       9.858475  6.541549e+06     60.348651      2.070636        2.771499   \n",
       "std        5.682529  1.088701e+07     35.654083      1.078405        1.261056   \n",
       "min        0.000000  1.219000e+04     12.000000      0.000000        1.000000   \n",
       "25%        6.000000  3.400000e+06     40.000000      1.000000        2.520000   \n",
       "50%        9.000000  4.650000e+06     52.000000      2.000000        2.650000   \n",
       "75%       14.000000  6.800000e+06     69.900000      3.000000        2.800000   \n",
       "max       50.000000  7.630000e+08    900.000000     19.000000      100.000000   \n",
       "\n",
       "       floors_total   living_area         floor  kitchen_area       balcony  \\\n",
       "count  23613.000000  21796.000000  23699.000000  21421.000000  12180.000000   \n",
       "mean      10.673824     34.457852      5.892358     10.569807      1.150082   \n",
       "std        6.597173     22.030445      4.885249      5.905438      1.071300   \n",
       "min        1.000000      2.000000      1.000000      1.300000      0.000000   \n",
       "25%        5.000000     18.600000      2.000000      7.000000      0.000000   \n",
       "50%        9.000000     30.000000      4.000000      9.100000      1.000000   \n",
       "75%       16.000000     42.300000      8.000000     12.000000      2.000000   \n",
       "max       60.000000    409.700000     33.000000    112.000000      5.000000   \n",
       "\n",
       "       airports_nearest  cityCenters_nearest  parks_around3000  parks_nearest  \\\n",
       "count      18157.000000         18180.000000      18181.000000    8079.000000   \n",
       "mean       28793.672193         14191.277833          0.611408     490.804555   \n",
       "std        12630.880622          8608.386210          0.802074     342.317995   \n",
       "min            0.000000           181.000000          0.000000       1.000000   \n",
       "25%        18585.000000          9238.000000          0.000000     288.000000   \n",
       "50%        26726.000000         13098.500000          0.000000     455.000000   \n",
       "75%        37273.000000         16293.000000          1.000000     612.000000   \n",
       "max        84869.000000         65968.000000          3.000000    3190.000000   \n",
       "\n",
       "       ponds_around3000  ponds_nearest  days_exposition  \n",
       "count      18181.000000    9110.000000     20518.000000  \n",
       "mean           0.770255     517.980900       180.888634  \n",
       "std            0.938346     277.720643       219.727988  \n",
       "min            0.000000      13.000000         1.000000  \n",
       "25%            0.000000     294.000000        45.000000  \n",
       "50%            1.000000     502.000000        95.000000  \n",
       "75%            1.000000     729.000000       232.000000  \n",
       "max            3.000000    1344.000000      1580.000000  "
      ]
     },
     "execution_count": 6,
     "metadata": {},
     "output_type": "execute_result"
    }
   ],
   "source": [
    "data.describe()#Применим к таблице data метод describe() и выведите на экран список характерных значений."
   ]
  },
  {
   "cell_type": "code",
   "execution_count": 7,
   "metadata": {},
   "outputs": [
    {
     "name": "stdout",
     "output_type": "stream",
     "text": [
      "0\n"
     ]
    }
   ],
   "source": [
    "#и на наличие дубликатов:\n",
    "print(data.duplicated().sum())\n",
    "#  дубликатов не обнаружено"
   ]
  },
  {
   "cell_type": "code",
   "execution_count": 8,
   "metadata": {},
   "outputs": [
    {
     "data": {
      "text/plain": [
       "total_images                0\n",
       "last_price                  0\n",
       "total_area                  0\n",
       "first_day_exposition        0\n",
       "rooms                       0\n",
       "ceiling_height           9195\n",
       "floors_total               86\n",
       "living_area              1903\n",
       "floor                       0\n",
       "is_apartment            20924\n",
       "studio                      0\n",
       "open_plan                   0\n",
       "kitchen_area             2278\n",
       "balcony                 11519\n",
       "locality_name              49\n",
       "airports_nearest         5542\n",
       "cityCenters_nearest      5519\n",
       "parks_around3000         5518\n",
       "parks_nearest           15620\n",
       "ponds_around3000         5518\n",
       "ponds_nearest           14589\n",
       "days_exposition          3181\n",
       "dtype: int64"
      ]
     },
     "execution_count": 8,
     "metadata": {},
     "output_type": "execute_result"
    }
   ],
   "source": [
    "#Также проверим датасет на наличие пропусков\n",
    "data.isna().sum()\n",
    "# пропусков много и с пропусками в каждой категории придется работать отдельно"
   ]
  },
  {
   "cell_type": "code",
   "execution_count": 9,
   "metadata": {
    "scrolled": false
   },
   "outputs": [
    {
     "name": "stdout",
     "output_type": "stream",
     "text": [
      "- ceiling_height - содержит 9195 пропусков (38.8% от всех)\n",
      "- floors_total - содержит 86 пропусков (0.4% от всех)\n",
      "- living_area - содержит 1903 пропусков (8.0% от всех)\n",
      "- is_apartment - содержит 20924 пропусков (88.3% от всех)\n",
      "- kitchen_area - содержит 2278 пропусков (9.6% от всех)\n",
      "- balcony - содержит 11519 пропусков (48.6% от всех)\n",
      "- locality_name - содержит 49 пропусков (0.2% от всех)\n",
      "- airports_nearest - содержит 5542 пропусков (23.4% от всех)\n",
      "- cityCenters_nearest - содержит 5519 пропусков (23.3% от всех)\n",
      "- parks_around3000 - содержит 5518 пропусков (23.3% от всех)\n",
      "- parks_nearest - содержит 15620 пропусков (65.9% от всех)\n",
      "- ponds_around3000 - содержит 5518 пропусков (23.3% от всех)\n",
      "- ponds_nearest - содержит 14589 пропусков (61.6% от всех)\n",
      "- days_exposition - содержит 3181 пропусков (13.4% от всех)\n"
     ]
    }
   ],
   "source": [
    "#Определим долю пропущенных значений, чтобы определить на что необходтио обратить большее внимание, в ходе предобработки \n",
    "for column in data.columns:\n",
    "    emptyRecords=len(data.loc[data[column].isnull()])\n",
    "    if emptyRecords>0:\n",
    "        print('- {} - содержит {} пропусков ({:.1%} от всех)'.format(column, emptyRecords, emptyRecords/data.shape[0]))"
   ]
  },
  {
   "cell_type": "markdown",
   "metadata": {},
   "source": [
    "#### Исходные данные датасета представляют собой таблицы,  в которойсодержащую 23699 записей и 22 категории. В качестве разделителя в csv файле используется знак табуляции (\\t), вместо обычныз точки с запятой. Первичный анализ показывает, что таблица содержит множество пустых значенений, изучение и предобработка которых будет осуществлена на следующих этапах выполнения проекта. "
   ]
  },
  {
   "cell_type": "markdown",
   "metadata": {},
   "source": [
    "#### UPD\n",
    "Всего в файле с данными - 23 699 строк.\n",
    "Полностью заполнены данными столбцы total_images, last_price, total_area, rooms, floor, studio, open_plan. Таким образом в данных столбцах отсутствуют пропуски данных.\n",
    "В столбцах floors_total и locality_name заполнены данными более 99% строк, т.о. пропуски далее можно будет удалить в связи с малочисленностью.\n",
    "В столбце balcony (балконы) пропусков - 11 519, скорее всего это означает что в квартире нет балкона и пропуски можно заменить на 0.\n",
    "В столбцах таблицы соблюдается корректность типов данных.\n",
    "У некоторых числовых полей есть тип данных float (например, ceiling_height) - т.к. в столбцах есть пропуски (NaN) и pandas такие столбцы автоматически назначает float, с ними можно выполнять математические операции, например вычислить среднее значение.\n",
    "В некоторых столбцах тип данных - int64 (например, rooms), который не нужно преобразовывать."
   ]
  },
  {
   "cell_type": "markdown",
   "metadata": {},
   "source": [
    "### Предобработка данных"
   ]
  },
  {
   "cell_type": "code",
   "execution_count": 10,
   "metadata": {},
   "outputs": [],
   "source": [
    "#Разберемся с балконами, где они  есть, а где их на самом деле нет, а еще будем их считать целыми, а не плавающими значениями\n",
    "data['balcony'] = data['balcony'].fillna(0).astype(int)\n",
    "#print(data['balcony'].value_counts())"
   ]
  },
  {
   "cell_type": "code",
   "execution_count": 11,
   "metadata": {},
   "outputs": [],
   "source": [
    "# Удалим 86 строк, в которых не заполнено количество этажей.\n",
    "data = data.dropna(subset=['floors_total'])"
   ]
  },
  {
   "cell_type": "code",
   "execution_count": 12,
   "metadata": {},
   "outputs": [],
   "source": [
    "#  в столбце days_exposition  обнаружен 3 181 пропуск, который мы заменим медианным значением\n",
    "#upd data.loc[data['days_exposition'].isnull(), 'days_exposition'] = data['days_exposition'].median()\n"
   ]
  },
  {
   "cell_type": "code",
   "execution_count": 13,
   "metadata": {},
   "outputs": [],
   "source": [
    "# преобразуем столбец к целочисленному типу данных (int).\n",
    "data['floors_total'] = data['floors_total'].astype(int)\n",
    "#print(data['floors_total'].value_counts())\n"
   ]
  },
  {
   "cell_type": "code",
   "execution_count": 14,
   "metadata": {
    "scrolled": false
   },
   "outputs": [],
   "source": [
    "# займемся столбцом с наибольшим числом   пропусков  - 'is_apartment'. Заменим  пропуски на False\n",
    "data['is_apartment'] = data['is_apartment'].fillna(False)\n",
    "#print(data['is_apartment'].value_counts())"
   ]
  },
  {
   "cell_type": "code",
   "execution_count": 15,
   "metadata": {},
   "outputs": [],
   "source": [
    "\n",
    "#Пропуски в столбце \"ceiling_height\" заменим на медианные значения высоты потолков по каждому этажу. Для этого  запустим цикл, который будет перебирать уникальные значения столбца 'floors_total' и в случае пропуска в столбце 'ceiling_height', заменит на медианное значение высоты потолков по каждому этажу\n",
    "\n",
    "median_replace = data.groupby('floors_total')['ceiling_height'].median()\n",
    "for total in data['floors_total'].unique():\n",
    "    data.loc[(data['floors_total'] == total) & (data['ceiling_height'].isna()), 'ceiling_height'] = median_replace[total]\n",
    "\n",
    "\n",
    "#print(data['ceiling_height'].unique())\n",
    "\n"
   ]
  },
  {
   "cell_type": "code",
   "execution_count": 16,
   "metadata": {},
   "outputs": [
    {
     "name": "stdout",
     "output_type": "stream",
     "text": [
      "['Санкт-Петербург' 'посёлок Шушары' 'городской посёлок Янино-1'\n",
      " 'посёлок Парголово' 'посёлок Мурино' 'Ломоносов' 'Сертолово' 'Петергоф'\n",
      " 'Пушкин' 'деревня Кудрово' 'Коммунар' 'Колпино'\n",
      " 'поселок городского типа Красный Бор' 'Гатчина' 'поселок Мурино'\n",
      " 'деревня Фёдоровское' 'Выборг' 'Кронштадт' 'Кировск'\n",
      " 'деревня Новое Девяткино' 'посёлок Металлострой'\n",
      " 'посёлок городского типа Лебяжье' 'посёлок городского типа Сиверский'\n",
      " 'поселок Молодцово' 'поселок городского типа Кузьмоловский'\n",
      " 'садовое товарищество Новая Ропша' 'Павловск' 'деревня Пикколово'\n",
      " 'Всеволожск' 'Волхов' 'Кингисепп' 'Приозерск' 'Сестрорецк'\n",
      " 'деревня Куттузи' 'посёлок Аннино' 'поселок городского типа Ефимовский'\n",
      " 'посёлок Плодовое' 'деревня Заклинье' 'поселок Торковичи'\n",
      " 'поселок Первомайское' 'Красное Село' 'посёлок Понтонный' 'Сясьстрой'\n",
      " 'деревня Старая' 'деревня Лесколово' 'посёлок Новый Свет' 'Сланцы'\n",
      " 'село Путилово' 'Ивангород' 'Мурино' 'Шлиссельбург' 'Никольское'\n",
      " 'Зеленогорск' 'Сосновый Бор' 'поселок Новый Свет' 'деревня Оржицы'\n",
      " 'деревня Кальтино' 'Кудрово' 'поселок Романовка' 'посёлок Бугры'\n",
      " 'поселок Бугры' 'поселок городского типа Рощино' 'Кириши' 'Луга'\n",
      " 'Волосово' 'Отрадное' 'село Павлово' 'поселок Оредеж' 'село Копорье'\n",
      " 'посёлок городского типа Красный Бор' 'посёлок Молодёжное' 'Тихвин'\n",
      " 'посёлок Победа' 'деревня Нурма' 'поселок городского типа Синявино'\n",
      " 'Тосно' 'посёлок городского типа Кузьмоловский' 'посёлок Стрельна'\n",
      " 'Бокситогорск' 'посёлок Александровская' 'деревня Лопухинка' 'Пикалёво'\n",
      " 'поселок Терволово' 'поселок городского типа Советский' 'Подпорожье'\n",
      " 'посёлок Петровское' 'посёлок городского типа Токсово' 'поселок Сельцо'\n",
      " 'посёлок городского типа Вырица' 'деревня Кипень' 'деревня Келози'\n",
      " 'деревня Вартемяги' 'посёлок Тельмана' 'поселок Севастьяново'\n",
      " 'городской поселок Большая Ижора' nan 'городской посёлок Павлово'\n",
      " 'деревня Агалатово' 'посёлок Новогорелово'\n",
      " 'городской посёлок Лесогорский' 'деревня Лаголово' 'поселок Цвелодубово'\n",
      " 'поселок городского типа Рахья' 'поселок городского типа Вырица'\n",
      " 'деревня Белогорка' 'поселок Заводской' 'городской посёлок Новоселье'\n",
      " 'деревня Большие Колпаны' 'деревня Горбунки' 'деревня Батово'\n",
      " 'деревня Заневка' 'деревня Иссад' 'Приморск'\n",
      " 'городской посёлок Фёдоровское' 'деревня Мистолово' 'Новая Ладога'\n",
      " 'поселок Зимитицы' 'поселок Барышево' 'деревня Разметелево'\n",
      " 'поселок городского типа имени Свердлова' 'деревня Пеники'\n",
      " 'поселок Рябово' 'деревня Пудомяги' 'поселок станции Корнево'\n",
      " 'деревня Низино' 'деревня Бегуницы' 'посёлок Поляны'\n",
      " 'городской посёлок Мга' 'поселок Елизаветино'\n",
      " 'посёлок городского типа Кузнечное' 'деревня Колтуши'\n",
      " 'поселок Запорожское' 'посёлок городского типа Рощино'\n",
      " 'деревня Гостилицы' 'деревня Малое Карлино' 'посёлок Мичуринское'\n",
      " 'посёлок городского типа имени Морозова' 'посёлок Песочный'\n",
      " 'посёлок Сосново' 'деревня Аро' 'поселок Ильичёво'\n",
      " 'посёлок городского типа Тайцы' 'деревня Малое Верево' 'деревня Извара'\n",
      " 'поселок станции Вещево' 'село Паша' 'деревня Калитино'\n",
      " 'посёлок городского типа Ульяновка' 'деревня Чудской Бор'\n",
      " 'поселок городского типа Дубровка' 'деревня Мины' 'поселок Войсковицы'\n",
      " 'посёлок городского типа имени Свердлова' 'деревня Коркино'\n",
      " 'посёлок Ропша' 'поселок городского типа Приладожский' 'посёлок Щеглово'\n",
      " 'посёлок Гаврилово' 'Лодейное Поле' 'деревня Рабитицы'\n",
      " 'поселок городского типа Никольский' 'деревня Кузьмолово'\n",
      " 'деревня Малые Колпаны' 'поселок Тельмана' 'посёлок Петро-Славянка'\n",
      " 'городской посёлок Назия' 'посёлок Репино' 'посёлок Ильичёво'\n",
      " 'поселок Углово' 'поселок Старая Малукса' 'садовое товарищество Рахья'\n",
      " 'поселок Аннино' 'поселок Победа' 'деревня Меньково'\n",
      " 'деревня Старые Бегуницы' 'посёлок Сапёрный' 'поселок Семрино'\n",
      " 'поселок Гаврилово' 'поселок Глажево' 'поселок Кобринское'\n",
      " 'деревня Гарболово' 'деревня Юкки' 'поселок станции Приветнинское'\n",
      " 'деревня Мануйлово' 'деревня Пчева' 'поселок Поляны' 'поселок Цвылёво'\n",
      " 'поселок Мельниково' 'посёлок Пудость' 'посёлок Усть-Луга' 'Светогорск'\n",
      " 'Любань' 'поселок Селезнёво' 'поселок городского типа Рябово'\n",
      " 'Каменногорск' 'деревня Кривко' 'поселок Глебычево' 'деревня Парицы'\n",
      " 'поселок Жилпосёлок' 'посёлок городского типа Мга'\n",
      " 'городской поселок Янино-1' 'посёлок Войскорово' 'село Никольское'\n",
      " 'посёлок Терволово' 'поселок Стеклянный' 'посёлок городского типа Важины'\n",
      " 'посёлок Мыза-Ивановка' 'село Русско-Высоцкое'\n",
      " 'поселок городского типа Лебяжье' 'поселок городского типа Форносово'\n",
      " 'село Старая Ладога' 'поселок Житково' 'городской посёлок Виллози'\n",
      " 'деревня Лампово' 'деревня Шпаньково' 'деревня Лаврики' 'посёлок Сумино'\n",
      " 'посёлок Возрождение' 'деревня Старосиверская' 'посёлок Кикерино'\n",
      " 'поселок Возрождение' 'деревня Старое Хинколово' 'посёлок Пригородный'\n",
      " 'посёлок Торфяное' 'городской посёлок Будогощь' 'поселок Суходолье'\n",
      " 'поселок Красная Долина' 'деревня Хапо-Ое'\n",
      " 'поселок городского типа Дружная Горка' 'поселок Лисий Нос'\n",
      " 'деревня Яльгелево' 'посёлок Стеклянный' 'село Рождествено'\n",
      " 'деревня Старополье' 'посёлок Левашово' 'деревня Сяськелево'\n",
      " 'деревня Камышовка'\n",
      " 'садоводческое некоммерческое товарищество Лесная Поляна'\n",
      " 'деревня Хязельки' 'поселок Жилгородок' 'посёлок городского типа Павлово'\n",
      " 'деревня Ялгино' 'поселок Новый Учхоз' 'городской посёлок Рощино'\n",
      " 'поселок Гончарово' 'поселок Почап' 'посёлок Сапёрное'\n",
      " 'посёлок Платформа 69-й километр' 'поселок Каложицы' 'деревня Фалилеево'\n",
      " 'деревня Пельгора' 'поселок городского типа Лесогорский'\n",
      " 'деревня Торошковичи' 'посёлок Белоостров' 'посёлок Алексеевка'\n",
      " 'поселок Серебрянский' 'поселок Лукаши' 'поселок Петровское'\n",
      " 'деревня Щеглово' 'поселок Мичуринское' 'деревня Тарасово'\n",
      " 'поселок Кингисеппский' 'посёлок при железнодорожной станции Вещево'\n",
      " 'поселок Ушаки' 'деревня Котлы' 'деревня Сижно' 'деревня Торосово'\n",
      " 'посёлок Форт Красная Горка' 'деревня Новолисино'\n",
      " 'посёлок станции Громово' 'деревня Глинка' 'посёлок Мельниково'\n",
      " 'поселок городского типа Назия' 'деревня Старая Пустошь'\n",
      " 'поселок Коммунары' 'поселок Починок'\n",
      " 'посёлок городского типа Вознесенье' 'деревня Разбегаево'\n",
      " 'посёлок городского типа Рябово' 'поселок Гладкое'\n",
      " 'посёлок при железнодорожной станции Приветнинское' 'поселок Тёсово-4'\n",
      " 'посёлок Жилгородок' 'деревня Бор' 'посёлок Коробицыно'\n",
      " 'деревня Большая Вруда' 'деревня Курковицы' 'посёлок Лисий Нос'\n",
      " 'городской посёлок Советский' 'посёлок Кобралово' 'деревня Суоранда'\n",
      " 'поселок Кобралово' 'поселок городского типа Кондратьево'\n",
      " 'коттеджный поселок Счастье' 'поселок Любань' 'деревня Реброво'\n",
      " 'деревня Зимитицы' 'деревня Тойворово' 'поселок Семиозерье'\n",
      " 'поселок Лесное' 'поселок Совхозный' 'поселок Усть-Луга'\n",
      " 'посёлок Ленинское' 'посёлок Суйда' 'посёлок городского типа Форносово'\n",
      " 'деревня Нижние Осельки' 'посёлок станции Свирь' 'поселок Перово'\n",
      " 'Высоцк' 'поселок Гарболово' 'село Шум' 'поселок Котельский'\n",
      " 'поселок станции Лужайка' 'деревня Большая Пустомержа'\n",
      " 'поселок Красносельское' 'деревня Вахнова Кара' 'деревня Пижма'\n",
      " 'коттеджный поселок Кивеннапа Север' 'поселок Коробицыно'\n",
      " 'поселок Ромашки' 'посёлок Перово' 'деревня Каськово' 'деревня Куровицы'\n",
      " 'посёлок Плоское' 'поселок Сумино'\n",
      " 'поселок городского типа Большая Ижора' 'поселок Кирпичное'\n",
      " 'деревня Ям-Тесово' 'деревня Раздолье' 'деревня Терпилицы'\n",
      " 'поселок городского типа Токсово' 'посёлок Шугозеро' 'деревня Ваганово'\n",
      " 'поселок Пушное' 'садовое товарищество Садко' 'посёлок Усть-Ижора'\n",
      " 'деревня Выскатка' 'городской посёлок Свирьстрой' 'поселок Громово'\n",
      " 'деревня Кисельня' 'посёлок Старая Малукса' 'деревня Трубников Бор'\n",
      " 'поселок Калитино' 'посёлок Высокоключевой'\n",
      " 'садовое товарищество Приладожский' 'посёлок Пансионат Зелёный Бор'\n",
      " 'деревня Ненимяки' 'поселок Пансионат Зелёный Бор' 'деревня Снегирёвка'\n",
      " 'деревня Рапполово' 'деревня Пустынка' 'поселок Рабитицы'\n",
      " 'деревня Большой Сабск' 'деревня Русско' 'деревня Лупполово'\n",
      " 'деревня Большое Рейзино' 'деревня Малая Романовка' 'поселок Дружноселье'\n",
      " 'поселок Пчевжа' 'поселок Володарское' 'деревня Нижняя'\n",
      " 'коттеджный посёлок Лесное' 'деревня Тихковицы' 'деревня Борисова Грива'\n",
      " 'посёлок Дзержинского']\n",
      "{nan, 'Светогорск', 'посёлок Петровское', 'поселок городского типа Дружная Горка', 'деревня Тихковицы', 'Сясьстрой', 'деревня Ям-Тесово', 'посёлок Гаврилово', 'посёлок Сумино', 'Зеленогорск', 'Сертолово', 'деревня Вахнова Кара', 'посёлок Мурино', 'Кировск', 'деревня Ненимяки', 'поселок Громово', 'Сосновый Бор', 'Петергоф', 'посёлок городского типа Важины', 'поселок Мичуринское', 'деревня Парицы', 'поселок городского типа Кузьмоловский', 'посёлок городского типа Тайцы', 'посёлок Победа', 'городской посёлок Новоселье', 'деревня Выскатка', 'поселок Аннино', 'деревня Старая', 'деревня Большое Рейзино', 'поселок городского типа Красный Бор', 'посёлок городского типа Вознесенье', 'Тихвин', 'Пушкин', 'поселок станции Вещево', 'деревня Малое Карлино', 'деревня Трубников Бор', 'Кронштадт', 'поселок Сумино', 'посёлок Усть-Ижора', 'посёлок станции Свирь', 'поселок Старая Малукса', 'деревня Келози', 'деревня Большая Пустомержа', 'деревня Пустынка', 'поселок Глажево', 'село Старая Ладога', 'посёлок Поляны', 'коттеджный посёлок Лесное', 'деревня Агалатово', 'Красное Село', 'поселок Калитино', 'Новая Ладога', 'поселок Заводской', 'посёлок Алексеевка', 'городской посёлок Рощино', 'Высоцк', 'поселок Мельниково', 'посёлок Старая Малукса', 'деревня Новолисино', 'деревня Пижма', 'Волосово', 'посёлок городского типа Токсово', 'посёлок Сапёрное', 'Сестрорецк', 'поселок Новый Свет', 'поселок Ромашки', 'посёлок Шушары', 'посёлок Ропша', 'деревня Ваганово', 'садовое товарищество Рахья', 'поселок Сельцо', 'поселок городского типа Рябово', 'Никольское', 'село Копорье', 'поселок Пушное', 'Тосно', 'поселок Поляны', 'посёлок Пригородный', 'поселок Терволово', 'деревня Новое Девяткино', 'поселок Красносельское', 'посёлок Пансионат Зелёный Бор', 'Мурино', 'поселок городского типа Приладожский', 'деревня Снегирёвка', 'городской посёлок Назия', 'деревня Малые Колпаны', 'поселок Суходолье', 'поселок Тельмана', 'деревня Старые Бегуницы', 'деревня Вартемяги', 'Пикалёво', 'Бокситогорск', 'Приморск', 'деревня Лопухинка', 'деревня Лупполово', 'поселок Рабитицы', 'поселок городского типа Ефимовский', 'деревня Разбегаево', 'Кудрово', 'поселок Лесное', 'деревня Тойворово', 'деревня Торошковичи', 'Санкт-Петербург', 'поселок Усть-Луга', 'деревня Горбунки', 'деревня Кривко', 'поселок Пансионат Зелёный Бор', 'садоводческое некоммерческое товарищество Лесная Поляна', 'городской посёлок Янино-1', 'посёлок Новогорелово', 'посёлок Мельниково', 'поселок Барышево', 'деревня Мистолово', 'село Паша', 'деревня Мины', 'Шлиссельбург', 'посёлок станции Громово', 'поселок Кингисеппский', 'Приозерск', 'деревня Старое Хинколово', 'Отрадное', 'поселок Петровское', 'посёлок городского типа имени Свердлова', 'посёлок Песочный', 'поселок Запорожское', 'деревня Сяськелево', 'поселок Ушаки', 'деревня Меньково', 'городской посёлок Виллози', 'посёлок Бугры', 'деревня Яльгелево', 'деревня Борисова Грива', 'городской посёлок Свирьстрой', 'городской посёлок Лесогорский', 'городской поселок Большая Ижора', 'городской поселок Янино-1', 'деревня Нижняя', 'посёлок городского типа Лебяжье', 'поселок городского типа Форносово', 'посёлок городского типа Сиверский', 'посёлок Новый Свет', 'деревня Заклинье', 'поселок городского типа Рощино', 'деревня Чудской Бор', 'Каменногорск', 'деревня Батово', 'посёлок Суйда', 'поселок станции Лужайка', 'поселок Кирпичное', 'поселок Любань', 'поселок Тёсово-4', 'поселок Гончарово', 'посёлок Сапёрный', 'посёлок городского типа Красный Бор', 'село Рождествено', 'деревня Тарасово', 'село Никольское', 'посёлок Понтонный', 'деревня Коркино', 'Луга', 'поселок Пчевжа', 'деревня Раздолье', 'посёлок городского типа Рощино', 'посёлок Лисий Нос', 'поселок Рябово', 'поселок Гаврилово', 'деревня Пчева', 'посёлок Пудость', 'деревня Куровицы', 'деревня Лампово', 'посёлок Петро-Славянка', 'поселок Котельский', 'поселок Романовка', 'поселок Цвылёво', 'деревня Пикколово', 'поселок Новый Учхоз', 'посёлок городского типа Ульяновка', 'деревня Заневка', 'посёлок Стрельна', 'Лодейное Поле', 'деревня Лесколово', 'посёлок Тельмана', 'поселок Войсковицы', 'посёлок городского типа Рябово', 'поселок городского типа Вырица', 'посёлок Стеклянный', 'посёлок Мичуринское', 'поселок Коробицыно', 'посёлок Белоостров', 'деревня Каськово', 'посёлок Александровская', 'Ивангород', 'деревня Аро', 'посёлок Мыза-Ивановка', 'деревня Кисельня', 'Волхов', 'коттеджный поселок Кивеннапа Север', 'деревня Кальтино', 'деревня Лаврики', 'поселок станции Корнево', 'поселок Перово', 'деревня Малое Верево', 'поселок Возрождение', 'деревня Бор', 'поселок городского типа Рахья', 'посёлок Войскорово', 'коттеджный поселок Счастье', 'посёлок Коробицыно', 'деревня Оржицы', 'поселок Жилгородок', 'посёлок Левашово', 'Кингисепп', 'деревня Шпаньково', 'село Павлово', 'поселок Стеклянный', 'поселок Зимитицы', 'поселок Лисий Нос', 'деревня Колтуши', 'Выборг', 'поселок Починок', 'посёлок Щеглово', 'деревня Торосово', 'деревня Пудомяги', 'Колпино', 'Сланцы', 'поселок Володарское', 'деревня Реброво', 'деревня Низино', 'деревня Хязельки', 'посёлок Кобралово', 'Всеволожск', 'посёлок Молодёжное', 'поселок Оредеж', 'поселок городского типа Лебяжье', 'деревня Большие Колпаны', 'Гатчина', 'деревня Юкки', 'поселок городского типа Большая Ижора', 'поселок городского типа Назия', 'поселок городского типа имени Свердлова', 'поселок городского типа Дубровка', 'городской посёлок Мга', 'деревня Фалилеево', 'деревня Гарболово', 'Подпорожье', 'поселок станции Приветнинское', 'деревня Курковицы', 'посёлок Перово', 'поселок городского типа Токсово', 'Любань', 'деревня Старая Пустошь', 'деревня Кипень', 'садовое товарищество Садко', 'деревня Хапо-Ое', 'посёлок городского типа Кузнечное', 'деревня Рабитицы', 'поселок Житково', 'посёлок Высокоключевой', 'поселок Первомайское', 'посёлок городского типа Кузьмоловский', 'поселок Глебычево', 'поселок Бугры', 'деревня Белогорка', 'посёлок Усть-Луга', 'поселок городского типа Лесогорский', 'посёлок Плоское', 'поселок городского типа Советский', 'деревня Терпилицы', 'поселок Серебрянский', 'деревня Зимитицы', 'поселок городского типа Кондратьево', 'деревня Щеглово', 'посёлок Дзержинского', 'деревня Разметелево', 'деревня Нижние Осельки', 'деревня Большая Вруда', 'деревня Мануйлово', 'посёлок Жилгородок', 'деревня Куттузи', 'посёлок Металлострой', 'деревня Глинка', 'посёлок городского типа Форносово', 'деревня Лаголово', 'деревня Кузьмолово', 'поселок Гарболово', 'поселок городского типа Никольский', 'поселок Селезнёво', 'поселок Молодцово', 'посёлок Репино', 'деревня Старосиверская', 'деревня Извара', 'поселок Кобралово', 'поселок Жилпосёлок', 'деревня Камышовка', 'посёлок при железнодорожной станции Вещево', 'поселок Семиозерье', 'поселок Коммунары', 'поселок Кобринское', 'городской посёлок Фёдоровское', 'садовое товарищество Новая Ропша', 'посёлок Шугозеро', 'деревня Фёдоровское', 'деревня Котлы', 'деревня Рапполово', 'посёлок городского типа имени Морозова', 'городской посёлок Павлово', 'деревня Старополье', 'село Русско-Высоцкое', 'посёлок Ильичёво', 'поселок Цвелодубово', 'поселок Семрино', 'Кириши', 'городской посёлок Советский', 'посёлок Торфяное', 'поселок Совхозный', 'посёлок Ленинское', 'Ломоносов', 'посёлок Плодовое', 'деревня Нурма', 'деревня Бегуницы', 'посёлок Сосново', 'поселок Углово', 'поселок Севастьяново', 'деревня Малая Романовка', 'поселок городского типа Синявино', 'посёлок городского типа Вырица', 'деревня Пеники', 'посёлок городского типа Мга', 'посёлок Терволово', 'посёлок Платформа 69-й километр', 'село Шум', 'деревня Иссад', 'поселок Дружноселье', 'посёлок при железнодорожной станции Приветнинское', 'деревня Русско', 'поселок Торковичи', 'посёлок Форт Красная Горка', 'поселок Мурино', 'посёлок городского типа Павлово', 'деревня Калитино', 'деревня Ялгино', 'посёлок Возрождение', 'городской посёлок Будогощь', 'поселок Каложицы', 'поселок Лукаши', 'деревня Сижно', 'поселок Ильичёво', 'деревня Большой Сабск', 'село Путилово', 'посёлок Парголово', 'Коммунар', 'деревня Суоранда', 'поселок Гладкое', 'деревня Пельгора', 'поселок Победа', 'садовое товарищество Приладожский', 'посёлок Кикерино', 'поселок Почап', 'деревня Гостилицы', 'посёлок Аннино', 'Павловск', 'поселок Елизаветино', 'поселок Красная Долина', 'деревня Кудрово'}\n"
     ]
    }
   ],
   "source": [
    "presorted_local_name = set(data['locality_name'].unique()) #уникальные значения\n",
    "#в алфавитном порядке для столбца \"locality_name\"\n",
    "print(data.locality_name.unique()) #кол-во значений в столбце\n",
    "print(presorted_local_name)\n"
   ]
  },
  {
   "cell_type": "code",
   "execution_count": 17,
   "metadata": {},
   "outputs": [
    {
     "name": "stdout",
     "output_type": "stream",
     "text": [
      "323\n"
     ]
    }
   ],
   "source": [
    "data.locality_name = data.locality_name.str.replace(\n",
    "    'ё', 'е') #замена буквы \"ё\" на \"е\"\n",
    "data.locality_name = data.locality_name.str.replace(\n",
    "    'поселок городского типа', 'поселок') #замена на однотипные значнеия\n",
    "data.locality_name = data.locality_name.str.replace(\n",
    "    'городской поселок', 'поселок') #замена на однотипные значнеия\n",
    "\n",
    "edit_locality_name = set(data['locality_name'].unique()) #уникальные значения\n",
    "#в алфавитном порядке\n",
    "print(len(edit_locality_name)) #кол-во уникальных значений после удаления дубликатов\n",
    "\n",
    "#print(edit_locality_name)"
   ]
  },
  {
   "cell_type": "code",
   "execution_count": 18,
   "metadata": {},
   "outputs": [],
   "source": [
    "#Заполняем пропуски в столбце parks_nearest\n",
    "#parks_nearest_edit=data.loc[~data['parks_nearest'].isnull()]\n",
    "#parks_nearest_grouped=parks_nearest_edit.pivot_table(index='locality_name', \n",
    "                                                      #values='parks_nearest', aggfunc='median')"
   ]
  },
  {
   "cell_type": "code",
   "execution_count": 19,
   "metadata": {},
   "outputs": [],
   "source": [
    "#def set_parks_nearest(row):\n",
    "    #if pd.isnull(row['parks_nearest']):\n",
    "        #if row['parks_around3000']==0:\n",
    "            #return 0\n",
    "        #for index in parks_nearest_grouped.index:\n",
    "            #if row['locality_name']==index:\n",
    "                #return parks_nearest_grouped.loc[index,'parks_nearest']\n",
    "        #return 'Ошибка'\n",
    "    #return row['parks_nearest']\n",
    "#data['parks_nearest']=data.apply(set_parks_nearest,axis=1)"
   ]
  },
  {
   "cell_type": "code",
   "execution_count": 20,
   "metadata": {},
   "outputs": [],
   "source": [
    "#Заполняем пропуски в столбце ponds_nearest\n",
    "#ponds_nearest_parse=data.loc[~data['ponds_nearest'].isnull()]\n",
    "#ponds_nearest_grouped=ponds_nearest_parse.pivot_table(index='locality_name', \n",
    "                                                      #values='ponds_nearest', aggfunc='median')\n"
   ]
  },
  {
   "cell_type": "code",
   "execution_count": 21,
   "metadata": {},
   "outputs": [],
   "source": [
    "#UPD def set_ponds_nearest(row):\n",
    "    #if pd.isnull(row['ponds_nearest']):\n",
    "        #if row['ponds_around3000']==0:\n",
    "            #return 0\n",
    "        #for index in ponds_nearest_grouped.index:\n",
    "            #if row['locality_name']==index:\n",
    "                #return ponds_nearest_grouped.loc[index,'ponds_nearest']\n",
    "        #return 'Ошибка'\n",
    "    #return row['ponds_nearest']\n",
    "#data['ponds_nearest']=data.apply(set_ponds_nearest,axis=1)"
   ]
  },
  {
   "cell_type": "code",
   "execution_count": 22,
   "metadata": {},
   "outputs": [],
   "source": [
    "#Заменинм пропущенные значения в колонке 'kitchen_area' медианным значением\n",
    "median_replace_kitchen = data.groupby('rooms')['kitchen_area'].median()\n",
    "for total in data['rooms'].unique():\n",
    "    data.loc[(data['rooms'] == total) & (data['kitchen_area'].isna()), 'kitchen_area'] = median_replace_kitchen[total]\n",
    "# print(data['kitchen_area'].value_counts())\n",
    "\n",
    "# Исключим 193 строки с записью \"  Nan\", как вероятные ошибки данных.\n",
    "data.loc[data['kitchen_area'] == '  nan','kitchen_area'] = None\n",
    "data = data.dropna(subset=['kitchen_area'])\n",
    "# print(data['kitchen_area'].unique())"
   ]
  },
  {
   "cell_type": "code",
   "execution_count": 23,
   "metadata": {},
   "outputs": [],
   "source": [
    "# Затем удалим строки с высотой потолков более 10 м(коих выдает 26), как вероятные ошибки данных\n",
    "data.loc[data['ceiling_height'] > 10,'ceiling_height'] = None\n",
    "data = data.dropna(subset=['ceiling_height'])\n",
    "#print(data['ceiling_height'][data['ceiling_height'] > 10].count())"
   ]
  },
  {
   "cell_type": "code",
   "execution_count": 24,
   "metadata": {
    "scrolled": true
   },
   "outputs": [
    {
     "name": "stdout",
     "output_type": "stream",
     "text": [
      "3\n",
      "0\n"
     ]
    }
   ],
   "source": [
    "# удалим квартиры с высотой потолка менее 2м., (их оказалось - 3).\n",
    "print(data['ceiling_height'][data['ceiling_height'] < 2].count())\n",
    "data.loc[data['ceiling_height'] < 2,'ceiling_height'] = None\n",
    "data = data.dropna(subset=['ceiling_height'])\n",
    "print(data['ceiling_height'][data['ceiling_height'] < 2].count()) # проверка после удаления"
   ]
  },
  {
   "cell_type": "code",
   "execution_count": 25,
   "metadata": {},
   "outputs": [],
   "source": [
    "# исключим пропуски в столбце \"locality_name\"\n",
    "data = data.dropna(subset=['locality_name'])"
   ]
  },
  {
   "cell_type": "code",
   "execution_count": 26,
   "metadata": {},
   "outputs": [],
   "source": [
    " #Приводим в целочисленный тип количество парков  и прудов вокруг. Заменяем пропущенные значения на 0\n",
    "data['parks_around3000'] = data['parks_around3000'].fillna(value=0).astype(int)\n",
    "data['ponds_around3000'] = data['ponds_around3000'].fillna(value=0).astype(int)\n",
    "data['parks_nearest'] = data['parks_around3000'].fillna(value=0).astype(int)\n",
    "data['ponds_nearest'] = data['ponds_around3000'].fillna(value=0).astype(int)"
   ]
  },
  {
   "cell_type": "code",
   "execution_count": 27,
   "metadata": {},
   "outputs": [],
   "source": [
    "#Пропуски в столбце \"living_area\" заменим на медианы значений жилой площади по каждому значению кол-ва комнат столбца \"rooms\". Для этого напишем цикл, перебирающий уникальные значения столбца 'rooms' и в случае пропуска в столбце 'living_area', заменит на медианное значение жилой площади по данному количеству комнат\n",
    "\n",
    "median_replace_rooms = data.groupby('rooms')['living_area'].median()\n",
    "for total in data['rooms'].unique():\n",
    "    data.loc[(data['rooms'] == total) & (data['living_area'].isna()), 'living_area'] = median_replace_rooms[total]"
   ]
  },
  {
   "cell_type": "code",
   "execution_count": 28,
   "metadata": {},
   "outputs": [],
   "source": [
    "#Немного улучштм вид отображения даты публикации объявления, т.к. данные все равно округлены до целых дней, часы и минуты отбросим\n",
    "data['first_day_exposition'] = pd.to_datetime(data['first_day_exposition'], format = '%Y-%m-%d')\n",
    "#print(data['first_day_exposition'].head())\n"
   ]
  },
  {
   "cell_type": "code",
   "execution_count": 29,
   "metadata": {},
   "outputs": [
    {
     "name": "stdout",
     "output_type": "stream",
     "text": [
      "<class 'pandas.core.frame.DataFrame'>\n",
      "Int64Index: 23342 entries, 0 to 23698\n",
      "Data columns (total 22 columns):\n",
      " #   Column                Non-Null Count  Dtype         \n",
      "---  ------                --------------  -----         \n",
      " 0   total_images          23342 non-null  int64         \n",
      " 1   last_price            23342 non-null  float64       \n",
      " 2   total_area            23342 non-null  float64       \n",
      " 3   first_day_exposition  23342 non-null  datetime64[ns]\n",
      " 4   rooms                 23342 non-null  int64         \n",
      " 5   ceiling_height        23342 non-null  float64       \n",
      " 6   floors_total          23342 non-null  int64         \n",
      " 7   living_area           23342 non-null  float64       \n",
      " 8   floor                 23342 non-null  int64         \n",
      " 9   is_apartment          23342 non-null  bool          \n",
      " 10  studio                23342 non-null  bool          \n",
      " 11  open_plan             23342 non-null  bool          \n",
      " 12  kitchen_area          23342 non-null  float64       \n",
      " 13  balcony               23342 non-null  int64         \n",
      " 14  locality_name         23342 non-null  object        \n",
      " 15  airports_nearest      17904 non-null  float64       \n",
      " 16  cityCenters_nearest   17927 non-null  float64       \n",
      " 17  parks_around3000      23342 non-null  int64         \n",
      " 18  parks_nearest         23342 non-null  int64         \n",
      " 19  ponds_around3000      23342 non-null  int64         \n",
      " 20  ponds_nearest         23342 non-null  int64         \n",
      " 21  days_exposition       20191 non-null  float64       \n",
      "dtypes: bool(3), datetime64[ns](1), float64(8), int64(9), object(1)\n",
      "memory usage: 3.6+ MB\n"
     ]
    }
   ],
   "source": [
    "data.info()"
   ]
  },
  {
   "cell_type": "code",
   "execution_count": 30,
   "metadata": {
    "scrolled": false
   },
   "outputs": [
    {
     "data": {
      "text/plain": [
       "total_images               0\n",
       "last_price                 0\n",
       "total_area                 0\n",
       "first_day_exposition       0\n",
       "rooms                      0\n",
       "ceiling_height             0\n",
       "floors_total               0\n",
       "living_area                0\n",
       "floor                      0\n",
       "is_apartment               0\n",
       "studio                     0\n",
       "open_plan                  0\n",
       "kitchen_area               0\n",
       "balcony                    0\n",
       "locality_name              0\n",
       "airports_nearest        5438\n",
       "cityCenters_nearest     5415\n",
       "parks_around3000           0\n",
       "parks_nearest              0\n",
       "ponds_around3000           0\n",
       "ponds_nearest              0\n",
       "days_exposition         3151\n",
       "dtype: int64"
      ]
     },
     "execution_count": 30,
     "metadata": {},
     "output_type": "execute_result"
    }
   ],
   "source": [
    "data.isna().sum()"
   ]
  },
  {
   "cell_type": "code",
   "execution_count": 31,
   "metadata": {},
   "outputs": [
    {
     "name": "stdout",
     "output_type": "stream",
     "text": [
      "[ 3  1  2  4  5  6  7 11  8 14 10 15  9 19 16 12]\n",
      "{1, 2, 3, 4, 5, 6, 7, 8, 9, 10, 11, 12, 14, 15, 16, 19}\n"
     ]
    }
   ],
   "source": [
    "sorted_local_name = set(data['rooms'].unique()) #уникальные значения\n",
    "#в алфавитном порядке для столбца \"locality_name\"\n",
    "print(data.rooms.unique()) #кол-во значений в столбце\n",
    "print(sorted_local_name)\n",
    "\n"
   ]
  },
  {
   "cell_type": "markdown",
   "metadata": {},
   "source": [
    "#### Вывод\n",
    "В первоначальном файле было 23 699 строк, в результате обработки и удаления вероятных ошибок данных осталось в датасете 23 345 строк, по которым заполнены все строки во всех значимых столбцах. В процессе обработки данных произведено следующее:\n",
    "\n",
    "В столбце 'balcony' пропуски были заменены на 0, также столбец преобразован к целочисленному типу данных.\n",
    "Пропуски в столбце 'ceiling_height' заменили на медианы значений высот потолков по каждому этажу, а также удалили аномальные значения выше 10 метров и ниже 2 метров.\n",
    "Пропуски в столбце  'kitchen_area' заменили  медианным значением площади кухни по каждому значению количества комнат столбца 'room'.\n",
    "Пропуски в столбце 'living_area' заменили на медианы значений жилой площади по каждому значению количества комнат столбца 'room'.\n",
    "В столбце 'is_apartment' пропуски заменили на False.\n",
    "Исключили пропуски в столбце 'locality_name', как вероятные ошибки.\n",
    "В столбцах 'ponds_nearest' и 'ponds_nearest' пропуски заменили медианными значениями по каждому значению столбца 'locality_name'\n",
    "В столбце days_exposition отбросим часы и минуты  данные все равно округлены до целых дней.\n",
    "Неявные ошибки в столбце 'locality_name' удалили путем приведения к единому стандарту записей букв (замена \"ё\" на \"е\") и статуса ПГТ у населенных пунктов.\n",
    "Необходимые для дальнейших рассчетов значения были преведены к целочисленному формату\n",
    "Значения в столбце('days_exposition и столбцах с картографическими данными ('airports_nearest','cityCenters_nearest','ponds_nearest','parks_nearest')  не были подвергнуты обработке, во избежании искажений данных.\n",
    "\n"
   ]
  },
  {
   "cell_type": "code",
   "execution_count": 32,
   "metadata": {
    "scrolled": true
   },
   "outputs": [],
   "source": [
    "#UPD3 Функция для подсчёта границ с учетом 3 размаха \n",
    "def quartile_range(df, column):\n",
    "    q1 = data[column].quantile(0.25)\n",
    "    q3 = data[column].quantile(0.75)\n",
    "    iqr = q3 - q1\n",
    "    dfq = data.loc[(data[column] < q3 + 3*iqr) & (data[column] > q1 - 3*iqr), column]\n",
    "    return dfq\n",
    "#UPD2 Столбцы с выбросами\n",
    "list_features = ['last_price', 'total_area']\n",
    "for col in list_features:\n",
    "    data[col] = quartile_range(data, col)"
   ]
  },
  {
   "cell_type": "code",
   "execution_count": 33,
   "metadata": {},
   "outputs": [
    {
     "data": {
      "text/html": [
       "<div>\n",
       "<style scoped>\n",
       "    .dataframe tbody tr th:only-of-type {\n",
       "        vertical-align: middle;\n",
       "    }\n",
       "\n",
       "    .dataframe tbody tr th {\n",
       "        vertical-align: top;\n",
       "    }\n",
       "\n",
       "    .dataframe thead th {\n",
       "        text-align: right;\n",
       "    }\n",
       "</style>\n",
       "<table border=\"1\" class=\"dataframe\">\n",
       "  <thead>\n",
       "    <tr style=\"text-align: right;\">\n",
       "      <th></th>\n",
       "      <th>total_images</th>\n",
       "      <th>last_price</th>\n",
       "      <th>total_area</th>\n",
       "      <th>rooms</th>\n",
       "      <th>ceiling_height</th>\n",
       "      <th>floors_total</th>\n",
       "      <th>living_area</th>\n",
       "      <th>floor</th>\n",
       "      <th>kitchen_area</th>\n",
       "      <th>balcony</th>\n",
       "      <th>airports_nearest</th>\n",
       "      <th>cityCenters_nearest</th>\n",
       "      <th>parks_around3000</th>\n",
       "      <th>parks_nearest</th>\n",
       "      <th>ponds_around3000</th>\n",
       "      <th>ponds_nearest</th>\n",
       "      <th>days_exposition</th>\n",
       "    </tr>\n",
       "  </thead>\n",
       "  <tbody>\n",
       "    <tr>\n",
       "      <th>count</th>\n",
       "      <td>23342.000000</td>\n",
       "      <td>2.236300e+04</td>\n",
       "      <td>22875.000000</td>\n",
       "      <td>23342.000000</td>\n",
       "      <td>23342.000000</td>\n",
       "      <td>23342.000000</td>\n",
       "      <td>23342.000000</td>\n",
       "      <td>23342.000000</td>\n",
       "      <td>23342.000000</td>\n",
       "      <td>23342.000000</td>\n",
       "      <td>17904.000000</td>\n",
       "      <td>17927.000000</td>\n",
       "      <td>23342.000000</td>\n",
       "      <td>23342.000000</td>\n",
       "      <td>23342.000000</td>\n",
       "      <td>23342.000000</td>\n",
       "      <td>20191.000000</td>\n",
       "    </tr>\n",
       "    <tr>\n",
       "      <th>mean</th>\n",
       "      <td>9.895382</td>\n",
       "      <td>5.280518e+06</td>\n",
       "      <td>57.167953</td>\n",
       "      <td>1.760003</td>\n",
       "      <td>2.708214</td>\n",
       "      <td>10.623040</td>\n",
       "      <td>34.455753</td>\n",
       "      <td>5.854683</td>\n",
       "      <td>10.455407</td>\n",
       "      <td>0.589067</td>\n",
       "      <td>28827.113438</td>\n",
       "      <td>14197.218832</td>\n",
       "      <td>0.471296</td>\n",
       "      <td>0.471296</td>\n",
       "      <td>0.590181</td>\n",
       "      <td>0.590181</td>\n",
       "      <td>181.421772</td>\n",
       "    </tr>\n",
       "    <tr>\n",
       "      <th>std</th>\n",
       "      <td>5.681146</td>\n",
       "      <td>2.898575e+06</td>\n",
       "      <td>23.648969</td>\n",
       "      <td>0.906624</td>\n",
       "      <td>0.245119</td>\n",
       "      <td>6.560447</td>\n",
       "      <td>21.765919</td>\n",
       "      <td>4.846962</td>\n",
       "      <td>5.668013</td>\n",
       "      <td>0.958733</td>\n",
       "      <td>12628.444118</td>\n",
       "      <td>8630.388062</td>\n",
       "      <td>0.749856</td>\n",
       "      <td>0.749856</td>\n",
       "      <td>0.883944</td>\n",
       "      <td>0.883944</td>\n",
       "      <td>220.160168</td>\n",
       "    </tr>\n",
       "    <tr>\n",
       "      <th>min</th>\n",
       "      <td>0.000000</td>\n",
       "      <td>1.219000e+04</td>\n",
       "      <td>12.000000</td>\n",
       "      <td>0.000000</td>\n",
       "      <td>2.000000</td>\n",
       "      <td>1.000000</td>\n",
       "      <td>2.000000</td>\n",
       "      <td>1.000000</td>\n",
       "      <td>1.300000</td>\n",
       "      <td>0.000000</td>\n",
       "      <td>0.000000</td>\n",
       "      <td>181.000000</td>\n",
       "      <td>0.000000</td>\n",
       "      <td>0.000000</td>\n",
       "      <td>0.000000</td>\n",
       "      <td>0.000000</td>\n",
       "      <td>1.000000</td>\n",
       "    </tr>\n",
       "    <tr>\n",
       "      <th>25%</th>\n",
       "      <td>6.000000</td>\n",
       "      <td>3.400000e+06</td>\n",
       "      <td>40.000000</td>\n",
       "      <td>1.000000</td>\n",
       "      <td>2.550000</td>\n",
       "      <td>5.000000</td>\n",
       "      <td>18.500000</td>\n",
       "      <td>2.000000</td>\n",
       "      <td>7.300000</td>\n",
       "      <td>0.000000</td>\n",
       "      <td>18582.000000</td>\n",
       "      <td>9236.000000</td>\n",
       "      <td>0.000000</td>\n",
       "      <td>0.000000</td>\n",
       "      <td>0.000000</td>\n",
       "      <td>0.000000</td>\n",
       "      <td>45.000000</td>\n",
       "    </tr>\n",
       "    <tr>\n",
       "      <th>50%</th>\n",
       "      <td>9.000000</td>\n",
       "      <td>4.550000e+06</td>\n",
       "      <td>51.600000</td>\n",
       "      <td>2.000000</td>\n",
       "      <td>2.650000</td>\n",
       "      <td>9.000000</td>\n",
       "      <td>30.500000</td>\n",
       "      <td>4.000000</td>\n",
       "      <td>9.000000</td>\n",
       "      <td>0.000000</td>\n",
       "      <td>26770.000000</td>\n",
       "      <td>13090.000000</td>\n",
       "      <td>0.000000</td>\n",
       "      <td>0.000000</td>\n",
       "      <td>0.000000</td>\n",
       "      <td>0.000000</td>\n",
       "      <td>96.000000</td>\n",
       "    </tr>\n",
       "    <tr>\n",
       "      <th>75%</th>\n",
       "      <td>14.000000</td>\n",
       "      <td>6.400000e+06</td>\n",
       "      <td>68.000000</td>\n",
       "      <td>2.000000</td>\n",
       "      <td>2.750000</td>\n",
       "      <td>16.000000</td>\n",
       "      <td>42.800000</td>\n",
       "      <td>8.000000</td>\n",
       "      <td>11.500000</td>\n",
       "      <td>1.000000</td>\n",
       "      <td>37294.000000</td>\n",
       "      <td>16285.000000</td>\n",
       "      <td>1.000000</td>\n",
       "      <td>1.000000</td>\n",
       "      <td>1.000000</td>\n",
       "      <td>1.000000</td>\n",
       "      <td>232.000000</td>\n",
       "    </tr>\n",
       "    <tr>\n",
       "      <th>max</th>\n",
       "      <td>50.000000</td>\n",
       "      <td>1.683000e+07</td>\n",
       "      <td>159.300000</td>\n",
       "      <td>3.000000</td>\n",
       "      <td>8.300000</td>\n",
       "      <td>60.000000</td>\n",
       "      <td>409.700000</td>\n",
       "      <td>33.000000</td>\n",
       "      <td>112.000000</td>\n",
       "      <td>5.000000</td>\n",
       "      <td>84869.000000</td>\n",
       "      <td>65968.000000</td>\n",
       "      <td>3.000000</td>\n",
       "      <td>3.000000</td>\n",
       "      <td>3.000000</td>\n",
       "      <td>3.000000</td>\n",
       "      <td>1580.000000</td>\n",
       "    </tr>\n",
       "  </tbody>\n",
       "</table>\n",
       "</div>"
      ],
      "text/plain": [
       "       total_images    last_price    total_area         rooms  ceiling_height  \\\n",
       "count  23342.000000  2.236300e+04  22875.000000  23342.000000    23342.000000   \n",
       "mean       9.895382  5.280518e+06     57.167953      1.760003        2.708214   \n",
       "std        5.681146  2.898575e+06     23.648969      0.906624        0.245119   \n",
       "min        0.000000  1.219000e+04     12.000000      0.000000        2.000000   \n",
       "25%        6.000000  3.400000e+06     40.000000      1.000000        2.550000   \n",
       "50%        9.000000  4.550000e+06     51.600000      2.000000        2.650000   \n",
       "75%       14.000000  6.400000e+06     68.000000      2.000000        2.750000   \n",
       "max       50.000000  1.683000e+07    159.300000      3.000000        8.300000   \n",
       "\n",
       "       floors_total   living_area         floor  kitchen_area       balcony  \\\n",
       "count  23342.000000  23342.000000  23342.000000  23342.000000  23342.000000   \n",
       "mean      10.623040     34.455753      5.854683     10.455407      0.589067   \n",
       "std        6.560447     21.765919      4.846962      5.668013      0.958733   \n",
       "min        1.000000      2.000000      1.000000      1.300000      0.000000   \n",
       "25%        5.000000     18.500000      2.000000      7.300000      0.000000   \n",
       "50%        9.000000     30.500000      4.000000      9.000000      0.000000   \n",
       "75%       16.000000     42.800000      8.000000     11.500000      1.000000   \n",
       "max       60.000000    409.700000     33.000000    112.000000      5.000000   \n",
       "\n",
       "       airports_nearest  cityCenters_nearest  parks_around3000  parks_nearest  \\\n",
       "count      17904.000000         17927.000000      23342.000000   23342.000000   \n",
       "mean       28827.113438         14197.218832          0.471296       0.471296   \n",
       "std        12628.444118          8630.388062          0.749856       0.749856   \n",
       "min            0.000000           181.000000          0.000000       0.000000   \n",
       "25%        18582.000000          9236.000000          0.000000       0.000000   \n",
       "50%        26770.000000         13090.000000          0.000000       0.000000   \n",
       "75%        37294.000000         16285.000000          1.000000       1.000000   \n",
       "max        84869.000000         65968.000000          3.000000       3.000000   \n",
       "\n",
       "       ponds_around3000  ponds_nearest  days_exposition  \n",
       "count      23342.000000   23342.000000     20191.000000  \n",
       "mean           0.590181       0.590181       181.421772  \n",
       "std            0.883944       0.883944       220.160168  \n",
       "min            0.000000       0.000000         1.000000  \n",
       "25%            0.000000       0.000000        45.000000  \n",
       "50%            0.000000       0.000000        96.000000  \n",
       "75%            1.000000       1.000000       232.000000  \n",
       "max            3.000000       3.000000      1580.000000  "
      ]
     },
     "execution_count": 33,
     "metadata": {},
     "output_type": "execute_result"
    }
   ],
   "source": [
    "#UPD3 Функция для подсчёта границ с учетом 1 размаха отдельно для количества комнат\n",
    "def quartile_range(df, column):\n",
    "    q1 = data[column].quantile(0.25)\n",
    "    q3 = data[column].quantile(0.75)\n",
    "    iqr = q3 - q1\n",
    "    dfq = data.loc[(data[column] < q3 + 0.5*iqr) & (data[column] > q1 - 0.5*iqr), column]\n",
    "    return dfq\n",
    "#UPD3 Столбцы с выбросами\n",
    "list_features = ['rooms']\n",
    "for col in list_features:\n",
    "    data[col] = quartile_range(data, col)\n",
    "\n",
    "#UPD3 Возвращаем в целочисленный тип число комнат\n",
    "data['rooms'] = data['rooms'].fillna(0).astype(int)\n",
    "\n",
    "#UPD2 Изучаем, есть ли выбивающиеся значения\n",
    "data.describe()"
   ]
  },
  {
   "cell_type": "code",
   "execution_count": 34,
   "metadata": {},
   "outputs": [
    {
     "data": {
      "image/png": "[encoded data removed]",
      "text/plain": [
       "<Figure size 432x288 with 1 Axes>"
      ]
     },
     "metadata": {
      "needs_background": "light"
     },
     "output_type": "display_data"
    }
   ],
   "source": [
    "#код ревьюера\n",
    "data2 = pd.read_csv('/datasets/real_estate_data.csv', sep='\\t')\n",
    "(data2['total_area']).hist(bins=30);"
   ]
  },
  {
   "cell_type": "code",
   "execution_count": 35,
   "metadata": {},
   "outputs": [
    {
     "name": "stdout",
     "output_type": "stream",
     "text": [
      "<class 'pandas.core.frame.DataFrame'>\n",
      "Int64Index: 23342 entries, 0 to 23698\n",
      "Data columns (total 22 columns):\n",
      " #   Column                Non-Null Count  Dtype         \n",
      "---  ------                --------------  -----         \n",
      " 0   total_images          23342 non-null  int64         \n",
      " 1   last_price            22363 non-null  float64       \n",
      " 2   total_area            22875 non-null  float64       \n",
      " 3   first_day_exposition  23342 non-null  datetime64[ns]\n",
      " 4   rooms                 23342 non-null  int64         \n",
      " 5   ceiling_height        23342 non-null  float64       \n",
      " 6   floors_total          23342 non-null  int64         \n",
      " 7   living_area           23342 non-null  float64       \n",
      " 8   floor                 23342 non-null  int64         \n",
      " 9   is_apartment          23342 non-null  bool          \n",
      " 10  studio                23342 non-null  bool          \n",
      " 11  open_plan             23342 non-null  bool          \n",
      " 12  kitchen_area          23342 non-null  float64       \n",
      " 13  balcony               23342 non-null  int64         \n",
      " 14  locality_name         23342 non-null  object        \n",
      " 15  airports_nearest      17904 non-null  float64       \n",
      " 16  cityCenters_nearest   17927 non-null  float64       \n",
      " 17  parks_around3000      23342 non-null  int64         \n",
      " 18  parks_nearest         23342 non-null  int64         \n",
      " 19  ponds_around3000      23342 non-null  int64         \n",
      " 20  ponds_nearest         23342 non-null  int64         \n",
      " 21  days_exposition       20191 non-null  float64       \n",
      "dtypes: bool(3), datetime64[ns](1), float64(8), int64(9), object(1)\n",
      "memory usage: 3.6+ MB\n"
     ]
    }
   ],
   "source": [
    "data.info()\n"
   ]
  },
  {
   "cell_type": "markdown",
   "metadata": {},
   "source": [
    "### Посчитайте и добавьте в таблицу новые столбцы"
   ]
  },
  {
   "cell_type": "code",
   "execution_count": 36,
   "metadata": {},
   "outputs": [
    {
     "data": {
      "text/html": [
       "<div>\n",
       "<style scoped>\n",
       "    .dataframe tbody tr th:only-of-type {\n",
       "        vertical-align: middle;\n",
       "    }\n",
       "\n",
       "    .dataframe tbody tr th {\n",
       "        vertical-align: top;\n",
       "    }\n",
       "\n",
       "    .dataframe thead th {\n",
       "        text-align: right;\n",
       "    }\n",
       "</style>\n",
       "<table border=\"1\" class=\"dataframe\">\n",
       "  <thead>\n",
       "    <tr style=\"text-align: right;\">\n",
       "      <th></th>\n",
       "      <th>total_images</th>\n",
       "      <th>last_price</th>\n",
       "      <th>total_area</th>\n",
       "      <th>first_day_exposition</th>\n",
       "      <th>rooms</th>\n",
       "      <th>ceiling_height</th>\n",
       "      <th>floors_total</th>\n",
       "      <th>living_area</th>\n",
       "      <th>floor</th>\n",
       "      <th>is_apartment</th>\n",
       "      <th>studio</th>\n",
       "      <th>open_plan</th>\n",
       "      <th>kitchen_area</th>\n",
       "      <th>balcony</th>\n",
       "      <th>locality_name</th>\n",
       "      <th>airports_nearest</th>\n",
       "      <th>cityCenters_nearest</th>\n",
       "      <th>parks_around3000</th>\n",
       "      <th>parks_nearest</th>\n",
       "      <th>ponds_around3000</th>\n",
       "      <th>ponds_nearest</th>\n",
       "      <th>days_exposition</th>\n",
       "      <th>price_per_meter</th>\n",
       "    </tr>\n",
       "  </thead>\n",
       "  <tbody>\n",
       "    <tr>\n",
       "      <th>0</th>\n",
       "      <td>20</td>\n",
       "      <td>13000000.0</td>\n",
       "      <td>108.00</td>\n",
       "      <td>2019-03-07</td>\n",
       "      <td>3</td>\n",
       "      <td>2.70</td>\n",
       "      <td>16</td>\n",
       "      <td>51.00</td>\n",
       "      <td>8</td>\n",
       "      <td>False</td>\n",
       "      <td>False</td>\n",
       "      <td>False</td>\n",
       "      <td>25.00</td>\n",
       "      <td>0</td>\n",
       "      <td>Санкт-Петербург</td>\n",
       "      <td>18863.0</td>\n",
       "      <td>16028.0</td>\n",
       "      <td>1</td>\n",
       "      <td>1</td>\n",
       "      <td>2</td>\n",
       "      <td>2</td>\n",
       "      <td>NaN</td>\n",
       "      <td>120370.370370</td>\n",
       "    </tr>\n",
       "    <tr>\n",
       "      <th>1</th>\n",
       "      <td>7</td>\n",
       "      <td>3350000.0</td>\n",
       "      <td>40.40</td>\n",
       "      <td>2018-12-04</td>\n",
       "      <td>1</td>\n",
       "      <td>2.75</td>\n",
       "      <td>11</td>\n",
       "      <td>18.60</td>\n",
       "      <td>1</td>\n",
       "      <td>False</td>\n",
       "      <td>False</td>\n",
       "      <td>False</td>\n",
       "      <td>11.00</td>\n",
       "      <td>2</td>\n",
       "      <td>поселок Шушары</td>\n",
       "      <td>12817.0</td>\n",
       "      <td>18603.0</td>\n",
       "      <td>0</td>\n",
       "      <td>0</td>\n",
       "      <td>0</td>\n",
       "      <td>0</td>\n",
       "      <td>81.0</td>\n",
       "      <td>82920.792079</td>\n",
       "    </tr>\n",
       "    <tr>\n",
       "      <th>2</th>\n",
       "      <td>10</td>\n",
       "      <td>5196000.0</td>\n",
       "      <td>56.00</td>\n",
       "      <td>2015-08-20</td>\n",
       "      <td>2</td>\n",
       "      <td>2.55</td>\n",
       "      <td>5</td>\n",
       "      <td>34.30</td>\n",
       "      <td>4</td>\n",
       "      <td>False</td>\n",
       "      <td>False</td>\n",
       "      <td>False</td>\n",
       "      <td>8.30</td>\n",
       "      <td>0</td>\n",
       "      <td>Санкт-Петербург</td>\n",
       "      <td>21741.0</td>\n",
       "      <td>13933.0</td>\n",
       "      <td>1</td>\n",
       "      <td>1</td>\n",
       "      <td>2</td>\n",
       "      <td>2</td>\n",
       "      <td>558.0</td>\n",
       "      <td>92785.714286</td>\n",
       "    </tr>\n",
       "    <tr>\n",
       "      <th>3</th>\n",
       "      <td>0</td>\n",
       "      <td>NaN</td>\n",
       "      <td>159.00</td>\n",
       "      <td>2015-07-24</td>\n",
       "      <td>3</td>\n",
       "      <td>2.60</td>\n",
       "      <td>14</td>\n",
       "      <td>45.00</td>\n",
       "      <td>9</td>\n",
       "      <td>False</td>\n",
       "      <td>False</td>\n",
       "      <td>False</td>\n",
       "      <td>9.50</td>\n",
       "      <td>0</td>\n",
       "      <td>Санкт-Петербург</td>\n",
       "      <td>28098.0</td>\n",
       "      <td>6800.0</td>\n",
       "      <td>2</td>\n",
       "      <td>2</td>\n",
       "      <td>3</td>\n",
       "      <td>3</td>\n",
       "      <td>424.0</td>\n",
       "      <td>NaN</td>\n",
       "    </tr>\n",
       "    <tr>\n",
       "      <th>4</th>\n",
       "      <td>2</td>\n",
       "      <td>10000000.0</td>\n",
       "      <td>100.00</td>\n",
       "      <td>2018-06-19</td>\n",
       "      <td>2</td>\n",
       "      <td>3.03</td>\n",
       "      <td>14</td>\n",
       "      <td>32.00</td>\n",
       "      <td>13</td>\n",
       "      <td>False</td>\n",
       "      <td>False</td>\n",
       "      <td>False</td>\n",
       "      <td>41.00</td>\n",
       "      <td>0</td>\n",
       "      <td>Санкт-Петербург</td>\n",
       "      <td>31856.0</td>\n",
       "      <td>8098.0</td>\n",
       "      <td>2</td>\n",
       "      <td>2</td>\n",
       "      <td>1</td>\n",
       "      <td>1</td>\n",
       "      <td>121.0</td>\n",
       "      <td>100000.000000</td>\n",
       "    </tr>\n",
       "    <tr>\n",
       "      <th>5</th>\n",
       "      <td>10</td>\n",
       "      <td>2890000.0</td>\n",
       "      <td>30.40</td>\n",
       "      <td>2018-09-10</td>\n",
       "      <td>1</td>\n",
       "      <td>2.65</td>\n",
       "      <td>12</td>\n",
       "      <td>14.40</td>\n",
       "      <td>5</td>\n",
       "      <td>False</td>\n",
       "      <td>False</td>\n",
       "      <td>False</td>\n",
       "      <td>9.10</td>\n",
       "      <td>0</td>\n",
       "      <td>поселок Янино-1</td>\n",
       "      <td>NaN</td>\n",
       "      <td>NaN</td>\n",
       "      <td>0</td>\n",
       "      <td>0</td>\n",
       "      <td>0</td>\n",
       "      <td>0</td>\n",
       "      <td>55.0</td>\n",
       "      <td>95065.789474</td>\n",
       "    </tr>\n",
       "    <tr>\n",
       "      <th>6</th>\n",
       "      <td>6</td>\n",
       "      <td>3700000.0</td>\n",
       "      <td>37.30</td>\n",
       "      <td>2017-11-02</td>\n",
       "      <td>1</td>\n",
       "      <td>2.66</td>\n",
       "      <td>26</td>\n",
       "      <td>10.60</td>\n",
       "      <td>6</td>\n",
       "      <td>False</td>\n",
       "      <td>False</td>\n",
       "      <td>False</td>\n",
       "      <td>14.40</td>\n",
       "      <td>1</td>\n",
       "      <td>поселок Парголово</td>\n",
       "      <td>52996.0</td>\n",
       "      <td>19143.0</td>\n",
       "      <td>0</td>\n",
       "      <td>0</td>\n",
       "      <td>0</td>\n",
       "      <td>0</td>\n",
       "      <td>155.0</td>\n",
       "      <td>99195.710456</td>\n",
       "    </tr>\n",
       "    <tr>\n",
       "      <th>7</th>\n",
       "      <td>5</td>\n",
       "      <td>7915000.0</td>\n",
       "      <td>71.60</td>\n",
       "      <td>2019-04-18</td>\n",
       "      <td>2</td>\n",
       "      <td>2.75</td>\n",
       "      <td>24</td>\n",
       "      <td>30.50</td>\n",
       "      <td>22</td>\n",
       "      <td>False</td>\n",
       "      <td>False</td>\n",
       "      <td>False</td>\n",
       "      <td>18.90</td>\n",
       "      <td>2</td>\n",
       "      <td>Санкт-Петербург</td>\n",
       "      <td>23982.0</td>\n",
       "      <td>11634.0</td>\n",
       "      <td>0</td>\n",
       "      <td>0</td>\n",
       "      <td>0</td>\n",
       "      <td>0</td>\n",
       "      <td>NaN</td>\n",
       "      <td>110544.692737</td>\n",
       "    </tr>\n",
       "    <tr>\n",
       "      <th>8</th>\n",
       "      <td>20</td>\n",
       "      <td>2900000.0</td>\n",
       "      <td>33.16</td>\n",
       "      <td>2018-05-23</td>\n",
       "      <td>1</td>\n",
       "      <td>2.70</td>\n",
       "      <td>27</td>\n",
       "      <td>15.43</td>\n",
       "      <td>26</td>\n",
       "      <td>False</td>\n",
       "      <td>False</td>\n",
       "      <td>False</td>\n",
       "      <td>8.81</td>\n",
       "      <td>0</td>\n",
       "      <td>поселок Мурино</td>\n",
       "      <td>NaN</td>\n",
       "      <td>NaN</td>\n",
       "      <td>0</td>\n",
       "      <td>0</td>\n",
       "      <td>0</td>\n",
       "      <td>0</td>\n",
       "      <td>189.0</td>\n",
       "      <td>87454.764777</td>\n",
       "    </tr>\n",
       "    <tr>\n",
       "      <th>9</th>\n",
       "      <td>18</td>\n",
       "      <td>5400000.0</td>\n",
       "      <td>61.00</td>\n",
       "      <td>2017-02-26</td>\n",
       "      <td>3</td>\n",
       "      <td>2.50</td>\n",
       "      <td>9</td>\n",
       "      <td>43.60</td>\n",
       "      <td>7</td>\n",
       "      <td>False</td>\n",
       "      <td>False</td>\n",
       "      <td>False</td>\n",
       "      <td>6.50</td>\n",
       "      <td>2</td>\n",
       "      <td>Санкт-Петербург</td>\n",
       "      <td>50898.0</td>\n",
       "      <td>15008.0</td>\n",
       "      <td>0</td>\n",
       "      <td>0</td>\n",
       "      <td>0</td>\n",
       "      <td>0</td>\n",
       "      <td>289.0</td>\n",
       "      <td>88524.590164</td>\n",
       "    </tr>\n",
       "  </tbody>\n",
       "</table>\n",
       "</div>"
      ],
      "text/plain": [
       "   total_images  last_price  total_area first_day_exposition  rooms  \\\n",
       "0            20  13000000.0      108.00           2019-03-07      3   \n",
       "1             7   3350000.0       40.40           2018-12-04      1   \n",
       "2            10   5196000.0       56.00           2015-08-20      2   \n",
       "3             0         NaN      159.00           2015-07-24      3   \n",
       "4             2  10000000.0      100.00           2018-06-19      2   \n",
       "5            10   2890000.0       30.40           2018-09-10      1   \n",
       "6             6   3700000.0       37.30           2017-11-02      1   \n",
       "7             5   7915000.0       71.60           2019-04-18      2   \n",
       "8            20   2900000.0       33.16           2018-05-23      1   \n",
       "9            18   5400000.0       61.00           2017-02-26      3   \n",
       "\n",
       "   ceiling_height  floors_total  living_area  floor  is_apartment  studio  \\\n",
       "0            2.70            16        51.00      8         False   False   \n",
       "1            2.75            11        18.60      1         False   False   \n",
       "2            2.55             5        34.30      4         False   False   \n",
       "3            2.60            14        45.00      9         False   False   \n",
       "4            3.03            14        32.00     13         False   False   \n",
       "5            2.65            12        14.40      5         False   False   \n",
       "6            2.66            26        10.60      6         False   False   \n",
       "7            2.75            24        30.50     22         False   False   \n",
       "8            2.70            27        15.43     26         False   False   \n",
       "9            2.50             9        43.60      7         False   False   \n",
       "\n",
       "   open_plan  kitchen_area  balcony      locality_name  airports_nearest  \\\n",
       "0      False         25.00        0    Санкт-Петербург           18863.0   \n",
       "1      False         11.00        2     поселок Шушары           12817.0   \n",
       "2      False          8.30        0    Санкт-Петербург           21741.0   \n",
       "3      False          9.50        0    Санкт-Петербург           28098.0   \n",
       "4      False         41.00        0    Санкт-Петербург           31856.0   \n",
       "5      False          9.10        0    поселок Янино-1               NaN   \n",
       "6      False         14.40        1  поселок Парголово           52996.0   \n",
       "7      False         18.90        2    Санкт-Петербург           23982.0   \n",
       "8      False          8.81        0     поселок Мурино               NaN   \n",
       "9      False          6.50        2    Санкт-Петербург           50898.0   \n",
       "\n",
       "   cityCenters_nearest  parks_around3000  parks_nearest  ponds_around3000  \\\n",
       "0              16028.0                 1              1                 2   \n",
       "1              18603.0                 0              0                 0   \n",
       "2              13933.0                 1              1                 2   \n",
       "3               6800.0                 2              2                 3   \n",
       "4               8098.0                 2              2                 1   \n",
       "5                  NaN                 0              0                 0   \n",
       "6              19143.0                 0              0                 0   \n",
       "7              11634.0                 0              0                 0   \n",
       "8                  NaN                 0              0                 0   \n",
       "9              15008.0                 0              0                 0   \n",
       "\n",
       "   ponds_nearest  days_exposition  price_per_meter  \n",
       "0              2              NaN    120370.370370  \n",
       "1              0             81.0     82920.792079  \n",
       "2              2            558.0     92785.714286  \n",
       "3              3            424.0              NaN  \n",
       "4              1            121.0    100000.000000  \n",
       "5              0             55.0     95065.789474  \n",
       "6              0            155.0     99195.710456  \n",
       "7              0              NaN    110544.692737  \n",
       "8              0            189.0     87454.764777  \n",
       "9              0            289.0     88524.590164  "
      ]
     },
     "execution_count": 36,
     "metadata": {},
     "output_type": "execute_result"
    }
   ],
   "source": [
    "#Добавим цены квадратного метра\n",
    "data['price_per_meter'] = data['last_price'] / data['total_area']\n",
    "data.head(10)"
   ]
  },
  {
   "cell_type": "code",
   "execution_count": 37,
   "metadata": {},
   "outputs": [],
   "source": [
    "#Функция метки дня недели\n",
    "def weekday_type(row):\n",
    "    if row['weekday']==0:\n",
    "        return 'понедельник'\n",
    "    if row['weekday']==1:\n",
    "        return 'вторник'\n",
    "    if row['weekday']==2:\n",
    "        return 'среда'\n",
    "    if row['weekday']==3:\n",
    "        return 'четверг'\n",
    "    if row['weekday']==4:\n",
    "        return 'пятница'\n",
    "    if row['weekday']==5:\n",
    "        return 'суббота'\n",
    "    if row['weekday']==6:\n",
    "        return 'воскресенье'\n",
    "    return \"Ошибка\""
   ]
  },
  {
   "cell_type": "code",
   "execution_count": 38,
   "metadata": {},
   "outputs": [],
   "source": [
    "#Функция метки для месяца\n",
    "def month_type(row):\n",
    "    if row['month']==1:\n",
    "        return \"Январь\"\n",
    "    if row['month']==2:\n",
    "        return \"Февраль\"\n",
    "    if row['month']==3:\n",
    "        return \"Март\"\n",
    "    if row['month']==4:\n",
    "        return \"Апрель\"\n",
    "    if row['month']==5:\n",
    "        return \"Май\"\n",
    "    if row['month']==6:\n",
    "        return \"Июнь\"\n",
    "    if row['month']==7:\n",
    "        return \"Июль\"\n",
    "    if row['month']==8:\n",
    "        return \"Август\"\n",
    "    if row['month']==9:\n",
    "        return \"Сентябрь\"\n",
    "    if row['month']==10:\n",
    "        return \"Октябрь\"\n",
    "    if row['month']==11:\n",
    "        return \"Ноябрь\"\n",
    "    if row['month']==12:\n",
    "        return \"Декабрь\"\n",
    "    return 'Ошибка'"
   ]
  },
  {
   "cell_type": "code",
   "execution_count": 39,
   "metadata": {},
   "outputs": [],
   "source": [
    "#день недели публикации объявления;\n",
    "data['weekday']=data['first_day_exposition'].dt.weekday\n",
    "data['weekday_name']=data.apply(weekday_type, axis=1)\n",
    "#месяц публикации объявления\n",
    "data['month']=data['first_day_exposition'].dt.month\n",
    "data['month_name']=data.apply(month_type, axis=1)\n",
    "#Год публикации объявления\n",
    "data['year']=data['first_day_exposition'].dt.year"
   ]
  },
  {
   "cell_type": "code",
   "execution_count": 40,
   "metadata": {
    "scrolled": true
   },
   "outputs": [
    {
     "data": {
      "text/html": [
       "<div>\n",
       "<style scoped>\n",
       "    .dataframe tbody tr th:only-of-type {\n",
       "        vertical-align: middle;\n",
       "    }\n",
       "\n",
       "    .dataframe tbody tr th {\n",
       "        vertical-align: top;\n",
       "    }\n",
       "\n",
       "    .dataframe thead th {\n",
       "        text-align: right;\n",
       "    }\n",
       "</style>\n",
       "<table border=\"1\" class=\"dataframe\">\n",
       "  <thead>\n",
       "    <tr style=\"text-align: right;\">\n",
       "      <th></th>\n",
       "      <th>total_images</th>\n",
       "      <th>last_price</th>\n",
       "      <th>total_area</th>\n",
       "      <th>first_day_exposition</th>\n",
       "      <th>rooms</th>\n",
       "      <th>ceiling_height</th>\n",
       "      <th>floors_total</th>\n",
       "      <th>living_area</th>\n",
       "      <th>floor</th>\n",
       "      <th>is_apartment</th>\n",
       "      <th>studio</th>\n",
       "      <th>open_plan</th>\n",
       "      <th>kitchen_area</th>\n",
       "      <th>balcony</th>\n",
       "      <th>locality_name</th>\n",
       "      <th>airports_nearest</th>\n",
       "      <th>cityCenters_nearest</th>\n",
       "      <th>parks_around3000</th>\n",
       "      <th>parks_nearest</th>\n",
       "      <th>ponds_around3000</th>\n",
       "      <th>ponds_nearest</th>\n",
       "      <th>days_exposition</th>\n",
       "      <th>price_per_meter</th>\n",
       "      <th>weekday</th>\n",
       "      <th>weekday_name</th>\n",
       "      <th>month</th>\n",
       "      <th>month_name</th>\n",
       "      <th>year</th>\n",
       "      <th>floor_id</th>\n",
       "    </tr>\n",
       "  </thead>\n",
       "  <tbody>\n",
       "    <tr>\n",
       "      <th>0</th>\n",
       "      <td>20</td>\n",
       "      <td>13000000.0</td>\n",
       "      <td>108.00</td>\n",
       "      <td>2019-03-07</td>\n",
       "      <td>3</td>\n",
       "      <td>2.70</td>\n",
       "      <td>16</td>\n",
       "      <td>51.00</td>\n",
       "      <td>8</td>\n",
       "      <td>False</td>\n",
       "      <td>False</td>\n",
       "      <td>False</td>\n",
       "      <td>25.00</td>\n",
       "      <td>0</td>\n",
       "      <td>Санкт-Петербург</td>\n",
       "      <td>18863.0</td>\n",
       "      <td>16028.0</td>\n",
       "      <td>1</td>\n",
       "      <td>1</td>\n",
       "      <td>2</td>\n",
       "      <td>2</td>\n",
       "      <td>NaN</td>\n",
       "      <td>120370.370370</td>\n",
       "      <td>3</td>\n",
       "      <td>четверг</td>\n",
       "      <td>3</td>\n",
       "      <td>Март</td>\n",
       "      <td>2019</td>\n",
       "      <td>другой</td>\n",
       "    </tr>\n",
       "    <tr>\n",
       "      <th>1</th>\n",
       "      <td>7</td>\n",
       "      <td>3350000.0</td>\n",
       "      <td>40.40</td>\n",
       "      <td>2018-12-04</td>\n",
       "      <td>1</td>\n",
       "      <td>2.75</td>\n",
       "      <td>11</td>\n",
       "      <td>18.60</td>\n",
       "      <td>1</td>\n",
       "      <td>False</td>\n",
       "      <td>False</td>\n",
       "      <td>False</td>\n",
       "      <td>11.00</td>\n",
       "      <td>2</td>\n",
       "      <td>поселок Шушары</td>\n",
       "      <td>12817.0</td>\n",
       "      <td>18603.0</td>\n",
       "      <td>0</td>\n",
       "      <td>0</td>\n",
       "      <td>0</td>\n",
       "      <td>0</td>\n",
       "      <td>81.0</td>\n",
       "      <td>82920.792079</td>\n",
       "      <td>1</td>\n",
       "      <td>вторник</td>\n",
       "      <td>12</td>\n",
       "      <td>Декабрь</td>\n",
       "      <td>2018</td>\n",
       "      <td>первый</td>\n",
       "    </tr>\n",
       "    <tr>\n",
       "      <th>2</th>\n",
       "      <td>10</td>\n",
       "      <td>5196000.0</td>\n",
       "      <td>56.00</td>\n",
       "      <td>2015-08-20</td>\n",
       "      <td>2</td>\n",
       "      <td>2.55</td>\n",
       "      <td>5</td>\n",
       "      <td>34.30</td>\n",
       "      <td>4</td>\n",
       "      <td>False</td>\n",
       "      <td>False</td>\n",
       "      <td>False</td>\n",
       "      <td>8.30</td>\n",
       "      <td>0</td>\n",
       "      <td>Санкт-Петербург</td>\n",
       "      <td>21741.0</td>\n",
       "      <td>13933.0</td>\n",
       "      <td>1</td>\n",
       "      <td>1</td>\n",
       "      <td>2</td>\n",
       "      <td>2</td>\n",
       "      <td>558.0</td>\n",
       "      <td>92785.714286</td>\n",
       "      <td>3</td>\n",
       "      <td>четверг</td>\n",
       "      <td>8</td>\n",
       "      <td>Август</td>\n",
       "      <td>2015</td>\n",
       "      <td>другой</td>\n",
       "    </tr>\n",
       "    <tr>\n",
       "      <th>3</th>\n",
       "      <td>0</td>\n",
       "      <td>NaN</td>\n",
       "      <td>159.00</td>\n",
       "      <td>2015-07-24</td>\n",
       "      <td>3</td>\n",
       "      <td>2.60</td>\n",
       "      <td>14</td>\n",
       "      <td>45.00</td>\n",
       "      <td>9</td>\n",
       "      <td>False</td>\n",
       "      <td>False</td>\n",
       "      <td>False</td>\n",
       "      <td>9.50</td>\n",
       "      <td>0</td>\n",
       "      <td>Санкт-Петербург</td>\n",
       "      <td>28098.0</td>\n",
       "      <td>6800.0</td>\n",
       "      <td>2</td>\n",
       "      <td>2</td>\n",
       "      <td>3</td>\n",
       "      <td>3</td>\n",
       "      <td>424.0</td>\n",
       "      <td>NaN</td>\n",
       "      <td>4</td>\n",
       "      <td>пятница</td>\n",
       "      <td>7</td>\n",
       "      <td>Июль</td>\n",
       "      <td>2015</td>\n",
       "      <td>другой</td>\n",
       "    </tr>\n",
       "    <tr>\n",
       "      <th>4</th>\n",
       "      <td>2</td>\n",
       "      <td>10000000.0</td>\n",
       "      <td>100.00</td>\n",
       "      <td>2018-06-19</td>\n",
       "      <td>2</td>\n",
       "      <td>3.03</td>\n",
       "      <td>14</td>\n",
       "      <td>32.00</td>\n",
       "      <td>13</td>\n",
       "      <td>False</td>\n",
       "      <td>False</td>\n",
       "      <td>False</td>\n",
       "      <td>41.00</td>\n",
       "      <td>0</td>\n",
       "      <td>Санкт-Петербург</td>\n",
       "      <td>31856.0</td>\n",
       "      <td>8098.0</td>\n",
       "      <td>2</td>\n",
       "      <td>2</td>\n",
       "      <td>1</td>\n",
       "      <td>1</td>\n",
       "      <td>121.0</td>\n",
       "      <td>100000.000000</td>\n",
       "      <td>1</td>\n",
       "      <td>вторник</td>\n",
       "      <td>6</td>\n",
       "      <td>Июнь</td>\n",
       "      <td>2018</td>\n",
       "      <td>другой</td>\n",
       "    </tr>\n",
       "    <tr>\n",
       "      <th>5</th>\n",
       "      <td>10</td>\n",
       "      <td>2890000.0</td>\n",
       "      <td>30.40</td>\n",
       "      <td>2018-09-10</td>\n",
       "      <td>1</td>\n",
       "      <td>2.65</td>\n",
       "      <td>12</td>\n",
       "      <td>14.40</td>\n",
       "      <td>5</td>\n",
       "      <td>False</td>\n",
       "      <td>False</td>\n",
       "      <td>False</td>\n",
       "      <td>9.10</td>\n",
       "      <td>0</td>\n",
       "      <td>поселок Янино-1</td>\n",
       "      <td>NaN</td>\n",
       "      <td>NaN</td>\n",
       "      <td>0</td>\n",
       "      <td>0</td>\n",
       "      <td>0</td>\n",
       "      <td>0</td>\n",
       "      <td>55.0</td>\n",
       "      <td>95065.789474</td>\n",
       "      <td>0</td>\n",
       "      <td>понедельник</td>\n",
       "      <td>9</td>\n",
       "      <td>Сентябрь</td>\n",
       "      <td>2018</td>\n",
       "      <td>другой</td>\n",
       "    </tr>\n",
       "    <tr>\n",
       "      <th>6</th>\n",
       "      <td>6</td>\n",
       "      <td>3700000.0</td>\n",
       "      <td>37.30</td>\n",
       "      <td>2017-11-02</td>\n",
       "      <td>1</td>\n",
       "      <td>2.66</td>\n",
       "      <td>26</td>\n",
       "      <td>10.60</td>\n",
       "      <td>6</td>\n",
       "      <td>False</td>\n",
       "      <td>False</td>\n",
       "      <td>False</td>\n",
       "      <td>14.40</td>\n",
       "      <td>1</td>\n",
       "      <td>поселок Парголово</td>\n",
       "      <td>52996.0</td>\n",
       "      <td>19143.0</td>\n",
       "      <td>0</td>\n",
       "      <td>0</td>\n",
       "      <td>0</td>\n",
       "      <td>0</td>\n",
       "      <td>155.0</td>\n",
       "      <td>99195.710456</td>\n",
       "      <td>3</td>\n",
       "      <td>четверг</td>\n",
       "      <td>11</td>\n",
       "      <td>Ноябрь</td>\n",
       "      <td>2017</td>\n",
       "      <td>другой</td>\n",
       "    </tr>\n",
       "    <tr>\n",
       "      <th>7</th>\n",
       "      <td>5</td>\n",
       "      <td>7915000.0</td>\n",
       "      <td>71.60</td>\n",
       "      <td>2019-04-18</td>\n",
       "      <td>2</td>\n",
       "      <td>2.75</td>\n",
       "      <td>24</td>\n",
       "      <td>30.50</td>\n",
       "      <td>22</td>\n",
       "      <td>False</td>\n",
       "      <td>False</td>\n",
       "      <td>False</td>\n",
       "      <td>18.90</td>\n",
       "      <td>2</td>\n",
       "      <td>Санкт-Петербург</td>\n",
       "      <td>23982.0</td>\n",
       "      <td>11634.0</td>\n",
       "      <td>0</td>\n",
       "      <td>0</td>\n",
       "      <td>0</td>\n",
       "      <td>0</td>\n",
       "      <td>NaN</td>\n",
       "      <td>110544.692737</td>\n",
       "      <td>3</td>\n",
       "      <td>четверг</td>\n",
       "      <td>4</td>\n",
       "      <td>Апрель</td>\n",
       "      <td>2019</td>\n",
       "      <td>другой</td>\n",
       "    </tr>\n",
       "    <tr>\n",
       "      <th>8</th>\n",
       "      <td>20</td>\n",
       "      <td>2900000.0</td>\n",
       "      <td>33.16</td>\n",
       "      <td>2018-05-23</td>\n",
       "      <td>1</td>\n",
       "      <td>2.70</td>\n",
       "      <td>27</td>\n",
       "      <td>15.43</td>\n",
       "      <td>26</td>\n",
       "      <td>False</td>\n",
       "      <td>False</td>\n",
       "      <td>False</td>\n",
       "      <td>8.81</td>\n",
       "      <td>0</td>\n",
       "      <td>поселок Мурино</td>\n",
       "      <td>NaN</td>\n",
       "      <td>NaN</td>\n",
       "      <td>0</td>\n",
       "      <td>0</td>\n",
       "      <td>0</td>\n",
       "      <td>0</td>\n",
       "      <td>189.0</td>\n",
       "      <td>87454.764777</td>\n",
       "      <td>2</td>\n",
       "      <td>среда</td>\n",
       "      <td>5</td>\n",
       "      <td>Май</td>\n",
       "      <td>2018</td>\n",
       "      <td>другой</td>\n",
       "    </tr>\n",
       "    <tr>\n",
       "      <th>9</th>\n",
       "      <td>18</td>\n",
       "      <td>5400000.0</td>\n",
       "      <td>61.00</td>\n",
       "      <td>2017-02-26</td>\n",
       "      <td>3</td>\n",
       "      <td>2.50</td>\n",
       "      <td>9</td>\n",
       "      <td>43.60</td>\n",
       "      <td>7</td>\n",
       "      <td>False</td>\n",
       "      <td>False</td>\n",
       "      <td>False</td>\n",
       "      <td>6.50</td>\n",
       "      <td>2</td>\n",
       "      <td>Санкт-Петербург</td>\n",
       "      <td>50898.0</td>\n",
       "      <td>15008.0</td>\n",
       "      <td>0</td>\n",
       "      <td>0</td>\n",
       "      <td>0</td>\n",
       "      <td>0</td>\n",
       "      <td>289.0</td>\n",
       "      <td>88524.590164</td>\n",
       "      <td>6</td>\n",
       "      <td>воскресенье</td>\n",
       "      <td>2</td>\n",
       "      <td>Февраль</td>\n",
       "      <td>2017</td>\n",
       "      <td>другой</td>\n",
       "    </tr>\n",
       "  </tbody>\n",
       "</table>\n",
       "</div>"
      ],
      "text/plain": [
       "   total_images  last_price  total_area first_day_exposition  rooms  \\\n",
       "0            20  13000000.0      108.00           2019-03-07      3   \n",
       "1             7   3350000.0       40.40           2018-12-04      1   \n",
       "2            10   5196000.0       56.00           2015-08-20      2   \n",
       "3             0         NaN      159.00           2015-07-24      3   \n",
       "4             2  10000000.0      100.00           2018-06-19      2   \n",
       "5            10   2890000.0       30.40           2018-09-10      1   \n",
       "6             6   3700000.0       37.30           2017-11-02      1   \n",
       "7             5   7915000.0       71.60           2019-04-18      2   \n",
       "8            20   2900000.0       33.16           2018-05-23      1   \n",
       "9            18   5400000.0       61.00           2017-02-26      3   \n",
       "\n",
       "   ceiling_height  floors_total  living_area  floor  is_apartment  studio  \\\n",
       "0            2.70            16        51.00      8         False   False   \n",
       "1            2.75            11        18.60      1         False   False   \n",
       "2            2.55             5        34.30      4         False   False   \n",
       "3            2.60            14        45.00      9         False   False   \n",
       "4            3.03            14        32.00     13         False   False   \n",
       "5            2.65            12        14.40      5         False   False   \n",
       "6            2.66            26        10.60      6         False   False   \n",
       "7            2.75            24        30.50     22         False   False   \n",
       "8            2.70            27        15.43     26         False   False   \n",
       "9            2.50             9        43.60      7         False   False   \n",
       "\n",
       "   open_plan  kitchen_area  balcony      locality_name  airports_nearest  \\\n",
       "0      False         25.00        0    Санкт-Петербург           18863.0   \n",
       "1      False         11.00        2     поселок Шушары           12817.0   \n",
       "2      False          8.30        0    Санкт-Петербург           21741.0   \n",
       "3      False          9.50        0    Санкт-Петербург           28098.0   \n",
       "4      False         41.00        0    Санкт-Петербург           31856.0   \n",
       "5      False          9.10        0    поселок Янино-1               NaN   \n",
       "6      False         14.40        1  поселок Парголово           52996.0   \n",
       "7      False         18.90        2    Санкт-Петербург           23982.0   \n",
       "8      False          8.81        0     поселок Мурино               NaN   \n",
       "9      False          6.50        2    Санкт-Петербург           50898.0   \n",
       "\n",
       "   cityCenters_nearest  parks_around3000  parks_nearest  ponds_around3000  \\\n",
       "0              16028.0                 1              1                 2   \n",
       "1              18603.0                 0              0                 0   \n",
       "2              13933.0                 1              1                 2   \n",
       "3               6800.0                 2              2                 3   \n",
       "4               8098.0                 2              2                 1   \n",
       "5                  NaN                 0              0                 0   \n",
       "6              19143.0                 0              0                 0   \n",
       "7              11634.0                 0              0                 0   \n",
       "8                  NaN                 0              0                 0   \n",
       "9              15008.0                 0              0                 0   \n",
       "\n",
       "   ponds_nearest  days_exposition  price_per_meter  weekday weekday_name  \\\n",
       "0              2              NaN    120370.370370        3      четверг   \n",
       "1              0             81.0     82920.792079        1      вторник   \n",
       "2              2            558.0     92785.714286        3      четверг   \n",
       "3              3            424.0              NaN        4      пятница   \n",
       "4              1            121.0    100000.000000        1      вторник   \n",
       "5              0             55.0     95065.789474        0  понедельник   \n",
       "6              0            155.0     99195.710456        3      четверг   \n",
       "7              0              NaN    110544.692737        3      четверг   \n",
       "8              0            189.0     87454.764777        2        среда   \n",
       "9              0            289.0     88524.590164        6  воскресенье   \n",
       "\n",
       "   month month_name  year floor_id  \n",
       "0      3       Март  2019   другой  \n",
       "1     12    Декабрь  2018   первый  \n",
       "2      8     Август  2015   другой  \n",
       "3      7       Июль  2015   другой  \n",
       "4      6       Июнь  2018   другой  \n",
       "5      9   Сентябрь  2018   другой  \n",
       "6     11     Ноябрь  2017   другой  \n",
       "7      4     Апрель  2019   другой  \n",
       "8      5        Май  2018   другой  \n",
       "9      2    Февраль  2017   другой  "
      ]
     },
     "execution_count": 40,
     "metadata": {},
     "output_type": "execute_result"
    }
   ],
   "source": [
    "#Добавим этаж квартиры; варианты — первый, последний, другой\n",
    "def floor(row):\n",
    "    if row['floor'] == 1:\n",
    "        return 'первый'\n",
    "    if row['floor'] == row['floors_total']:\n",
    "        return 'последний'\n",
    "    else:\n",
    "        return 'другой'\n",
    "data['floor_id'] = data.apply(floor, axis=1)\n",
    "data.head(10)"
   ]
  },
  {
   "cell_type": "code",
   "execution_count": 41,
   "metadata": {},
   "outputs": [
    {
     "name": "stdout",
     "output_type": "stream",
     "text": [
      "<class 'pandas.core.frame.DataFrame'>\n",
      "Int64Index: 23342 entries, 0 to 23698\n",
      "Data columns (total 29 columns):\n",
      " #   Column                Non-Null Count  Dtype         \n",
      "---  ------                --------------  -----         \n",
      " 0   total_images          23342 non-null  int64         \n",
      " 1   last_price            22363 non-null  float64       \n",
      " 2   total_area            22875 non-null  float64       \n",
      " 3   first_day_exposition  23342 non-null  datetime64[ns]\n",
      " 4   rooms                 23342 non-null  int64         \n",
      " 5   ceiling_height        23342 non-null  float64       \n",
      " 6   floors_total          23342 non-null  int64         \n",
      " 7   living_area           23342 non-null  float64       \n",
      " 8   floor                 23342 non-null  int64         \n",
      " 9   is_apartment          23342 non-null  bool          \n",
      " 10  studio                23342 non-null  bool          \n",
      " 11  open_plan             23342 non-null  bool          \n",
      " 12  kitchen_area          23342 non-null  float64       \n",
      " 13  balcony               23342 non-null  int64         \n",
      " 14  locality_name         23342 non-null  object        \n",
      " 15  airports_nearest      17904 non-null  float64       \n",
      " 16  cityCenters_nearest   17927 non-null  float64       \n",
      " 17  parks_around3000      23342 non-null  int64         \n",
      " 18  parks_nearest         23342 non-null  int64         \n",
      " 19  ponds_around3000      23342 non-null  int64         \n",
      " 20  ponds_nearest         23342 non-null  int64         \n",
      " 21  days_exposition       20191 non-null  float64       \n",
      " 22  price_per_meter       22278 non-null  float64       \n",
      " 23  weekday               23342 non-null  int64         \n",
      " 24  weekday_name          23342 non-null  object        \n",
      " 25  month                 23342 non-null  int64         \n",
      " 26  month_name            23342 non-null  object        \n",
      " 27  year                  23342 non-null  int64         \n",
      " 28  floor_id              23342 non-null  object        \n",
      "dtypes: bool(3), datetime64[ns](1), float64(9), int64(12), object(4)\n",
      "memory usage: 4.9+ MB\n"
     ]
    }
   ],
   "source": [
    "data.info()"
   ]
  },
  {
   "cell_type": "code",
   "execution_count": 42,
   "metadata": {},
   "outputs": [],
   "source": [
    "data['cityCenters_distance'] = (data['cityCenters_nearest']/1000).dropna().astype(int)\n",
    "#data.head(10)"
   ]
  },
  {
   "cell_type": "code",
   "execution_count": 43,
   "metadata": {},
   "outputs": [
    {
     "name": "stdout",
     "output_type": "stream",
     "text": [
      "<class 'pandas.core.frame.DataFrame'>\n",
      "Int64Index: 23342 entries, 0 to 23698\n",
      "Data columns (total 30 columns):\n",
      " #   Column                Non-Null Count  Dtype         \n",
      "---  ------                --------------  -----         \n",
      " 0   total_images          23342 non-null  int64         \n",
      " 1   last_price            22363 non-null  float64       \n",
      " 2   total_area            22875 non-null  float64       \n",
      " 3   first_day_exposition  23342 non-null  datetime64[ns]\n",
      " 4   rooms                 23342 non-null  int64         \n",
      " 5   ceiling_height        23342 non-null  float64       \n",
      " 6   floors_total          23342 non-null  int64         \n",
      " 7   living_area           23342 non-null  float64       \n",
      " 8   floor                 23342 non-null  int64         \n",
      " 9   is_apartment          23342 non-null  bool          \n",
      " 10  studio                23342 non-null  bool          \n",
      " 11  open_plan             23342 non-null  bool          \n",
      " 12  kitchen_area          23342 non-null  float64       \n",
      " 13  balcony               23342 non-null  int64         \n",
      " 14  locality_name         23342 non-null  object        \n",
      " 15  airports_nearest      17904 non-null  float64       \n",
      " 16  cityCenters_nearest   17927 non-null  float64       \n",
      " 17  parks_around3000      23342 non-null  int64         \n",
      " 18  parks_nearest         23342 non-null  int64         \n",
      " 19  ponds_around3000      23342 non-null  int64         \n",
      " 20  ponds_nearest         23342 non-null  int64         \n",
      " 21  days_exposition       20191 non-null  float64       \n",
      " 22  price_per_meter       22278 non-null  float64       \n",
      " 23  weekday               23342 non-null  int64         \n",
      " 24  weekday_name          23342 non-null  object        \n",
      " 25  month                 23342 non-null  int64         \n",
      " 26  month_name            23342 non-null  object        \n",
      " 27  year                  23342 non-null  int64         \n",
      " 28  floor_id              23342 non-null  object        \n",
      " 29  cityCenters_distance  17927 non-null  float64       \n",
      "dtypes: bool(3), datetime64[ns](1), float64(10), int64(12), object(4)\n",
      "memory usage: 5.1+ MB\n"
     ]
    }
   ],
   "source": [
    "data.info()"
   ]
  },
  {
   "cell_type": "markdown",
   "metadata": {},
   "source": [
    "#### В данном разделе рассчитаны и добавлены в исходную таблицу следующие столбцы:\n",
    "\n",
    "\n",
    "цена квадратного метра;\n",
    "день недели, месяц и год публикации объявления;\n",
    "варианты этажности квартиры — первый, последний, другой;\n",
    "соотношение жилой и общей площади;\n",
    "расстояние до центра города в метрах."
   ]
  },
  {
   "cell_type": "markdown",
   "metadata": {},
   "source": [
    "### Проведите исследовательский анализ данных\n"
   ]
  },
  {
   "cell_type": "markdown",
   "metadata": {},
   "source": [
    "#### Параметры объектов:"
   ]
  },
  {
   "cell_type": "code",
   "execution_count": 44,
   "metadata": {
    "scrolled": false
   },
   "outputs": [
    {
     "name": "stdout",
     "output_type": "stream",
     "text": [
      "#общая площадь count    22875.000000\n",
      "mean        57.167953\n",
      "std         23.648969\n",
      "min         12.000000\n",
      "25%         40.000000\n",
      "50%         51.600000\n",
      "75%         68.000000\n",
      "max        159.300000\n",
      "Name: total_area, dtype: float64\n"
     ]
    },
    {
     "data": {
      "image/png": "[encoded data removed]",
      "text/plain": [
       "<Figure size 432x216 with 1 Axes>"
      ]
     },
     "metadata": {
      "needs_background": "light"
     },
     "output_type": "display_data"
    }
   ],
   "source": [
    "#общая площадь\n",
    "data.plot(y = 'total_area', kind = 'hist', bins = 100, grid=True, figsize = (6,3), range = (0,500))\n",
    "print('#общая площадь',\n",
    "        data['total_area'].describe())"
   ]
  },
  {
   "cell_type": "code",
   "execution_count": 45,
   "metadata": {},
   "outputs": [
    {
     "name": "stdout",
     "output_type": "stream",
     "text": [
      "#жилая площадь count    23342.000000\n",
      "mean        34.455753\n",
      "std         21.765919\n",
      "min          2.000000\n",
      "25%         18.500000\n",
      "50%         30.500000\n",
      "75%         42.800000\n",
      "max        409.700000\n",
      "Name: living_area, dtype: float64\n"
     ]
    },
    {
     "data": {
      "image/png": "[encoded data removed]",
      "text/plain": [
       "<Figure size 432x216 with 1 Axes>"
      ]
     },
     "metadata": {
      "needs_background": "light"
     },
     "output_type": "display_data"
    }
   ],
   "source": [
    "#жилая площадь*\n",
    "data.plot(y = 'living_area', kind = 'hist', bins = 50, grid=True, figsize = (6,3), range = (2,410))\n",
    "print('#жилая площадь',\n",
    "        data['living_area'].describe())"
   ]
  },
  {
   "cell_type": "code",
   "execution_count": 46,
   "metadata": {},
   "outputs": [
    {
     "name": "stdout",
     "output_type": "stream",
     "text": [
      "#площадь кухни count    23342.000000\n",
      "mean        10.455407\n",
      "std          5.668013\n",
      "min          1.300000\n",
      "25%          7.300000\n",
      "50%          9.000000\n",
      "75%         11.500000\n",
      "max        112.000000\n",
      "Name: kitchen_area, dtype: float64\n"
     ]
    },
    {
     "data": {
      "image/png": "[encoded data removed]",
      "text/plain": [
       "<Figure size 432x216 with 1 Axes>"
      ]
     },
     "metadata": {
      "needs_background": "light"
     },
     "output_type": "display_data"
    }
   ],
   "source": [
    "#площадь кухни*\n",
    "data.plot(y = 'kitchen_area', kind = 'hist', bins = 100, grid=True, figsize = (6,3), range = (1,112))\n",
    "print('#площадь кухни',\n",
    "        data['kitchen_area'].describe())"
   ]
  },
  {
   "cell_type": "code",
   "execution_count": 47,
   "metadata": {},
   "outputs": [
    {
     "name": "stdout",
     "output_type": "stream",
     "text": [
      "#цена count    2.236300e+04\n",
      "mean     5.280518e+06\n",
      "std      2.898575e+06\n",
      "min      1.219000e+04\n",
      "25%      3.400000e+06\n",
      "50%      4.550000e+06\n",
      "75%      6.400000e+06\n",
      "max      1.683000e+07\n",
      "Name: last_price, dtype: float64\n"
     ]
    },
    {
     "data": {
      "image/png": "[encoded data removed]",
      "text/plain": [
       "<Figure size 432x216 with 1 Axes>"
      ]
     },
     "metadata": {
      "needs_background": "light"
     },
     "output_type": "display_data"
    }
   ],
   "source": [
    "#цена\n",
    "data.plot(y = 'last_price', kind = 'hist', bins = 100, grid=True, range = (0,15000000), figsize = (6,3))\n",
    "print('#цена',\n",
    "        data['last_price'].describe())"
   ]
  },
  {
   "cell_type": "code",
   "execution_count": 48,
   "metadata": {},
   "outputs": [
    {
     "name": "stdout",
     "output_type": "stream",
     "text": [
      "#число комнат count    23342.000000\n",
      "mean         1.760003\n",
      "std          0.906624\n",
      "min          0.000000\n",
      "25%          1.000000\n",
      "50%          2.000000\n",
      "75%          2.000000\n",
      "max          3.000000\n",
      "Name: rooms, dtype: float64\n"
     ]
    },
    {
     "data": {
      "image/png": "[encoded data removed]",
      "text/plain": [
       "<Figure size 432x216 with 1 Axes>"
      ]
     },
     "metadata": {
      "needs_background": "light"
     },
     "output_type": "display_data"
    }
   ],
   "source": [
    "#количество комнат\n",
    "data.plot(y = 'rooms', kind = 'hist',range=(0,19), bins = 16, grid=True, figsize = (6,3))\n",
    "print('#число комнат',\n",
    "       data['rooms'].describe())\n",
    "\n"
   ]
  },
  {
   "cell_type": "code",
   "execution_count": 49,
   "metadata": {},
   "outputs": [
    {
     "name": "stdout",
     "output_type": "stream",
     "text": [
      "#высота потолков count    23342.000000\n",
      "mean         2.708214\n",
      "std          0.245119\n",
      "min          2.000000\n",
      "25%          2.550000\n",
      "50%          2.650000\n",
      "75%          2.750000\n",
      "max          8.300000\n",
      "Name: ceiling_height, dtype: float64\n"
     ]
    },
    {
     "data": {
      "image/png": "[encoded data removed]",
      "text/plain": [
       "<Figure size 432x216 with 1 Axes>"
      ]
     },
     "metadata": {
      "needs_background": "light"
     },
     "output_type": "display_data"
    }
   ],
   "source": [
    "#высота потолков\n",
    "data.plot(y = 'ceiling_height', kind = 'hist', bins = 30, range = (2,5), grid=True, figsize = (6,3))\n",
    "print('#высота потолков',\n",
    "       data['ceiling_height'].describe())"
   ]
  },
  {
   "cell_type": "code",
   "execution_count": 50,
   "metadata": {},
   "outputs": [
    {
     "name": "stdout",
     "output_type": "stream",
     "text": [
      "#этаж квартиры count    23342.000000\n",
      "mean         5.854683\n",
      "std          4.846962\n",
      "min          1.000000\n",
      "25%          2.000000\n",
      "50%          4.000000\n",
      "75%          8.000000\n",
      "max         33.000000\n",
      "Name: floor, dtype: float64\n"
     ]
    },
    {
     "data": {
      "image/png": "[encoded data removed]",
      "text/plain": [
       "<Figure size 432x216 with 1 Axes>"
      ]
     },
     "metadata": {
      "needs_background": "light"
     },
     "output_type": "display_data"
    }
   ],
   "source": [
    "#этаж квартиры\n",
    "data.plot(y = 'floor', kind = 'hist',range=(1,33), bins = 33, grid=True, figsize = (6,3))\n",
    "print('#этаж квартиры',\n",
    "       data['floor'].describe())"
   ]
  },
  {
   "cell_type": "code",
   "execution_count": 51,
   "metadata": {},
   "outputs": [
    {
     "data": {
      "image/png": "[encoded data removed]",
      "text/plain": [
       "<Figure size 432x288 with 1 Axes>"
      ]
     },
     "metadata": {},
     "output_type": "display_data"
    },
    {
     "data": {
      "text/plain": [
       "count      23342\n",
       "unique         3\n",
       "top       другой\n",
       "freq       17138\n",
       "Name: floor_id, dtype: object"
      ]
     },
     "execution_count": 51,
     "metadata": {},
     "output_type": "execute_result"
    }
   ],
   "source": [
    "#тип этажа квартиры\n",
    "data['floor_id'].value_counts().plot(kind='pie')\n",
    "plt.show()\n",
    "data['floor_id'].describe()\n",
    "    "
   ]
  },
  {
   "cell_type": "code",
   "execution_count": 52,
   "metadata": {},
   "outputs": [
    {
     "name": "stdout",
     "output_type": "stream",
     "text": [
      "#floors_total count    23342.000000\n",
      "mean        10.623040\n",
      "std          6.560447\n",
      "min          1.000000\n",
      "25%          5.000000\n",
      "50%          9.000000\n",
      "75%         16.000000\n",
      "max         60.000000\n",
      "Name: floors_total, dtype: float64\n"
     ]
    },
    {
     "data": {
      "image/png": "[encoded data removed]",
      "text/plain": [
       "<Figure size 432x216 with 1 Axes>"
      ]
     },
     "metadata": {
      "needs_background": "light"
     },
     "output_type": "display_data"
    }
   ],
   "source": [
    "#общее количество этажей в доме*\n",
    "data.plot(y = 'floors_total', kind = 'hist',range=(1,60), bins = 34, grid=True, figsize = (6,3))\n",
    "print('#floors_total',\n",
    "       data['floors_total'].describe())"
   ]
  },
  {
   "cell_type": "code",
   "execution_count": 53,
   "metadata": {},
   "outputs": [
    {
     "name": "stdout",
     "output_type": "stream",
     "text": [
      "#расстояние до центра города в метрах count    17927.000000\n",
      "mean     14197.218832\n",
      "std       8630.388062\n",
      "min        181.000000\n",
      "25%       9236.000000\n",
      "50%      13090.000000\n",
      "75%      16285.000000\n",
      "max      65968.000000\n",
      "Name: cityCenters_nearest, dtype: float64\n"
     ]
    },
    {
     "data": {
      "image/png": "[encoded data removed]",
      "text/plain": [
       "<Figure size 432x216 with 1 Axes>"
      ]
     },
     "metadata": {
      "needs_background": "light"
     },
     "output_type": "display_data"
    }
   ],
   "source": [
    "#расстояние до центра города в метрах*;\n",
    "data.plot(y = 'cityCenters_nearest', kind = 'hist',range=(181,65968), bins = 100, grid=True, figsize = (6,3))\n",
    "print('#расстояние до центра города в метрах',\n",
    "       data['cityCenters_nearest'].describe())\n"
   ]
  },
  {
   "cell_type": "code",
   "execution_count": 54,
   "metadata": {},
   "outputs": [
    {
     "name": "stdout",
     "output_type": "stream",
     "text": [
      "#расстояние до ближайшего аэропорта count    17904.000000\n",
      "mean     28827.113438\n",
      "std      12628.444118\n",
      "min          0.000000\n",
      "25%      18582.000000\n",
      "50%      26770.000000\n",
      "75%      37294.000000\n",
      "max      84869.000000\n",
      "Name: airports_nearest, dtype: float64\n"
     ]
    },
    {
     "data": {
      "image/png": "[encoded data removed]",
      "text/plain": [
       "<Figure size 432x216 with 1 Axes>"
      ]
     },
     "metadata": {
      "needs_background": "light"
     },
     "output_type": "display_data"
    }
   ],
   "source": [
    "#расстояние до ближайшего аэропорта*\n",
    "data.plot(y = 'airports_nearest', kind = 'hist',range=(0,84869), bins = 100, grid=True, figsize = (6,3))\n",
    "print('#расстояние до ближайшего аэропорта',\n",
    "       data['airports_nearest'].describe())\n"
   ]
  },
  {
   "cell_type": "code",
   "execution_count": 55,
   "metadata": {
    "scrolled": true
   },
   "outputs": [
    {
     "name": "stdout",
     "output_type": "stream",
     "text": [
      "#расстояние до ближайшего парка count    23342.000000\n",
      "mean         0.471296\n",
      "std          0.749856\n",
      "min          0.000000\n",
      "25%          0.000000\n",
      "50%          0.000000\n",
      "75%          1.000000\n",
      "max          3.000000\n",
      "Name: parks_nearest, dtype: float64\n"
     ]
    },
    {
     "data": {
      "image/png": "[encoded data removed]",
      "text/plain": [
       "<Figure size 432x216 with 1 Axes>"
      ]
     },
     "metadata": {
      "needs_background": "light"
     },
     "output_type": "display_data"
    }
   ],
   "source": [
    "#расстояние до ближайшего парка*;\n",
    "data.plot(y = 'parks_nearest', kind = 'hist',range=(0,3), bins = 4, grid=True, figsize = (6,3))\n",
    "print('#расстояние до ближайшего парка',\n",
    "       data['parks_nearest'].describe())\n"
   ]
  },
  {
   "cell_type": "code",
   "execution_count": 56,
   "metadata": {},
   "outputs": [
    {
     "name": "stdout",
     "output_type": "stream",
     "text": [
      "#день публикации объявления count    23342.000000\n",
      "mean         2.566490\n",
      "std          1.789466\n",
      "min          0.000000\n",
      "25%          1.000000\n",
      "50%          3.000000\n",
      "75%          4.000000\n",
      "max          6.000000\n",
      "Name: weekday, dtype: float64\n"
     ]
    },
    {
     "data": {
      "image/png": "[encoded data removed]",
      "text/plain": [
       "<Figure size 432x216 with 1 Axes>"
      ]
     },
     "metadata": {
      "needs_background": "light"
     },
     "output_type": "display_data"
    }
   ],
   "source": [
    "#день публикации объявления*\n",
    "data.plot(y = 'weekday', kind = 'hist',range=(0,6), bins = 7, grid=True, figsize = (6,3))\n",
    "print('#день публикации объявления',\n",
    "       data['weekday'].describe())"
   ]
  },
  {
   "cell_type": "code",
   "execution_count": 57,
   "metadata": {
    "scrolled": true
   },
   "outputs": [
    {
     "name": "stdout",
     "output_type": "stream",
     "text": [
      "#месяц публикации объявления count    23342.00000\n",
      "mean         6.39641\n",
      "std          3.49207\n",
      "min          1.00000\n",
      "25%          3.00000\n",
      "50%          6.00000\n",
      "75%         10.00000\n",
      "max         12.00000\n",
      "Name: month, dtype: float64\n"
     ]
    },
    {
     "data": {
      "image/png": "[encoded data removed]",
      "text/plain": [
       "<Figure size 432x216 with 1 Axes>"
      ]
     },
     "metadata": {
      "needs_background": "light"
     },
     "output_type": "display_data"
    }
   ],
   "source": [
    "\n",
    "#месяц публикации объявления*\n",
    "data.plot(y = 'month', kind = 'hist',range=(1,12), bins = 12, grid=True, figsize = (6,3))\n",
    "print('#месяц публикации объявления',\n",
    "       data['month'].describe())\n"
   ]
  },
  {
   "cell_type": "code",
   "execution_count": 58,
   "metadata": {},
   "outputs": [
    {
     "name": "stdout",
     "output_type": "stream",
     "text": [
      "#время продаж count    23342.000000\n",
      "mean      2017.369591\n",
      "std          1.039401\n",
      "min       2014.000000\n",
      "25%       2017.000000\n",
      "50%       2017.000000\n",
      "75%       2018.000000\n",
      "max       2019.000000\n",
      "Name: year, dtype: float64\n"
     ]
    },
    {
     "data": {
      "image/png": "[encoded data removed]",
      "text/plain": [
       "<Figure size 432x216 with 1 Axes>"
      ]
     },
     "metadata": {
      "needs_background": "light"
     },
     "output_type": "display_data"
    }
   ],
   "source": [
    "data.plot(y = 'year', kind = 'hist', bins = 6, grid=True, figsize = (6,3))\n",
    "print('#время продаж',\n",
    "        data['year'].describe())\n",
    "\n"
   ]
  },
  {
   "cell_type": "markdown",
   "metadata": {},
   "source": [
    "##### Все графики напоминают собой распределение распределение Пуассона, кроме месяца публикации объявления и расстояния до ближайшего аэропорта.\n"
   ]
  },
  {
   "cell_type": "markdown",
   "metadata": {},
   "source": [
    "#### Как быстро продавались квартиры:"
   ]
  },
  {
   "cell_type": "code",
   "execution_count": 59,
   "metadata": {
    "scrolled": true
   },
   "outputs": [
    {
     "name": "stdout",
     "output_type": "stream",
     "text": [
      "#время продаж count    23342.000000\n",
      "mean      2017.369591\n",
      "std          1.039401\n",
      "min       2014.000000\n",
      "25%       2017.000000\n",
      "50%       2017.000000\n",
      "75%       2018.000000\n",
      "max       2019.000000\n",
      "Name: year, dtype: float64\n"
     ]
    },
    {
     "data": {
      "image/png": "[encoded data removed]",
      "text/plain": [
       "<Figure size 432x216 with 1 Axes>"
      ]
     },
     "metadata": {
      "needs_background": "light"
     },
     "output_type": "display_data"
    }
   ],
   "source": [
    "data.plot(y = 'year', kind = 'hist', bins = 30, grid=True, figsize = (6,3))\n",
    "print('#время продаж',\n",
    "       data['year'].describe())\n"
   ]
  },
  {
   "cell_type": "code",
   "execution_count": 60,
   "metadata": {
    "scrolled": false
   },
   "outputs": [
    {
     "name": "stdout",
     "output_type": "stream",
     "text": [
      "count    20191.000000\n",
      "mean       181.421772\n",
      "std        220.160168\n",
      "min          1.000000\n",
      "25%         45.000000\n",
      "50%         96.000000\n",
      "75%        232.000000\n",
      "max       1580.000000\n",
      "Name: days_exposition, dtype: float64\n",
      "медиана 96.0\n",
      "выбивающиеся значения 45.0      868\n",
      "60.0      534\n",
      "7.0       227\n",
      "30.0      202\n",
      "90.0      199\n",
      "         ... \n",
      "969.0       1\n",
      "1.0         1\n",
      "1147.0      1\n",
      "1148.0      1\n",
      "1174.0      1\n",
      "Name: days_exposition, Length: 1139, dtype: int64\n"
     ]
    },
    {
     "data": {
      "image/png": "[encoded data removed]",
      "text/plain": [
       "<Figure size 432x288 with 1 Axes>"
      ]
     },
     "metadata": {
      "needs_background": "light"
     },
     "output_type": "display_data"
    },
    {
     "data": {
      "image/png": "[encoded data removed]",
      "text/plain": [
       "<Figure size 432x288 with 1 Axes>"
      ]
     },
     "metadata": {
      "needs_background": "light"
     },
     "output_type": "display_data"
    }
   ],
   "source": [
    "#диаграмма размаха\n",
    "import matplotlib.pyplot as plt\n",
    "\n",
    "data.plot(y = 'days_exposition', kind = 'hist', bins = 30, grid = True, range = (1,1600))\n",
    "data.plot(y = 'days_exposition', kind = 'hist', bins = 100, grid = True, range = (1,231))\n",
    "\n",
    "print(data[data['days_exposition']!=0]['days_exposition'].describe()) #среднее значение + квартили\n",
    "print('медиана',\n",
    "        data[data['days_exposition']!=0]['days_exposition'].median()) #медиана\n",
    "print('выбивающиеся значения',\n",
    "        data[data['days_exposition']!=0]['days_exposition'].value_counts())"
   ]
  },
  {
   "cell_type": "code",
   "execution_count": 61,
   "metadata": {},
   "outputs": [
    {
     "name": "stdout",
     "output_type": "stream",
     "text": [
      "7.4029646131436895\n"
     ]
    }
   ],
   "source": [
    "print(len(data.query('days_exposition > 500'))/len(data)*100)\n"
   ]
  },
  {
   "cell_type": "code",
   "execution_count": 62,
   "metadata": {},
   "outputs": [
    {
     "data": {
      "text/html": [
       "<div>\n",
       "<style scoped>\n",
       "    .dataframe tbody tr th:only-of-type {\n",
       "        vertical-align: middle;\n",
       "    }\n",
       "\n",
       "    .dataframe tbody tr th {\n",
       "        vertical-align: top;\n",
       "    }\n",
       "\n",
       "    .dataframe thead th {\n",
       "        text-align: right;\n",
       "    }\n",
       "</style>\n",
       "<table border=\"1\" class=\"dataframe\">\n",
       "  <thead>\n",
       "    <tr style=\"text-align: right;\">\n",
       "      <th></th>\n",
       "      <th>total_images</th>\n",
       "      <th>last_price</th>\n",
       "      <th>total_area</th>\n",
       "      <th>first_day_exposition</th>\n",
       "      <th>rooms</th>\n",
       "      <th>ceiling_height</th>\n",
       "      <th>floors_total</th>\n",
       "      <th>living_area</th>\n",
       "      <th>floor</th>\n",
       "      <th>is_apartment</th>\n",
       "      <th>studio</th>\n",
       "      <th>open_plan</th>\n",
       "      <th>kitchen_area</th>\n",
       "      <th>balcony</th>\n",
       "      <th>locality_name</th>\n",
       "      <th>airports_nearest</th>\n",
       "      <th>cityCenters_nearest</th>\n",
       "      <th>parks_around3000</th>\n",
       "      <th>parks_nearest</th>\n",
       "      <th>ponds_around3000</th>\n",
       "      <th>ponds_nearest</th>\n",
       "      <th>days_exposition</th>\n",
       "      <th>price_per_meter</th>\n",
       "      <th>weekday</th>\n",
       "      <th>weekday_name</th>\n",
       "      <th>month</th>\n",
       "      <th>month_name</th>\n",
       "      <th>year</th>\n",
       "      <th>floor_id</th>\n",
       "      <th>cityCenters_distance</th>\n",
       "    </tr>\n",
       "  </thead>\n",
       "  <tbody>\n",
       "    <tr>\n",
       "      <th>0</th>\n",
       "      <td>7</td>\n",
       "      <td>3350000.0</td>\n",
       "      <td>40.4</td>\n",
       "      <td>2018-12-04</td>\n",
       "      <td>1</td>\n",
       "      <td>2.75</td>\n",
       "      <td>11</td>\n",
       "      <td>18.6</td>\n",
       "      <td>1</td>\n",
       "      <td>False</td>\n",
       "      <td>False</td>\n",
       "      <td>False</td>\n",
       "      <td>11.0</td>\n",
       "      <td>2</td>\n",
       "      <td>поселок Шушары</td>\n",
       "      <td>12817.0</td>\n",
       "      <td>18603.0</td>\n",
       "      <td>0</td>\n",
       "      <td>0</td>\n",
       "      <td>0</td>\n",
       "      <td>0</td>\n",
       "      <td>81.0</td>\n",
       "      <td>82920.792079</td>\n",
       "      <td>1</td>\n",
       "      <td>вторник</td>\n",
       "      <td>12</td>\n",
       "      <td>Декабрь</td>\n",
       "      <td>2018</td>\n",
       "      <td>первый</td>\n",
       "      <td>18.0</td>\n",
       "    </tr>\n",
       "    <tr>\n",
       "      <th>1</th>\n",
       "      <td>0</td>\n",
       "      <td>NaN</td>\n",
       "      <td>159.0</td>\n",
       "      <td>2015-07-24</td>\n",
       "      <td>3</td>\n",
       "      <td>2.60</td>\n",
       "      <td>14</td>\n",
       "      <td>45.0</td>\n",
       "      <td>9</td>\n",
       "      <td>False</td>\n",
       "      <td>False</td>\n",
       "      <td>False</td>\n",
       "      <td>9.5</td>\n",
       "      <td>0</td>\n",
       "      <td>Санкт-Петербург</td>\n",
       "      <td>28098.0</td>\n",
       "      <td>6800.0</td>\n",
       "      <td>2</td>\n",
       "      <td>2</td>\n",
       "      <td>3</td>\n",
       "      <td>3</td>\n",
       "      <td>424.0</td>\n",
       "      <td>NaN</td>\n",
       "      <td>4</td>\n",
       "      <td>пятница</td>\n",
       "      <td>7</td>\n",
       "      <td>Июль</td>\n",
       "      <td>2015</td>\n",
       "      <td>другой</td>\n",
       "      <td>6.0</td>\n",
       "    </tr>\n",
       "    <tr>\n",
       "      <th>2</th>\n",
       "      <td>2</td>\n",
       "      <td>10000000.0</td>\n",
       "      <td>100.0</td>\n",
       "      <td>2018-06-19</td>\n",
       "      <td>2</td>\n",
       "      <td>3.03</td>\n",
       "      <td>14</td>\n",
       "      <td>32.0</td>\n",
       "      <td>13</td>\n",
       "      <td>False</td>\n",
       "      <td>False</td>\n",
       "      <td>False</td>\n",
       "      <td>41.0</td>\n",
       "      <td>0</td>\n",
       "      <td>Санкт-Петербург</td>\n",
       "      <td>31856.0</td>\n",
       "      <td>8098.0</td>\n",
       "      <td>2</td>\n",
       "      <td>2</td>\n",
       "      <td>1</td>\n",
       "      <td>1</td>\n",
       "      <td>121.0</td>\n",
       "      <td>100000.000000</td>\n",
       "      <td>1</td>\n",
       "      <td>вторник</td>\n",
       "      <td>6</td>\n",
       "      <td>Июнь</td>\n",
       "      <td>2018</td>\n",
       "      <td>другой</td>\n",
       "      <td>8.0</td>\n",
       "    </tr>\n",
       "    <tr>\n",
       "      <th>3</th>\n",
       "      <td>10</td>\n",
       "      <td>2890000.0</td>\n",
       "      <td>30.4</td>\n",
       "      <td>2018-09-10</td>\n",
       "      <td>1</td>\n",
       "      <td>2.65</td>\n",
       "      <td>12</td>\n",
       "      <td>14.4</td>\n",
       "      <td>5</td>\n",
       "      <td>False</td>\n",
       "      <td>False</td>\n",
       "      <td>False</td>\n",
       "      <td>9.1</td>\n",
       "      <td>0</td>\n",
       "      <td>поселок Янино-1</td>\n",
       "      <td>NaN</td>\n",
       "      <td>NaN</td>\n",
       "      <td>0</td>\n",
       "      <td>0</td>\n",
       "      <td>0</td>\n",
       "      <td>0</td>\n",
       "      <td>55.0</td>\n",
       "      <td>95065.789474</td>\n",
       "      <td>0</td>\n",
       "      <td>понедельник</td>\n",
       "      <td>9</td>\n",
       "      <td>Сентябрь</td>\n",
       "      <td>2018</td>\n",
       "      <td>другой</td>\n",
       "      <td>NaN</td>\n",
       "    </tr>\n",
       "    <tr>\n",
       "      <th>4</th>\n",
       "      <td>6</td>\n",
       "      <td>3700000.0</td>\n",
       "      <td>37.3</td>\n",
       "      <td>2017-11-02</td>\n",
       "      <td>1</td>\n",
       "      <td>2.66</td>\n",
       "      <td>26</td>\n",
       "      <td>10.6</td>\n",
       "      <td>6</td>\n",
       "      <td>False</td>\n",
       "      <td>False</td>\n",
       "      <td>False</td>\n",
       "      <td>14.4</td>\n",
       "      <td>1</td>\n",
       "      <td>поселок Парголово</td>\n",
       "      <td>52996.0</td>\n",
       "      <td>19143.0</td>\n",
       "      <td>0</td>\n",
       "      <td>0</td>\n",
       "      <td>0</td>\n",
       "      <td>0</td>\n",
       "      <td>155.0</td>\n",
       "      <td>99195.710456</td>\n",
       "      <td>3</td>\n",
       "      <td>четверг</td>\n",
       "      <td>11</td>\n",
       "      <td>Ноябрь</td>\n",
       "      <td>2017</td>\n",
       "      <td>другой</td>\n",
       "      <td>19.0</td>\n",
       "    </tr>\n",
       "    <tr>\n",
       "      <th>...</th>\n",
       "      <td>...</td>\n",
       "      <td>...</td>\n",
       "      <td>...</td>\n",
       "      <td>...</td>\n",
       "      <td>...</td>\n",
       "      <td>...</td>\n",
       "      <td>...</td>\n",
       "      <td>...</td>\n",
       "      <td>...</td>\n",
       "      <td>...</td>\n",
       "      <td>...</td>\n",
       "      <td>...</td>\n",
       "      <td>...</td>\n",
       "      <td>...</td>\n",
       "      <td>...</td>\n",
       "      <td>...</td>\n",
       "      <td>...</td>\n",
       "      <td>...</td>\n",
       "      <td>...</td>\n",
       "      <td>...</td>\n",
       "      <td>...</td>\n",
       "      <td>...</td>\n",
       "      <td>...</td>\n",
       "      <td>...</td>\n",
       "      <td>...</td>\n",
       "      <td>...</td>\n",
       "      <td>...</td>\n",
       "      <td>...</td>\n",
       "      <td>...</td>\n",
       "      <td>...</td>\n",
       "    </tr>\n",
       "    <tr>\n",
       "      <th>18453</th>\n",
       "      <td>13</td>\n",
       "      <td>3550000.0</td>\n",
       "      <td>35.3</td>\n",
       "      <td>2018-02-28</td>\n",
       "      <td>1</td>\n",
       "      <td>2.86</td>\n",
       "      <td>15</td>\n",
       "      <td>16.3</td>\n",
       "      <td>4</td>\n",
       "      <td>False</td>\n",
       "      <td>False</td>\n",
       "      <td>False</td>\n",
       "      <td>9.1</td>\n",
       "      <td>2</td>\n",
       "      <td>Санкт-Петербург</td>\n",
       "      <td>17284.0</td>\n",
       "      <td>16081.0</td>\n",
       "      <td>1</td>\n",
       "      <td>1</td>\n",
       "      <td>2</td>\n",
       "      <td>2</td>\n",
       "      <td>29.0</td>\n",
       "      <td>100566.572238</td>\n",
       "      <td>2</td>\n",
       "      <td>среда</td>\n",
       "      <td>2</td>\n",
       "      <td>Февраль</td>\n",
       "      <td>2018</td>\n",
       "      <td>другой</td>\n",
       "      <td>16.0</td>\n",
       "    </tr>\n",
       "    <tr>\n",
       "      <th>18454</th>\n",
       "      <td>3</td>\n",
       "      <td>5500000.0</td>\n",
       "      <td>52.0</td>\n",
       "      <td>2018-07-19</td>\n",
       "      <td>2</td>\n",
       "      <td>2.55</td>\n",
       "      <td>5</td>\n",
       "      <td>31.0</td>\n",
       "      <td>2</td>\n",
       "      <td>False</td>\n",
       "      <td>False</td>\n",
       "      <td>False</td>\n",
       "      <td>6.0</td>\n",
       "      <td>0</td>\n",
       "      <td>Санкт-Петербург</td>\n",
       "      <td>20151.0</td>\n",
       "      <td>6263.0</td>\n",
       "      <td>1</td>\n",
       "      <td>1</td>\n",
       "      <td>0</td>\n",
       "      <td>0</td>\n",
       "      <td>15.0</td>\n",
       "      <td>105769.230769</td>\n",
       "      <td>3</td>\n",
       "      <td>четверг</td>\n",
       "      <td>7</td>\n",
       "      <td>Июль</td>\n",
       "      <td>2018</td>\n",
       "      <td>другой</td>\n",
       "      <td>6.0</td>\n",
       "    </tr>\n",
       "    <tr>\n",
       "      <th>18455</th>\n",
       "      <td>2</td>\n",
       "      <td>1350000.0</td>\n",
       "      <td>30.0</td>\n",
       "      <td>2017-07-07</td>\n",
       "      <td>1</td>\n",
       "      <td>2.55</td>\n",
       "      <td>5</td>\n",
       "      <td>17.5</td>\n",
       "      <td>4</td>\n",
       "      <td>False</td>\n",
       "      <td>False</td>\n",
       "      <td>False</td>\n",
       "      <td>6.0</td>\n",
       "      <td>0</td>\n",
       "      <td>Тихвин</td>\n",
       "      <td>NaN</td>\n",
       "      <td>NaN</td>\n",
       "      <td>0</td>\n",
       "      <td>0</td>\n",
       "      <td>0</td>\n",
       "      <td>0</td>\n",
       "      <td>413.0</td>\n",
       "      <td>45000.000000</td>\n",
       "      <td>4</td>\n",
       "      <td>пятница</td>\n",
       "      <td>7</td>\n",
       "      <td>Июль</td>\n",
       "      <td>2017</td>\n",
       "      <td>другой</td>\n",
       "      <td>NaN</td>\n",
       "    </tr>\n",
       "    <tr>\n",
       "      <th>18456</th>\n",
       "      <td>9</td>\n",
       "      <td>4600000.0</td>\n",
       "      <td>62.4</td>\n",
       "      <td>2016-08-05</td>\n",
       "      <td>3</td>\n",
       "      <td>2.60</td>\n",
       "      <td>9</td>\n",
       "      <td>40.0</td>\n",
       "      <td>8</td>\n",
       "      <td>False</td>\n",
       "      <td>False</td>\n",
       "      <td>False</td>\n",
       "      <td>8.0</td>\n",
       "      <td>0</td>\n",
       "      <td>Петергоф</td>\n",
       "      <td>45602.0</td>\n",
       "      <td>34104.0</td>\n",
       "      <td>1</td>\n",
       "      <td>1</td>\n",
       "      <td>1</td>\n",
       "      <td>1</td>\n",
       "      <td>239.0</td>\n",
       "      <td>73717.948718</td>\n",
       "      <td>4</td>\n",
       "      <td>пятница</td>\n",
       "      <td>8</td>\n",
       "      <td>Август</td>\n",
       "      <td>2016</td>\n",
       "      <td>другой</td>\n",
       "      <td>34.0</td>\n",
       "    </tr>\n",
       "    <tr>\n",
       "      <th>18457</th>\n",
       "      <td>14</td>\n",
       "      <td>3100000.0</td>\n",
       "      <td>59.0</td>\n",
       "      <td>2018-01-15</td>\n",
       "      <td>3</td>\n",
       "      <td>2.55</td>\n",
       "      <td>5</td>\n",
       "      <td>38.0</td>\n",
       "      <td>4</td>\n",
       "      <td>False</td>\n",
       "      <td>False</td>\n",
       "      <td>False</td>\n",
       "      <td>8.5</td>\n",
       "      <td>0</td>\n",
       "      <td>Тосно</td>\n",
       "      <td>NaN</td>\n",
       "      <td>NaN</td>\n",
       "      <td>0</td>\n",
       "      <td>0</td>\n",
       "      <td>0</td>\n",
       "      <td>0</td>\n",
       "      <td>45.0</td>\n",
       "      <td>52542.372881</td>\n",
       "      <td>0</td>\n",
       "      <td>понедельник</td>\n",
       "      <td>1</td>\n",
       "      <td>Январь</td>\n",
       "      <td>2018</td>\n",
       "      <td>другой</td>\n",
       "      <td>NaN</td>\n",
       "    </tr>\n",
       "  </tbody>\n",
       "</table>\n",
       "<p>18458 rows × 30 columns</p>\n",
       "</div>"
      ],
      "text/plain": [
       "       total_images  last_price  total_area first_day_exposition  rooms  \\\n",
       "0                 7   3350000.0        40.4           2018-12-04      1   \n",
       "1                 0         NaN       159.0           2015-07-24      3   \n",
       "2                 2  10000000.0       100.0           2018-06-19      2   \n",
       "3                10   2890000.0        30.4           2018-09-10      1   \n",
       "4                 6   3700000.0        37.3           2017-11-02      1   \n",
       "...             ...         ...         ...                  ...    ...   \n",
       "18453            13   3550000.0        35.3           2018-02-28      1   \n",
       "18454             3   5500000.0        52.0           2018-07-19      2   \n",
       "18455             2   1350000.0        30.0           2017-07-07      1   \n",
       "18456             9   4600000.0        62.4           2016-08-05      3   \n",
       "18457            14   3100000.0        59.0           2018-01-15      3   \n",
       "\n",
       "       ceiling_height  floors_total  living_area  floor  is_apartment  studio  \\\n",
       "0                2.75            11         18.6      1         False   False   \n",
       "1                2.60            14         45.0      9         False   False   \n",
       "2                3.03            14         32.0     13         False   False   \n",
       "3                2.65            12         14.4      5         False   False   \n",
       "4                2.66            26         10.6      6         False   False   \n",
       "...               ...           ...          ...    ...           ...     ...   \n",
       "18453            2.86            15         16.3      4         False   False   \n",
       "18454            2.55             5         31.0      2         False   False   \n",
       "18455            2.55             5         17.5      4         False   False   \n",
       "18456            2.60             9         40.0      8         False   False   \n",
       "18457            2.55             5         38.0      4         False   False   \n",
       "\n",
       "       open_plan  kitchen_area  balcony      locality_name  airports_nearest  \\\n",
       "0          False          11.0        2     поселок Шушары           12817.0   \n",
       "1          False           9.5        0    Санкт-Петербург           28098.0   \n",
       "2          False          41.0        0    Санкт-Петербург           31856.0   \n",
       "3          False           9.1        0    поселок Янино-1               NaN   \n",
       "4          False          14.4        1  поселок Парголово           52996.0   \n",
       "...          ...           ...      ...                ...               ...   \n",
       "18453      False           9.1        2    Санкт-Петербург           17284.0   \n",
       "18454      False           6.0        0    Санкт-Петербург           20151.0   \n",
       "18455      False           6.0        0             Тихвин               NaN   \n",
       "18456      False           8.0        0           Петергоф           45602.0   \n",
       "18457      False           8.5        0              Тосно               NaN   \n",
       "\n",
       "       cityCenters_nearest  parks_around3000  parks_nearest  ponds_around3000  \\\n",
       "0                  18603.0                 0              0                 0   \n",
       "1                   6800.0                 2              2                 3   \n",
       "2                   8098.0                 2              2                 1   \n",
       "3                      NaN                 0              0                 0   \n",
       "4                  19143.0                 0              0                 0   \n",
       "...                    ...               ...            ...               ...   \n",
       "18453              16081.0                 1              1                 2   \n",
       "18454               6263.0                 1              1                 0   \n",
       "18455                  NaN                 0              0                 0   \n",
       "18456              34104.0                 1              1                 1   \n",
       "18457                  NaN                 0              0                 0   \n",
       "\n",
       "       ponds_nearest  days_exposition  price_per_meter  weekday weekday_name  \\\n",
       "0                  0             81.0     82920.792079        1      вторник   \n",
       "1                  3            424.0              NaN        4      пятница   \n",
       "2                  1            121.0    100000.000000        1      вторник   \n",
       "3                  0             55.0     95065.789474        0  понедельник   \n",
       "4                  0            155.0     99195.710456        3      четверг   \n",
       "...              ...              ...              ...      ...          ...   \n",
       "18453              2             29.0    100566.572238        2        среда   \n",
       "18454              0             15.0    105769.230769        3      четверг   \n",
       "18455              0            413.0     45000.000000        4      пятница   \n",
       "18456              1            239.0     73717.948718        4      пятница   \n",
       "18457              0             45.0     52542.372881        0  понедельник   \n",
       "\n",
       "       month month_name  year floor_id  cityCenters_distance  \n",
       "0         12    Декабрь  2018   первый                  18.0  \n",
       "1          7       Июль  2015   другой                   6.0  \n",
       "2          6       Июнь  2018   другой                   8.0  \n",
       "3          9   Сентябрь  2018   другой                   NaN  \n",
       "4         11     Ноябрь  2017   другой                  19.0  \n",
       "...      ...        ...   ...      ...                   ...  \n",
       "18453      2    Февраль  2018   другой                  16.0  \n",
       "18454      7       Июль  2018   другой                   6.0  \n",
       "18455      7       Июль  2017   другой                   NaN  \n",
       "18456      8     Август  2016   другой                  34.0  \n",
       "18457      1     Январь  2018   другой                   NaN  \n",
       "\n",
       "[18458 rows x 30 columns]"
      ]
     },
     "execution_count": 62,
     "metadata": {},
     "output_type": "execute_result"
    }
   ],
   "source": [
    "data = data[data['days_exposition'] < 500] #оставляем в датасете строки, где кол-во дней публикации <500\n",
    "data = data.reset_index(drop=True) #обновляем индексы, чтобы они шли по порядку\n",
    "data #проверка"
   ]
  },
  {
   "cell_type": "markdown",
   "metadata": {},
   "source": [
    "#### На данных графиках видно, что распределение равномерное, с редкими выбросами. \n",
    "Среднее значение равняется 122,61 дням(123 дня), а медиана равна 95 дням. \n",
    "Выявлены выбивающиеся значения и методом value_counts подтверждаем это - аномалии находятся на 45, 60, 7  и 30 днях. \n",
    "Данные аномалии связаны с тем, что сроки публикации на яндексе соответсвуют этим дням.\n",
    "Аренда комнаты - 7 дней,Аренда квартиры: до 20 тыс/м — 7 дней, Аренда комнаты, участка или гаража - 30 дней Продажа квартиры: до 4,5 млн — 45 дней, Продажа комнаты - 45 дней, Аренда и продажа коммерческого объекта - 60 дней  от 4,5 до 10 млн — 60 дней, Аренда посуточная: Квартира, Комната, Дом / участок, Гараж - 60 дней.\n",
    "Когда можно считать, что продажи прошли очень быстро, а когда необычно долго?\n",
    "Публикации снятые в первый день - являются быстрыми, те, что держатся 500 дней и дольше - необычно долго. \n",
    "Можно убрать значения, где квартиры продаются  500 дней и дольше.\n"
   ]
  },
  {
   "cell_type": "markdown",
   "metadata": {},
   "source": [
    "#### Какие факторы больше всего влияют на общую (полную) стоимость объекта:"
   ]
  },
  {
   "cell_type": "code",
   "execution_count": 63,
   "metadata": {
    "scrolled": true
   },
   "outputs": [
    {
     "name": "stdout",
     "output_type": "stream",
     "text": [
      "                    mean  count     median\n",
      "total_area                                \n",
      "95.0        9.447956e+06     44  9649500.0\n",
      "90.0        9.013709e+06     55  8600000.0\n",
      "85.0        9.015031e+06     59  8600000.0\n",
      "77.0        8.113826e+06     46  7500000.0\n",
      "79.0        7.232397e+06     49  7200000.0\n",
      "80.0        7.446512e+06    120  7150000.0\n",
      "78.0        7.502286e+06     62  7025000.0\n",
      "70.0        7.195402e+06    151  6900000.0\n",
      "75.0        7.321029e+06     97  6800000.0\n",
      "82.0        7.195946e+06     43  6650000.0\n",
      "76.0        7.017311e+06     61  6525000.0\n",
      "71.0        6.456929e+06     56  6500000.0\n",
      "72.0        6.504848e+06    140  6472500.0\n",
      "69.0        6.553879e+06     66  6375000.0\n",
      "67.0        6.061513e+06     97  6300000.0\n",
      "68.0        6.517791e+06     87  6200000.0\n",
      "66.0        6.062397e+06     74  6200000.0\n",
      "73.0        6.086378e+06     68  6000000.0\n",
      "65.0        5.956619e+06    118  5892000.0\n",
      "64.0        5.889592e+06    103  5850000.0\n",
      "74.0        5.864112e+06     98  5675000.0\n",
      "63.0        5.567224e+06    125  5390000.0\n",
      "62.0        5.513901e+06    159  5300000.0\n",
      "60.0        5.371182e+06    269  5150000.0\n",
      "57.0        5.107880e+06    171  5100000.0\n",
      "61.0        5.024144e+06    117  4999999.0\n",
      "52.0        4.655038e+06    172  4950000.0\n",
      "59.0        5.106296e+06    127  4950000.0\n",
      "58.0        4.928200e+06    180  4900000.0\n",
      "55.0        4.869486e+06    180  4900000.0\n",
      "56.0        4.710596e+06    136  4715000.0\n",
      "51.0        4.685950e+06    137  4650000.0\n",
      "54.0        4.496207e+06    179  4650000.0\n",
      "50.0        4.809307e+06    227  4600000.0\n",
      "53.0        4.336024e+06    138  4500000.0\n",
      "49.0        4.487791e+06    115  4350000.0\n",
      "44.5        4.085456e+06     53  4300000.0\n",
      "47.0        4.164312e+06    160  4175000.0\n",
      "48.0        4.096948e+06    159  4100000.0\n",
      "45.0        3.960815e+06    362  4000000.0\n",
      "46.0        3.992227e+06    238  3920000.0\n",
      "39.0        3.915466e+06    174  3900000.0\n",
      "40.0        3.794749e+06    263  3900000.0\n",
      "42.0        3.842286e+06    309  3850000.0\n",
      "38.0        3.877611e+06    199  3850000.0\n",
      "43.0        3.848164e+06    262  3850000.0\n",
      "41.0        3.765846e+06    194  3815000.0\n",
      "44.0        3.689526e+06    293  3800000.0\n",
      "37.0        3.435792e+06    180  3585000.0\n",
      "35.0        3.370550e+06    210  3500000.0\n",
      "36.0        3.371976e+06    233  3400000.0\n",
      "34.0        3.242439e+06    190  3290000.0\n",
      "33.0        3.193569e+06    197  3250000.0\n",
      "31.0        2.894261e+06    291  3000000.0\n",
      "29.0        2.749049e+06     61  3000000.0\n",
      "32.0        2.930267e+06    247  3000000.0\n",
      "30.0        2.710343e+06    178  2950000.0\n",
      "                  mean  count      median\n",
      "total_area                               \n",
      "12.0         2400000.0      1   2400000.0\n",
      "13.0         2350000.0      3   1850000.0\n",
      "13.2         1686000.0      1   1686000.0\n",
      "14.0         1190000.0      1   1190000.0\n",
      "15.0         1725000.0      2   1725000.0\n",
      "...                ...    ...         ...\n",
      "157.0              NaN      0         NaN\n",
      "157.4              NaN      0         NaN\n",
      "158.0              NaN      0         NaN\n",
      "158.6       12900000.0      1  12900000.0\n",
      "159.0       15782000.0      1  15782000.0\n",
      "\n",
      "[1637 rows x 3 columns]\n"
     ]
    },
    {
     "data": {
      "text/plain": [
       "0.7511520151820442"
      ]
     },
     "execution_count": 63,
     "metadata": {},
     "output_type": "execute_result"
    },
    {
     "data": {
      "image/png": "[encoded data removed]",
      "text/plain": [
       "<Figure size 432x288 with 1 Axes>"
      ]
     },
     "metadata": {
      "needs_background": "light"
     },
     "output_type": "display_data"
    }
   ],
   "source": [
    "# Зависимость цены от общей площади\n",
    "pivot_table_area = data.pivot_table(\n",
    "    index = 'total_area', values = 'last_price', aggfunc = ['mean', 'count', 'median'])\n",
    "pivot_table_area.columns = ['mean', 'count', 'median']\n",
    "print(pivot_table_area.query(\n",
    "    'count > 40').sort_values('median', ascending = False))\n",
    "pivot_table_area.query(\n",
    "    'count > 40').plot(y = 'median') #не включаем единичные случаи, чтобы картина была правдоподобнее\n",
    "\n",
    "\n",
    "print(pivot_table_area)\n",
    "data['total_area'].corr(data['last_price'])"
   ]
  },
  {
   "cell_type": "markdown",
   "metadata": {},
   "source": [
    "#### Зависисмость между итоговой стоимостью и площадью помещения прослеживается . Чем больше площадь помещения, тем выше цена. Коэффицент Пирсона равен 0.751, что говорит о достаточно высокой корреляции между площадью и ценой. \n"
   ]
  },
  {
   "cell_type": "code",
   "execution_count": 64,
   "metadata": {
    "scrolled": true
   },
   "outputs": [
    {
     "name": "stdout",
     "output_type": "stream",
     "text": [
      "                     mean  count     median\n",
      "living_area                                \n",
      "55.0         8.886808e+06     47  9150000.0\n",
      "53.0         8.581475e+06     59  8245000.0\n",
      "56.0         8.191815e+06     54  7785000.0\n",
      "63.6         8.102442e+06     58  7650000.0\n",
      "52.0         7.707042e+06     52  7650000.0\n",
      "...                   ...    ...        ...\n",
      "15.5         3.515364e+06     55  3300000.0\n",
      "15.2         3.379489e+06     47  3300000.0\n",
      "17.0         3.359646e+06    558  3262500.0\n",
      "17.3         3.267947e+06     54  3250000.0\n",
      "17.2         3.218711e+06     72  3100000.0\n",
      "\n",
      "[78 rows x 3 columns]\n",
      "                  mean  count     median\n",
      "living_area                             \n",
      "2.0          6350000.0      1  6350000.0\n",
      "3.0          4440000.0      1  4440000.0\n",
      "5.4          6100000.0      1  6100000.0\n",
      "6.0          3799000.0      1  3799000.0\n",
      "6.5          4050000.0      1  4050000.0\n",
      "...                ...    ...        ...\n",
      "300.0              NaN      0        NaN\n",
      "312.5              NaN      0        NaN\n",
      "347.5              NaN      0        NaN\n",
      "409.0              NaN      0        NaN\n",
      "409.7              NaN      0        NaN\n",
      "\n",
      "[1488 rows x 3 columns]\n"
     ]
    },
    {
     "data": {
      "text/plain": [
       "0.6220767802614633"
      ]
     },
     "execution_count": 64,
     "metadata": {},
     "output_type": "execute_result"
    },
    {
     "data": {
      "image/png": "[encoded data removed]",
      "text/plain": [
       "<Figure size 432x288 with 1 Axes>"
      ]
     },
     "metadata": {
      "needs_background": "light"
     },
     "output_type": "display_data"
    }
   ],
   "source": [
    "# Зависимость цены от жилой площади\n",
    "pivot_table_area = data.pivot_table(\n",
    "    index = 'living_area', values = 'last_price', aggfunc = ['mean', 'count', 'median'])\n",
    "pivot_table_area.columns = ['mean', 'count', 'median']\n",
    "print(pivot_table_area.query(\n",
    "    'count > 40').sort_values('median', ascending = False))\n",
    "pivot_table_area.query(\n",
    "    'count > 40').plot(y = 'median') #не включаем единичные случаи, чтобы картина была правдоподобнее\n",
    "\n",
    "\n",
    "print(pivot_table_area)\n",
    "data['living_area'].corr(data['last_price'])\n"
   ]
  },
  {
   "cell_type": "markdown",
   "metadata": {},
   "source": [
    "#### Зависисмость между итоговой стоимостью и  жилой площадью помещения. также прослеживается, но коэффицент Пирсона равен 0.622, что говорит о достаточно высокой корреляции между жилой площадью и ценой, но меньше чем с общей площадью."
   ]
  },
  {
   "cell_type": "code",
   "execution_count": 65,
   "metadata": {},
   "outputs": [
    {
     "name": "stdout",
     "output_type": "stream",
     "text": [
      "                      mean  count     median\n",
      "kitchen_area                                \n",
      "20.00         9.270417e+06     84  8775000.0\n",
      "15.10         9.108088e+06     47  8480000.0\n",
      "17.00         8.712688e+06     82  8425000.0\n",
      "16.00         8.233118e+06    127  7740000.0\n",
      "11.05         8.029279e+06     67  7700000.0\n",
      "...                    ...    ...        ...\n",
      "5.30          3.311832e+06    113  3200000.0\n",
      "5.00          3.268956e+06    274  3200000.0\n",
      "5.70          3.275046e+06     65  3100000.0\n",
      "5.40          3.121129e+06    101  3100000.0\n",
      "5.50          3.115640e+06    314  3050000.0\n",
      "\n",
      "[83 rows x 3 columns]\n",
      "                      mean  count      median\n",
      "kitchen_area                                 \n",
      "2.00          2.821429e+06      7   2720000.0\n",
      "2.30          2.940000e+06      1   2940000.0\n",
      "2.40          2.200000e+06      1   2200000.0\n",
      "2.89          5.967734e+06      1   5967734.0\n",
      "3.00          2.735714e+06      7   3180000.0\n",
      "...                    ...    ...         ...\n",
      "93.00                  NaN      0         NaN\n",
      "100.00                 NaN      0         NaN\n",
      "100.70        1.250000e+07      1  12500000.0\n",
      "107.00                 NaN      0         NaN\n",
      "112.00                 NaN      0         NaN\n",
      "\n",
      "[822 rows x 3 columns]\n"
     ]
    },
    {
     "data": {
      "text/plain": [
       "0.523129196395736"
      ]
     },
     "execution_count": 65,
     "metadata": {},
     "output_type": "execute_result"
    },
    {
     "data": {
      "image/png": "[encoded data removed]",
      "text/plain": [
       "<Figure size 432x288 with 1 Axes>"
      ]
     },
     "metadata": {
      "needs_background": "light"
     },
     "output_type": "display_data"
    }
   ],
   "source": [
    "# Зависимость цены от площади кухни\n",
    "pivot_table_area = data.pivot_table(\n",
    "    index = 'kitchen_area', values = 'last_price', aggfunc = ['mean', 'count', 'median'])\n",
    "pivot_table_area.columns = ['mean', 'count', 'median']\n",
    "print(pivot_table_area.query(\n",
    "    'count > 40').sort_values('median', ascending = False))\n",
    "pivot_table_area.query(\n",
    "    'count > 40').plot(y = 'median') #не включаем единичные случаи, чтобы картина была правдоподобнее\n",
    "\n",
    "\n",
    "print(pivot_table_area)\n",
    "data['kitchen_area'].corr(data['last_price'])\n",
    "\n"
   ]
  },
  {
   "cell_type": "markdown",
   "metadata": {},
   "source": [
    "####  Также можно отметить наличие зависимости меду ценой и площадью кухни, но она еще меньше , по сравнению с  общей площадью и жилой площадью  т.к. коэффицент Пирсона равен 0.523\n"
   ]
  },
  {
   "cell_type": "code",
   "execution_count": 66,
   "metadata": {
    "scrolled": true
   },
   "outputs": [
    {
     "name": "stdout",
     "output_type": "stream",
     "text": [
      "               mean  count     median\n",
      "rooms                                \n",
      "0      8.607952e+06    819  8260000.0\n",
      "3      6.548969e+06   4067  5900000.0\n",
      "2      5.134199e+06   6279  4650000.0\n",
      "1      3.733083e+06   6727  3550000.0\n",
      "               mean  count     median\n",
      "rooms                                \n",
      "0      8.607952e+06    819  8260000.0\n",
      "1      3.733083e+06   6727  3550000.0\n",
      "2      5.134199e+06   6279  4650000.0\n",
      "3      6.548969e+06   4067  5900000.0\n"
     ]
    },
    {
     "data": {
      "text/plain": [
       "0.22479620185061494"
      ]
     },
     "execution_count": 66,
     "metadata": {},
     "output_type": "execute_result"
    },
    {
     "data": {
      "image/png": "[encoded data removed]",
      "text/plain": [
       "<Figure size 432x288 with 1 Axes>"
      ]
     },
     "metadata": {
      "needs_background": "light"
     },
     "output_type": "display_data"
    }
   ],
   "source": [
    "# Зависимость цены от числа комнат\n",
    "pivot_table_area = data.pivot_table(\n",
    "    index = 'rooms', values = 'last_price', aggfunc = ['mean', 'count', 'median'])\n",
    "pivot_table_area.columns = ['mean', 'count', 'median']\n",
    "\n",
    "print(pivot_table_area.query(\n",
    "    'count > 30').sort_values('median', ascending = False))\n",
    "pivot_table_area.query(\n",
    "    'count > 30').plot(y = 'median') #не включаем единичные случаи, чтобы картина была правдоподобнее\n",
    "\n",
    "\n",
    "print(pivot_table_area)\n",
    "data['rooms'].corr(data['last_price'])"
   ]
  },
  {
   "cell_type": "markdown",
   "metadata": {},
   "source": [
    "#### UPD2 На графике видно, что цена за квадратный метр незначительно увеличивается с увеличением числа комнат.  Наибольшая стоимость квдратного метра наблюдается у студий.Коэффицент Пирсона, равный 0,224 говорит о том, что прямой  зависимость между показателем цены за квадратный метр и числом комнат в квартире нет, но стоит отметить, что для полноты исследования не хватает данных по объектам с 4-мя и 5-ю комнатами, число которых меньше, чем объектов с 1,2 и 3-мя комнатами\n"
   ]
  },
  {
   "cell_type": "code",
   "execution_count": 67,
   "metadata": {},
   "outputs": [
    {
     "name": "stdout",
     "output_type": "stream",
     "text": [
      "                   mean  count     median\n",
      "floor_id                                 \n",
      "другой     5.294930e+06  13288  4600000.0\n",
      "первый     4.132726e+06   2176  3750000.0\n",
      "последний  4.811704e+06   2428  4100000.0\n",
      "0.11195465554771239\n"
     ]
    },
    {
     "data": {
      "text/html": [
       "<div>\n",
       "<style scoped>\n",
       "    .dataframe tbody tr th:only-of-type {\n",
       "        vertical-align: middle;\n",
       "    }\n",
       "\n",
       "    .dataframe tbody tr th {\n",
       "        vertical-align: top;\n",
       "    }\n",
       "\n",
       "    .dataframe thead th {\n",
       "        text-align: right;\n",
       "    }\n",
       "</style>\n",
       "<table border=\"1\" class=\"dataframe\">\n",
       "  <thead>\n",
       "    <tr style=\"text-align: right;\">\n",
       "      <th></th>\n",
       "      <th>mean</th>\n",
       "      <th>count</th>\n",
       "      <th>median</th>\n",
       "    </tr>\n",
       "    <tr>\n",
       "      <th>floor</th>\n",
       "      <th></th>\n",
       "      <th></th>\n",
       "      <th></th>\n",
       "    </tr>\n",
       "  </thead>\n",
       "  <tbody>\n",
       "    <tr>\n",
       "      <th>1</th>\n",
       "      <td>4.132726e+06</td>\n",
       "      <td>2176</td>\n",
       "      <td>3750000.0</td>\n",
       "    </tr>\n",
       "    <tr>\n",
       "      <th>26</th>\n",
       "      <td>4.413500e+06</td>\n",
       "      <td>20</td>\n",
       "      <td>3920000.0</td>\n",
       "    </tr>\n",
       "    <tr>\n",
       "      <th>5</th>\n",
       "      <td>4.815573e+06</td>\n",
       "      <td>1945</td>\n",
       "      <td>4190000.0</td>\n",
       "    </tr>\n",
       "    <tr>\n",
       "      <th>2</th>\n",
       "      <td>4.964671e+06</td>\n",
       "      <td>2506</td>\n",
       "      <td>4210000.0</td>\n",
       "    </tr>\n",
       "    <tr>\n",
       "      <th>3</th>\n",
       "      <td>5.156169e+06</td>\n",
       "      <td>2304</td>\n",
       "      <td>4300000.0</td>\n",
       "    </tr>\n",
       "  </tbody>\n",
       "</table>\n",
       "</div>"
      ],
      "text/plain": [
       "               mean  count     median\n",
       "floor                                \n",
       "1      4.132726e+06   2176  3750000.0\n",
       "26     4.413500e+06     20  3920000.0\n",
       "5      4.815573e+06   1945  4190000.0\n",
       "2      4.964671e+06   2506  4210000.0\n",
       "3      5.156169e+06   2304  4300000.0"
      ]
     },
     "execution_count": 67,
     "metadata": {},
     "output_type": "execute_result"
    },
    {
     "data": {
      "image/png": "[encoded data removed]",
      "text/plain": [
       "<Figure size 432x288 with 1 Axes>"
      ]
     },
     "metadata": {
      "needs_background": "light"
     },
     "output_type": "display_data"
    },
    {
     "data": {
      "image/png": "[encoded data removed]",
      "text/plain": [
       "<Figure size 432x288 with 1 Axes>"
      ]
     },
     "metadata": {
      "needs_background": "light"
     },
     "output_type": "display_data"
    }
   ],
   "source": [
    "#зависимость цены от этажа квартиры\n",
    "pivot_table_floor_id = data.pivot_table(\n",
    "    index = 'floor_id', values = 'last_price', aggfunc = ['mean', 'count', 'median'])\n",
    "pivot_table_floor_id.columns = ['mean', 'count', 'median'] #избавление от мультииндекса\n",
    "pivot_table_floor_id.plot(y = 'median')\n",
    "pivot_table_floor = data.pivot_table(\n",
    "    index = 'floor', values = 'last_price', aggfunc = ['mean', 'count', 'median'])\n",
    "pivot_table_floor.columns = ['mean', 'count', 'median'] #избавление от мультииндекса\n",
    "pivot_table_floor.plot(y = 'median') #график по медиане\n",
    "\n",
    "print(pivot_table_floor_id)\n",
    "print(data['floor'].corr(data['last_price'])) #кореляция\n",
    "pivot_table_floor.sort_values(by='median').head() #поиск аномалий"
   ]
  },
  {
   "cell_type": "markdown",
   "metadata": {},
   "source": [
    "#### UPD2 Корреляция между этажом и  общей ценой отсутствует, что доказывает коэффицент Пирсона, который равен 0,111, . Первый этаж является самым дешевым. С возрастанием этажа наблюдается рост цены,  плато которой наблюдается с 10 по 25 этаж но незначительный дороже первых, но обычно не намного. Дорогими являются другие этажи. Исключение составляют  этажи выще 26, но количество таких кейсов мало, поэтому нельзя утверждать о наличии четкой зависимости.\n",
    "\n",
    "\n"
   ]
  },
  {
   "cell_type": "code",
   "execution_count": 68,
   "metadata": {
    "scrolled": true
   },
   "outputs": [
    {
     "data": {
      "text/html": [
       "<div>\n",
       "<style scoped>\n",
       "    .dataframe tbody tr th:only-of-type {\n",
       "        vertical-align: middle;\n",
       "    }\n",
       "\n",
       "    .dataframe tbody tr th {\n",
       "        vertical-align: top;\n",
       "    }\n",
       "\n",
       "    .dataframe thead th {\n",
       "        text-align: right;\n",
       "    }\n",
       "</style>\n",
       "<table border=\"1\" class=\"dataframe\">\n",
       "  <thead>\n",
       "    <tr style=\"text-align: right;\">\n",
       "      <th></th>\n",
       "      <th>mean</th>\n",
       "      <th>count</th>\n",
       "      <th>median</th>\n",
       "    </tr>\n",
       "    <tr>\n",
       "      <th>weekday</th>\n",
       "      <th></th>\n",
       "      <th></th>\n",
       "      <th></th>\n",
       "    </tr>\n",
       "  </thead>\n",
       "  <tbody>\n",
       "    <tr>\n",
       "      <th>1</th>\n",
       "      <td>5.127017e+06</td>\n",
       "      <td>3150</td>\n",
       "      <td>4470000.0</td>\n",
       "    </tr>\n",
       "    <tr>\n",
       "      <th>3</th>\n",
       "      <td>5.139538e+06</td>\n",
       "      <td>3233</td>\n",
       "      <td>4450000.0</td>\n",
       "    </tr>\n",
       "    <tr>\n",
       "      <th>5</th>\n",
       "      <td>4.997459e+06</td>\n",
       "      <td>1463</td>\n",
       "      <td>4450000.0</td>\n",
       "    </tr>\n",
       "    <tr>\n",
       "      <th>0</th>\n",
       "      <td>5.073522e+06</td>\n",
       "      <td>2680</td>\n",
       "      <td>4400000.0</td>\n",
       "    </tr>\n",
       "    <tr>\n",
       "      <th>2</th>\n",
       "      <td>5.093311e+06</td>\n",
       "      <td>2959</td>\n",
       "      <td>4400000.0</td>\n",
       "    </tr>\n",
       "    <tr>\n",
       "      <th>4</th>\n",
       "      <td>5.087213e+06</td>\n",
       "      <td>3112</td>\n",
       "      <td>4400000.0</td>\n",
       "    </tr>\n",
       "    <tr>\n",
       "      <th>6</th>\n",
       "      <td>4.986560e+06</td>\n",
       "      <td>1295</td>\n",
       "      <td>4350000.0</td>\n",
       "    </tr>\n",
       "  </tbody>\n",
       "</table>\n",
       "</div>"
      ],
      "text/plain": [
       "                 mean  count     median\n",
       "weekday                                \n",
       "1        5.127017e+06   3150  4470000.0\n",
       "3        5.139538e+06   3233  4450000.0\n",
       "5        4.997459e+06   1463  4450000.0\n",
       "0        5.073522e+06   2680  4400000.0\n",
       "2        5.093311e+06   2959  4400000.0\n",
       "4        5.087213e+06   3112  4400000.0\n",
       "6        4.986560e+06   1295  4350000.0"
      ]
     },
     "metadata": {},
     "output_type": "display_data"
    },
    {
     "data": {
      "text/plain": [
       "-0.009311904145396836"
      ]
     },
     "execution_count": 68,
     "metadata": {},
     "output_type": "execute_result"
    },
    {
     "data": {
      "image/png": "[encoded data removed]",
      "text/plain": [
       "<Figure size 432x288 with 1 Axes>"
      ]
     },
     "metadata": {
      "needs_background": "light"
     },
     "output_type": "display_data"
    }
   ],
   "source": [
    "#зависимость цены от дня недели\n",
    "pivot_table_weekday = data.pivot_table(\n",
    "    index = 'weekday', values = 'last_price', aggfunc = ['mean', 'count', 'median'])\n",
    "pivot_table_weekday.columns = ['mean', 'count', 'median']\n",
    "display(pivot_table_weekday.sort_values('median', ascending = False))\n",
    "pivot_table_weekday.plot(y = 'median') #используем медиану чтобы избежать аномалий\n",
    "data['weekday'].corr(data['last_price'])\n"
   ]
  },
  {
   "cell_type": "markdown",
   "metadata": {
    "scrolled": true
   },
   "source": [
    "#### UPD Можно утверждать, что взаимосвязи между днем недели и ценой объекта нет, но можно утверждать, что в воскресенье квартиры стоят дешевле"
   ]
  },
  {
   "cell_type": "code",
   "execution_count": 69,
   "metadata": {
    "scrolled": false
   },
   "outputs": [
    {
     "name": "stdout",
     "output_type": "stream",
     "text": [
      "               mean  count     median\n",
      "month                                \n",
      "9      5.281465e+06   1629  4500000.0\n",
      "11     5.184491e+06   1907  4500000.0\n",
      "8      5.151310e+06   1450  4497000.0\n",
      "4      5.128065e+06   1310  4490000.0\n",
      "2      5.075548e+06   2035  4430000.0\n",
      "1      5.078553e+06   1125  4400000.0\n",
      "5      5.138651e+06    958  4400000.0\n",
      "7      5.086813e+06   1386  4400000.0\n",
      "10     5.035927e+06   1734  4400000.0\n",
      "12     4.923438e+06   1228  4400000.0\n",
      "3      5.035028e+06   1686  4350000.0\n",
      "6      4.899282e+06   1444  4200000.0\n"
     ]
    },
    {
     "data": {
      "text/plain": [
       "0.0044019215629990905"
      ]
     },
     "execution_count": 69,
     "metadata": {},
     "output_type": "execute_result"
    },
    {
     "data": {
      "image/png": "[encoded data removed]",
      "text/plain": [
       "<Figure size 432x288 with 1 Axes>"
      ]
     },
     "metadata": {
      "needs_background": "light"
     },
     "output_type": "display_data"
    }
   ],
   "source": [
    "# Зависимость цены от месяца публикации\n",
    "pivot_table_month =data.pivot_table(\n",
    "    index = 'month', \n",
    "    values = 'last_price', \n",
    "    aggfunc = ['mean', 'count', 'median']) #используем колонку _id чтобы не выдавало ошибку\n",
    "pivot_table_month.columns = ['mean', 'count', 'median']\n",
    "print(pivot_table_month.sort_values('median', ascending = False))\n",
    "pivot_table_month.plot(y = 'median') \n",
    "data['month'].corr(data['last_price'])"
   ]
  },
  {
   "cell_type": "markdown",
   "metadata": {},
   "source": [
    "#### Зависимости между месяцами и ценой объекта также не выявлена, но можно утверждать, что в июне квартиры стоимость квартир находится на минимальной отметке(сезон отпусков) .\n"
   ]
  },
  {
   "cell_type": "code",
   "execution_count": 70,
   "metadata": {
    "scrolled": false
   },
   "outputs": [
    {
     "name": "stdout",
     "output_type": "stream",
     "text": [
      "              mean  count     median\n",
      "year                                \n",
      "2019  5.263272e+06   1049  4700000.0\n",
      "2015  5.233059e+06    420  4550000.0\n",
      "2018  5.025219e+06   7278  4432500.0\n",
      "2017  5.096593e+06   7179  4380000.0\n",
      "2016  5.164610e+06   1966  4350000.0\n"
     ]
    },
    {
     "data": {
      "text/plain": [
       "<AxesSubplot:xlabel='year'>"
      ]
     },
     "execution_count": 70,
     "metadata": {},
     "output_type": "execute_result"
    },
    {
     "data": {
      "image/png": "[encoded data removed]",
      "text/plain": [
       "<Figure size 576x432 with 1 Axes>"
      ]
     },
     "metadata": {
      "needs_background": "light"
     },
     "output_type": "display_data"
    }
   ],
   "source": [
    "pivot_table_year = data.pivot_table(\n",
    "    index = 'year', \n",
    "    values = 'last_price', \n",
    "    aggfunc = ['mean', 'count', 'median']) #используем колонку _id чтобы не выдавало ошибку\n",
    "pivot_table_year.columns = ['mean', 'count', 'median']\n",
    "print(pivot_table_year.sort_values('median', ascending = False))\n",
    "pivot_table_year.plot(y = 'median', figsize=(8,6)) \n",
    "#UPD data['year'].corr(data['last_price'])"
   ]
  },
  {
   "cell_type": "markdown",
   "metadata": {},
   "source": [
    "####   UPDНа данном графике видно, что c 2015 по 2018 году цены на квартиры были гораздо ниже, чем в 2014  и в 2019 годах(но тут важно отметить, что количество объявлений в 2014 крайне мало, всего 14, а в 2015 оно пусть и возросло в 28 раз, но все равно трудносопоставимо с последующими годами). \n"
   ]
  },
  {
   "cell_type": "markdown",
   "metadata": {},
   "source": [
    "#### Среднюю цену одного квадратного метра в 10 населённых пунктах с наибольшим числом объявлений:"
   ]
  },
  {
   "cell_type": "code",
   "execution_count": 71,
   "metadata": {
    "scrolled": true
   },
   "outputs": [
    {
     "name": "stdout",
     "output_type": "stream",
     "text": [
      "В населённом пункте 'Санкт-Петербург' средняя цена квадратного метра: 106194.10 руб\n",
      "В населённом пункте 'поселок Мурино' средняя цена квадратного метра: 85350.67 руб\n",
      "В населённом пункте 'поселок Шушары' средняя цена квадратного метра: 77471.52 руб\n",
      "В населённом пункте 'Всеволожск' средняя цена квадратного метра: 66675.09 руб\n",
      "В населённом пункте 'Колпино' средняя цена квадратного метра: 74671.95 руб\n",
      "В населённом пункте 'поселок Парголово' средняя цена квадратного метра: 89479.84 руб\n",
      "В населённом пункте 'Пушкин' средняя цена квадратного метра: 100350.97 руб\n",
      "В населённом пункте 'деревня Кудрово' средняя цена квадратного метра: 92426.55 руб\n",
      "В населённом пункте 'Гатчина' средняя цена квадратного метра: 68076.90 руб\n",
      "В населённом пункте 'Выборг' средняя цена квадратного метра: 57011.26 руб\n"
     ]
    }
   ],
   "source": [
    "#Выберите 10 населённых пунктов с наибольшим числом объявлений. \n",
    "#Посчитайте среднюю цену квадратного метра в этих населённых пунктах. \n",
    "#Выделите населённые пункты с самой высокой и низкой стоимостью жилья.\n",
    "largest_group=data.groupby('locality_name').count().sort_values('total_images', ascending=False)[:10].index\n",
    "\n",
    "mean_price=[]\n",
    "for name in largest_group:\n",
    "    largest_group_parse=data[data['locality_name']==name]\n",
    "    mean_data=largest_group_parse['price_per_meter'].mean()\n",
    "    print(\"В населённом пункте '{}' средняя цена квадратного метра: {:.2f} руб\".format(name, mean_data))\n",
    "    mean_price.append(mean_data)\n",
    "    \n",
    "    "
   ]
  },
  {
   "cell_type": "code",
   "execution_count": 72,
   "metadata": {},
   "outputs": [
    {
     "name": "stdout",
     "output_type": "stream",
     "text": [
      "Город с максимальной стоимостью жилья: Санкт-Петербург\n",
      "Город с минимальной стоимостью жилья: Выборг\n"
     ]
    }
   ],
   "source": [
    "print(\"Город с максимальной стоимостью жилья: {}\".format(largest_group[mean_price.index(max(mean_price))]))\n",
    "print(\"Город с минимальной стоимостью жилья: {}\".format(largest_group[mean_price.index(min(mean_price))]))"
   ]
  },
  {
   "cell_type": "markdown",
   "metadata": {},
   "source": [
    "#### Определение средней цены каждого километра и выявление зависимости стоимости объектов  от расстояния до центра города:\n"
   ]
  },
  {
   "cell_type": "code",
   "execution_count": 73,
   "metadata": {},
   "outputs": [
    {
     "data": {
      "text/plain": [
       "<AxesSubplot:xlabel='cityCenters_distance', ylabel='mean_price_for_km'>"
      ]
     },
     "execution_count": 73,
     "metadata": {},
     "output_type": "execute_result"
    },
    {
     "data": {
      "image/png": "[encoded data removed]",
      "text/plain": [
       "<Figure size 720x360 with 1 Axes>"
      ]
     },
     "metadata": {
      "needs_background": "light"
     },
     "output_type": "display_data"
    }
   ],
   "source": [
    "flat_saint_p = data.query('locality_name == \"Санкт-Петербург\"') #выбираем только квартиры в Санкт-Петербурге\n",
    "flat_saint_p = flat_saint_p.dropna(subset = ['cityCenters_nearest'], inplace = False) #убираем  пропуски для дальнейшей работы\n",
    "flat_saint_p['cityCenters_distance'] = flat_saint_p.loc[:, 'cityCenters_nearest'] / 1000 #добавляем столбец с км\n",
    "flat_saint_p['cityCenters_distance'] = flat_saint_p['cityCenters_distance'].round() #округялем\n",
    "flat_saint_p_mean_price_per_meter = flat_saint_p['price_per_meter'].mean() #средняя цена кв.м\n",
    "flat_saint_p['mean_price_for_km'] = flat_saint_p_mean_price_per_meter / flat_saint_p['cityCenters_distance'] #средняя цена для каждого км\n",
    "flat_saint_p.plot(x='cityCenters_distance', y='mean_price_for_km', kind='scatter', figsize=(10, 5), grid=True)"
   ]
  },
  {
   "cell_type": "markdown",
   "metadata": {},
   "source": [
    "#### Расстояние до центра напрямую влияет на стоимость квартиры, чем ближе к центру тем дороже. При расстоянии до центра более 20 км   данная зависимость становится менее выражена. "
   ]
  },
  {
   "cell_type": "markdown",
   "metadata": {},
   "source": [
    "### Общий вывод"
   ]
  },
  {
   "cell_type": "markdown",
   "metadata": {},
   "source": [
    "####  Исследование было посвящено объявлениям о продажах квартир.Работы:\n",
    "Была получена первоначальная информация по датасету.\n",
    "\n",
    "Обнаружены пропуски в датасете, кол-во некоторых доходит до 88.3%. Кол-во столбцов с пропусками 14 (всего в датасете 22 столбца).Явных дубликатов в датаесете не было обнаружено. Замечены аномалии, к примеру, минимальное значение потолков менее 2х метров метр, и более 10 метров.\n",
    "\n",
    "Найдены пропуски, дубликаты и аномалии в датасете. Была проведена работа по заполнению пропусков, удаление ненужных строк из датасета, но пропуски в картографических данных не были подвергнуты обработке, во избежании искажений данных. Аномалии и дубликаты обработаны.\n",
    "\n",
    "Заменены неявные дубликаты (раньше названия населенных пунктов повторялись из-за разной записи е-ё и так далее).Столбец с датой приведен к округленному до дней и правильному форматам. Пропуски в столбце с высотой потолков заменены на медиану. Убраны пропуски в столбце living area, они составляли ~8 процентов от датасета. Замена на булев тип данных в столбцах, где это необходимо. Пропуски в kitchen area исправлены на значение равное 18% от общей площади квартиры, что является медианным значением. Пропуски в living area исправлены на значение равное медианное значение от общей площади квартиры.\n",
    "В датафрейм добавлены новые показатели:\n",
    "цена одного квадратного метра;\n",
    "день недели публикации объявления (0 — понедельник, 1 — вторник и так далее);\n",
    "месяц публикации объявления;\n",
    "год публикации объявления;\n",
    "тип этажа квартиры (значения — «первый», «последний», «другой»);\n",
    "расстояние до центра города в километрах (переведено из м в км).\n",
    "Данные в целом распределены без аномалий\n",
    "\n",
    "Время продаж в основном приходится на период после 2015 года. Среднее значение длительности размещения квартиры на площадке Яндекса равняется 122,6 дням, а медиана равна 95 дням. Выявлены выбивающиеся значения. Аномалии находятся на 45, 60, 7, 30 днях. Данные аномалии связаны с тем, что сроки публикации на яндексе соответсвуют этим дням.\n",
    "\n",
    "Сделаны графики соотношений цены к другим показателям квартир\n",
    "\n",
    "Корреляция цена- общая площадь = 0.751 \n",
    "Чем больше площадь помещения, тем выше цена.\n",
    "Корреляция цена- жилая площадь = 0.622 \n",
    "Чем больше жилай площадь помещения, тем выше его цена.\n",
    "Корелляция цена-площадь кухни = 0.523\n",
    "Можно отметить наличие зависимости меду ценой и площадью кухни, но она еще меньше , по сравнению с общей площадью и жилой площадью\n",
    "Корреляция цена-число компнат = 0.224\n",
    "Нет прямой зависимости между показателем цены за квадратный метр и числом комнат в квартире. \n",
    "Корелляция цена-этаж = 0,111\n",
    "С возрастанием этажа наблюдается рост цены, но незначительный дороже первых, но обычно не намного. Дорогими являются другие этажи. Исключение составляют 27 и 26 этажи, но количество таких кейсов мало, поэтому нельзя утверждать о наличии четкой зависимости.\n",
    "Корреляция цена день недели  = -0.0009\n",
    "Можно утверждать, что взаимосвязи между днем недели и ценой объекта нет, т.к. падение цены от пика во вторник к воскресенью совсем незначительно\n",
    "Корреляция цена-месяц = 0.004\n",
    "Зависимости между месяцами и ценой объекта также не выявлена, но можно утверждать, что в июне квартиры стоимость квартир находится на минимальной отметке(сезон отпусков)\n",
    "Изучая зависимость между ценой и годом можно отметить, что c 2015 по 2018 году цены на квартиры были гораздо ниже, чем в 2014 и в 2019 годах(но тут важно отметить, что количество объявлений в 2014 крайне мало, всего 14, а в 2015 оно пусть и возросло в 28 раз, но все равно трудносопоставимо с последующими годами).\n",
    "Среди 10 населенных  наибольшим числом объявлений:\n",
    "В населённом пункте 'Санкт-Петербург' средняя цена квадратного метра: 114299.14 руб\n",
    "В населённом пункте 'поселок Мурино' средняя цена квадратного метра: 85285.20 руб\n",
    "В населённом пункте 'поселок Шушары' средняя цена квадратного метра: 78225.90 руб\n",
    "В населённом пункте 'Всеволожск' средняя цена квадратного метра: 68651.95 руб\n",
    "В населённом пункте 'Пушкин' средняя цена квадратного метра: 103068.29 руб\n",
    "В населённом пункте 'Колпино' средняя цена квадратного метра: 75372.67 руб\n",
    "В населённом пункте 'поселок Парголово' средняя цена квадратного метра: 90030.91 руб\n",
    "В населённом пункте 'Гатчина' средняя цена квадратного метра: 68946.67 руб\n",
    "В населённом пункте 'деревня Кудрово' средняя цена квадратного метра: 92426.55 руб\n",
    "В населённом пункте 'Выборг' средняя цена квадратного метра: 58149.61 руб\n",
    "Наибольшая цена квадртатного метра наблюдается в Санкт-Петербургбге, а наимешьшая в Выборге.\n",
    "Расстояние до центра напрямую влияет на стоимость квартиры, чем ближе к центру тем дороже. Расстояние до центра напрямую влияет на стоимость квартиры, чем ближе к центру тем дороже. При расстоянии до центра более 20 км данная зависимость становится менее выражена"
   ]
  },
  {
   "cell_type": "markdown",
   "metadata": {},
   "source": [
    "#### UPD2  аномалии значений площади кватир, общей стоимости и количества комнат обработаны, исправлены ячейки где ошибочно была указана цена за квадратный метр, а не общая цена. Выводы поправлены. UPD3 увеличен размах допустимых значений для площади квартиры и стоимости, а также уменьшен для количества комнат. Выводы изменены исходя из изменившихся значений.\n",
    "\n",
    "\n",
    "\n",
    "\n",
    "\n",
    "\n",
    "\n",
    "\n"
   ]
  }
 ],
 "metadata": {
  "ExecuteTimeLog": [
   {
    "duration": 959,
    "start_time": "2022-12-11T17:33:16.397Z"
   },
   {
    "duration": 96,
    "start_time": "2022-12-11T17:33:18.423Z"
   },
   {
    "duration": 84,
    "start_time": "2022-12-11T17:33:37.829Z"
   },
   {
    "duration": 84,
    "start_time": "2022-12-11T17:33:41.221Z"
   },
   {
    "duration": 746,
    "start_time": "2022-12-11T17:34:52.279Z"
   },
   {
    "duration": 31,
    "start_time": "2022-12-11T17:57:42.210Z"
   },
   {
    "duration": 29,
    "start_time": "2022-12-11T17:58:13.203Z"
   },
   {
    "duration": 37,
    "start_time": "2022-12-11T17:58:55.310Z"
   },
   {
    "duration": 31,
    "start_time": "2022-12-11T18:00:38.517Z"
   },
   {
    "duration": 14,
    "start_time": "2022-12-11T18:02:15.645Z"
   },
   {
    "duration": 69,
    "start_time": "2022-12-11T18:10:32.676Z"
   },
   {
    "duration": 10,
    "start_time": "2022-12-11T18:14:40.009Z"
   },
   {
    "duration": 22,
    "start_time": "2022-12-11T18:14:53.505Z"
   },
   {
    "duration": 70,
    "start_time": "2022-12-11T19:02:25.297Z"
   },
   {
    "duration": 10,
    "start_time": "2022-12-11T19:02:31.487Z"
   },
   {
    "duration": 30,
    "start_time": "2022-12-11T19:16:30.921Z"
   },
   {
    "duration": 93,
    "start_time": "2022-12-11T19:48:22.703Z"
   },
   {
    "duration": 6,
    "start_time": "2022-12-11T19:48:40.791Z"
   },
   {
    "duration": 8,
    "start_time": "2022-12-11T19:48:41.431Z"
   },
   {
    "duration": 42,
    "start_time": "2022-12-11T19:50:55.909Z"
   },
   {
    "duration": 4,
    "start_time": "2022-12-11T19:51:32.899Z"
   },
   {
    "duration": 5,
    "start_time": "2022-12-11T19:51:40.402Z"
   },
   {
    "duration": 5,
    "start_time": "2022-12-11T19:52:10.242Z"
   },
   {
    "duration": 4,
    "start_time": "2022-12-11T19:53:19.804Z"
   },
   {
    "duration": 39,
    "start_time": "2022-12-11T19:57:32.892Z"
   },
   {
    "duration": 24,
    "start_time": "2022-12-11T19:58:47.624Z"
   },
   {
    "duration": 22,
    "start_time": "2022-12-11T19:58:53.317Z"
   },
   {
    "duration": 25,
    "start_time": "2022-12-11T19:59:39.980Z"
   },
   {
    "duration": 24,
    "start_time": "2022-12-11T20:01:09.162Z"
   },
   {
    "duration": 23,
    "start_time": "2022-12-11T20:02:29.382Z"
   },
   {
    "duration": 670,
    "start_time": "2022-12-11T20:03:02.364Z"
   },
   {
    "duration": 33,
    "start_time": "2022-12-11T20:03:03.037Z"
   },
   {
    "duration": 15,
    "start_time": "2022-12-11T20:03:03.071Z"
   },
   {
    "duration": 88,
    "start_time": "2022-12-11T20:03:03.087Z"
   },
   {
    "duration": 8,
    "start_time": "2022-12-11T20:03:03.177Z"
   },
   {
    "duration": 36,
    "start_time": "2022-12-11T20:03:03.186Z"
   },
   {
    "duration": 29,
    "start_time": "2022-12-11T20:03:03.223Z"
   },
   {
    "duration": 104,
    "start_time": "2022-12-11T20:03:03.253Z"
   },
   {
    "duration": 0,
    "start_time": "2022-12-11T20:03:03.358Z"
   },
   {
    "duration": 0,
    "start_time": "2022-12-11T20:03:03.359Z"
   },
   {
    "duration": 0,
    "start_time": "2022-12-11T20:03:03.360Z"
   },
   {
    "duration": 7,
    "start_time": "2022-12-11T20:05:27.688Z"
   },
   {
    "duration": 8,
    "start_time": "2022-12-11T20:05:32.215Z"
   },
   {
    "duration": 10,
    "start_time": "2022-12-11T20:06:03.932Z"
   },
   {
    "duration": 39,
    "start_time": "2022-12-11T20:06:08.604Z"
   },
   {
    "duration": 699,
    "start_time": "2022-12-11T20:06:21.114Z"
   },
   {
    "duration": 32,
    "start_time": "2022-12-11T20:06:21.815Z"
   },
   {
    "duration": 14,
    "start_time": "2022-12-11T20:06:21.849Z"
   },
   {
    "duration": 84,
    "start_time": "2022-12-11T20:06:21.864Z"
   },
   {
    "duration": 8,
    "start_time": "2022-12-11T20:06:21.950Z"
   },
   {
    "duration": 20,
    "start_time": "2022-12-11T20:06:21.960Z"
   },
   {
    "duration": 50,
    "start_time": "2022-12-11T20:06:21.982Z"
   },
   {
    "duration": 5,
    "start_time": "2022-12-11T20:06:22.034Z"
   },
   {
    "duration": 8,
    "start_time": "2022-12-11T20:06:22.041Z"
   },
   {
    "duration": 9,
    "start_time": "2022-12-11T20:06:22.050Z"
   },
   {
    "duration": 63,
    "start_time": "2022-12-11T20:06:22.060Z"
   },
   {
    "duration": 5,
    "start_time": "2022-12-11T20:12:42.184Z"
   },
   {
    "duration": 9,
    "start_time": "2022-12-11T20:13:05.832Z"
   },
   {
    "duration": 10,
    "start_time": "2022-12-11T20:40:30.296Z"
   },
   {
    "duration": 24,
    "start_time": "2022-12-11T20:41:15.616Z"
   },
   {
    "duration": 64,
    "start_time": "2022-12-11T20:46:24.246Z"
   },
   {
    "duration": 9,
    "start_time": "2022-12-11T20:51:19.086Z"
   },
   {
    "duration": 692,
    "start_time": "2022-12-11T20:52:21.434Z"
   },
   {
    "duration": 33,
    "start_time": "2022-12-11T20:52:22.128Z"
   },
   {
    "duration": 14,
    "start_time": "2022-12-11T20:52:22.162Z"
   },
   {
    "duration": 86,
    "start_time": "2022-12-11T20:52:22.178Z"
   },
   {
    "duration": 23,
    "start_time": "2022-12-11T20:52:22.266Z"
   },
   {
    "duration": 26,
    "start_time": "2022-12-11T20:52:22.291Z"
   },
   {
    "duration": 27,
    "start_time": "2022-12-11T20:52:22.319Z"
   },
   {
    "duration": 4,
    "start_time": "2022-12-11T20:52:22.348Z"
   },
   {
    "duration": 13,
    "start_time": "2022-12-11T20:52:22.353Z"
   },
   {
    "duration": 4,
    "start_time": "2022-12-11T20:52:22.368Z"
   },
   {
    "duration": 9,
    "start_time": "2022-12-11T20:52:22.373Z"
   },
   {
    "duration": 64,
    "start_time": "2022-12-11T20:52:22.383Z"
   },
   {
    "duration": 26,
    "start_time": "2022-12-11T20:52:22.450Z"
   },
   {
    "duration": 7,
    "start_time": "2022-12-11T20:52:22.478Z"
   },
   {
    "duration": 28,
    "start_time": "2022-12-11T20:52:22.487Z"
   },
   {
    "duration": 12,
    "start_time": "2022-12-11T21:00:50.210Z"
   },
   {
    "duration": 6,
    "start_time": "2022-12-11T21:01:17.075Z"
   },
   {
    "duration": 4,
    "start_time": "2022-12-11T21:01:21.550Z"
   },
   {
    "duration": 8,
    "start_time": "2022-12-11T21:01:30.269Z"
   },
   {
    "duration": 8,
    "start_time": "2022-12-11T21:08:19.717Z"
   },
   {
    "duration": 675,
    "start_time": "2022-12-11T21:08:30.562Z"
   },
   {
    "duration": 30,
    "start_time": "2022-12-11T21:08:31.239Z"
   },
   {
    "duration": 13,
    "start_time": "2022-12-11T21:08:31.274Z"
   },
   {
    "duration": 84,
    "start_time": "2022-12-11T21:08:31.289Z"
   },
   {
    "duration": 21,
    "start_time": "2022-12-11T21:08:31.375Z"
   },
   {
    "duration": 20,
    "start_time": "2022-12-11T21:08:31.398Z"
   },
   {
    "duration": 28,
    "start_time": "2022-12-11T21:08:31.420Z"
   },
   {
    "duration": 4,
    "start_time": "2022-12-11T21:08:31.450Z"
   },
   {
    "duration": 9,
    "start_time": "2022-12-11T21:08:31.456Z"
   },
   {
    "duration": 8,
    "start_time": "2022-12-11T21:08:31.466Z"
   },
   {
    "duration": 11,
    "start_time": "2022-12-11T21:08:31.475Z"
   },
   {
    "duration": 59,
    "start_time": "2022-12-11T21:08:31.488Z"
   },
   {
    "duration": 28,
    "start_time": "2022-12-11T21:08:31.549Z"
   },
   {
    "duration": 8,
    "start_time": "2022-12-11T21:08:31.579Z"
   },
   {
    "duration": 24,
    "start_time": "2022-12-11T21:08:31.589Z"
   },
   {
    "duration": 16,
    "start_time": "2022-12-11T21:08:31.614Z"
   },
   {
    "duration": 26,
    "start_time": "2022-12-11T21:08:31.631Z"
   },
   {
    "duration": 8,
    "start_time": "2022-12-11T21:08:31.659Z"
   },
   {
    "duration": 38,
    "start_time": "2022-12-11T21:12:10.952Z"
   },
   {
    "duration": 9,
    "start_time": "2022-12-11T21:13:59.338Z"
   },
   {
    "duration": 9,
    "start_time": "2022-12-11T21:15:33.303Z"
   },
   {
    "duration": 35,
    "start_time": "2022-12-11T21:26:49.699Z"
   },
   {
    "duration": 764,
    "start_time": "2022-12-11T21:28:51.690Z"
   },
   {
    "duration": 34,
    "start_time": "2022-12-11T21:28:52.456Z"
   },
   {
    "duration": 29,
    "start_time": "2022-12-11T21:28:52.493Z"
   },
   {
    "duration": 90,
    "start_time": "2022-12-11T21:28:52.524Z"
   },
   {
    "duration": 21,
    "start_time": "2022-12-11T21:28:52.616Z"
   },
   {
    "duration": 9,
    "start_time": "2022-12-11T21:28:52.639Z"
   },
   {
    "duration": 29,
    "start_time": "2022-12-11T21:28:52.649Z"
   },
   {
    "duration": 33,
    "start_time": "2022-12-11T21:28:52.680Z"
   },
   {
    "duration": 10,
    "start_time": "2022-12-11T21:28:52.715Z"
   },
   {
    "duration": 5,
    "start_time": "2022-12-11T21:28:52.726Z"
   },
   {
    "duration": 8,
    "start_time": "2022-12-11T21:28:52.732Z"
   },
   {
    "duration": 40,
    "start_time": "2022-12-11T21:28:52.742Z"
   },
   {
    "duration": 49,
    "start_time": "2022-12-11T21:28:52.783Z"
   },
   {
    "duration": 8,
    "start_time": "2022-12-11T21:28:52.835Z"
   },
   {
    "duration": 16,
    "start_time": "2022-12-11T21:28:52.844Z"
   },
   {
    "duration": 8,
    "start_time": "2022-12-11T21:28:52.862Z"
   },
   {
    "duration": 27,
    "start_time": "2022-12-11T21:28:52.872Z"
   },
   {
    "duration": 17,
    "start_time": "2022-12-11T21:28:52.900Z"
   },
   {
    "duration": 14,
    "start_time": "2022-12-11T21:28:52.919Z"
   },
   {
    "duration": 738,
    "start_time": "2022-12-11T21:37:47.884Z"
   },
   {
    "duration": 37,
    "start_time": "2022-12-11T21:37:48.624Z"
   },
   {
    "duration": 15,
    "start_time": "2022-12-11T21:37:48.663Z"
   },
   {
    "duration": 101,
    "start_time": "2022-12-11T21:37:48.680Z"
   },
   {
    "duration": 22,
    "start_time": "2022-12-11T21:37:48.782Z"
   },
   {
    "duration": 22,
    "start_time": "2022-12-11T21:37:48.806Z"
   },
   {
    "duration": 66,
    "start_time": "2022-12-11T21:37:48.830Z"
   },
   {
    "duration": 4,
    "start_time": "2022-12-11T21:37:48.898Z"
   },
   {
    "duration": 37,
    "start_time": "2022-12-11T21:37:48.904Z"
   },
   {
    "duration": 18,
    "start_time": "2022-12-11T21:37:48.944Z"
   },
   {
    "duration": 30,
    "start_time": "2022-12-11T21:37:48.964Z"
   },
   {
    "duration": 60,
    "start_time": "2022-12-11T21:37:48.996Z"
   },
   {
    "duration": 36,
    "start_time": "2022-12-11T21:37:49.058Z"
   },
   {
    "duration": 16,
    "start_time": "2022-12-11T21:37:49.096Z"
   },
   {
    "duration": 33,
    "start_time": "2022-12-11T21:37:49.114Z"
   },
   {
    "duration": 36,
    "start_time": "2022-12-11T21:37:49.149Z"
   },
   {
    "duration": 56,
    "start_time": "2022-12-11T21:37:49.187Z"
   },
   {
    "duration": 12,
    "start_time": "2022-12-11T21:37:49.245Z"
   },
   {
    "duration": 44,
    "start_time": "2022-12-11T21:37:49.259Z"
   },
   {
    "duration": 13,
    "start_time": "2022-12-11T21:40:32.310Z"
   },
   {
    "duration": 693,
    "start_time": "2022-12-11T21:43:19.958Z"
   },
   {
    "duration": 30,
    "start_time": "2022-12-11T21:43:20.653Z"
   },
   {
    "duration": 27,
    "start_time": "2022-12-11T21:43:20.685Z"
   },
   {
    "duration": 71,
    "start_time": "2022-12-11T21:43:20.715Z"
   },
   {
    "duration": 36,
    "start_time": "2022-12-11T21:43:20.788Z"
   },
   {
    "duration": 9,
    "start_time": "2022-12-11T21:43:20.825Z"
   },
   {
    "duration": 30,
    "start_time": "2022-12-11T21:43:20.835Z"
   },
   {
    "duration": 5,
    "start_time": "2022-12-11T21:43:20.867Z"
   },
   {
    "duration": 12,
    "start_time": "2022-12-11T21:43:20.873Z"
   },
   {
    "duration": 6,
    "start_time": "2022-12-11T21:43:20.912Z"
   },
   {
    "duration": 9,
    "start_time": "2022-12-11T21:43:20.920Z"
   },
   {
    "duration": 54,
    "start_time": "2022-12-11T21:43:20.931Z"
   },
   {
    "duration": 40,
    "start_time": "2022-12-11T21:43:20.987Z"
   },
   {
    "duration": 8,
    "start_time": "2022-12-11T21:43:21.029Z"
   },
   {
    "duration": 8,
    "start_time": "2022-12-11T21:43:21.038Z"
   },
   {
    "duration": 9,
    "start_time": "2022-12-11T21:43:21.048Z"
   },
   {
    "duration": 18,
    "start_time": "2022-12-11T21:43:21.059Z"
   },
   {
    "duration": 7,
    "start_time": "2022-12-11T21:43:21.079Z"
   },
   {
    "duration": 44,
    "start_time": "2022-12-11T21:43:21.088Z"
   },
   {
    "duration": 10,
    "start_time": "2022-12-11T21:43:21.134Z"
   },
   {
    "duration": 964,
    "start_time": "2022-12-12T18:38:05.156Z"
   },
   {
    "duration": 33,
    "start_time": "2022-12-12T18:38:06.122Z"
   },
   {
    "duration": 32,
    "start_time": "2022-12-12T18:38:06.158Z"
   },
   {
    "duration": 92,
    "start_time": "2022-12-12T18:38:06.191Z"
   },
   {
    "duration": 21,
    "start_time": "2022-12-12T18:38:06.284Z"
   },
   {
    "duration": 19,
    "start_time": "2022-12-12T18:38:06.312Z"
   },
   {
    "duration": 66,
    "start_time": "2022-12-12T18:38:06.333Z"
   },
   {
    "duration": 13,
    "start_time": "2022-12-12T18:38:06.401Z"
   },
   {
    "duration": 61,
    "start_time": "2022-12-12T18:38:06.416Z"
   },
   {
    "duration": 36,
    "start_time": "2022-12-12T18:38:06.479Z"
   },
   {
    "duration": 59,
    "start_time": "2022-12-12T18:38:06.517Z"
   },
   {
    "duration": 72,
    "start_time": "2022-12-12T18:38:06.578Z"
   },
   {
    "duration": 29,
    "start_time": "2022-12-12T18:38:06.652Z"
   },
   {
    "duration": 20,
    "start_time": "2022-12-12T18:38:06.683Z"
   },
   {
    "duration": 63,
    "start_time": "2022-12-12T18:38:06.705Z"
   },
   {
    "duration": 40,
    "start_time": "2022-12-12T18:38:06.770Z"
   },
   {
    "duration": 39,
    "start_time": "2022-12-12T18:38:06.812Z"
   },
   {
    "duration": 30,
    "start_time": "2022-12-12T18:38:06.853Z"
   },
   {
    "duration": 44,
    "start_time": "2022-12-12T18:38:06.885Z"
   },
   {
    "duration": 28,
    "start_time": "2022-12-12T18:38:06.931Z"
   },
   {
    "duration": 99,
    "start_time": "2022-12-12T18:38:06.961Z"
   },
   {
    "duration": 98,
    "start_time": "2022-12-12T18:39:47.739Z"
   },
   {
    "duration": 4,
    "start_time": "2022-12-12T18:42:18.596Z"
   },
   {
    "duration": 9,
    "start_time": "2022-12-12T18:42:19.668Z"
   },
   {
    "duration": 9,
    "start_time": "2022-12-12T18:44:49.099Z"
   },
   {
    "duration": 31,
    "start_time": "2022-12-12T19:00:12.297Z"
   },
   {
    "duration": 703,
    "start_time": "2022-12-12T19:00:22.026Z"
   },
   {
    "duration": 33,
    "start_time": "2022-12-12T19:00:22.731Z"
   },
   {
    "duration": 15,
    "start_time": "2022-12-12T19:00:22.766Z"
   },
   {
    "duration": 100,
    "start_time": "2022-12-12T19:00:22.783Z"
   },
   {
    "duration": 30,
    "start_time": "2022-12-12T19:00:22.885Z"
   },
   {
    "duration": 11,
    "start_time": "2022-12-12T19:00:22.917Z"
   },
   {
    "duration": 81,
    "start_time": "2022-12-12T19:00:22.931Z"
   },
   {
    "duration": 17,
    "start_time": "2022-12-12T19:00:23.013Z"
   },
   {
    "duration": 31,
    "start_time": "2022-12-12T19:00:23.032Z"
   },
   {
    "duration": 45,
    "start_time": "2022-12-12T19:00:23.065Z"
   },
   {
    "duration": 36,
    "start_time": "2022-12-12T19:00:23.112Z"
   },
   {
    "duration": 103,
    "start_time": "2022-12-12T19:00:23.150Z"
   },
   {
    "duration": 26,
    "start_time": "2022-12-12T19:00:23.255Z"
   },
   {
    "duration": 11,
    "start_time": "2022-12-12T19:00:23.282Z"
   },
   {
    "duration": 59,
    "start_time": "2022-12-12T19:00:23.294Z"
   },
   {
    "duration": 22,
    "start_time": "2022-12-12T19:00:23.356Z"
   },
   {
    "duration": 42,
    "start_time": "2022-12-12T19:00:23.380Z"
   },
   {
    "duration": 29,
    "start_time": "2022-12-12T19:00:23.424Z"
   },
   {
    "duration": 41,
    "start_time": "2022-12-12T19:00:23.455Z"
   },
   {
    "duration": 28,
    "start_time": "2022-12-12T19:00:23.498Z"
   },
   {
    "duration": 59,
    "start_time": "2022-12-12T19:00:23.528Z"
   },
   {
    "duration": 91,
    "start_time": "2022-12-12T19:00:23.589Z"
   },
   {
    "duration": 0,
    "start_time": "2022-12-12T19:00:23.681Z"
   },
   {
    "duration": 0,
    "start_time": "2022-12-12T19:00:23.682Z"
   },
   {
    "duration": 785,
    "start_time": "2022-12-12T19:03:48.759Z"
   },
   {
    "duration": 34,
    "start_time": "2022-12-12T19:03:49.546Z"
   },
   {
    "duration": 31,
    "start_time": "2022-12-12T19:03:49.582Z"
   },
   {
    "duration": 117,
    "start_time": "2022-12-12T19:03:49.615Z"
   },
   {
    "duration": 29,
    "start_time": "2022-12-12T19:03:49.734Z"
   },
   {
    "duration": 12,
    "start_time": "2022-12-12T19:03:49.765Z"
   },
   {
    "duration": 62,
    "start_time": "2022-12-12T19:03:49.779Z"
   },
   {
    "duration": 5,
    "start_time": "2022-12-12T19:03:49.843Z"
   },
   {
    "duration": 16,
    "start_time": "2022-12-12T19:03:49.850Z"
   },
   {
    "duration": 6,
    "start_time": "2022-12-12T19:03:49.868Z"
   },
   {
    "duration": 17,
    "start_time": "2022-12-12T19:03:49.876Z"
   },
   {
    "duration": 66,
    "start_time": "2022-12-12T19:03:49.896Z"
   },
   {
    "duration": 30,
    "start_time": "2022-12-12T19:03:49.965Z"
   },
   {
    "duration": 22,
    "start_time": "2022-12-12T19:03:49.997Z"
   },
   {
    "duration": 16,
    "start_time": "2022-12-12T19:03:50.021Z"
   },
   {
    "duration": 14,
    "start_time": "2022-12-12T19:03:50.039Z"
   },
   {
    "duration": 21,
    "start_time": "2022-12-12T19:03:50.054Z"
   },
   {
    "duration": 9,
    "start_time": "2022-12-12T19:03:50.076Z"
   },
   {
    "duration": 31,
    "start_time": "2022-12-12T19:03:50.086Z"
   },
   {
    "duration": 8,
    "start_time": "2022-12-12T19:03:50.119Z"
   },
   {
    "duration": 37,
    "start_time": "2022-12-12T19:03:50.129Z"
   },
   {
    "duration": 5,
    "start_time": "2022-12-12T19:03:50.168Z"
   },
   {
    "duration": 39,
    "start_time": "2022-12-12T19:03:50.174Z"
   },
   {
    "duration": 1066,
    "start_time": "2022-12-12T19:03:50.215Z"
   },
   {
    "duration": 377,
    "start_time": "2022-12-12T19:03:51.283Z"
   },
   {
    "duration": 52,
    "start_time": "2022-12-12T19:03:51.662Z"
   },
   {
    "duration": 84,
    "start_time": "2022-12-12T19:34:57.907Z"
   },
   {
    "duration": 772,
    "start_time": "2022-12-12T19:37:30.958Z"
   },
   {
    "duration": 1044,
    "start_time": "2022-12-12T19:37:48.963Z"
   },
   {
    "duration": 1663,
    "start_time": "2022-12-12T20:17:54.426Z"
   },
   {
    "duration": 1233,
    "start_time": "2022-12-12T20:20:52.606Z"
   },
   {
    "duration": 18,
    "start_time": "2022-12-12T20:21:46.479Z"
   },
   {
    "duration": 178,
    "start_time": "2022-12-12T20:22:34.829Z"
   },
   {
    "duration": 5,
    "start_time": "2022-12-12T20:25:29.799Z"
   },
   {
    "duration": 16,
    "start_time": "2022-12-12T20:25:36.851Z"
   },
   {
    "duration": 16,
    "start_time": "2022-12-12T20:42:23.403Z"
   },
   {
    "duration": 2582,
    "start_time": "2022-12-12T20:58:15.254Z"
   },
   {
    "duration": 3825,
    "start_time": "2022-12-12T21:00:11.054Z"
   },
   {
    "duration": 757,
    "start_time": "2022-12-12T21:01:52.787Z"
   },
   {
    "duration": 34,
    "start_time": "2022-12-12T21:01:53.545Z"
   },
   {
    "duration": 17,
    "start_time": "2022-12-12T21:01:53.580Z"
   },
   {
    "duration": 85,
    "start_time": "2022-12-12T21:01:53.614Z"
   },
   {
    "duration": 23,
    "start_time": "2022-12-12T21:01:53.713Z"
   },
   {
    "duration": 8,
    "start_time": "2022-12-12T21:01:53.738Z"
   },
   {
    "duration": 32,
    "start_time": "2022-12-12T21:01:53.748Z"
   },
   {
    "duration": 4,
    "start_time": "2022-12-12T21:01:53.781Z"
   },
   {
    "duration": 38,
    "start_time": "2022-12-12T21:01:53.787Z"
   },
   {
    "duration": 5,
    "start_time": "2022-12-12T21:01:53.828Z"
   },
   {
    "duration": 7,
    "start_time": "2022-12-12T21:01:53.835Z"
   },
   {
    "duration": 39,
    "start_time": "2022-12-12T21:01:53.844Z"
   },
   {
    "duration": 49,
    "start_time": "2022-12-12T21:01:53.885Z"
   },
   {
    "duration": 8,
    "start_time": "2022-12-12T21:01:53.935Z"
   },
   {
    "duration": 12,
    "start_time": "2022-12-12T21:01:53.945Z"
   },
   {
    "duration": 9,
    "start_time": "2022-12-12T21:01:53.959Z"
   },
   {
    "duration": 7,
    "start_time": "2022-12-12T21:01:53.970Z"
   },
   {
    "duration": 54,
    "start_time": "2022-12-12T21:01:53.980Z"
   },
   {
    "duration": 10,
    "start_time": "2022-12-12T21:01:54.036Z"
   },
   {
    "duration": 19,
    "start_time": "2022-12-12T21:01:54.048Z"
   },
   {
    "duration": 9,
    "start_time": "2022-12-12T21:01:54.069Z"
   },
   {
    "duration": 52,
    "start_time": "2022-12-12T21:01:54.079Z"
   },
   {
    "duration": 4,
    "start_time": "2022-12-12T21:01:54.133Z"
   },
   {
    "duration": 5,
    "start_time": "2022-12-12T21:01:54.139Z"
   },
   {
    "duration": 937,
    "start_time": "2022-12-12T21:01:54.145Z"
   },
   {
    "duration": 315,
    "start_time": "2022-12-12T21:01:55.083Z"
   },
   {
    "duration": 35,
    "start_time": "2022-12-12T21:01:55.400Z"
   },
   {
    "duration": 14,
    "start_time": "2022-12-12T21:01:55.438Z"
   },
   {
    "duration": 1579,
    "start_time": "2022-12-12T21:01:55.454Z"
   },
   {
    "duration": 1156,
    "start_time": "2022-12-12T21:01:57.034Z"
   },
   {
    "duration": 0,
    "start_time": "2022-12-12T21:01:58.191Z"
   },
   {
    "duration": 1338,
    "start_time": "2022-12-12T21:04:15.933Z"
   },
   {
    "duration": 1411,
    "start_time": "2022-12-12T21:04:22.936Z"
   },
   {
    "duration": 1352,
    "start_time": "2022-12-12T21:04:39.499Z"
   },
   {
    "duration": 197,
    "start_time": "2022-12-12T21:04:59.252Z"
   },
   {
    "duration": 181,
    "start_time": "2022-12-12T21:06:51.270Z"
   },
   {
    "duration": 51,
    "start_time": "2022-12-13T14:41:05.264Z"
   },
   {
    "duration": 7,
    "start_time": "2022-12-13T14:41:24.615Z"
   },
   {
    "duration": 6,
    "start_time": "2022-12-13T14:42:09.226Z"
   },
   {
    "duration": 7,
    "start_time": "2022-12-13T14:42:10.320Z"
   },
   {
    "duration": 1052,
    "start_time": "2022-12-13T14:42:19.074Z"
   },
   {
    "duration": 35,
    "start_time": "2022-12-13T14:42:20.128Z"
   },
   {
    "duration": 27,
    "start_time": "2022-12-13T14:42:20.165Z"
   },
   {
    "duration": 75,
    "start_time": "2022-12-13T14:42:20.195Z"
   },
   {
    "duration": 31,
    "start_time": "2022-12-13T14:42:20.282Z"
   },
   {
    "duration": 11,
    "start_time": "2022-12-13T14:42:20.316Z"
   },
   {
    "duration": 30,
    "start_time": "2022-12-13T14:42:20.329Z"
   },
   {
    "duration": 7,
    "start_time": "2022-12-13T14:42:20.377Z"
   },
   {
    "duration": 28,
    "start_time": "2022-12-13T14:42:20.386Z"
   },
   {
    "duration": 5,
    "start_time": "2022-12-13T14:42:20.418Z"
   },
   {
    "duration": 7,
    "start_time": "2022-12-13T14:42:20.425Z"
   },
   {
    "duration": 55,
    "start_time": "2022-12-13T14:42:20.434Z"
   },
   {
    "duration": 19,
    "start_time": "2022-12-13T14:42:20.491Z"
   },
   {
    "duration": 28,
    "start_time": "2022-12-13T14:42:20.515Z"
   },
   {
    "duration": 8,
    "start_time": "2022-12-13T14:42:20.545Z"
   },
   {
    "duration": 43,
    "start_time": "2022-12-13T14:42:20.555Z"
   },
   {
    "duration": 10,
    "start_time": "2022-12-13T14:42:20.600Z"
   },
   {
    "duration": 13,
    "start_time": "2022-12-13T14:42:20.613Z"
   },
   {
    "duration": 29,
    "start_time": "2022-12-13T14:42:20.628Z"
   },
   {
    "duration": 7,
    "start_time": "2022-12-13T14:42:20.659Z"
   },
   {
    "duration": 26,
    "start_time": "2022-12-13T14:42:20.667Z"
   },
   {
    "duration": 11,
    "start_time": "2022-12-13T14:42:20.695Z"
   },
   {
    "duration": 37,
    "start_time": "2022-12-13T14:42:20.708Z"
   },
   {
    "duration": 4,
    "start_time": "2022-12-13T14:42:20.746Z"
   },
   {
    "duration": 8,
    "start_time": "2022-12-13T14:42:20.751Z"
   },
   {
    "duration": 1074,
    "start_time": "2022-12-13T14:42:20.760Z"
   },
   {
    "duration": 367,
    "start_time": "2022-12-13T14:42:21.836Z"
   },
   {
    "duration": 33,
    "start_time": "2022-12-13T14:42:22.207Z"
   },
   {
    "duration": 14,
    "start_time": "2022-12-13T14:42:22.241Z"
   },
   {
    "duration": 1761,
    "start_time": "2022-12-13T14:42:22.257Z"
   },
   {
    "duration": 334,
    "start_time": "2022-12-13T14:42:24.021Z"
   },
   {
    "duration": 0,
    "start_time": "2022-12-13T14:42:24.357Z"
   },
   {
    "duration": 9,
    "start_time": "2022-12-13T14:47:58.522Z"
   },
   {
    "duration": 10,
    "start_time": "2022-12-13T14:48:13.106Z"
   },
   {
    "duration": 7,
    "start_time": "2022-12-13T14:48:21.738Z"
   },
   {
    "duration": 39,
    "start_time": "2022-12-13T14:50:38.908Z"
   },
   {
    "duration": 11,
    "start_time": "2022-12-13T14:53:15.437Z"
   },
   {
    "duration": 1218,
    "start_time": "2022-12-13T19:05:01.748Z"
   },
   {
    "duration": 34,
    "start_time": "2022-12-13T19:05:02.968Z"
   },
   {
    "duration": 15,
    "start_time": "2022-12-13T19:05:03.005Z"
   },
   {
    "duration": 83,
    "start_time": "2022-12-13T19:05:03.023Z"
   },
   {
    "duration": 33,
    "start_time": "2022-12-13T19:05:03.107Z"
   },
   {
    "duration": 8,
    "start_time": "2022-12-13T19:05:03.142Z"
   },
   {
    "duration": 30,
    "start_time": "2022-12-13T19:05:03.152Z"
   },
   {
    "duration": 4,
    "start_time": "2022-12-13T19:05:03.184Z"
   },
   {
    "duration": 14,
    "start_time": "2022-12-13T19:05:03.190Z"
   },
   {
    "duration": 31,
    "start_time": "2022-12-13T19:05:03.206Z"
   },
   {
    "duration": 6,
    "start_time": "2022-12-13T19:05:03.239Z"
   },
   {
    "duration": 45,
    "start_time": "2022-12-13T19:05:03.247Z"
   },
   {
    "duration": 7,
    "start_time": "2022-12-13T19:05:03.295Z"
   },
   {
    "duration": 54,
    "start_time": "2022-12-13T19:05:03.304Z"
   },
   {
    "duration": 29,
    "start_time": "2022-12-13T19:05:03.360Z"
   },
   {
    "duration": 7,
    "start_time": "2022-12-13T19:05:03.391Z"
   },
   {
    "duration": 16,
    "start_time": "2022-12-13T19:05:03.399Z"
   },
   {
    "duration": 26,
    "start_time": "2022-12-13T19:05:03.416Z"
   },
   {
    "duration": 14,
    "start_time": "2022-12-13T19:05:03.444Z"
   },
   {
    "duration": 24,
    "start_time": "2022-12-13T19:05:03.460Z"
   },
   {
    "duration": 8,
    "start_time": "2022-12-13T19:05:03.485Z"
   },
   {
    "duration": 23,
    "start_time": "2022-12-13T19:05:03.494Z"
   },
   {
    "duration": 18,
    "start_time": "2022-12-13T19:05:03.518Z"
   },
   {
    "duration": 31,
    "start_time": "2022-12-13T19:05:03.537Z"
   },
   {
    "duration": 4,
    "start_time": "2022-12-13T19:05:03.570Z"
   },
   {
    "duration": 9,
    "start_time": "2022-12-13T19:05:03.575Z"
   },
   {
    "duration": 979,
    "start_time": "2022-12-13T19:05:03.586Z"
   },
   {
    "duration": 348,
    "start_time": "2022-12-13T19:05:04.567Z"
   },
   {
    "duration": 45,
    "start_time": "2022-12-13T19:05:04.917Z"
   },
   {
    "duration": 17,
    "start_time": "2022-12-13T19:05:04.964Z"
   },
   {
    "duration": 1618,
    "start_time": "2022-12-13T19:05:04.983Z"
   },
   {
    "duration": 295,
    "start_time": "2022-12-13T19:05:06.602Z"
   },
   {
    "duration": 0,
    "start_time": "2022-12-13T19:05:06.899Z"
   },
   {
    "duration": 17,
    "start_time": "2022-12-13T19:12:18.470Z"
   },
   {
    "duration": 8,
    "start_time": "2022-12-13T19:17:56.396Z"
   },
   {
    "duration": 68,
    "start_time": "2022-12-13T19:21:00.746Z"
   },
   {
    "duration": 52,
    "start_time": "2022-12-13T19:21:24.246Z"
   },
   {
    "duration": 48,
    "start_time": "2022-12-13T19:21:32.575Z"
   },
   {
    "duration": 5,
    "start_time": "2022-12-13T19:21:45.493Z"
   },
   {
    "duration": 4,
    "start_time": "2022-12-13T19:21:55.292Z"
   },
   {
    "duration": 5,
    "start_time": "2022-12-13T19:22:22.736Z"
   },
   {
    "duration": 19,
    "start_time": "2022-12-13T19:24:35.703Z"
   },
   {
    "duration": 22,
    "start_time": "2022-12-13T19:28:31.067Z"
   },
   {
    "duration": 18,
    "start_time": "2022-12-13T19:31:09.733Z"
   },
   {
    "duration": 18,
    "start_time": "2022-12-13T19:31:49.921Z"
   },
   {
    "duration": 18,
    "start_time": "2022-12-13T19:37:58.488Z"
   },
   {
    "duration": 11,
    "start_time": "2022-12-13T19:38:01.396Z"
   },
   {
    "duration": 3,
    "start_time": "2022-12-13T19:39:46.942Z"
   },
   {
    "duration": 293,
    "start_time": "2022-12-13T19:42:03.430Z"
   },
   {
    "duration": 11,
    "start_time": "2022-12-13T19:42:17.307Z"
   },
   {
    "duration": 324,
    "start_time": "2022-12-13T19:44:33.095Z"
   },
   {
    "duration": 20,
    "start_time": "2022-12-13T19:44:36.452Z"
   },
   {
    "duration": 11,
    "start_time": "2022-12-13T19:44:40.930Z"
   },
   {
    "duration": 7,
    "start_time": "2022-12-13T19:51:36.735Z"
   },
   {
    "duration": 10,
    "start_time": "2022-12-13T19:51:43.271Z"
   },
   {
    "duration": 4,
    "start_time": "2022-12-13T19:52:51.772Z"
   },
   {
    "duration": 14,
    "start_time": "2022-12-13T19:53:00.040Z"
   },
   {
    "duration": 16,
    "start_time": "2022-12-13T19:53:20.170Z"
   },
   {
    "duration": 16,
    "start_time": "2022-12-13T19:53:33.624Z"
   },
   {
    "duration": 15,
    "start_time": "2022-12-13T19:54:43.924Z"
   },
   {
    "duration": 218,
    "start_time": "2022-12-13T19:55:22.906Z"
   },
   {
    "duration": 4,
    "start_time": "2022-12-13T19:55:32.328Z"
   },
   {
    "duration": 297,
    "start_time": "2022-12-13T19:55:41.071Z"
   },
   {
    "duration": 17,
    "start_time": "2022-12-13T19:55:51.680Z"
   },
   {
    "duration": 71,
    "start_time": "2022-12-13T19:59:09.990Z"
   },
   {
    "duration": 19,
    "start_time": "2022-12-13T20:00:22.598Z"
   },
   {
    "duration": 15,
    "start_time": "2022-12-13T20:00:29.548Z"
   },
   {
    "duration": 222,
    "start_time": "2022-12-13T20:01:07.957Z"
   },
   {
    "duration": 14,
    "start_time": "2022-12-13T20:01:11.469Z"
   },
   {
    "duration": 214,
    "start_time": "2022-12-13T20:01:14.391Z"
   },
   {
    "duration": 14,
    "start_time": "2022-12-13T20:01:15.105Z"
   },
   {
    "duration": 221,
    "start_time": "2022-12-13T20:01:52.833Z"
   },
   {
    "duration": 733,
    "start_time": "2022-12-13T20:02:02.432Z"
   },
   {
    "duration": 33,
    "start_time": "2022-12-13T20:02:03.167Z"
   },
   {
    "duration": 14,
    "start_time": "2022-12-13T20:02:03.202Z"
   },
   {
    "duration": 89,
    "start_time": "2022-12-13T20:02:03.218Z"
   },
   {
    "duration": 34,
    "start_time": "2022-12-13T20:02:03.309Z"
   },
   {
    "duration": 9,
    "start_time": "2022-12-13T20:02:03.345Z"
   },
   {
    "duration": 52,
    "start_time": "2022-12-13T20:02:03.355Z"
   },
   {
    "duration": 6,
    "start_time": "2022-12-13T20:02:03.408Z"
   },
   {
    "duration": 19,
    "start_time": "2022-12-13T20:02:03.416Z"
   },
   {
    "duration": 6,
    "start_time": "2022-12-13T20:02:03.437Z"
   },
   {
    "duration": 12,
    "start_time": "2022-12-13T20:02:03.445Z"
   },
   {
    "duration": 8,
    "start_time": "2022-12-13T20:02:03.459Z"
   },
   {
    "duration": 38,
    "start_time": "2022-12-13T20:02:03.469Z"
   },
   {
    "duration": 6,
    "start_time": "2022-12-13T20:02:03.511Z"
   },
   {
    "duration": 58,
    "start_time": "2022-12-13T20:02:03.518Z"
   },
   {
    "duration": 13,
    "start_time": "2022-12-13T20:02:03.578Z"
   },
   {
    "duration": 407,
    "start_time": "2022-12-13T20:02:03.592Z"
   },
   {
    "duration": 12,
    "start_time": "2022-12-13T20:02:04.001Z"
   },
   {
    "duration": 483,
    "start_time": "2022-12-13T20:02:04.015Z"
   },
   {
    "duration": 14,
    "start_time": "2022-12-13T20:02:04.500Z"
   },
   {
    "duration": 177,
    "start_time": "2022-12-13T20:02:04.516Z"
   },
   {
    "duration": 8,
    "start_time": "2022-12-13T20:02:04.695Z"
   },
   {
    "duration": 86,
    "start_time": "2022-12-13T20:02:04.705Z"
   },
   {
    "duration": 0,
    "start_time": "2022-12-13T20:02:04.793Z"
   },
   {
    "duration": 0,
    "start_time": "2022-12-13T20:02:04.795Z"
   },
   {
    "duration": 0,
    "start_time": "2022-12-13T20:02:04.796Z"
   },
   {
    "duration": 0,
    "start_time": "2022-12-13T20:02:04.797Z"
   },
   {
    "duration": 0,
    "start_time": "2022-12-13T20:02:04.798Z"
   },
   {
    "duration": 0,
    "start_time": "2022-12-13T20:02:04.799Z"
   },
   {
    "duration": 0,
    "start_time": "2022-12-13T20:02:04.800Z"
   },
   {
    "duration": 0,
    "start_time": "2022-12-13T20:02:04.802Z"
   },
   {
    "duration": 0,
    "start_time": "2022-12-13T20:02:04.803Z"
   },
   {
    "duration": 0,
    "start_time": "2022-12-13T20:02:04.804Z"
   },
   {
    "duration": 0,
    "start_time": "2022-12-13T20:02:04.805Z"
   },
   {
    "duration": 0,
    "start_time": "2022-12-13T20:02:04.806Z"
   },
   {
    "duration": 0,
    "start_time": "2022-12-13T20:02:04.807Z"
   },
   {
    "duration": 0,
    "start_time": "2022-12-13T20:02:04.835Z"
   },
   {
    "duration": 0,
    "start_time": "2022-12-13T20:02:04.836Z"
   },
   {
    "duration": 0,
    "start_time": "2022-12-13T20:02:04.837Z"
   },
   {
    "duration": 0,
    "start_time": "2022-12-13T20:02:04.838Z"
   },
   {
    "duration": 0,
    "start_time": "2022-12-13T20:02:04.840Z"
   },
   {
    "duration": 0,
    "start_time": "2022-12-13T20:02:04.840Z"
   },
   {
    "duration": 0,
    "start_time": "2022-12-13T20:02:04.841Z"
   },
   {
    "duration": 0,
    "start_time": "2022-12-13T20:02:04.843Z"
   },
   {
    "duration": 0,
    "start_time": "2022-12-13T20:02:04.844Z"
   },
   {
    "duration": 1687,
    "start_time": "2022-12-13T20:02:21.532Z"
   },
   {
    "duration": 898,
    "start_time": "2022-12-13T20:02:32.017Z"
   },
   {
    "duration": 725,
    "start_time": "2022-12-13T20:03:15.626Z"
   },
   {
    "duration": 34,
    "start_time": "2022-12-13T20:03:16.353Z"
   },
   {
    "duration": 15,
    "start_time": "2022-12-13T20:03:16.389Z"
   },
   {
    "duration": 96,
    "start_time": "2022-12-13T20:03:16.406Z"
   },
   {
    "duration": 23,
    "start_time": "2022-12-13T20:03:16.504Z"
   },
   {
    "duration": 11,
    "start_time": "2022-12-13T20:03:16.535Z"
   },
   {
    "duration": 35,
    "start_time": "2022-12-13T20:03:16.547Z"
   },
   {
    "duration": 4,
    "start_time": "2022-12-13T20:03:16.584Z"
   },
   {
    "duration": 22,
    "start_time": "2022-12-13T20:03:16.590Z"
   },
   {
    "duration": 24,
    "start_time": "2022-12-13T20:03:16.614Z"
   },
   {
    "duration": 8,
    "start_time": "2022-12-13T20:03:16.640Z"
   },
   {
    "duration": 18,
    "start_time": "2022-12-13T20:03:16.649Z"
   },
   {
    "duration": 56,
    "start_time": "2022-12-13T20:03:16.669Z"
   },
   {
    "duration": 8,
    "start_time": "2022-12-13T20:03:16.727Z"
   },
   {
    "duration": 54,
    "start_time": "2022-12-13T20:03:16.737Z"
   },
   {
    "duration": 14,
    "start_time": "2022-12-13T20:03:16.793Z"
   },
   {
    "duration": 433,
    "start_time": "2022-12-13T20:03:16.809Z"
   },
   {
    "duration": 13,
    "start_time": "2022-12-13T20:03:17.244Z"
   },
   {
    "duration": 510,
    "start_time": "2022-12-13T20:03:17.259Z"
   },
   {
    "duration": 15,
    "start_time": "2022-12-13T20:03:17.771Z"
   },
   {
    "duration": 180,
    "start_time": "2022-12-13T20:03:17.788Z"
   },
   {
    "duration": 10,
    "start_time": "2022-12-13T20:03:17.970Z"
   },
   {
    "duration": 97,
    "start_time": "2022-12-13T20:03:17.981Z"
   },
   {
    "duration": 0,
    "start_time": "2022-12-13T20:03:18.080Z"
   },
   {
    "duration": 0,
    "start_time": "2022-12-13T20:03:18.081Z"
   },
   {
    "duration": 0,
    "start_time": "2022-12-13T20:03:18.082Z"
   },
   {
    "duration": 0,
    "start_time": "2022-12-13T20:03:18.083Z"
   },
   {
    "duration": 0,
    "start_time": "2022-12-13T20:03:18.085Z"
   },
   {
    "duration": 0,
    "start_time": "2022-12-13T20:03:18.086Z"
   },
   {
    "duration": 0,
    "start_time": "2022-12-13T20:03:18.087Z"
   },
   {
    "duration": 0,
    "start_time": "2022-12-13T20:03:18.088Z"
   },
   {
    "duration": 0,
    "start_time": "2022-12-13T20:03:18.089Z"
   },
   {
    "duration": 0,
    "start_time": "2022-12-13T20:03:18.089Z"
   },
   {
    "duration": 0,
    "start_time": "2022-12-13T20:03:18.090Z"
   },
   {
    "duration": 0,
    "start_time": "2022-12-13T20:03:18.091Z"
   },
   {
    "duration": 0,
    "start_time": "2022-12-13T20:03:18.092Z"
   },
   {
    "duration": 0,
    "start_time": "2022-12-13T20:03:18.093Z"
   },
   {
    "duration": 0,
    "start_time": "2022-12-13T20:03:18.094Z"
   },
   {
    "duration": 0,
    "start_time": "2022-12-13T20:03:18.095Z"
   },
   {
    "duration": 0,
    "start_time": "2022-12-13T20:03:18.096Z"
   },
   {
    "duration": 0,
    "start_time": "2022-12-13T20:03:18.097Z"
   },
   {
    "duration": 0,
    "start_time": "2022-12-13T20:03:18.098Z"
   },
   {
    "duration": 0,
    "start_time": "2022-12-13T20:03:18.099Z"
   },
   {
    "duration": 0,
    "start_time": "2022-12-13T20:03:18.100Z"
   },
   {
    "duration": 0,
    "start_time": "2022-12-13T20:03:18.101Z"
   },
   {
    "duration": 17,
    "start_time": "2022-12-13T20:03:47.751Z"
   },
   {
    "duration": 11,
    "start_time": "2022-12-13T20:03:54.031Z"
   },
   {
    "duration": 758,
    "start_time": "2022-12-13T20:05:05.147Z"
   },
   {
    "duration": 42,
    "start_time": "2022-12-13T20:05:05.907Z"
   },
   {
    "duration": 16,
    "start_time": "2022-12-13T20:05:05.954Z"
   },
   {
    "duration": 92,
    "start_time": "2022-12-13T20:05:05.972Z"
   },
   {
    "duration": 24,
    "start_time": "2022-12-13T20:05:06.066Z"
   },
   {
    "duration": 10,
    "start_time": "2022-12-13T20:05:06.092Z"
   },
   {
    "duration": 57,
    "start_time": "2022-12-13T20:05:06.104Z"
   },
   {
    "duration": 6,
    "start_time": "2022-12-13T20:05:06.162Z"
   },
   {
    "duration": 11,
    "start_time": "2022-12-13T20:05:06.173Z"
   },
   {
    "duration": 5,
    "start_time": "2022-12-13T20:05:06.186Z"
   },
   {
    "duration": 5,
    "start_time": "2022-12-13T20:05:06.192Z"
   },
   {
    "duration": 10,
    "start_time": "2022-12-13T20:05:06.198Z"
   },
   {
    "duration": 41,
    "start_time": "2022-12-13T20:05:06.236Z"
   },
   {
    "duration": 8,
    "start_time": "2022-12-13T20:05:06.278Z"
   },
   {
    "duration": 55,
    "start_time": "2022-12-13T20:05:06.288Z"
   },
   {
    "duration": 13,
    "start_time": "2022-12-13T20:05:06.345Z"
   },
   {
    "duration": 467,
    "start_time": "2022-12-13T20:05:06.360Z"
   },
   {
    "duration": 16,
    "start_time": "2022-12-13T20:05:06.828Z"
   },
   {
    "duration": 501,
    "start_time": "2022-12-13T20:05:06.846Z"
   },
   {
    "duration": 13,
    "start_time": "2022-12-13T20:05:07.349Z"
   },
   {
    "duration": 197,
    "start_time": "2022-12-13T20:05:07.364Z"
   },
   {
    "duration": 82,
    "start_time": "2022-12-13T20:05:07.564Z"
   },
   {
    "duration": 0,
    "start_time": "2022-12-13T20:05:07.649Z"
   },
   {
    "duration": 0,
    "start_time": "2022-12-13T20:05:07.650Z"
   },
   {
    "duration": 0,
    "start_time": "2022-12-13T20:05:07.651Z"
   },
   {
    "duration": 0,
    "start_time": "2022-12-13T20:05:07.653Z"
   },
   {
    "duration": 0,
    "start_time": "2022-12-13T20:05:07.655Z"
   },
   {
    "duration": 0,
    "start_time": "2022-12-13T20:05:07.656Z"
   },
   {
    "duration": 0,
    "start_time": "2022-12-13T20:05:07.658Z"
   },
   {
    "duration": 0,
    "start_time": "2022-12-13T20:05:07.659Z"
   },
   {
    "duration": 0,
    "start_time": "2022-12-13T20:05:07.661Z"
   },
   {
    "duration": 0,
    "start_time": "2022-12-13T20:05:07.662Z"
   },
   {
    "duration": 0,
    "start_time": "2022-12-13T20:05:07.664Z"
   },
   {
    "duration": 0,
    "start_time": "2022-12-13T20:05:07.665Z"
   },
   {
    "duration": 0,
    "start_time": "2022-12-13T20:05:07.666Z"
   },
   {
    "duration": 0,
    "start_time": "2022-12-13T20:05:07.668Z"
   },
   {
    "duration": 0,
    "start_time": "2022-12-13T20:05:07.669Z"
   },
   {
    "duration": 0,
    "start_time": "2022-12-13T20:05:07.671Z"
   },
   {
    "duration": 0,
    "start_time": "2022-12-13T20:05:07.672Z"
   },
   {
    "duration": 0,
    "start_time": "2022-12-13T20:05:07.674Z"
   },
   {
    "duration": 0,
    "start_time": "2022-12-13T20:05:07.676Z"
   },
   {
    "duration": 0,
    "start_time": "2022-12-13T20:05:07.677Z"
   },
   {
    "duration": 808,
    "start_time": "2022-12-13T20:05:36.896Z"
   },
   {
    "duration": 35,
    "start_time": "2022-12-13T20:05:37.708Z"
   },
   {
    "duration": 25,
    "start_time": "2022-12-13T20:05:37.748Z"
   },
   {
    "duration": 109,
    "start_time": "2022-12-13T20:05:37.775Z"
   },
   {
    "duration": 25,
    "start_time": "2022-12-13T20:05:37.886Z"
   },
   {
    "duration": 11,
    "start_time": "2022-12-13T20:05:37.913Z"
   },
   {
    "duration": 31,
    "start_time": "2022-12-13T20:05:37.936Z"
   },
   {
    "duration": 5,
    "start_time": "2022-12-13T20:05:37.969Z"
   },
   {
    "duration": 23,
    "start_time": "2022-12-13T20:05:37.977Z"
   },
   {
    "duration": 7,
    "start_time": "2022-12-13T20:05:38.002Z"
   },
   {
    "duration": 24,
    "start_time": "2022-12-13T20:05:38.012Z"
   },
   {
    "duration": 9,
    "start_time": "2022-12-13T20:05:38.038Z"
   },
   {
    "duration": 64,
    "start_time": "2022-12-13T20:05:38.049Z"
   },
   {
    "duration": 8,
    "start_time": "2022-12-13T20:05:38.116Z"
   },
   {
    "duration": 58,
    "start_time": "2022-12-13T20:05:38.136Z"
   },
   {
    "duration": 13,
    "start_time": "2022-12-13T20:05:38.196Z"
   },
   {
    "duration": 436,
    "start_time": "2022-12-13T20:05:38.211Z"
   },
   {
    "duration": 13,
    "start_time": "2022-12-13T20:05:38.649Z"
   },
   {
    "duration": 521,
    "start_time": "2022-12-13T20:05:38.664Z"
   },
   {
    "duration": 15,
    "start_time": "2022-12-13T20:05:39.187Z"
   },
   {
    "duration": 194,
    "start_time": "2022-12-13T20:05:39.204Z"
   },
   {
    "duration": 35,
    "start_time": "2022-12-13T20:05:39.400Z"
   },
   {
    "duration": 10,
    "start_time": "2022-12-13T20:05:39.437Z"
   },
   {
    "duration": 36,
    "start_time": "2022-12-13T20:05:39.449Z"
   },
   {
    "duration": 30,
    "start_time": "2022-12-13T20:05:39.487Z"
   },
   {
    "duration": 9,
    "start_time": "2022-12-13T20:05:39.518Z"
   },
   {
    "duration": 21,
    "start_time": "2022-12-13T20:05:39.532Z"
   },
   {
    "duration": 9,
    "start_time": "2022-12-13T20:05:39.555Z"
   },
   {
    "duration": 32,
    "start_time": "2022-12-13T20:05:39.566Z"
   },
   {
    "duration": 10,
    "start_time": "2022-12-13T20:05:39.600Z"
   },
   {
    "duration": 46,
    "start_time": "2022-12-13T20:05:39.612Z"
   },
   {
    "duration": 4,
    "start_time": "2022-12-13T20:05:39.660Z"
   },
   {
    "duration": 14,
    "start_time": "2022-12-13T20:05:39.666Z"
   },
   {
    "duration": 702,
    "start_time": "2022-12-13T20:05:39.682Z"
   },
   {
    "duration": 314,
    "start_time": "2022-12-13T20:05:40.385Z"
   },
   {
    "duration": 37,
    "start_time": "2022-12-13T20:05:40.701Z"
   },
   {
    "duration": 16,
    "start_time": "2022-12-13T20:05:40.740Z"
   },
   {
    "duration": 96,
    "start_time": "2022-12-13T20:05:40.758Z"
   },
   {
    "duration": 0,
    "start_time": "2022-12-13T20:05:40.856Z"
   },
   {
    "duration": 0,
    "start_time": "2022-12-13T20:05:40.858Z"
   },
   {
    "duration": 0,
    "start_time": "2022-12-13T20:05:40.858Z"
   },
   {
    "duration": 18,
    "start_time": "2022-12-13T20:06:06.446Z"
   },
   {
    "duration": 11,
    "start_time": "2022-12-13T20:06:11.132Z"
   },
   {
    "duration": 17,
    "start_time": "2022-12-13T20:06:35.037Z"
   },
   {
    "duration": 9,
    "start_time": "2022-12-13T20:06:37.865Z"
   },
   {
    "duration": 6,
    "start_time": "2022-12-13T20:06:38.331Z"
   },
   {
    "duration": 22,
    "start_time": "2022-12-13T20:06:38.794Z"
   },
   {
    "duration": 12,
    "start_time": "2022-12-13T20:06:39.257Z"
   },
   {
    "duration": 17,
    "start_time": "2022-12-13T20:06:40.492Z"
   },
   {
    "duration": 11,
    "start_time": "2022-12-13T20:06:41.899Z"
   },
   {
    "duration": 15,
    "start_time": "2022-12-13T20:06:58.737Z"
   },
   {
    "duration": 201,
    "start_time": "2022-12-13T20:08:24.036Z"
   },
   {
    "duration": 16,
    "start_time": "2022-12-13T20:11:33.694Z"
   },
   {
    "duration": 727,
    "start_time": "2022-12-13T20:13:19.927Z"
   },
   {
    "duration": 34,
    "start_time": "2022-12-13T20:13:20.656Z"
   },
   {
    "duration": 16,
    "start_time": "2022-12-13T20:13:20.691Z"
   },
   {
    "duration": 85,
    "start_time": "2022-12-13T20:13:20.709Z"
   },
   {
    "duration": 23,
    "start_time": "2022-12-13T20:13:20.796Z"
   },
   {
    "duration": 10,
    "start_time": "2022-12-13T20:13:20.836Z"
   },
   {
    "duration": 40,
    "start_time": "2022-12-13T20:13:20.848Z"
   },
   {
    "duration": 4,
    "start_time": "2022-12-13T20:13:20.890Z"
   },
   {
    "duration": 32,
    "start_time": "2022-12-13T20:13:20.895Z"
   },
   {
    "duration": 5,
    "start_time": "2022-12-13T20:13:20.930Z"
   },
   {
    "duration": 9,
    "start_time": "2022-12-13T20:13:20.937Z"
   },
   {
    "duration": 8,
    "start_time": "2022-12-13T20:13:20.947Z"
   },
   {
    "duration": 39,
    "start_time": "2022-12-13T20:13:20.956Z"
   },
   {
    "duration": 6,
    "start_time": "2022-12-13T20:13:20.997Z"
   },
   {
    "duration": 61,
    "start_time": "2022-12-13T20:13:21.004Z"
   },
   {
    "duration": 11,
    "start_time": "2022-12-13T20:13:21.067Z"
   },
   {
    "duration": 457,
    "start_time": "2022-12-13T20:13:21.080Z"
   },
   {
    "duration": 12,
    "start_time": "2022-12-13T20:13:21.539Z"
   },
   {
    "duration": 524,
    "start_time": "2022-12-13T20:13:21.553Z"
   },
   {
    "duration": 14,
    "start_time": "2022-12-13T20:13:22.079Z"
   },
   {
    "duration": 182,
    "start_time": "2022-12-13T20:13:22.094Z"
   },
   {
    "duration": 24,
    "start_time": "2022-12-13T20:13:22.277Z"
   },
   {
    "duration": 8,
    "start_time": "2022-12-13T20:13:22.303Z"
   },
   {
    "duration": 29,
    "start_time": "2022-12-13T20:13:22.313Z"
   },
   {
    "duration": 11,
    "start_time": "2022-12-13T20:13:22.344Z"
   },
   {
    "duration": 23,
    "start_time": "2022-12-13T20:13:22.357Z"
   },
   {
    "duration": 52,
    "start_time": "2022-12-13T20:13:22.381Z"
   },
   {
    "duration": 10,
    "start_time": "2022-12-13T20:13:22.438Z"
   },
   {
    "duration": 42,
    "start_time": "2022-12-13T20:13:22.450Z"
   },
   {
    "duration": 22,
    "start_time": "2022-12-13T20:13:22.494Z"
   },
   {
    "duration": 51,
    "start_time": "2022-12-13T20:13:22.520Z"
   },
   {
    "duration": 15,
    "start_time": "2022-12-13T20:13:22.573Z"
   },
   {
    "duration": 33,
    "start_time": "2022-12-13T20:13:22.592Z"
   },
   {
    "duration": 713,
    "start_time": "2022-12-13T20:13:22.627Z"
   },
   {
    "duration": 310,
    "start_time": "2022-12-13T20:13:23.342Z"
   },
   {
    "duration": 28,
    "start_time": "2022-12-13T20:13:23.654Z"
   },
   {
    "duration": 22,
    "start_time": "2022-12-13T20:13:23.684Z"
   },
   {
    "duration": 1488,
    "start_time": "2022-12-13T20:13:23.707Z"
   },
   {
    "duration": 332,
    "start_time": "2022-12-13T20:13:25.197Z"
   },
   {
    "duration": 0,
    "start_time": "2022-12-13T20:13:25.531Z"
   },
   {
    "duration": 18,
    "start_time": "2022-12-13T20:13:59.351Z"
   },
   {
    "duration": 17,
    "start_time": "2022-12-13T20:14:23.704Z"
   },
   {
    "duration": 17,
    "start_time": "2022-12-13T20:14:46.412Z"
   },
   {
    "duration": 743,
    "start_time": "2022-12-13T20:17:16.828Z"
   },
   {
    "duration": 35,
    "start_time": "2022-12-13T20:17:17.573Z"
   },
   {
    "duration": 26,
    "start_time": "2022-12-13T20:17:17.612Z"
   },
   {
    "duration": 74,
    "start_time": "2022-12-13T20:17:17.639Z"
   },
   {
    "duration": 38,
    "start_time": "2022-12-13T20:17:17.715Z"
   },
   {
    "duration": 8,
    "start_time": "2022-12-13T20:17:17.755Z"
   },
   {
    "duration": 29,
    "start_time": "2022-12-13T20:17:17.765Z"
   },
   {
    "duration": 5,
    "start_time": "2022-12-13T20:17:17.796Z"
   },
   {
    "duration": 37,
    "start_time": "2022-12-13T20:17:17.803Z"
   },
   {
    "duration": 6,
    "start_time": "2022-12-13T20:17:17.841Z"
   },
   {
    "duration": 6,
    "start_time": "2022-12-13T20:17:17.849Z"
   },
   {
    "duration": 7,
    "start_time": "2022-12-13T20:17:17.857Z"
   },
   {
    "duration": 49,
    "start_time": "2022-12-13T20:17:17.866Z"
   },
   {
    "duration": 7,
    "start_time": "2022-12-13T20:17:17.917Z"
   },
   {
    "duration": 42,
    "start_time": "2022-12-13T20:17:17.936Z"
   },
   {
    "duration": 13,
    "start_time": "2022-12-13T20:17:17.981Z"
   },
   {
    "duration": 441,
    "start_time": "2022-12-13T20:17:17.996Z"
   },
   {
    "duration": 12,
    "start_time": "2022-12-13T20:17:18.439Z"
   },
   {
    "duration": 504,
    "start_time": "2022-12-13T20:17:18.452Z"
   },
   {
    "duration": 30,
    "start_time": "2022-12-13T20:17:18.957Z"
   },
   {
    "duration": 8,
    "start_time": "2022-12-13T20:17:18.989Z"
   },
   {
    "duration": 12,
    "start_time": "2022-12-13T20:17:18.999Z"
   },
   {
    "duration": 9,
    "start_time": "2022-12-13T20:17:19.035Z"
   },
   {
    "duration": 17,
    "start_time": "2022-12-13T20:17:19.046Z"
   },
   {
    "duration": 39,
    "start_time": "2022-12-13T20:17:19.065Z"
   },
   {
    "duration": 9,
    "start_time": "2022-12-13T20:17:19.106Z"
   },
   {
    "duration": 22,
    "start_time": "2022-12-13T20:17:19.119Z"
   },
   {
    "duration": 12,
    "start_time": "2022-12-13T20:17:19.143Z"
   },
   {
    "duration": 39,
    "start_time": "2022-12-13T20:17:19.156Z"
   },
   {
    "duration": 7,
    "start_time": "2022-12-13T20:17:19.198Z"
   },
   {
    "duration": 31,
    "start_time": "2022-12-13T20:17:19.207Z"
   },
   {
    "duration": 1007,
    "start_time": "2022-12-13T20:17:19.240Z"
   },
   {
    "duration": 366,
    "start_time": "2022-12-13T20:17:20.248Z"
   },
   {
    "duration": 38,
    "start_time": "2022-12-13T20:17:20.616Z"
   },
   {
    "duration": 20,
    "start_time": "2022-12-13T20:17:20.655Z"
   },
   {
    "duration": 1715,
    "start_time": "2022-12-13T20:17:20.677Z"
   },
   {
    "duration": 308,
    "start_time": "2022-12-13T20:17:22.394Z"
   },
   {
    "duration": 0,
    "start_time": "2022-12-13T20:17:22.704Z"
   },
   {
    "duration": 17,
    "start_time": "2022-12-13T20:17:33.438Z"
   },
   {
    "duration": 12,
    "start_time": "2022-12-13T20:17:34.357Z"
   },
   {
    "duration": 176,
    "start_time": "2022-12-13T20:18:38.998Z"
   },
   {
    "duration": 4,
    "start_time": "2022-12-13T20:22:26.514Z"
   },
   {
    "duration": 69,
    "start_time": "2022-12-13T20:23:18.223Z"
   },
   {
    "duration": 169,
    "start_time": "2022-12-13T20:23:39.774Z"
   },
   {
    "duration": 198,
    "start_time": "2022-12-13T20:24:04.914Z"
   },
   {
    "duration": 198,
    "start_time": "2022-12-13T20:25:11.804Z"
   },
   {
    "duration": 183,
    "start_time": "2022-12-13T20:25:30.426Z"
   },
   {
    "duration": 5,
    "start_time": "2022-12-13T20:26:13.680Z"
   },
   {
    "duration": 78,
    "start_time": "2022-12-13T20:31:49.649Z"
   },
   {
    "duration": 4,
    "start_time": "2022-12-13T20:32:16.222Z"
   },
   {
    "duration": 82,
    "start_time": "2022-12-13T20:32:20.572Z"
   },
   {
    "duration": 6,
    "start_time": "2022-12-13T20:33:06.966Z"
   },
   {
    "duration": 212,
    "start_time": "2022-12-13T20:34:16.867Z"
   },
   {
    "duration": 6,
    "start_time": "2022-12-13T20:34:59.008Z"
   },
   {
    "duration": 5,
    "start_time": "2022-12-13T20:35:22.799Z"
   },
   {
    "duration": 6,
    "start_time": "2022-12-13T20:35:39.478Z"
   },
   {
    "duration": 968,
    "start_time": "2022-12-13T20:36:03.152Z"
   },
   {
    "duration": 856,
    "start_time": "2022-12-13T20:36:24.282Z"
   },
   {
    "duration": 949,
    "start_time": "2022-12-13T20:36:40.532Z"
   },
   {
    "duration": 6,
    "start_time": "2022-12-13T20:37:54.835Z"
   },
   {
    "duration": 5,
    "start_time": "2022-12-13T20:38:03.812Z"
   },
   {
    "duration": 5,
    "start_time": "2022-12-13T20:38:18.509Z"
   },
   {
    "duration": 302,
    "start_time": "2022-12-13T20:38:46.734Z"
   },
   {
    "duration": 11,
    "start_time": "2022-12-13T20:43:23.418Z"
   },
   {
    "duration": 18,
    "start_time": "2022-12-13T20:43:40.842Z"
   },
   {
    "duration": 18,
    "start_time": "2022-12-13T20:44:10.353Z"
   },
   {
    "duration": 960,
    "start_time": "2022-12-13T20:44:33.292Z"
   },
   {
    "duration": 338,
    "start_time": "2022-12-13T20:44:58.954Z"
   },
   {
    "duration": 16,
    "start_time": "2022-12-13T20:45:11.386Z"
   },
   {
    "duration": 8,
    "start_time": "2022-12-13T20:45:27.869Z"
   },
   {
    "duration": 8,
    "start_time": "2022-12-13T20:45:51.889Z"
   },
   {
    "duration": 8,
    "start_time": "2022-12-13T20:46:33.425Z"
   },
   {
    "duration": 20,
    "start_time": "2022-12-13T20:46:57.316Z"
   },
   {
    "duration": 19,
    "start_time": "2022-12-13T20:47:38.340Z"
   },
   {
    "duration": 167,
    "start_time": "2022-12-13T20:53:34.378Z"
   },
   {
    "duration": 184,
    "start_time": "2022-12-13T20:54:43.406Z"
   },
   {
    "duration": 201,
    "start_time": "2022-12-13T20:56:23.867Z"
   },
   {
    "duration": 6,
    "start_time": "2022-12-13T20:59:21.167Z"
   },
   {
    "duration": 5,
    "start_time": "2022-12-13T21:00:00.010Z"
   },
   {
    "duration": 5,
    "start_time": "2022-12-13T21:00:24.091Z"
   },
   {
    "duration": 4,
    "start_time": "2022-12-13T21:01:04.425Z"
   },
   {
    "duration": 971,
    "start_time": "2022-12-13T21:01:39.575Z"
   },
   {
    "duration": 262,
    "start_time": "2022-12-13T21:01:50.896Z"
   },
   {
    "duration": 145,
    "start_time": "2022-12-13T21:02:15.789Z"
   },
   {
    "duration": 21,
    "start_time": "2022-12-13T21:03:17.278Z"
   },
   {
    "duration": 146,
    "start_time": "2022-12-13T21:04:08.315Z"
   },
   {
    "duration": 145,
    "start_time": "2022-12-13T21:04:18.326Z"
   },
   {
    "duration": 5,
    "start_time": "2022-12-13T21:04:33.620Z"
   },
   {
    "duration": 147,
    "start_time": "2022-12-13T21:04:47.270Z"
   },
   {
    "duration": 6,
    "start_time": "2022-12-13T21:05:26.978Z"
   },
   {
    "duration": 147,
    "start_time": "2022-12-13T21:05:46.812Z"
   },
   {
    "duration": 150,
    "start_time": "2022-12-13T21:06:02.089Z"
   },
   {
    "duration": 148,
    "start_time": "2022-12-13T21:06:11.179Z"
   },
   {
    "duration": 731,
    "start_time": "2022-12-13T21:08:08.239Z"
   },
   {
    "duration": 34,
    "start_time": "2022-12-13T21:08:08.972Z"
   },
   {
    "duration": 30,
    "start_time": "2022-12-13T21:08:09.008Z"
   },
   {
    "duration": 79,
    "start_time": "2022-12-13T21:08:09.040Z"
   },
   {
    "duration": 36,
    "start_time": "2022-12-13T21:08:09.122Z"
   },
   {
    "duration": 9,
    "start_time": "2022-12-13T21:08:09.160Z"
   },
   {
    "duration": 32,
    "start_time": "2022-12-13T21:08:09.171Z"
   },
   {
    "duration": 30,
    "start_time": "2022-12-13T21:08:09.205Z"
   },
   {
    "duration": 10,
    "start_time": "2022-12-13T21:08:09.237Z"
   },
   {
    "duration": 5,
    "start_time": "2022-12-13T21:08:09.249Z"
   },
   {
    "duration": 11,
    "start_time": "2022-12-13T21:08:09.255Z"
   },
   {
    "duration": 8,
    "start_time": "2022-12-13T21:08:09.268Z"
   },
   {
    "duration": 57,
    "start_time": "2022-12-13T21:08:09.278Z"
   },
   {
    "duration": 7,
    "start_time": "2022-12-13T21:08:09.340Z"
   },
   {
    "duration": 53,
    "start_time": "2022-12-13T21:08:09.349Z"
   },
   {
    "duration": 12,
    "start_time": "2022-12-13T21:08:09.404Z"
   },
   {
    "duration": 456,
    "start_time": "2022-12-13T21:08:09.418Z"
   },
   {
    "duration": 12,
    "start_time": "2022-12-13T21:08:09.876Z"
   },
   {
    "duration": 528,
    "start_time": "2022-12-13T21:08:09.890Z"
   },
   {
    "duration": 35,
    "start_time": "2022-12-13T21:08:10.420Z"
   },
   {
    "duration": 9,
    "start_time": "2022-12-13T21:08:10.457Z"
   },
   {
    "duration": 25,
    "start_time": "2022-12-13T21:08:10.468Z"
   },
   {
    "duration": 18,
    "start_time": "2022-12-13T21:08:10.495Z"
   },
   {
    "duration": 20,
    "start_time": "2022-12-13T21:08:10.515Z"
   },
   {
    "duration": 35,
    "start_time": "2022-12-13T21:08:10.537Z"
   },
   {
    "duration": 8,
    "start_time": "2022-12-13T21:08:10.574Z"
   },
   {
    "duration": 24,
    "start_time": "2022-12-13T21:08:10.584Z"
   },
   {
    "duration": 13,
    "start_time": "2022-12-13T21:08:10.610Z"
   },
   {
    "duration": 32,
    "start_time": "2022-12-13T21:08:10.625Z"
   },
   {
    "duration": 4,
    "start_time": "2022-12-13T21:08:10.659Z"
   },
   {
    "duration": 23,
    "start_time": "2022-12-13T21:08:10.665Z"
   },
   {
    "duration": 939,
    "start_time": "2022-12-13T21:08:10.689Z"
   },
   {
    "duration": 338,
    "start_time": "2022-12-13T21:08:11.630Z"
   },
   {
    "duration": 33,
    "start_time": "2022-12-13T21:08:11.970Z"
   },
   {
    "duration": 40,
    "start_time": "2022-12-13T21:08:12.004Z"
   },
   {
    "duration": 332,
    "start_time": "2022-12-13T21:08:12.046Z"
   },
   {
    "duration": 386,
    "start_time": "2022-12-13T21:08:12.379Z"
   },
   {
    "duration": 310,
    "start_time": "2022-12-13T21:08:12.767Z"
   },
   {
    "duration": 360,
    "start_time": "2022-12-13T21:08:13.079Z"
   },
   {
    "duration": 167,
    "start_time": "2022-12-13T21:08:13.441Z"
   },
   {
    "duration": 190,
    "start_time": "2022-12-13T21:08:13.611Z"
   },
   {
    "duration": 198,
    "start_time": "2022-12-13T21:08:13.803Z"
   },
   {
    "duration": 95,
    "start_time": "2022-12-13T21:08:14.003Z"
   },
   {
    "duration": 206,
    "start_time": "2022-12-13T21:08:14.099Z"
   },
   {
    "duration": 5,
    "start_time": "2022-12-13T21:08:14.307Z"
   },
   {
    "duration": 293,
    "start_time": "2022-12-13T21:08:14.313Z"
   },
   {
    "duration": 279,
    "start_time": "2022-12-13T21:08:14.607Z"
   },
   {
    "duration": 243,
    "start_time": "2022-12-13T21:08:14.888Z"
   },
   {
    "duration": 150,
    "start_time": "2022-12-13T21:08:15.135Z"
   },
   {
    "duration": 5,
    "start_time": "2022-12-13T21:08:15.287Z"
   },
   {
    "duration": 183,
    "start_time": "2022-12-13T21:08:15.294Z"
   },
   {
    "duration": 189,
    "start_time": "2022-12-13T21:08:15.478Z"
   },
   {
    "duration": 6,
    "start_time": "2022-12-13T21:09:32.383Z"
   },
   {
    "duration": 142,
    "start_time": "2022-12-13T21:09:56.848Z"
   },
   {
    "duration": 145,
    "start_time": "2022-12-13T21:10:10.430Z"
   },
   {
    "duration": 149,
    "start_time": "2022-12-13T21:10:16.871Z"
   },
   {
    "duration": 136,
    "start_time": "2022-12-13T21:12:08.145Z"
   },
   {
    "duration": 166,
    "start_time": "2022-12-13T21:12:26.982Z"
   },
   {
    "duration": 147,
    "start_time": "2022-12-13T21:12:38.360Z"
   },
   {
    "duration": 155,
    "start_time": "2022-12-13T21:13:00.759Z"
   },
   {
    "duration": 249,
    "start_time": "2022-12-13T21:13:27.129Z"
   },
   {
    "duration": 5,
    "start_time": "2022-12-13T21:14:24.465Z"
   },
   {
    "duration": 163,
    "start_time": "2022-12-13T21:14:50.145Z"
   },
   {
    "duration": 13,
    "start_time": "2022-12-13T21:16:14.932Z"
   },
   {
    "duration": 4,
    "start_time": "2022-12-13T21:16:53.830Z"
   },
   {
    "duration": 4,
    "start_time": "2022-12-13T21:17:10.505Z"
   },
   {
    "duration": 306,
    "start_time": "2022-12-13T21:17:29.014Z"
   },
   {
    "duration": 5,
    "start_time": "2022-12-13T21:18:08.272Z"
   },
   {
    "duration": 7,
    "start_time": "2022-12-13T21:18:23.607Z"
   },
   {
    "duration": 281,
    "start_time": "2022-12-13T21:18:34.794Z"
   },
   {
    "duration": 281,
    "start_time": "2022-12-13T21:18:40.227Z"
   },
   {
    "duration": 5,
    "start_time": "2022-12-13T21:19:09.798Z"
   },
   {
    "duration": 234,
    "start_time": "2022-12-13T21:19:34.306Z"
   },
   {
    "duration": 51,
    "start_time": "2022-12-14T20:25:01.873Z"
   },
   {
    "duration": 965,
    "start_time": "2022-12-14T20:25:30.635Z"
   },
   {
    "duration": 37,
    "start_time": "2022-12-14T20:25:31.603Z"
   },
   {
    "duration": 19,
    "start_time": "2022-12-14T20:25:31.642Z"
   },
   {
    "duration": 84,
    "start_time": "2022-12-14T20:25:31.663Z"
   },
   {
    "duration": 21,
    "start_time": "2022-12-14T20:25:31.749Z"
   },
   {
    "duration": 9,
    "start_time": "2022-12-14T20:25:31.771Z"
   },
   {
    "duration": 56,
    "start_time": "2022-12-14T20:25:31.781Z"
   },
   {
    "duration": 5,
    "start_time": "2022-12-14T20:25:31.839Z"
   },
   {
    "duration": 11,
    "start_time": "2022-12-14T20:25:31.846Z"
   },
   {
    "duration": 10,
    "start_time": "2022-12-14T20:25:31.859Z"
   },
   {
    "duration": 17,
    "start_time": "2022-12-14T20:25:31.871Z"
   },
   {
    "duration": 14,
    "start_time": "2022-12-14T20:25:31.890Z"
   },
   {
    "duration": 39,
    "start_time": "2022-12-14T20:25:31.906Z"
   },
   {
    "duration": 7,
    "start_time": "2022-12-14T20:25:31.947Z"
   },
   {
    "duration": 37,
    "start_time": "2022-12-14T20:25:31.955Z"
   },
   {
    "duration": 28,
    "start_time": "2022-12-14T20:25:31.994Z"
   },
   {
    "duration": 398,
    "start_time": "2022-12-14T20:25:32.023Z"
   },
   {
    "duration": 11,
    "start_time": "2022-12-14T20:25:32.422Z"
   },
   {
    "duration": 466,
    "start_time": "2022-12-14T20:25:32.435Z"
   },
   {
    "duration": 28,
    "start_time": "2022-12-14T20:25:32.903Z"
   },
   {
    "duration": 8,
    "start_time": "2022-12-14T20:25:32.933Z"
   },
   {
    "duration": 9,
    "start_time": "2022-12-14T20:25:32.943Z"
   },
   {
    "duration": 8,
    "start_time": "2022-12-14T20:25:32.953Z"
   },
   {
    "duration": 15,
    "start_time": "2022-12-14T20:25:32.962Z"
   },
   {
    "duration": 19,
    "start_time": "2022-12-14T20:25:32.978Z"
   },
   {
    "duration": 27,
    "start_time": "2022-12-14T20:25:32.999Z"
   },
   {
    "duration": 20,
    "start_time": "2022-12-14T20:25:33.027Z"
   },
   {
    "duration": 8,
    "start_time": "2022-12-14T20:25:33.050Z"
   },
   {
    "duration": 28,
    "start_time": "2022-12-14T20:25:33.060Z"
   },
   {
    "duration": 3,
    "start_time": "2022-12-14T20:25:33.090Z"
   },
   {
    "duration": 27,
    "start_time": "2022-12-14T20:25:33.095Z"
   },
   {
    "duration": 915,
    "start_time": "2022-12-14T20:25:33.124Z"
   },
   {
    "duration": 365,
    "start_time": "2022-12-14T20:25:34.042Z"
   },
   {
    "duration": 36,
    "start_time": "2022-12-14T20:25:34.409Z"
   },
   {
    "duration": 17,
    "start_time": "2022-12-14T20:25:34.446Z"
   },
   {
    "duration": 293,
    "start_time": "2022-12-14T20:25:34.464Z"
   },
   {
    "duration": 224,
    "start_time": "2022-12-14T20:25:34.759Z"
   },
   {
    "duration": 5,
    "start_time": "2022-12-14T20:25:34.985Z"
   },
   {
    "duration": 354,
    "start_time": "2022-12-14T20:25:34.991Z"
   },
   {
    "duration": 285,
    "start_time": "2022-12-14T20:25:35.347Z"
   },
   {
    "duration": 170,
    "start_time": "2022-12-14T20:25:35.634Z"
   },
   {
    "duration": 200,
    "start_time": "2022-12-14T20:25:35.806Z"
   },
   {
    "duration": 191,
    "start_time": "2022-12-14T20:25:36.007Z"
   },
   {
    "duration": 77,
    "start_time": "2022-12-14T20:25:36.200Z"
   },
   {
    "duration": 201,
    "start_time": "2022-12-14T20:25:36.279Z"
   },
   {
    "duration": 285,
    "start_time": "2022-12-14T20:25:36.481Z"
   },
   {
    "duration": 356,
    "start_time": "2022-12-14T20:25:36.768Z"
   },
   {
    "duration": 146,
    "start_time": "2022-12-14T20:25:37.126Z"
   },
   {
    "duration": 160,
    "start_time": "2022-12-14T20:25:37.274Z"
   },
   {
    "duration": 155,
    "start_time": "2022-12-14T20:25:37.436Z"
   },
   {
    "duration": 4,
    "start_time": "2022-12-14T20:25:37.593Z"
   },
   {
    "duration": 147,
    "start_time": "2022-12-14T20:25:37.598Z"
   },
   {
    "duration": 1133,
    "start_time": "2022-12-14T20:25:37.747Z"
   },
   {
    "duration": 1111,
    "start_time": "2022-12-14T20:26:29.149Z"
   },
   {
    "duration": 15,
    "start_time": "2022-12-14T20:27:04.336Z"
   },
   {
    "duration": 168,
    "start_time": "2022-12-14T20:28:00.541Z"
   },
   {
    "duration": 552,
    "start_time": "2022-12-14T20:30:29.222Z"
   },
   {
    "duration": 7,
    "start_time": "2022-12-14T20:33:38.266Z"
   },
   {
    "duration": 8,
    "start_time": "2022-12-14T20:33:44.542Z"
   },
   {
    "duration": 47,
    "start_time": "2022-12-14T20:34:49.223Z"
   },
   {
    "duration": 3,
    "start_time": "2022-12-14T20:37:54.095Z"
   },
   {
    "duration": 167,
    "start_time": "2022-12-14T20:44:43.782Z"
   },
   {
    "duration": 155,
    "start_time": "2022-12-14T20:46:38.081Z"
   },
   {
    "duration": 236,
    "start_time": "2022-12-14T20:51:26.022Z"
   },
   {
    "duration": 14,
    "start_time": "2022-12-14T20:53:43.135Z"
   },
   {
    "duration": 195,
    "start_time": "2022-12-14T20:54:00.063Z"
   },
   {
    "duration": 296,
    "start_time": "2022-12-14T20:55:50.531Z"
   },
   {
    "duration": 11,
    "start_time": "2022-12-14T20:58:33.460Z"
   },
   {
    "duration": 10,
    "start_time": "2022-12-14T21:01:03.769Z"
   },
   {
    "duration": 159,
    "start_time": "2022-12-14T21:02:36.349Z"
   },
   {
    "duration": 158,
    "start_time": "2022-12-14T21:05:52.922Z"
   },
   {
    "duration": 176,
    "start_time": "2022-12-14T21:07:29.319Z"
   },
   {
    "duration": 17,
    "start_time": "2022-12-14T21:10:18.892Z"
   },
   {
    "duration": 288,
    "start_time": "2022-12-14T21:10:57.137Z"
   },
   {
    "duration": 11,
    "start_time": "2022-12-14T21:14:14.175Z"
   },
   {
    "duration": 1181,
    "start_time": "2022-12-14T21:15:24.794Z"
   },
   {
    "duration": 36,
    "start_time": "2022-12-14T21:16:11.900Z"
   },
   {
    "duration": 4,
    "start_time": "2022-12-14T21:16:40.281Z"
   },
   {
    "duration": 138,
    "start_time": "2022-12-14T21:19:29.446Z"
   },
   {
    "duration": 18,
    "start_time": "2022-12-14T21:23:01.784Z"
   },
   {
    "duration": 170,
    "start_time": "2022-12-14T21:24:24.944Z"
   },
   {
    "duration": 1580,
    "start_time": "2022-12-15T10:19:14.389Z"
   },
   {
    "duration": 46,
    "start_time": "2022-12-15T10:19:15.971Z"
   },
   {
    "duration": 26,
    "start_time": "2022-12-15T10:19:16.019Z"
   },
   {
    "duration": 103,
    "start_time": "2022-12-15T10:19:16.054Z"
   },
   {
    "duration": 28,
    "start_time": "2022-12-15T10:19:16.160Z"
   },
   {
    "duration": 14,
    "start_time": "2022-12-15T10:19:16.191Z"
   },
   {
    "duration": 75,
    "start_time": "2022-12-15T10:19:16.208Z"
   },
   {
    "duration": 7,
    "start_time": "2022-12-15T10:19:16.285Z"
   },
   {
    "duration": 18,
    "start_time": "2022-12-15T10:19:16.294Z"
   },
   {
    "duration": 8,
    "start_time": "2022-12-15T10:19:16.316Z"
   },
   {
    "duration": 6,
    "start_time": "2022-12-15T10:19:16.356Z"
   },
   {
    "duration": 20,
    "start_time": "2022-12-15T10:19:16.368Z"
   },
   {
    "duration": 69,
    "start_time": "2022-12-15T10:19:16.390Z"
   },
   {
    "duration": 13,
    "start_time": "2022-12-15T10:19:16.461Z"
   },
   {
    "duration": 101,
    "start_time": "2022-12-15T10:19:16.476Z"
   },
   {
    "duration": 14,
    "start_time": "2022-12-15T10:19:16.579Z"
   },
   {
    "duration": 521,
    "start_time": "2022-12-15T10:19:16.595Z"
   },
   {
    "duration": 17,
    "start_time": "2022-12-15T10:19:17.118Z"
   },
   {
    "duration": 578,
    "start_time": "2022-12-15T10:19:17.138Z"
   },
   {
    "duration": 35,
    "start_time": "2022-12-15T10:19:17.721Z"
   },
   {
    "duration": 10,
    "start_time": "2022-12-15T10:19:17.758Z"
   },
   {
    "duration": 25,
    "start_time": "2022-12-15T10:19:17.770Z"
   },
   {
    "duration": 13,
    "start_time": "2022-12-15T10:19:17.798Z"
   },
   {
    "duration": 17,
    "start_time": "2022-12-15T10:19:17.813Z"
   },
   {
    "duration": 32,
    "start_time": "2022-12-15T10:19:17.856Z"
   },
   {
    "duration": 13,
    "start_time": "2022-12-15T10:19:17.890Z"
   },
   {
    "duration": 17,
    "start_time": "2022-12-15T10:19:17.906Z"
   },
   {
    "duration": 14,
    "start_time": "2022-12-15T10:19:17.954Z"
   },
   {
    "duration": 47,
    "start_time": "2022-12-15T10:19:17.970Z"
   },
   {
    "duration": 10,
    "start_time": "2022-12-15T10:19:18.019Z"
   },
   {
    "duration": 10,
    "start_time": "2022-12-15T10:19:18.031Z"
   },
   {
    "duration": 1215,
    "start_time": "2022-12-15T10:19:18.043Z"
   },
   {
    "duration": 380,
    "start_time": "2022-12-15T10:19:19.260Z"
   },
   {
    "duration": 52,
    "start_time": "2022-12-15T10:19:19.642Z"
   },
   {
    "duration": 26,
    "start_time": "2022-12-15T10:19:19.696Z"
   },
   {
    "duration": 375,
    "start_time": "2022-12-15T10:19:19.725Z"
   },
   {
    "duration": 347,
    "start_time": "2022-12-15T10:19:20.102Z"
   },
   {
    "duration": 8,
    "start_time": "2022-12-15T10:19:20.454Z"
   },
   {
    "duration": 451,
    "start_time": "2022-12-15T10:19:20.464Z"
   },
   {
    "duration": 521,
    "start_time": "2022-12-15T10:19:20.917Z"
   },
   {
    "duration": 217,
    "start_time": "2022-12-15T10:19:21.441Z"
   },
   {
    "duration": 251,
    "start_time": "2022-12-15T10:19:21.661Z"
   },
   {
    "duration": 247,
    "start_time": "2022-12-15T10:19:21.914Z"
   },
   {
    "duration": 148,
    "start_time": "2022-12-15T10:19:22.164Z"
   },
   {
    "duration": 344,
    "start_time": "2022-12-15T10:19:22.315Z"
   },
   {
    "duration": 395,
    "start_time": "2022-12-15T10:19:22.662Z"
   },
   {
    "duration": 331,
    "start_time": "2022-12-15T10:19:23.059Z"
   },
   {
    "duration": 288,
    "start_time": "2022-12-15T10:19:23.392Z"
   },
   {
    "duration": 194,
    "start_time": "2022-12-15T10:19:23.684Z"
   },
   {
    "duration": 188,
    "start_time": "2022-12-15T10:19:23.880Z"
   },
   {
    "duration": 6,
    "start_time": "2022-12-15T10:19:24.071Z"
   },
   {
    "duration": 186,
    "start_time": "2022-12-15T10:19:24.079Z"
   },
   {
    "duration": 243,
    "start_time": "2022-12-15T10:19:24.267Z"
   },
   {
    "duration": 938,
    "start_time": "2022-12-15T10:19:24.512Z"
   },
   {
    "duration": 14,
    "start_time": "2022-12-15T10:19:25.454Z"
   },
   {
    "duration": 92,
    "start_time": "2022-12-15T10:19:25.473Z"
   },
   {
    "duration": 272,
    "start_time": "2022-12-15T10:19:25.568Z"
   },
   {
    "duration": 219,
    "start_time": "2022-12-15T10:19:25.842Z"
   },
   {
    "duration": 226,
    "start_time": "2022-12-15T10:19:26.062Z"
   },
   {
    "duration": 284,
    "start_time": "2022-12-15T10:19:26.291Z"
   },
   {
    "duration": 381,
    "start_time": "2022-12-15T10:19:26.578Z"
   },
   {
    "duration": 233,
    "start_time": "2022-12-15T10:19:26.961Z"
   },
   {
    "duration": 17,
    "start_time": "2022-12-15T10:19:27.195Z"
   },
   {
    "duration": 272,
    "start_time": "2022-12-15T10:19:27.214Z"
   },
   {
    "duration": 301,
    "start_time": "2022-12-15T10:19:27.489Z"
   },
   {
    "duration": 69,
    "start_time": "2022-12-15T10:19:27.793Z"
   },
   {
    "duration": 4,
    "start_time": "2022-12-15T10:19:27.864Z"
   },
   {
    "duration": 196,
    "start_time": "2022-12-15T10:19:27.870Z"
   },
   {
    "duration": 72,
    "start_time": "2022-12-15T11:19:34.356Z"
   },
   {
    "duration": 49,
    "start_time": "2022-12-15T11:19:58.471Z"
   },
   {
    "duration": 82,
    "start_time": "2022-12-15T11:20:07.472Z"
   },
   {
    "duration": 9,
    "start_time": "2022-12-15T11:20:22.895Z"
   },
   {
    "duration": 4,
    "start_time": "2022-12-15T11:21:41.923Z"
   },
   {
    "duration": 581,
    "start_time": "2022-12-15T11:28:00.491Z"
   },
   {
    "duration": 600,
    "start_time": "2022-12-15T11:28:59.165Z"
   },
   {
    "duration": 11,
    "start_time": "2022-12-15T13:25:15.051Z"
   },
   {
    "duration": 717,
    "start_time": "2022-12-15T13:31:50.175Z"
   },
   {
    "duration": 21,
    "start_time": "2022-12-15T13:32:29.554Z"
   },
   {
    "duration": 20,
    "start_time": "2022-12-15T13:35:04.888Z"
   },
   {
    "duration": 18,
    "start_time": "2022-12-15T13:36:02.734Z"
   },
   {
    "duration": 19,
    "start_time": "2022-12-15T13:36:08.306Z"
   },
   {
    "duration": 21,
    "start_time": "2022-12-15T13:41:01.174Z"
   },
   {
    "duration": 206,
    "start_time": "2022-12-15T13:41:46.563Z"
   },
   {
    "duration": 185,
    "start_time": "2022-12-15T13:42:09.953Z"
   },
   {
    "duration": 989,
    "start_time": "2022-12-15T13:44:01.318Z"
   },
   {
    "duration": 178,
    "start_time": "2022-12-15T13:44:39.732Z"
   },
   {
    "duration": 54,
    "start_time": "2022-12-15T13:46:59.653Z"
   },
   {
    "duration": 187,
    "start_time": "2022-12-15T13:47:08.330Z"
   },
   {
    "duration": 177,
    "start_time": "2022-12-15T13:47:17.846Z"
   },
   {
    "duration": 1082,
    "start_time": "2022-12-15T13:47:28.726Z"
   },
   {
    "duration": 203,
    "start_time": "2022-12-15T13:47:47.919Z"
   },
   {
    "duration": 186,
    "start_time": "2022-12-15T13:48:00.521Z"
   },
   {
    "duration": 248,
    "start_time": "2022-12-15T13:48:01.428Z"
   },
   {
    "duration": 208,
    "start_time": "2022-12-15T13:48:53.638Z"
   },
   {
    "duration": 185,
    "start_time": "2022-12-15T13:49:46.382Z"
   },
   {
    "duration": 710,
    "start_time": "2022-12-15T13:52:29.075Z"
   },
   {
    "duration": 33,
    "start_time": "2022-12-15T13:52:29.787Z"
   },
   {
    "duration": 14,
    "start_time": "2022-12-15T13:52:29.822Z"
   },
   {
    "duration": 73,
    "start_time": "2022-12-15T13:52:29.855Z"
   },
   {
    "duration": 35,
    "start_time": "2022-12-15T13:52:29.930Z"
   },
   {
    "duration": 9,
    "start_time": "2022-12-15T13:52:29.967Z"
   },
   {
    "duration": 30,
    "start_time": "2022-12-15T13:52:29.978Z"
   },
   {
    "duration": 4,
    "start_time": "2022-12-15T13:52:30.010Z"
   },
   {
    "duration": 14,
    "start_time": "2022-12-15T13:52:30.016Z"
   },
   {
    "duration": 6,
    "start_time": "2022-12-15T13:52:30.055Z"
   },
   {
    "duration": 28,
    "start_time": "2022-12-15T13:52:30.063Z"
   },
   {
    "duration": 10,
    "start_time": "2022-12-15T13:52:30.093Z"
   },
   {
    "duration": 50,
    "start_time": "2022-12-15T13:52:30.105Z"
   },
   {
    "duration": 8,
    "start_time": "2022-12-15T13:52:30.157Z"
   },
   {
    "duration": 42,
    "start_time": "2022-12-15T13:52:30.167Z"
   },
   {
    "duration": 12,
    "start_time": "2022-12-15T13:52:30.211Z"
   },
   {
    "duration": 455,
    "start_time": "2022-12-15T13:52:30.225Z"
   },
   {
    "duration": 12,
    "start_time": "2022-12-15T13:52:30.682Z"
   },
   {
    "duration": 499,
    "start_time": "2022-12-15T13:52:30.695Z"
   },
   {
    "duration": 27,
    "start_time": "2022-12-15T13:52:31.196Z"
   },
   {
    "duration": 10,
    "start_time": "2022-12-15T13:52:31.224Z"
   },
   {
    "duration": 30,
    "start_time": "2022-12-15T13:52:31.236Z"
   },
   {
    "duration": 14,
    "start_time": "2022-12-15T13:52:31.268Z"
   },
   {
    "duration": 19,
    "start_time": "2022-12-15T13:52:31.284Z"
   },
   {
    "duration": 33,
    "start_time": "2022-12-15T13:52:31.304Z"
   },
   {
    "duration": 10,
    "start_time": "2022-12-15T13:52:31.338Z"
   },
   {
    "duration": 22,
    "start_time": "2022-12-15T13:52:31.355Z"
   },
   {
    "duration": 77,
    "start_time": "2022-12-15T13:52:31.381Z"
   },
   {
    "duration": 0,
    "start_time": "2022-12-15T13:52:31.460Z"
   },
   {
    "duration": 0,
    "start_time": "2022-12-15T13:52:31.462Z"
   },
   {
    "duration": 0,
    "start_time": "2022-12-15T13:52:31.463Z"
   },
   {
    "duration": 0,
    "start_time": "2022-12-15T13:52:31.465Z"
   },
   {
    "duration": 0,
    "start_time": "2022-12-15T13:52:31.466Z"
   },
   {
    "duration": 0,
    "start_time": "2022-12-15T13:52:31.467Z"
   },
   {
    "duration": 0,
    "start_time": "2022-12-15T13:52:31.469Z"
   },
   {
    "duration": 0,
    "start_time": "2022-12-15T13:52:31.470Z"
   },
   {
    "duration": 1,
    "start_time": "2022-12-15T13:52:31.471Z"
   },
   {
    "duration": 0,
    "start_time": "2022-12-15T13:52:31.472Z"
   },
   {
    "duration": 0,
    "start_time": "2022-12-15T13:52:31.473Z"
   },
   {
    "duration": 0,
    "start_time": "2022-12-15T13:52:31.474Z"
   },
   {
    "duration": 0,
    "start_time": "2022-12-15T13:52:31.475Z"
   },
   {
    "duration": 0,
    "start_time": "2022-12-15T13:52:31.476Z"
   },
   {
    "duration": 0,
    "start_time": "2022-12-15T13:52:31.477Z"
   },
   {
    "duration": 0,
    "start_time": "2022-12-15T13:52:31.478Z"
   },
   {
    "duration": 0,
    "start_time": "2022-12-15T13:52:31.479Z"
   },
   {
    "duration": 0,
    "start_time": "2022-12-15T13:52:31.480Z"
   },
   {
    "duration": 0,
    "start_time": "2022-12-15T13:52:31.482Z"
   },
   {
    "duration": 0,
    "start_time": "2022-12-15T13:52:31.483Z"
   },
   {
    "duration": 0,
    "start_time": "2022-12-15T13:52:31.484Z"
   },
   {
    "duration": 0,
    "start_time": "2022-12-15T13:52:31.485Z"
   },
   {
    "duration": 0,
    "start_time": "2022-12-15T13:52:31.487Z"
   },
   {
    "duration": 0,
    "start_time": "2022-12-15T13:52:31.488Z"
   },
   {
    "duration": 0,
    "start_time": "2022-12-15T13:52:31.490Z"
   },
   {
    "duration": 1,
    "start_time": "2022-12-15T13:52:31.490Z"
   },
   {
    "duration": 0,
    "start_time": "2022-12-15T13:52:31.491Z"
   },
   {
    "duration": 0,
    "start_time": "2022-12-15T13:52:31.492Z"
   },
   {
    "duration": 0,
    "start_time": "2022-12-15T13:52:31.494Z"
   },
   {
    "duration": 0,
    "start_time": "2022-12-15T13:52:31.495Z"
   },
   {
    "duration": 0,
    "start_time": "2022-12-15T13:52:31.496Z"
   },
   {
    "duration": 0,
    "start_time": "2022-12-15T13:52:31.496Z"
   },
   {
    "duration": 0,
    "start_time": "2022-12-15T13:52:31.498Z"
   },
   {
    "duration": 0,
    "start_time": "2022-12-15T13:52:31.555Z"
   },
   {
    "duration": 0,
    "start_time": "2022-12-15T13:52:31.556Z"
   },
   {
    "duration": 0,
    "start_time": "2022-12-15T13:52:31.558Z"
   },
   {
    "duration": 0,
    "start_time": "2022-12-15T13:52:31.559Z"
   },
   {
    "duration": 0,
    "start_time": "2022-12-15T13:52:31.559Z"
   },
   {
    "duration": 766,
    "start_time": "2022-12-15T13:53:47.159Z"
   },
   {
    "duration": 37,
    "start_time": "2022-12-15T13:53:47.927Z"
   },
   {
    "duration": 20,
    "start_time": "2022-12-15T13:53:47.965Z"
   },
   {
    "duration": 107,
    "start_time": "2022-12-15T13:53:47.988Z"
   },
   {
    "duration": 23,
    "start_time": "2022-12-15T13:53:48.096Z"
   },
   {
    "duration": 9,
    "start_time": "2022-12-15T13:53:48.121Z"
   },
   {
    "duration": 56,
    "start_time": "2022-12-15T13:53:48.131Z"
   },
   {
    "duration": 4,
    "start_time": "2022-12-15T13:53:48.189Z"
   },
   {
    "duration": 22,
    "start_time": "2022-12-15T13:53:48.195Z"
   },
   {
    "duration": 6,
    "start_time": "2022-12-15T13:53:48.220Z"
   },
   {
    "duration": 9,
    "start_time": "2022-12-15T13:53:48.228Z"
   },
   {
    "duration": 16,
    "start_time": "2022-12-15T13:53:48.239Z"
   },
   {
    "duration": 46,
    "start_time": "2022-12-15T13:53:48.257Z"
   },
   {
    "duration": 8,
    "start_time": "2022-12-15T13:53:48.305Z"
   },
   {
    "duration": 59,
    "start_time": "2022-12-15T13:53:48.315Z"
   },
   {
    "duration": 13,
    "start_time": "2022-12-15T13:53:48.377Z"
   },
   {
    "duration": 454,
    "start_time": "2022-12-15T13:53:48.392Z"
   },
   {
    "duration": 17,
    "start_time": "2022-12-15T13:53:48.848Z"
   },
   {
    "duration": 542,
    "start_time": "2022-12-15T13:53:48.867Z"
   },
   {
    "duration": 28,
    "start_time": "2022-12-15T13:53:49.410Z"
   },
   {
    "duration": 22,
    "start_time": "2022-12-15T13:53:49.440Z"
   },
   {
    "duration": 12,
    "start_time": "2022-12-15T13:53:49.464Z"
   },
   {
    "duration": 9,
    "start_time": "2022-12-15T13:53:49.478Z"
   },
   {
    "duration": 9,
    "start_time": "2022-12-15T13:53:49.489Z"
   },
   {
    "duration": 20,
    "start_time": "2022-12-15T13:53:49.500Z"
   },
   {
    "duration": 38,
    "start_time": "2022-12-15T13:53:49.521Z"
   },
   {
    "duration": 16,
    "start_time": "2022-12-15T13:53:49.561Z"
   },
   {
    "duration": 8,
    "start_time": "2022-12-15T13:53:49.582Z"
   },
   {
    "duration": 27,
    "start_time": "2022-12-15T13:53:49.591Z"
   },
   {
    "duration": 3,
    "start_time": "2022-12-15T13:53:49.620Z"
   },
   {
    "duration": 32,
    "start_time": "2022-12-15T13:53:49.625Z"
   },
   {
    "duration": 957,
    "start_time": "2022-12-15T13:53:49.659Z"
   },
   {
    "duration": 340,
    "start_time": "2022-12-15T13:53:50.617Z"
   },
   {
    "duration": 35,
    "start_time": "2022-12-15T13:53:50.959Z"
   },
   {
    "duration": 23,
    "start_time": "2022-12-15T13:53:50.995Z"
   },
   {
    "duration": 329,
    "start_time": "2022-12-15T13:53:51.020Z"
   },
   {
    "duration": 242,
    "start_time": "2022-12-15T13:53:51.350Z"
   },
   {
    "duration": 307,
    "start_time": "2022-12-15T13:53:51.594Z"
   },
   {
    "duration": 365,
    "start_time": "2022-12-15T13:53:51.903Z"
   },
   {
    "duration": 173,
    "start_time": "2022-12-15T13:53:52.269Z"
   },
   {
    "duration": 199,
    "start_time": "2022-12-15T13:53:52.444Z"
   },
   {
    "duration": 197,
    "start_time": "2022-12-15T13:53:52.646Z"
   },
   {
    "duration": 90,
    "start_time": "2022-12-15T13:53:52.845Z"
   },
   {
    "duration": 230,
    "start_time": "2022-12-15T13:53:52.937Z"
   },
   {
    "duration": 309,
    "start_time": "2022-12-15T13:53:53.169Z"
   },
   {
    "duration": 321,
    "start_time": "2022-12-15T13:53:53.480Z"
   },
   {
    "duration": 254,
    "start_time": "2022-12-15T13:53:53.803Z"
   },
   {
    "duration": 152,
    "start_time": "2022-12-15T13:53:54.059Z"
   },
   {
    "duration": 166,
    "start_time": "2022-12-15T13:53:54.213Z"
   },
   {
    "duration": 184,
    "start_time": "2022-12-15T13:53:54.380Z"
   },
   {
    "duration": 235,
    "start_time": "2022-12-15T13:53:54.566Z"
   },
   {
    "duration": 529,
    "start_time": "2022-12-15T13:53:54.802Z"
   },
   {
    "duration": 9,
    "start_time": "2022-12-15T13:53:55.333Z"
   },
   {
    "duration": 55,
    "start_time": "2022-12-15T13:53:55.343Z"
   },
   {
    "duration": 179,
    "start_time": "2022-12-15T13:53:55.400Z"
   },
   {
    "duration": 155,
    "start_time": "2022-12-15T13:53:55.581Z"
   },
   {
    "duration": 177,
    "start_time": "2022-12-15T13:53:55.737Z"
   },
   {
    "duration": 254,
    "start_time": "2022-12-15T13:53:55.916Z"
   },
   {
    "duration": 333,
    "start_time": "2022-12-15T13:53:56.172Z"
   },
   {
    "duration": 189,
    "start_time": "2022-12-15T13:53:56.507Z"
   },
   {
    "duration": 159,
    "start_time": "2022-12-15T13:53:56.698Z"
   },
   {
    "duration": 191,
    "start_time": "2022-12-15T13:53:56.858Z"
   },
   {
    "duration": 40,
    "start_time": "2022-12-15T13:53:57.055Z"
   },
   {
    "duration": 4,
    "start_time": "2022-12-15T13:53:57.097Z"
   },
   {
    "duration": 215,
    "start_time": "2022-12-15T13:53:57.103Z"
   },
   {
    "duration": 802,
    "start_time": "2022-12-15T14:13:49.841Z"
   },
   {
    "duration": 32,
    "start_time": "2022-12-15T14:13:50.646Z"
   },
   {
    "duration": 14,
    "start_time": "2022-12-15T14:13:50.680Z"
   },
   {
    "duration": 69,
    "start_time": "2022-12-15T14:13:50.696Z"
   },
   {
    "duration": 22,
    "start_time": "2022-12-15T14:13:50.767Z"
   },
   {
    "duration": 9,
    "start_time": "2022-12-15T14:13:50.804Z"
   },
   {
    "duration": 30,
    "start_time": "2022-12-15T14:13:50.814Z"
   },
   {
    "duration": 4,
    "start_time": "2022-12-15T14:13:50.845Z"
   },
   {
    "duration": 15,
    "start_time": "2022-12-15T14:13:50.850Z"
   },
   {
    "duration": 4,
    "start_time": "2022-12-15T14:13:50.868Z"
   },
   {
    "duration": 32,
    "start_time": "2022-12-15T14:13:50.874Z"
   },
   {
    "duration": 6,
    "start_time": "2022-12-15T14:13:50.908Z"
   },
   {
    "duration": 47,
    "start_time": "2022-12-15T14:13:50.915Z"
   },
   {
    "duration": 6,
    "start_time": "2022-12-15T14:13:50.964Z"
   },
   {
    "duration": 56,
    "start_time": "2022-12-15T14:13:50.972Z"
   },
   {
    "duration": 12,
    "start_time": "2022-12-15T14:13:51.030Z"
   },
   {
    "duration": 414,
    "start_time": "2022-12-15T14:13:51.044Z"
   },
   {
    "duration": 11,
    "start_time": "2022-12-15T14:13:51.460Z"
   },
   {
    "duration": 500,
    "start_time": "2022-12-15T14:13:51.473Z"
   },
   {
    "duration": 38,
    "start_time": "2022-12-15T14:13:51.974Z"
   },
   {
    "duration": 8,
    "start_time": "2022-12-15T14:13:52.014Z"
   },
   {
    "duration": 12,
    "start_time": "2022-12-15T14:13:52.023Z"
   },
   {
    "duration": 12,
    "start_time": "2022-12-15T14:13:52.036Z"
   },
   {
    "duration": 8,
    "start_time": "2022-12-15T14:13:52.050Z"
   },
   {
    "duration": 46,
    "start_time": "2022-12-15T14:13:52.059Z"
   },
   {
    "duration": 8,
    "start_time": "2022-12-15T14:13:52.106Z"
   },
   {
    "duration": 38,
    "start_time": "2022-12-15T14:13:52.115Z"
   },
   {
    "duration": 8,
    "start_time": "2022-12-15T14:13:52.157Z"
   },
   {
    "duration": 40,
    "start_time": "2022-12-15T14:13:52.168Z"
   },
   {
    "duration": 4,
    "start_time": "2022-12-15T14:13:52.210Z"
   },
   {
    "duration": 6,
    "start_time": "2022-12-15T14:13:52.215Z"
   },
   {
    "duration": 896,
    "start_time": "2022-12-15T14:13:52.222Z"
   },
   {
    "duration": 325,
    "start_time": "2022-12-15T14:13:53.120Z"
   },
   {
    "duration": 27,
    "start_time": "2022-12-15T14:13:53.447Z"
   },
   {
    "duration": 31,
    "start_time": "2022-12-15T14:13:53.476Z"
   },
   {
    "duration": 311,
    "start_time": "2022-12-15T14:13:53.508Z"
   },
   {
    "duration": 247,
    "start_time": "2022-12-15T14:13:53.821Z"
   },
   {
    "duration": 320,
    "start_time": "2022-12-15T14:13:54.070Z"
   },
   {
    "duration": 351,
    "start_time": "2022-12-15T14:13:54.392Z"
   },
   {
    "duration": 167,
    "start_time": "2022-12-15T14:13:54.745Z"
   },
   {
    "duration": 204,
    "start_time": "2022-12-15T14:13:54.913Z"
   },
   {
    "duration": 199,
    "start_time": "2022-12-15T14:13:55.119Z"
   },
   {
    "duration": 90,
    "start_time": "2022-12-15T14:13:55.319Z"
   },
   {
    "duration": 188,
    "start_time": "2022-12-15T14:13:55.411Z"
   },
   {
    "duration": 285,
    "start_time": "2022-12-15T14:13:55.600Z"
   },
   {
    "duration": 290,
    "start_time": "2022-12-15T14:13:55.887Z"
   },
   {
    "duration": 213,
    "start_time": "2022-12-15T14:13:56.179Z"
   },
   {
    "duration": 145,
    "start_time": "2022-12-15T14:13:56.394Z"
   },
   {
    "duration": 148,
    "start_time": "2022-12-15T14:13:56.540Z"
   },
   {
    "duration": 143,
    "start_time": "2022-12-15T14:13:56.690Z"
   },
   {
    "duration": 177,
    "start_time": "2022-12-15T14:13:56.835Z"
   },
   {
    "duration": 531,
    "start_time": "2022-12-15T14:13:57.014Z"
   },
   {
    "duration": 7,
    "start_time": "2022-12-15T14:13:57.547Z"
   },
   {
    "duration": 55,
    "start_time": "2022-12-15T14:13:57.556Z"
   },
   {
    "duration": 201,
    "start_time": "2022-12-15T14:13:57.613Z"
   },
   {
    "duration": 194,
    "start_time": "2022-12-15T14:13:57.816Z"
   },
   {
    "duration": 177,
    "start_time": "2022-12-15T14:13:58.011Z"
   },
   {
    "duration": 262,
    "start_time": "2022-12-15T14:13:58.190Z"
   },
   {
    "duration": 319,
    "start_time": "2022-12-15T14:13:58.453Z"
   },
   {
    "duration": 176,
    "start_time": "2022-12-15T14:13:58.773Z"
   },
   {
    "duration": 155,
    "start_time": "2022-12-15T14:13:58.951Z"
   },
   {
    "duration": 187,
    "start_time": "2022-12-15T14:13:59.108Z"
   },
   {
    "duration": 42,
    "start_time": "2022-12-15T14:13:59.297Z"
   },
   {
    "duration": 4,
    "start_time": "2022-12-15T14:13:59.340Z"
   },
   {
    "duration": 201,
    "start_time": "2022-12-15T14:13:59.346Z"
   },
   {
    "duration": 7,
    "start_time": "2022-12-15T15:10:30.257Z"
   },
   {
    "duration": 16,
    "start_time": "2022-12-15T15:11:18.887Z"
   },
   {
    "duration": 83,
    "start_time": "2022-12-15T15:11:23.315Z"
   },
   {
    "duration": 761,
    "start_time": "2022-12-15T15:11:30.008Z"
   },
   {
    "duration": 44,
    "start_time": "2022-12-15T15:11:30.772Z"
   },
   {
    "duration": 17,
    "start_time": "2022-12-15T15:11:30.818Z"
   },
   {
    "duration": 98,
    "start_time": "2022-12-15T15:11:30.838Z"
   },
   {
    "duration": 29,
    "start_time": "2022-12-15T15:11:30.938Z"
   },
   {
    "duration": 30,
    "start_time": "2022-12-15T15:11:30.969Z"
   },
   {
    "duration": 40,
    "start_time": "2022-12-15T15:11:31.001Z"
   },
   {
    "duration": 4,
    "start_time": "2022-12-15T15:11:31.043Z"
   },
   {
    "duration": 20,
    "start_time": "2022-12-15T15:11:31.049Z"
   },
   {
    "duration": 24,
    "start_time": "2022-12-15T15:11:31.072Z"
   },
   {
    "duration": 23,
    "start_time": "2022-12-15T15:11:31.098Z"
   },
   {
    "duration": 18,
    "start_time": "2022-12-15T15:11:31.123Z"
   },
   {
    "duration": 42,
    "start_time": "2022-12-15T15:11:31.142Z"
   },
   {
    "duration": 7,
    "start_time": "2022-12-15T15:11:31.185Z"
   },
   {
    "duration": 55,
    "start_time": "2022-12-15T15:11:31.194Z"
   },
   {
    "duration": 11,
    "start_time": "2022-12-15T15:11:31.250Z"
   },
   {
    "duration": 408,
    "start_time": "2022-12-15T15:11:31.263Z"
   },
   {
    "duration": 11,
    "start_time": "2022-12-15T15:11:31.673Z"
   },
   {
    "duration": 482,
    "start_time": "2022-12-15T15:11:31.685Z"
   },
   {
    "duration": 40,
    "start_time": "2022-12-15T15:11:32.169Z"
   },
   {
    "duration": 7,
    "start_time": "2022-12-15T15:11:32.211Z"
   },
   {
    "duration": 10,
    "start_time": "2022-12-15T15:11:32.220Z"
   },
   {
    "duration": 7,
    "start_time": "2022-12-15T15:11:32.231Z"
   },
   {
    "duration": 9,
    "start_time": "2022-12-15T15:11:32.239Z"
   },
   {
    "duration": 20,
    "start_time": "2022-12-15T15:11:32.249Z"
   },
   {
    "duration": 40,
    "start_time": "2022-12-15T15:11:32.270Z"
   },
   {
    "duration": 20,
    "start_time": "2022-12-15T15:11:32.312Z"
   },
   {
    "duration": 7,
    "start_time": "2022-12-15T15:11:32.337Z"
   },
   {
    "duration": 80,
    "start_time": "2022-12-15T15:11:32.345Z"
   },
   {
    "duration": 28,
    "start_time": "2022-12-15T15:11:32.426Z"
   },
   {
    "duration": 4,
    "start_time": "2022-12-15T15:11:32.455Z"
   },
   {
    "duration": 11,
    "start_time": "2022-12-15T15:11:32.461Z"
   },
   {
    "duration": 931,
    "start_time": "2022-12-15T15:11:32.474Z"
   },
   {
    "duration": 326,
    "start_time": "2022-12-15T15:11:33.406Z"
   },
   {
    "duration": 28,
    "start_time": "2022-12-15T15:11:33.733Z"
   },
   {
    "duration": 15,
    "start_time": "2022-12-15T15:11:33.763Z"
   },
   {
    "duration": 312,
    "start_time": "2022-12-15T15:11:33.779Z"
   },
   {
    "duration": 230,
    "start_time": "2022-12-15T15:11:34.093Z"
   },
   {
    "duration": 266,
    "start_time": "2022-12-15T15:11:34.324Z"
   },
   {
    "duration": 325,
    "start_time": "2022-12-15T15:11:34.592Z"
   },
   {
    "duration": 161,
    "start_time": "2022-12-15T15:11:34.919Z"
   },
   {
    "duration": 185,
    "start_time": "2022-12-15T15:11:35.081Z"
   },
   {
    "duration": 181,
    "start_time": "2022-12-15T15:11:35.268Z"
   },
   {
    "duration": 84,
    "start_time": "2022-12-15T15:11:35.451Z"
   },
   {
    "duration": 195,
    "start_time": "2022-12-15T15:11:35.536Z"
   },
   {
    "duration": 277,
    "start_time": "2022-12-15T15:11:35.733Z"
   },
   {
    "duration": 274,
    "start_time": "2022-12-15T15:11:36.011Z"
   },
   {
    "duration": 217,
    "start_time": "2022-12-15T15:11:36.287Z"
   },
   {
    "duration": 139,
    "start_time": "2022-12-15T15:11:36.506Z"
   },
   {
    "duration": 152,
    "start_time": "2022-12-15T15:11:36.646Z"
   },
   {
    "duration": 136,
    "start_time": "2022-12-15T15:11:36.804Z"
   },
   {
    "duration": 181,
    "start_time": "2022-12-15T15:11:36.941Z"
   },
   {
    "duration": 555,
    "start_time": "2022-12-15T15:11:37.123Z"
   },
   {
    "duration": 8,
    "start_time": "2022-12-15T15:11:37.680Z"
   },
   {
    "duration": 44,
    "start_time": "2022-12-15T15:11:37.704Z"
   },
   {
    "duration": 178,
    "start_time": "2022-12-15T15:11:37.750Z"
   },
   {
    "duration": 162,
    "start_time": "2022-12-15T15:11:37.930Z"
   },
   {
    "duration": 190,
    "start_time": "2022-12-15T15:11:38.093Z"
   },
   {
    "duration": 244,
    "start_time": "2022-12-15T15:11:38.285Z"
   },
   {
    "duration": 306,
    "start_time": "2022-12-15T15:11:38.530Z"
   },
   {
    "duration": 180,
    "start_time": "2022-12-15T15:11:38.838Z"
   },
   {
    "duration": 144,
    "start_time": "2022-12-15T15:11:39.020Z"
   },
   {
    "duration": 182,
    "start_time": "2022-12-15T15:11:39.166Z"
   },
   {
    "duration": 37,
    "start_time": "2022-12-15T15:11:39.350Z"
   },
   {
    "duration": 16,
    "start_time": "2022-12-15T15:11:39.388Z"
   },
   {
    "duration": 195,
    "start_time": "2022-12-15T15:11:39.406Z"
   },
   {
    "duration": 6,
    "start_time": "2022-12-15T15:12:09.770Z"
   },
   {
    "duration": 46,
    "start_time": "2022-12-16T15:06:42.219Z"
   },
   {
    "duration": 775,
    "start_time": "2022-12-16T15:07:06.241Z"
   },
   {
    "duration": 661,
    "start_time": "2022-12-16T15:07:07.018Z"
   },
   {
    "duration": 2,
    "start_time": "2022-12-16T15:07:07.682Z"
   },
   {
    "duration": 29,
    "start_time": "2022-12-16T15:07:07.687Z"
   },
   {
    "duration": 14,
    "start_time": "2022-12-16T15:07:07.718Z"
   },
   {
    "duration": 84,
    "start_time": "2022-12-16T15:07:07.734Z"
   },
   {
    "duration": 22,
    "start_time": "2022-12-16T15:07:07.820Z"
   },
   {
    "duration": 9,
    "start_time": "2022-12-16T15:07:07.844Z"
   },
   {
    "duration": 58,
    "start_time": "2022-12-16T15:07:07.855Z"
   },
   {
    "duration": 5,
    "start_time": "2022-12-16T15:07:07.916Z"
   },
   {
    "duration": 15,
    "start_time": "2022-12-16T15:07:07.923Z"
   },
   {
    "duration": 6,
    "start_time": "2022-12-16T15:07:07.940Z"
   },
   {
    "duration": 17,
    "start_time": "2022-12-16T15:07:07.949Z"
   },
   {
    "duration": 7,
    "start_time": "2022-12-16T15:07:07.969Z"
   },
   {
    "duration": 49,
    "start_time": "2022-12-16T15:07:07.978Z"
   },
   {
    "duration": 5,
    "start_time": "2022-12-16T15:07:08.029Z"
   },
   {
    "duration": 43,
    "start_time": "2022-12-16T15:07:08.036Z"
   },
   {
    "duration": 23,
    "start_time": "2022-12-16T15:07:08.080Z"
   },
   {
    "duration": 403,
    "start_time": "2022-12-16T15:07:08.105Z"
   },
   {
    "duration": 12,
    "start_time": "2022-12-16T15:07:08.510Z"
   },
   {
    "duration": 3,
    "start_time": "2022-12-16T15:07:08.523Z"
   },
   {
    "duration": 29,
    "start_time": "2022-12-16T15:07:08.527Z"
   },
   {
    "duration": 8,
    "start_time": "2022-12-16T15:07:08.557Z"
   },
   {
    "duration": 39,
    "start_time": "2022-12-16T15:07:08.566Z"
   },
   {
    "duration": 6,
    "start_time": "2022-12-16T15:07:08.607Z"
   },
   {
    "duration": 9,
    "start_time": "2022-12-16T15:07:08.614Z"
   },
   {
    "duration": 22,
    "start_time": "2022-12-16T15:07:08.625Z"
   },
   {
    "duration": 21,
    "start_time": "2022-12-16T15:07:08.652Z"
   },
   {
    "duration": 32,
    "start_time": "2022-12-16T15:07:08.674Z"
   },
   {
    "duration": 9,
    "start_time": "2022-12-16T15:07:08.707Z"
   },
   {
    "duration": 22,
    "start_time": "2022-12-16T15:07:08.718Z"
   },
   {
    "duration": 6,
    "start_time": "2022-12-16T15:07:08.741Z"
   },
   {
    "duration": 9,
    "start_time": "2022-12-16T15:07:08.748Z"
   },
   {
    "duration": 930,
    "start_time": "2022-12-16T15:07:08.758Z"
   },
   {
    "duration": 340,
    "start_time": "2022-12-16T15:07:09.689Z"
   },
   {
    "duration": 17,
    "start_time": "2022-12-16T15:07:10.030Z"
   },
   {
    "duration": 29,
    "start_time": "2022-12-16T15:07:10.049Z"
   },
   {
    "duration": 67,
    "start_time": "2022-12-16T15:07:10.096Z"
   },
   {
    "duration": 0,
    "start_time": "2022-12-16T15:07:10.165Z"
   },
   {
    "duration": 0,
    "start_time": "2022-12-16T15:07:10.166Z"
   },
   {
    "duration": 0,
    "start_time": "2022-12-16T15:07:10.167Z"
   },
   {
    "duration": 0,
    "start_time": "2022-12-16T15:07:10.168Z"
   },
   {
    "duration": 1,
    "start_time": "2022-12-16T15:07:10.169Z"
   },
   {
    "duration": 0,
    "start_time": "2022-12-16T15:07:10.171Z"
   },
   {
    "duration": 0,
    "start_time": "2022-12-16T15:07:10.172Z"
   },
   {
    "duration": 0,
    "start_time": "2022-12-16T15:07:10.173Z"
   },
   {
    "duration": 0,
    "start_time": "2022-12-16T15:07:10.174Z"
   },
   {
    "duration": 0,
    "start_time": "2022-12-16T15:07:10.197Z"
   },
   {
    "duration": 0,
    "start_time": "2022-12-16T15:07:10.198Z"
   },
   {
    "duration": 0,
    "start_time": "2022-12-16T15:07:10.199Z"
   },
   {
    "duration": 0,
    "start_time": "2022-12-16T15:07:10.200Z"
   },
   {
    "duration": 0,
    "start_time": "2022-12-16T15:07:10.202Z"
   },
   {
    "duration": 0,
    "start_time": "2022-12-16T15:07:10.203Z"
   },
   {
    "duration": 1,
    "start_time": "2022-12-16T15:07:10.203Z"
   },
   {
    "duration": 0,
    "start_time": "2022-12-16T15:07:10.205Z"
   },
   {
    "duration": 0,
    "start_time": "2022-12-16T15:07:10.206Z"
   },
   {
    "duration": 0,
    "start_time": "2022-12-16T15:07:10.207Z"
   },
   {
    "duration": 0,
    "start_time": "2022-12-16T15:07:10.208Z"
   },
   {
    "duration": 0,
    "start_time": "2022-12-16T15:07:10.208Z"
   },
   {
    "duration": 0,
    "start_time": "2022-12-16T15:07:10.210Z"
   },
   {
    "duration": 0,
    "start_time": "2022-12-16T15:07:10.211Z"
   },
   {
    "duration": 0,
    "start_time": "2022-12-16T15:07:10.212Z"
   },
   {
    "duration": 0,
    "start_time": "2022-12-16T15:07:10.213Z"
   },
   {
    "duration": 0,
    "start_time": "2022-12-16T15:07:10.214Z"
   },
   {
    "duration": 0,
    "start_time": "2022-12-16T15:07:10.215Z"
   },
   {
    "duration": 0,
    "start_time": "2022-12-16T15:07:10.216Z"
   },
   {
    "duration": 0,
    "start_time": "2022-12-16T15:07:10.217Z"
   },
   {
    "duration": 0,
    "start_time": "2022-12-16T15:07:10.218Z"
   },
   {
    "duration": 0,
    "start_time": "2022-12-16T15:07:10.219Z"
   },
   {
    "duration": 769,
    "start_time": "2022-12-16T15:08:24.221Z"
   },
   {
    "duration": 5,
    "start_time": "2022-12-16T15:09:51.926Z"
   },
   {
    "duration": 218,
    "start_time": "2022-12-16T15:12:05.783Z"
   },
   {
    "duration": 55,
    "start_time": "2022-12-19T03:50:06.123Z"
   },
   {
    "duration": 6,
    "start_time": "2022-12-19T03:56:17.403Z"
   },
   {
    "duration": 6,
    "start_time": "2022-12-19T03:56:31.815Z"
   },
   {
    "duration": 85,
    "start_time": "2022-12-19T04:00:07.410Z"
   },
   {
    "duration": 7,
    "start_time": "2022-12-19T04:00:25.853Z"
   },
   {
    "duration": 818,
    "start_time": "2022-12-19T04:00:42.583Z"
   },
   {
    "duration": 196,
    "start_time": "2022-12-19T04:00:43.403Z"
   },
   {
    "duration": 4,
    "start_time": "2022-12-19T04:00:43.601Z"
   },
   {
    "duration": 55,
    "start_time": "2022-12-19T04:00:43.607Z"
   },
   {
    "duration": 20,
    "start_time": "2022-12-19T04:00:43.664Z"
   },
   {
    "duration": 85,
    "start_time": "2022-12-19T04:00:43.686Z"
   },
   {
    "duration": 25,
    "start_time": "2022-12-19T04:00:43.773Z"
   },
   {
    "duration": 28,
    "start_time": "2022-12-19T04:00:43.800Z"
   },
   {
    "duration": 75,
    "start_time": "2022-12-19T04:00:43.831Z"
   },
   {
    "duration": 45,
    "start_time": "2022-12-19T04:00:43.909Z"
   },
   {
    "duration": 56,
    "start_time": "2022-12-19T04:00:43.955Z"
   },
   {
    "duration": 33,
    "start_time": "2022-12-19T04:00:44.012Z"
   },
   {
    "duration": 45,
    "start_time": "2022-12-19T04:00:44.047Z"
   },
   {
    "duration": 42,
    "start_time": "2022-12-19T04:00:44.093Z"
   },
   {
    "duration": 60,
    "start_time": "2022-12-19T04:00:44.137Z"
   },
   {
    "duration": 19,
    "start_time": "2022-12-19T04:00:44.200Z"
   },
   {
    "duration": 59,
    "start_time": "2022-12-19T04:00:44.221Z"
   },
   {
    "duration": 99,
    "start_time": "2022-12-19T04:00:44.282Z"
   },
   {
    "duration": 0,
    "start_time": "2022-12-19T04:00:44.385Z"
   },
   {
    "duration": 0,
    "start_time": "2022-12-19T04:00:44.387Z"
   },
   {
    "duration": 0,
    "start_time": "2022-12-19T04:00:44.388Z"
   },
   {
    "duration": 0,
    "start_time": "2022-12-19T04:00:44.390Z"
   },
   {
    "duration": 0,
    "start_time": "2022-12-19T04:00:44.391Z"
   },
   {
    "duration": 0,
    "start_time": "2022-12-19T04:00:44.393Z"
   },
   {
    "duration": 0,
    "start_time": "2022-12-19T04:00:44.395Z"
   },
   {
    "duration": 0,
    "start_time": "2022-12-19T04:00:44.396Z"
   },
   {
    "duration": 0,
    "start_time": "2022-12-19T04:00:44.397Z"
   },
   {
    "duration": 0,
    "start_time": "2022-12-19T04:00:44.399Z"
   },
   {
    "duration": 0,
    "start_time": "2022-12-19T04:00:44.401Z"
   },
   {
    "duration": 0,
    "start_time": "2022-12-19T04:00:44.402Z"
   },
   {
    "duration": 0,
    "start_time": "2022-12-19T04:00:44.403Z"
   },
   {
    "duration": 0,
    "start_time": "2022-12-19T04:00:44.404Z"
   },
   {
    "duration": 0,
    "start_time": "2022-12-19T04:00:44.405Z"
   },
   {
    "duration": 0,
    "start_time": "2022-12-19T04:00:44.407Z"
   },
   {
    "duration": 0,
    "start_time": "2022-12-19T04:00:44.408Z"
   },
   {
    "duration": 0,
    "start_time": "2022-12-19T04:00:44.409Z"
   },
   {
    "duration": 0,
    "start_time": "2022-12-19T04:00:44.410Z"
   },
   {
    "duration": 0,
    "start_time": "2022-12-19T04:00:44.412Z"
   },
   {
    "duration": 0,
    "start_time": "2022-12-19T04:00:44.413Z"
   },
   {
    "duration": 0,
    "start_time": "2022-12-19T04:00:44.414Z"
   },
   {
    "duration": 0,
    "start_time": "2022-12-19T04:00:44.415Z"
   },
   {
    "duration": 0,
    "start_time": "2022-12-19T04:00:44.416Z"
   },
   {
    "duration": 0,
    "start_time": "2022-12-19T04:00:44.418Z"
   },
   {
    "duration": 0,
    "start_time": "2022-12-19T04:00:44.420Z"
   },
   {
    "duration": 0,
    "start_time": "2022-12-19T04:00:44.421Z"
   },
   {
    "duration": 0,
    "start_time": "2022-12-19T04:00:44.422Z"
   },
   {
    "duration": 0,
    "start_time": "2022-12-19T04:00:44.452Z"
   },
   {
    "duration": 0,
    "start_time": "2022-12-19T04:00:44.453Z"
   },
   {
    "duration": 0,
    "start_time": "2022-12-19T04:00:44.455Z"
   },
   {
    "duration": 0,
    "start_time": "2022-12-19T04:00:44.457Z"
   },
   {
    "duration": 0,
    "start_time": "2022-12-19T04:00:44.458Z"
   },
   {
    "duration": 0,
    "start_time": "2022-12-19T04:00:44.460Z"
   },
   {
    "duration": 0,
    "start_time": "2022-12-19T04:00:44.462Z"
   },
   {
    "duration": 0,
    "start_time": "2022-12-19T04:00:44.463Z"
   },
   {
    "duration": 0,
    "start_time": "2022-12-19T04:00:44.465Z"
   },
   {
    "duration": 0,
    "start_time": "2022-12-19T04:00:44.466Z"
   },
   {
    "duration": 0,
    "start_time": "2022-12-19T04:00:44.468Z"
   },
   {
    "duration": 0,
    "start_time": "2022-12-19T04:00:44.469Z"
   },
   {
    "duration": 0,
    "start_time": "2022-12-19T04:00:44.470Z"
   },
   {
    "duration": 0,
    "start_time": "2022-12-19T04:00:44.472Z"
   },
   {
    "duration": 0,
    "start_time": "2022-12-19T04:00:44.473Z"
   },
   {
    "duration": 0,
    "start_time": "2022-12-19T04:00:44.474Z"
   },
   {
    "duration": 0,
    "start_time": "2022-12-19T04:00:44.475Z"
   },
   {
    "duration": 0,
    "start_time": "2022-12-19T04:00:44.476Z"
   },
   {
    "duration": 0,
    "start_time": "2022-12-19T04:00:44.478Z"
   },
   {
    "duration": 0,
    "start_time": "2022-12-19T04:00:44.479Z"
   },
   {
    "duration": 0,
    "start_time": "2022-12-19T04:00:44.480Z"
   },
   {
    "duration": 0,
    "start_time": "2022-12-19T04:00:44.481Z"
   },
   {
    "duration": 0,
    "start_time": "2022-12-19T04:00:44.482Z"
   },
   {
    "duration": 0,
    "start_time": "2022-12-19T04:00:44.483Z"
   },
   {
    "duration": 719,
    "start_time": "2022-12-19T04:01:34.641Z"
   },
   {
    "duration": 106,
    "start_time": "2022-12-19T04:01:35.362Z"
   },
   {
    "duration": 3,
    "start_time": "2022-12-19T04:01:35.469Z"
   },
   {
    "duration": 42,
    "start_time": "2022-12-19T04:01:35.474Z"
   },
   {
    "duration": 16,
    "start_time": "2022-12-19T04:01:35.518Z"
   },
   {
    "duration": 91,
    "start_time": "2022-12-19T04:01:35.536Z"
   },
   {
    "duration": 37,
    "start_time": "2022-12-19T04:01:35.628Z"
   },
   {
    "duration": 10,
    "start_time": "2022-12-19T04:01:35.667Z"
   },
   {
    "duration": 36,
    "start_time": "2022-12-19T04:01:35.678Z"
   },
   {
    "duration": 5,
    "start_time": "2022-12-19T04:01:35.717Z"
   },
   {
    "duration": 17,
    "start_time": "2022-12-19T04:01:35.752Z"
   },
   {
    "duration": 3,
    "start_time": "2022-12-19T04:01:35.770Z"
   },
   {
    "duration": 8,
    "start_time": "2022-12-19T04:01:35.774Z"
   },
   {
    "duration": 7,
    "start_time": "2022-12-19T04:01:35.784Z"
   },
   {
    "duration": 61,
    "start_time": "2022-12-19T04:01:35.793Z"
   },
   {
    "duration": 8,
    "start_time": "2022-12-19T04:01:35.855Z"
   },
   {
    "duration": 43,
    "start_time": "2022-12-19T04:01:35.864Z"
   },
   {
    "duration": 3,
    "start_time": "2022-12-19T04:01:35.908Z"
   },
   {
    "duration": 13,
    "start_time": "2022-12-19T04:01:35.913Z"
   },
   {
    "duration": 23,
    "start_time": "2022-12-19T04:01:35.928Z"
   },
   {
    "duration": 7,
    "start_time": "2022-12-19T04:01:35.953Z"
   },
   {
    "duration": 35,
    "start_time": "2022-12-19T04:01:35.962Z"
   },
   {
    "duration": 9,
    "start_time": "2022-12-19T04:01:35.999Z"
   },
   {
    "duration": 17,
    "start_time": "2022-12-19T04:01:36.010Z"
   },
   {
    "duration": 29,
    "start_time": "2022-12-19T04:01:36.029Z"
   },
   {
    "duration": 13,
    "start_time": "2022-12-19T04:01:36.060Z"
   },
   {
    "duration": 22,
    "start_time": "2022-12-19T04:01:36.075Z"
   },
   {
    "duration": 10,
    "start_time": "2022-12-19T04:01:36.101Z"
   },
   {
    "duration": 45,
    "start_time": "2022-12-19T04:01:36.113Z"
   },
   {
    "duration": 12,
    "start_time": "2022-12-19T04:01:36.160Z"
   },
   {
    "duration": 13,
    "start_time": "2022-12-19T04:01:36.174Z"
   },
   {
    "duration": 28,
    "start_time": "2022-12-19T04:01:36.188Z"
   },
   {
    "duration": 5,
    "start_time": "2022-12-19T04:01:36.217Z"
   },
   {
    "duration": 27,
    "start_time": "2022-12-19T04:01:36.224Z"
   },
   {
    "duration": 1007,
    "start_time": "2022-12-19T04:01:36.253Z"
   },
   {
    "duration": 353,
    "start_time": "2022-12-19T04:01:37.262Z"
   },
   {
    "duration": 20,
    "start_time": "2022-12-19T04:01:37.616Z"
   },
   {
    "duration": 37,
    "start_time": "2022-12-19T04:01:37.637Z"
   },
   {
    "duration": 1233,
    "start_time": "2022-12-19T04:01:37.676Z"
   },
   {
    "duration": 0,
    "start_time": "2022-12-19T04:01:38.911Z"
   },
   {
    "duration": 0,
    "start_time": "2022-12-19T04:01:38.912Z"
   },
   {
    "duration": 0,
    "start_time": "2022-12-19T04:01:38.914Z"
   },
   {
    "duration": 0,
    "start_time": "2022-12-19T04:01:38.915Z"
   },
   {
    "duration": 0,
    "start_time": "2022-12-19T04:01:38.915Z"
   },
   {
    "duration": 0,
    "start_time": "2022-12-19T04:01:38.917Z"
   },
   {
    "duration": 0,
    "start_time": "2022-12-19T04:01:38.917Z"
   },
   {
    "duration": 0,
    "start_time": "2022-12-19T04:01:38.918Z"
   },
   {
    "duration": 0,
    "start_time": "2022-12-19T04:01:38.919Z"
   },
   {
    "duration": 0,
    "start_time": "2022-12-19T04:01:38.920Z"
   },
   {
    "duration": 0,
    "start_time": "2022-12-19T04:01:38.921Z"
   },
   {
    "duration": 0,
    "start_time": "2022-12-19T04:01:38.923Z"
   },
   {
    "duration": 0,
    "start_time": "2022-12-19T04:01:38.924Z"
   },
   {
    "duration": 0,
    "start_time": "2022-12-19T04:01:38.925Z"
   },
   {
    "duration": 0,
    "start_time": "2022-12-19T04:01:38.926Z"
   },
   {
    "duration": 0,
    "start_time": "2022-12-19T04:01:38.927Z"
   },
   {
    "duration": 0,
    "start_time": "2022-12-19T04:01:38.928Z"
   },
   {
    "duration": 0,
    "start_time": "2022-12-19T04:01:38.929Z"
   },
   {
    "duration": 0,
    "start_time": "2022-12-19T04:01:38.930Z"
   },
   {
    "duration": 0,
    "start_time": "2022-12-19T04:01:38.931Z"
   },
   {
    "duration": 0,
    "start_time": "2022-12-19T04:01:38.932Z"
   },
   {
    "duration": 0,
    "start_time": "2022-12-19T04:01:38.933Z"
   },
   {
    "duration": 0,
    "start_time": "2022-12-19T04:01:38.934Z"
   },
   {
    "duration": 0,
    "start_time": "2022-12-19T04:01:38.936Z"
   },
   {
    "duration": 0,
    "start_time": "2022-12-19T04:01:38.937Z"
   },
   {
    "duration": 0,
    "start_time": "2022-12-19T04:01:38.938Z"
   },
   {
    "duration": 0,
    "start_time": "2022-12-19T04:01:38.939Z"
   },
   {
    "duration": 0,
    "start_time": "2022-12-19T04:01:38.940Z"
   },
   {
    "duration": 0,
    "start_time": "2022-12-19T04:01:38.941Z"
   },
   {
    "duration": 0,
    "start_time": "2022-12-19T04:01:38.942Z"
   },
   {
    "duration": 0,
    "start_time": "2022-12-19T04:01:38.943Z"
   },
   {
    "duration": 675,
    "start_time": "2022-12-19T04:02:26.206Z"
   },
   {
    "duration": 111,
    "start_time": "2022-12-19T04:02:26.883Z"
   },
   {
    "duration": 3,
    "start_time": "2022-12-19T04:02:26.996Z"
   },
   {
    "duration": 49,
    "start_time": "2022-12-19T04:02:27.001Z"
   },
   {
    "duration": 25,
    "start_time": "2022-12-19T04:02:27.053Z"
   },
   {
    "duration": 117,
    "start_time": "2022-12-19T04:02:27.080Z"
   },
   {
    "duration": 24,
    "start_time": "2022-12-19T04:02:27.199Z"
   },
   {
    "duration": 9,
    "start_time": "2022-12-19T04:02:27.224Z"
   },
   {
    "duration": 55,
    "start_time": "2022-12-19T04:02:27.235Z"
   },
   {
    "duration": 5,
    "start_time": "2022-12-19T04:02:27.294Z"
   },
   {
    "duration": 11,
    "start_time": "2022-12-19T04:02:27.301Z"
   },
   {
    "duration": 37,
    "start_time": "2022-12-19T04:02:27.314Z"
   },
   {
    "duration": 6,
    "start_time": "2022-12-19T04:02:27.353Z"
   },
   {
    "duration": 19,
    "start_time": "2022-12-19T04:02:27.361Z"
   },
   {
    "duration": 41,
    "start_time": "2022-12-19T04:02:27.382Z"
   },
   {
    "duration": 8,
    "start_time": "2022-12-19T04:02:27.425Z"
   },
   {
    "duration": 52,
    "start_time": "2022-12-19T04:02:27.451Z"
   },
   {
    "duration": 3,
    "start_time": "2022-12-19T04:02:27.506Z"
   },
   {
    "duration": 9,
    "start_time": "2022-12-19T04:02:27.512Z"
   },
   {
    "duration": 5,
    "start_time": "2022-12-19T04:02:27.523Z"
   },
   {
    "duration": 9,
    "start_time": "2022-12-19T04:02:27.530Z"
   },
   {
    "duration": 36,
    "start_time": "2022-12-19T04:02:27.550Z"
   },
   {
    "duration": 9,
    "start_time": "2022-12-19T04:02:27.587Z"
   },
   {
    "duration": 12,
    "start_time": "2022-12-19T04:02:27.597Z"
   },
   {
    "duration": 7,
    "start_time": "2022-12-19T04:02:27.610Z"
   },
   {
    "duration": 41,
    "start_time": "2022-12-19T04:02:27.619Z"
   },
   {
    "duration": 31,
    "start_time": "2022-12-19T04:02:27.662Z"
   },
   {
    "duration": 8,
    "start_time": "2022-12-19T04:02:27.697Z"
   },
   {
    "duration": 22,
    "start_time": "2022-12-19T04:02:27.708Z"
   },
   {
    "duration": 22,
    "start_time": "2022-12-19T04:02:27.732Z"
   },
   {
    "duration": 13,
    "start_time": "2022-12-19T04:02:27.757Z"
   },
   {
    "duration": 31,
    "start_time": "2022-12-19T04:02:27.772Z"
   },
   {
    "duration": 5,
    "start_time": "2022-12-19T04:02:27.804Z"
   },
   {
    "duration": 8,
    "start_time": "2022-12-19T04:02:27.811Z"
   },
   {
    "duration": 1118,
    "start_time": "2022-12-19T04:02:27.820Z"
   },
   {
    "duration": 400,
    "start_time": "2022-12-19T04:02:28.940Z"
   },
   {
    "duration": 32,
    "start_time": "2022-12-19T04:02:29.342Z"
   },
   {
    "duration": 2,
    "start_time": "2022-12-19T04:02:29.376Z"
   },
   {
    "duration": 1346,
    "start_time": "2022-12-19T04:02:29.380Z"
   },
   {
    "duration": 0,
    "start_time": "2022-12-19T04:02:30.729Z"
   },
   {
    "duration": 0,
    "start_time": "2022-12-19T04:02:30.731Z"
   },
   {
    "duration": 0,
    "start_time": "2022-12-19T04:02:30.732Z"
   },
   {
    "duration": 0,
    "start_time": "2022-12-19T04:02:30.734Z"
   },
   {
    "duration": 0,
    "start_time": "2022-12-19T04:02:30.736Z"
   },
   {
    "duration": 0,
    "start_time": "2022-12-19T04:02:30.737Z"
   },
   {
    "duration": 0,
    "start_time": "2022-12-19T04:02:30.739Z"
   },
   {
    "duration": 0,
    "start_time": "2022-12-19T04:02:30.740Z"
   },
   {
    "duration": 0,
    "start_time": "2022-12-19T04:02:30.742Z"
   },
   {
    "duration": 0,
    "start_time": "2022-12-19T04:02:30.743Z"
   },
   {
    "duration": 0,
    "start_time": "2022-12-19T04:02:30.745Z"
   },
   {
    "duration": 0,
    "start_time": "2022-12-19T04:02:30.747Z"
   },
   {
    "duration": 0,
    "start_time": "2022-12-19T04:02:30.748Z"
   },
   {
    "duration": 0,
    "start_time": "2022-12-19T04:02:30.750Z"
   },
   {
    "duration": 0,
    "start_time": "2022-12-19T04:02:30.754Z"
   },
   {
    "duration": 0,
    "start_time": "2022-12-19T04:02:30.756Z"
   },
   {
    "duration": 0,
    "start_time": "2022-12-19T04:02:30.758Z"
   },
   {
    "duration": 0,
    "start_time": "2022-12-19T04:02:30.760Z"
   },
   {
    "duration": 0,
    "start_time": "2022-12-19T04:02:30.761Z"
   },
   {
    "duration": 0,
    "start_time": "2022-12-19T04:02:30.763Z"
   },
   {
    "duration": 0,
    "start_time": "2022-12-19T04:02:30.764Z"
   },
   {
    "duration": 0,
    "start_time": "2022-12-19T04:02:30.766Z"
   },
   {
    "duration": 0,
    "start_time": "2022-12-19T04:02:30.768Z"
   },
   {
    "duration": 0,
    "start_time": "2022-12-19T04:02:30.769Z"
   },
   {
    "duration": 0,
    "start_time": "2022-12-19T04:02:30.770Z"
   },
   {
    "duration": 0,
    "start_time": "2022-12-19T04:02:30.772Z"
   },
   {
    "duration": 0,
    "start_time": "2022-12-19T04:02:30.773Z"
   },
   {
    "duration": 0,
    "start_time": "2022-12-19T04:02:30.774Z"
   },
   {
    "duration": 0,
    "start_time": "2022-12-19T04:02:30.776Z"
   },
   {
    "duration": 0,
    "start_time": "2022-12-19T04:02:30.777Z"
   },
   {
    "duration": 0,
    "start_time": "2022-12-19T04:02:30.778Z"
   },
   {
    "duration": 1163,
    "start_time": "2022-12-19T04:04:34.884Z"
   },
   {
    "duration": 675,
    "start_time": "2022-12-19T04:06:02.828Z"
   },
   {
    "duration": 98,
    "start_time": "2022-12-19T04:06:03.505Z"
   },
   {
    "duration": 3,
    "start_time": "2022-12-19T04:06:03.604Z"
   },
   {
    "duration": 33,
    "start_time": "2022-12-19T04:06:03.609Z"
   },
   {
    "duration": 23,
    "start_time": "2022-12-19T04:06:03.643Z"
   },
   {
    "duration": 98,
    "start_time": "2022-12-19T04:06:03.668Z"
   },
   {
    "duration": 23,
    "start_time": "2022-12-19T04:06:03.768Z"
   },
   {
    "duration": 10,
    "start_time": "2022-12-19T04:06:03.792Z"
   },
   {
    "duration": 56,
    "start_time": "2022-12-19T04:06:03.803Z"
   },
   {
    "duration": 5,
    "start_time": "2022-12-19T04:06:03.861Z"
   },
   {
    "duration": 10,
    "start_time": "2022-12-19T04:06:03.867Z"
   },
   {
    "duration": 2,
    "start_time": "2022-12-19T04:06:03.879Z"
   },
   {
    "duration": 8,
    "start_time": "2022-12-19T04:06:03.883Z"
   },
   {
    "duration": 6,
    "start_time": "2022-12-19T04:06:03.893Z"
   },
   {
    "duration": 60,
    "start_time": "2022-12-19T04:06:03.900Z"
   },
   {
    "duration": 7,
    "start_time": "2022-12-19T04:06:03.961Z"
   },
   {
    "duration": 44,
    "start_time": "2022-12-19T04:06:03.970Z"
   },
   {
    "duration": 3,
    "start_time": "2022-12-19T04:06:04.016Z"
   },
   {
    "duration": 27,
    "start_time": "2022-12-19T04:06:04.020Z"
   },
   {
    "duration": 7,
    "start_time": "2022-12-19T04:06:04.048Z"
   },
   {
    "duration": 5,
    "start_time": "2022-12-19T04:06:04.057Z"
   },
   {
    "duration": 30,
    "start_time": "2022-12-19T04:06:04.064Z"
   },
   {
    "duration": 8,
    "start_time": "2022-12-19T04:06:04.096Z"
   },
   {
    "duration": 11,
    "start_time": "2022-12-19T04:06:04.106Z"
   },
   {
    "duration": 33,
    "start_time": "2022-12-19T04:06:04.118Z"
   },
   {
    "duration": 9,
    "start_time": "2022-12-19T04:06:04.152Z"
   },
   {
    "duration": 23,
    "start_time": "2022-12-19T04:06:04.164Z"
   },
   {
    "duration": 8,
    "start_time": "2022-12-19T04:06:04.191Z"
   },
   {
    "duration": 26,
    "start_time": "2022-12-19T04:06:04.201Z"
   },
   {
    "duration": 28,
    "start_time": "2022-12-19T04:06:04.229Z"
   },
   {
    "duration": 4,
    "start_time": "2022-12-19T04:06:04.259Z"
   },
   {
    "duration": 28,
    "start_time": "2022-12-19T04:06:04.265Z"
   },
   {
    "duration": 11,
    "start_time": "2022-12-19T04:06:04.295Z"
   },
   {
    "duration": 6,
    "start_time": "2022-12-19T04:06:04.308Z"
   },
   {
    "duration": 982,
    "start_time": "2022-12-19T04:06:04.316Z"
   },
   {
    "duration": 343,
    "start_time": "2022-12-19T04:06:05.300Z"
   },
   {
    "duration": 19,
    "start_time": "2022-12-19T04:06:05.645Z"
   },
   {
    "duration": 2,
    "start_time": "2022-12-19T04:06:05.666Z"
   },
   {
    "duration": 1205,
    "start_time": "2022-12-19T04:06:05.670Z"
   },
   {
    "duration": 0,
    "start_time": "2022-12-19T04:06:06.877Z"
   },
   {
    "duration": 0,
    "start_time": "2022-12-19T04:06:06.878Z"
   },
   {
    "duration": 0,
    "start_time": "2022-12-19T04:06:06.879Z"
   },
   {
    "duration": 0,
    "start_time": "2022-12-19T04:06:06.881Z"
   },
   {
    "duration": 0,
    "start_time": "2022-12-19T04:06:06.882Z"
   },
   {
    "duration": 0,
    "start_time": "2022-12-19T04:06:06.883Z"
   },
   {
    "duration": 0,
    "start_time": "2022-12-19T04:06:06.884Z"
   },
   {
    "duration": 0,
    "start_time": "2022-12-19T04:06:06.885Z"
   },
   {
    "duration": 0,
    "start_time": "2022-12-19T04:06:06.886Z"
   },
   {
    "duration": 0,
    "start_time": "2022-12-19T04:06:06.887Z"
   },
   {
    "duration": 0,
    "start_time": "2022-12-19T04:06:06.888Z"
   },
   {
    "duration": 0,
    "start_time": "2022-12-19T04:06:06.889Z"
   },
   {
    "duration": 0,
    "start_time": "2022-12-19T04:06:06.891Z"
   },
   {
    "duration": 0,
    "start_time": "2022-12-19T04:06:06.892Z"
   },
   {
    "duration": 0,
    "start_time": "2022-12-19T04:06:06.893Z"
   },
   {
    "duration": 0,
    "start_time": "2022-12-19T04:06:06.894Z"
   },
   {
    "duration": 0,
    "start_time": "2022-12-19T04:06:06.895Z"
   },
   {
    "duration": 0,
    "start_time": "2022-12-19T04:06:06.896Z"
   },
   {
    "duration": 0,
    "start_time": "2022-12-19T04:06:06.897Z"
   },
   {
    "duration": 0,
    "start_time": "2022-12-19T04:06:06.898Z"
   },
   {
    "duration": 0,
    "start_time": "2022-12-19T04:06:06.899Z"
   },
   {
    "duration": 0,
    "start_time": "2022-12-19T04:06:06.901Z"
   },
   {
    "duration": 0,
    "start_time": "2022-12-19T04:06:06.902Z"
   },
   {
    "duration": 0,
    "start_time": "2022-12-19T04:06:06.903Z"
   },
   {
    "duration": 0,
    "start_time": "2022-12-19T04:06:06.904Z"
   },
   {
    "duration": 0,
    "start_time": "2022-12-19T04:06:06.905Z"
   },
   {
    "duration": 0,
    "start_time": "2022-12-19T04:06:06.906Z"
   },
   {
    "duration": 0,
    "start_time": "2022-12-19T04:06:06.907Z"
   },
   {
    "duration": 0,
    "start_time": "2022-12-19T04:06:06.908Z"
   },
   {
    "duration": 0,
    "start_time": "2022-12-19T04:06:06.909Z"
   },
   {
    "duration": 0,
    "start_time": "2022-12-19T04:06:06.910Z"
   },
   {
    "duration": 77,
    "start_time": "2022-12-19T04:06:55.132Z"
   },
   {
    "duration": 1153,
    "start_time": "2022-12-19T04:07:57.117Z"
   },
   {
    "duration": 667,
    "start_time": "2022-12-19T04:08:37.216Z"
   },
   {
    "duration": 97,
    "start_time": "2022-12-19T04:08:37.885Z"
   },
   {
    "duration": 3,
    "start_time": "2022-12-19T04:08:37.984Z"
   },
   {
    "duration": 35,
    "start_time": "2022-12-19T04:08:37.989Z"
   },
   {
    "duration": 27,
    "start_time": "2022-12-19T04:08:38.025Z"
   },
   {
    "duration": 77,
    "start_time": "2022-12-19T04:08:38.054Z"
   },
   {
    "duration": 41,
    "start_time": "2022-12-19T04:08:38.133Z"
   },
   {
    "duration": 11,
    "start_time": "2022-12-19T04:08:38.176Z"
   },
   {
    "duration": 31,
    "start_time": "2022-12-19T04:08:38.189Z"
   },
   {
    "duration": 29,
    "start_time": "2022-12-19T04:08:38.222Z"
   },
   {
    "duration": 11,
    "start_time": "2022-12-19T04:08:38.252Z"
   },
   {
    "duration": 3,
    "start_time": "2022-12-19T04:08:38.264Z"
   },
   {
    "duration": 9,
    "start_time": "2022-12-19T04:08:38.268Z"
   },
   {
    "duration": 6,
    "start_time": "2022-12-19T04:08:38.279Z"
   },
   {
    "duration": 39,
    "start_time": "2022-12-19T04:08:38.287Z"
   },
   {
    "duration": 26,
    "start_time": "2022-12-19T04:08:38.328Z"
   },
   {
    "duration": 42,
    "start_time": "2022-12-19T04:08:38.356Z"
   },
   {
    "duration": 3,
    "start_time": "2022-12-19T04:08:38.399Z"
   },
   {
    "duration": 12,
    "start_time": "2022-12-19T04:08:38.404Z"
   },
   {
    "duration": 5,
    "start_time": "2022-12-19T04:08:38.418Z"
   },
   {
    "duration": 8,
    "start_time": "2022-12-19T04:08:38.424Z"
   },
   {
    "duration": 45,
    "start_time": "2022-12-19T04:08:38.433Z"
   },
   {
    "duration": 8,
    "start_time": "2022-12-19T04:08:38.480Z"
   },
   {
    "duration": 10,
    "start_time": "2022-12-19T04:08:38.490Z"
   },
   {
    "duration": 7,
    "start_time": "2022-12-19T04:08:38.502Z"
   },
   {
    "duration": 13,
    "start_time": "2022-12-19T04:08:38.510Z"
   },
   {
    "duration": 41,
    "start_time": "2022-12-19T04:08:38.525Z"
   },
   {
    "duration": 7,
    "start_time": "2022-12-19T04:08:38.570Z"
   },
   {
    "duration": 16,
    "start_time": "2022-12-19T04:08:38.579Z"
   },
   {
    "duration": 7,
    "start_time": "2022-12-19T04:08:38.597Z"
   },
   {
    "duration": 4,
    "start_time": "2022-12-19T04:08:38.606Z"
   },
   {
    "duration": 58,
    "start_time": "2022-12-19T04:08:38.612Z"
   },
   {
    "duration": 4,
    "start_time": "2022-12-19T04:08:38.671Z"
   },
   {
    "duration": 7,
    "start_time": "2022-12-19T04:08:38.677Z"
   },
   {
    "duration": 1052,
    "start_time": "2022-12-19T04:08:38.685Z"
   },
   {
    "duration": 401,
    "start_time": "2022-12-19T04:08:39.739Z"
   },
   {
    "duration": 20,
    "start_time": "2022-12-19T04:08:40.142Z"
   },
   {
    "duration": 12,
    "start_time": "2022-12-19T04:08:40.164Z"
   },
   {
    "duration": 118,
    "start_time": "2022-12-19T04:08:40.178Z"
   },
   {
    "duration": 0,
    "start_time": "2022-12-19T04:08:40.297Z"
   },
   {
    "duration": 0,
    "start_time": "2022-12-19T04:08:40.298Z"
   },
   {
    "duration": 0,
    "start_time": "2022-12-19T04:08:40.299Z"
   },
   {
    "duration": 0,
    "start_time": "2022-12-19T04:08:40.301Z"
   },
   {
    "duration": 0,
    "start_time": "2022-12-19T04:08:40.302Z"
   },
   {
    "duration": 0,
    "start_time": "2022-12-19T04:08:40.304Z"
   },
   {
    "duration": 0,
    "start_time": "2022-12-19T04:08:40.305Z"
   },
   {
    "duration": 0,
    "start_time": "2022-12-19T04:08:40.306Z"
   },
   {
    "duration": 0,
    "start_time": "2022-12-19T04:08:40.307Z"
   },
   {
    "duration": 0,
    "start_time": "2022-12-19T04:08:40.309Z"
   },
   {
    "duration": 0,
    "start_time": "2022-12-19T04:08:40.310Z"
   },
   {
    "duration": 0,
    "start_time": "2022-12-19T04:08:40.311Z"
   },
   {
    "duration": 0,
    "start_time": "2022-12-19T04:08:40.312Z"
   },
   {
    "duration": 0,
    "start_time": "2022-12-19T04:08:40.313Z"
   },
   {
    "duration": 0,
    "start_time": "2022-12-19T04:08:40.315Z"
   },
   {
    "duration": 0,
    "start_time": "2022-12-19T04:08:40.316Z"
   },
   {
    "duration": 0,
    "start_time": "2022-12-19T04:08:40.317Z"
   },
   {
    "duration": 0,
    "start_time": "2022-12-19T04:08:40.318Z"
   },
   {
    "duration": 0,
    "start_time": "2022-12-19T04:08:40.351Z"
   },
   {
    "duration": 0,
    "start_time": "2022-12-19T04:08:40.352Z"
   },
   {
    "duration": 0,
    "start_time": "2022-12-19T04:08:40.353Z"
   },
   {
    "duration": 0,
    "start_time": "2022-12-19T04:08:40.355Z"
   },
   {
    "duration": 0,
    "start_time": "2022-12-19T04:08:40.356Z"
   },
   {
    "duration": 0,
    "start_time": "2022-12-19T04:08:40.357Z"
   },
   {
    "duration": 0,
    "start_time": "2022-12-19T04:08:40.359Z"
   },
   {
    "duration": 0,
    "start_time": "2022-12-19T04:08:40.360Z"
   },
   {
    "duration": 0,
    "start_time": "2022-12-19T04:08:40.362Z"
   },
   {
    "duration": 0,
    "start_time": "2022-12-19T04:08:40.363Z"
   },
   {
    "duration": 0,
    "start_time": "2022-12-19T04:08:40.365Z"
   },
   {
    "duration": 0,
    "start_time": "2022-12-19T04:08:40.367Z"
   },
   {
    "duration": 0,
    "start_time": "2022-12-19T04:08:40.368Z"
   },
   {
    "duration": 647,
    "start_time": "2022-12-19T04:09:52.342Z"
   },
   {
    "duration": 94,
    "start_time": "2022-12-19T04:09:52.991Z"
   },
   {
    "duration": 3,
    "start_time": "2022-12-19T04:09:53.086Z"
   },
   {
    "duration": 35,
    "start_time": "2022-12-19T04:09:53.090Z"
   },
   {
    "duration": 26,
    "start_time": "2022-12-19T04:09:53.127Z"
   },
   {
    "duration": 69,
    "start_time": "2022-12-19T04:09:53.154Z"
   },
   {
    "duration": 37,
    "start_time": "2022-12-19T04:09:53.225Z"
   },
   {
    "duration": 9,
    "start_time": "2022-12-19T04:09:53.264Z"
   },
   {
    "duration": 29,
    "start_time": "2022-12-19T04:09:53.274Z"
   },
   {
    "duration": 5,
    "start_time": "2022-12-19T04:09:53.304Z"
   },
   {
    "duration": 11,
    "start_time": "2022-12-19T04:09:53.311Z"
   },
   {
    "duration": 3,
    "start_time": "2022-12-19T04:09:53.350Z"
   },
   {
    "duration": 15,
    "start_time": "2022-12-19T04:09:53.355Z"
   },
   {
    "duration": 8,
    "start_time": "2022-12-19T04:09:53.374Z"
   },
   {
    "duration": 44,
    "start_time": "2022-12-19T04:09:53.384Z"
   },
   {
    "duration": 7,
    "start_time": "2022-12-19T04:09:53.430Z"
   },
   {
    "duration": 50,
    "start_time": "2022-12-19T04:09:53.439Z"
   },
   {
    "duration": 2,
    "start_time": "2022-12-19T04:09:53.491Z"
   },
   {
    "duration": 10,
    "start_time": "2022-12-19T04:09:53.494Z"
   },
   {
    "duration": 10,
    "start_time": "2022-12-19T04:09:53.506Z"
   },
   {
    "duration": 5,
    "start_time": "2022-12-19T04:09:53.519Z"
   },
   {
    "duration": 42,
    "start_time": "2022-12-19T04:09:53.526Z"
   },
   {
    "duration": 9,
    "start_time": "2022-12-19T04:09:53.569Z"
   },
   {
    "duration": 10,
    "start_time": "2022-12-19T04:09:53.579Z"
   },
   {
    "duration": 8,
    "start_time": "2022-12-19T04:09:53.590Z"
   },
   {
    "duration": 10,
    "start_time": "2022-12-19T04:09:53.600Z"
   },
   {
    "duration": 48,
    "start_time": "2022-12-19T04:09:53.612Z"
   },
   {
    "duration": 8,
    "start_time": "2022-12-19T04:09:53.662Z"
   },
   {
    "duration": 19,
    "start_time": "2022-12-19T04:09:53.672Z"
   },
   {
    "duration": 8,
    "start_time": "2022-12-19T04:09:53.693Z"
   },
   {
    "duration": 7,
    "start_time": "2022-12-19T04:09:53.703Z"
   },
   {
    "duration": 46,
    "start_time": "2022-12-19T04:09:53.711Z"
   },
   {
    "duration": 5,
    "start_time": "2022-12-19T04:09:53.759Z"
   },
   {
    "duration": 18,
    "start_time": "2022-12-19T04:09:53.766Z"
   },
   {
    "duration": 1005,
    "start_time": "2022-12-19T04:09:53.787Z"
   },
   {
    "duration": 340,
    "start_time": "2022-12-19T04:09:54.794Z"
   },
   {
    "duration": 19,
    "start_time": "2022-12-19T04:09:55.136Z"
   },
   {
    "duration": 5,
    "start_time": "2022-12-19T04:09:55.156Z"
   },
   {
    "duration": 19,
    "start_time": "2022-12-19T04:09:55.163Z"
   },
   {
    "duration": 327,
    "start_time": "2022-12-19T04:09:55.184Z"
   },
   {
    "duration": 268,
    "start_time": "2022-12-19T04:09:55.515Z"
   },
   {
    "duration": 317,
    "start_time": "2022-12-19T04:09:55.784Z"
   },
   {
    "duration": 358,
    "start_time": "2022-12-19T04:09:56.103Z"
   },
   {
    "duration": 170,
    "start_time": "2022-12-19T04:09:56.463Z"
   },
   {
    "duration": 198,
    "start_time": "2022-12-19T04:09:56.635Z"
   },
   {
    "duration": 204,
    "start_time": "2022-12-19T04:09:56.835Z"
   },
   {
    "duration": 85,
    "start_time": "2022-12-19T04:09:57.041Z"
   },
   {
    "duration": 200,
    "start_time": "2022-12-19T04:09:57.127Z"
   },
   {
    "duration": 305,
    "start_time": "2022-12-19T04:09:57.329Z"
   },
   {
    "duration": 288,
    "start_time": "2022-12-19T04:09:57.637Z"
   },
   {
    "duration": 253,
    "start_time": "2022-12-19T04:09:57.927Z"
   },
   {
    "duration": 154,
    "start_time": "2022-12-19T04:09:58.182Z"
   },
   {
    "duration": 168,
    "start_time": "2022-12-19T04:09:58.337Z"
   },
   {
    "duration": 145,
    "start_time": "2022-12-19T04:09:58.507Z"
   },
   {
    "duration": 179,
    "start_time": "2022-12-19T04:09:58.654Z"
   },
   {
    "duration": 512,
    "start_time": "2022-12-19T04:09:58.835Z"
   },
   {
    "duration": 9,
    "start_time": "2022-12-19T04:09:59.351Z"
   },
   {
    "duration": 46,
    "start_time": "2022-12-19T04:09:59.362Z"
   },
   {
    "duration": 216,
    "start_time": "2022-12-19T04:09:59.409Z"
   },
   {
    "duration": 226,
    "start_time": "2022-12-19T04:09:59.627Z"
   },
   {
    "duration": 182,
    "start_time": "2022-12-19T04:09:59.855Z"
   },
   {
    "duration": 264,
    "start_time": "2022-12-19T04:10:00.039Z"
   },
   {
    "duration": 327,
    "start_time": "2022-12-19T04:10:00.305Z"
   },
   {
    "duration": 183,
    "start_time": "2022-12-19T04:10:00.634Z"
   },
   {
    "duration": 176,
    "start_time": "2022-12-19T04:10:00.819Z"
   },
   {
    "duration": 206,
    "start_time": "2022-12-19T04:10:00.997Z"
   },
   {
    "duration": 55,
    "start_time": "2022-12-19T04:10:01.205Z"
   },
   {
    "duration": 4,
    "start_time": "2022-12-19T04:10:01.262Z"
   },
   {
    "duration": 208,
    "start_time": "2022-12-19T04:10:01.268Z"
   },
   {
    "duration": 720,
    "start_time": "2022-12-19T19:03:05.695Z"
   },
   {
    "duration": 107,
    "start_time": "2022-12-19T19:03:06.417Z"
   },
   {
    "duration": 4,
    "start_time": "2022-12-19T19:03:06.526Z"
   },
   {
    "duration": 84,
    "start_time": "2022-12-19T19:03:06.532Z"
   },
   {
    "duration": 19,
    "start_time": "2022-12-19T19:03:06.619Z"
   },
   {
    "duration": 101,
    "start_time": "2022-12-19T19:03:06.640Z"
   },
   {
    "duration": 25,
    "start_time": "2022-12-19T19:03:06.743Z"
   },
   {
    "duration": 25,
    "start_time": "2022-12-19T19:03:06.777Z"
   },
   {
    "duration": 43,
    "start_time": "2022-12-19T19:03:06.804Z"
   },
   {
    "duration": 14,
    "start_time": "2022-12-19T19:03:06.848Z"
   },
   {
    "duration": 51,
    "start_time": "2022-12-19T19:03:06.865Z"
   },
   {
    "duration": 10,
    "start_time": "2022-12-19T19:03:06.919Z"
   },
   {
    "duration": 33,
    "start_time": "2022-12-19T19:03:06.932Z"
   },
   {
    "duration": 44,
    "start_time": "2022-12-19T19:03:06.968Z"
   },
   {
    "duration": 61,
    "start_time": "2022-12-19T19:03:07.015Z"
   },
   {
    "duration": 27,
    "start_time": "2022-12-19T19:03:07.078Z"
   },
   {
    "duration": 87,
    "start_time": "2022-12-19T19:03:07.108Z"
   },
   {
    "duration": 3,
    "start_time": "2022-12-19T19:03:07.197Z"
   },
   {
    "duration": 27,
    "start_time": "2022-12-19T19:03:07.202Z"
   },
   {
    "duration": 20,
    "start_time": "2022-12-19T19:03:07.232Z"
   },
   {
    "duration": 49,
    "start_time": "2022-12-19T19:03:07.254Z"
   },
   {
    "duration": 56,
    "start_time": "2022-12-19T19:03:07.306Z"
   },
   {
    "duration": 9,
    "start_time": "2022-12-19T19:03:07.364Z"
   },
   {
    "duration": 54,
    "start_time": "2022-12-19T19:03:07.375Z"
   },
   {
    "duration": 32,
    "start_time": "2022-12-19T19:03:07.431Z"
   },
   {
    "duration": 40,
    "start_time": "2022-12-19T19:03:07.465Z"
   },
   {
    "duration": 54,
    "start_time": "2022-12-19T19:03:07.506Z"
   },
   {
    "duration": 12,
    "start_time": "2022-12-19T19:03:07.562Z"
   },
   {
    "duration": 51,
    "start_time": "2022-12-19T19:03:07.576Z"
   },
   {
    "duration": 23,
    "start_time": "2022-12-19T19:03:07.629Z"
   },
   {
    "duration": 15,
    "start_time": "2022-12-19T19:03:07.654Z"
   },
   {
    "duration": 66,
    "start_time": "2022-12-19T19:03:07.672Z"
   },
   {
    "duration": 6,
    "start_time": "2022-12-19T19:03:07.741Z"
   },
   {
    "duration": 20,
    "start_time": "2022-12-19T19:03:07.750Z"
   },
   {
    "duration": 1243,
    "start_time": "2022-12-19T19:03:07.773Z"
   },
   {
    "duration": 393,
    "start_time": "2022-12-19T19:03:09.018Z"
   },
   {
    "duration": 16,
    "start_time": "2022-12-19T19:03:09.413Z"
   },
   {
    "duration": 7,
    "start_time": "2022-12-19T19:03:09.430Z"
   },
   {
    "duration": 41,
    "start_time": "2022-12-19T19:03:09.439Z"
   },
   {
    "duration": 365,
    "start_time": "2022-12-19T19:03:09.481Z"
   },
   {
    "duration": 306,
    "start_time": "2022-12-19T19:03:09.852Z"
   },
   {
    "duration": 422,
    "start_time": "2022-12-19T19:03:10.160Z"
   },
   {
    "duration": 442,
    "start_time": "2022-12-19T19:03:10.587Z"
   },
   {
    "duration": 182,
    "start_time": "2022-12-19T19:03:11.033Z"
   },
   {
    "duration": 222,
    "start_time": "2022-12-19T19:03:11.217Z"
   },
   {
    "duration": 238,
    "start_time": "2022-12-19T19:03:11.440Z"
   },
   {
    "duration": 99,
    "start_time": "2022-12-19T19:03:11.680Z"
   },
   {
    "duration": 238,
    "start_time": "2022-12-19T19:03:11.782Z"
   },
   {
    "duration": 330,
    "start_time": "2022-12-19T19:03:12.022Z"
   },
   {
    "duration": 333,
    "start_time": "2022-12-19T19:03:12.354Z"
   },
   {
    "duration": 255,
    "start_time": "2022-12-19T19:03:12.689Z"
   },
   {
    "duration": 173,
    "start_time": "2022-12-19T19:03:12.946Z"
   },
   {
    "duration": 176,
    "start_time": "2022-12-19T19:03:13.121Z"
   },
   {
    "duration": 162,
    "start_time": "2022-12-19T19:03:13.299Z"
   },
   {
    "duration": 247,
    "start_time": "2022-12-19T19:03:13.463Z"
   },
   {
    "duration": 613,
    "start_time": "2022-12-19T19:03:13.712Z"
   },
   {
    "duration": 10,
    "start_time": "2022-12-19T19:03:14.327Z"
   },
   {
    "duration": 71,
    "start_time": "2022-12-19T19:03:14.340Z"
   },
   {
    "duration": 232,
    "start_time": "2022-12-19T19:03:14.413Z"
   },
   {
    "duration": 220,
    "start_time": "2022-12-19T19:03:14.647Z"
   },
   {
    "duration": 224,
    "start_time": "2022-12-19T19:03:14.869Z"
   },
   {
    "duration": 285,
    "start_time": "2022-12-19T19:03:15.095Z"
   },
   {
    "duration": 358,
    "start_time": "2022-12-19T19:03:15.382Z"
   },
   {
    "duration": 201,
    "start_time": "2022-12-19T19:03:15.741Z"
   },
   {
    "duration": 190,
    "start_time": "2022-12-19T19:03:15.945Z"
   },
   {
    "duration": 225,
    "start_time": "2022-12-19T19:03:16.137Z"
   },
   {
    "duration": 56,
    "start_time": "2022-12-19T19:03:16.364Z"
   },
   {
    "duration": 6,
    "start_time": "2022-12-19T19:03:16.422Z"
   },
   {
    "duration": 247,
    "start_time": "2022-12-19T19:03:16.430Z"
   },
   {
    "duration": 20,
    "start_time": "2022-12-19T19:04:30.377Z"
   },
   {
    "duration": 85,
    "start_time": "2022-12-19T19:04:34.269Z"
   },
   {
    "duration": 82,
    "start_time": "2022-12-19T19:05:00.447Z"
   },
   {
    "duration": 21,
    "start_time": "2022-12-19T19:05:07.066Z"
   },
   {
    "duration": 273,
    "start_time": "2022-12-19T19:05:40.805Z"
   },
   {
    "duration": 1058,
    "start_time": "2022-12-21T15:24:39.584Z"
   },
   {
    "duration": 799,
    "start_time": "2022-12-21T15:24:40.645Z"
   },
   {
    "duration": 3,
    "start_time": "2022-12-21T15:24:41.447Z"
   },
   {
    "duration": 41,
    "start_time": "2022-12-21T15:24:41.453Z"
   },
   {
    "duration": 39,
    "start_time": "2022-12-21T15:24:41.496Z"
   },
   {
    "duration": 85,
    "start_time": "2022-12-21T15:24:41.538Z"
   },
   {
    "duration": 38,
    "start_time": "2022-12-21T15:24:41.625Z"
   },
   {
    "duration": 14,
    "start_time": "2022-12-21T15:24:41.666Z"
   },
   {
    "duration": 68,
    "start_time": "2022-12-21T15:24:41.682Z"
   },
   {
    "duration": 7,
    "start_time": "2022-12-21T15:24:41.754Z"
   },
   {
    "duration": 18,
    "start_time": "2022-12-21T15:24:41.763Z"
   },
   {
    "duration": 3,
    "start_time": "2022-12-21T15:24:41.783Z"
   },
   {
    "duration": 6,
    "start_time": "2022-12-21T15:24:41.814Z"
   },
   {
    "duration": 19,
    "start_time": "2022-12-21T15:24:41.825Z"
   },
   {
    "duration": 42,
    "start_time": "2022-12-21T15:24:41.847Z"
   },
   {
    "duration": 30,
    "start_time": "2022-12-21T15:24:41.892Z"
   },
   {
    "duration": 62,
    "start_time": "2022-12-21T15:24:41.924Z"
   },
   {
    "duration": 3,
    "start_time": "2022-12-21T15:24:41.988Z"
   },
   {
    "duration": 11,
    "start_time": "2022-12-21T15:24:42.012Z"
   },
   {
    "duration": 10,
    "start_time": "2022-12-21T15:24:42.031Z"
   },
   {
    "duration": 7,
    "start_time": "2022-12-21T15:24:42.043Z"
   },
   {
    "duration": 46,
    "start_time": "2022-12-21T15:24:42.052Z"
   },
   {
    "duration": 28,
    "start_time": "2022-12-21T15:24:42.100Z"
   },
   {
    "duration": 23,
    "start_time": "2022-12-21T15:24:42.132Z"
   },
   {
    "duration": 8,
    "start_time": "2022-12-21T15:24:42.157Z"
   },
   {
    "duration": 9,
    "start_time": "2022-12-21T15:24:42.167Z"
   },
   {
    "duration": 56,
    "start_time": "2022-12-21T15:24:42.178Z"
   },
   {
    "duration": 14,
    "start_time": "2022-12-21T15:24:42.239Z"
   },
   {
    "duration": 22,
    "start_time": "2022-12-21T15:24:42.255Z"
   },
   {
    "duration": 10,
    "start_time": "2022-12-21T15:24:42.280Z"
   },
   {
    "duration": 25,
    "start_time": "2022-12-21T15:24:42.292Z"
   },
   {
    "duration": 116,
    "start_time": "2022-12-21T15:24:42.318Z"
   },
   {
    "duration": 257,
    "start_time": "2022-12-21T15:24:42.441Z"
   },
   {
    "duration": 38,
    "start_time": "2022-12-21T15:24:42.700Z"
   },
   {
    "duration": 5,
    "start_time": "2022-12-21T15:24:42.740Z"
   },
   {
    "duration": 6,
    "start_time": "2022-12-21T15:24:42.748Z"
   },
   {
    "duration": 1122,
    "start_time": "2022-12-21T15:24:42.757Z"
   },
   {
    "duration": 404,
    "start_time": "2022-12-21T15:24:43.881Z"
   },
   {
    "duration": 31,
    "start_time": "2022-12-21T15:24:44.287Z"
   },
   {
    "duration": 13,
    "start_time": "2022-12-21T15:24:44.319Z"
   },
   {
    "duration": 17,
    "start_time": "2022-12-21T15:24:44.340Z"
   },
   {
    "duration": 330,
    "start_time": "2022-12-21T15:24:44.360Z"
   },
   {
    "duration": 272,
    "start_time": "2022-12-21T15:24:44.692Z"
   },
   {
    "duration": 377,
    "start_time": "2022-12-21T15:24:44.967Z"
   },
   {
    "duration": 418,
    "start_time": "2022-12-21T15:24:45.346Z"
   },
   {
    "duration": 194,
    "start_time": "2022-12-21T15:24:45.766Z"
   },
   {
    "duration": 264,
    "start_time": "2022-12-21T15:24:45.962Z"
   },
   {
    "duration": 265,
    "start_time": "2022-12-21T15:24:46.238Z"
   },
   {
    "duration": 123,
    "start_time": "2022-12-21T15:24:46.505Z"
   },
   {
    "duration": 327,
    "start_time": "2022-12-21T15:24:46.644Z"
   },
   {
    "duration": 419,
    "start_time": "2022-12-21T15:24:46.973Z"
   },
   {
    "duration": 448,
    "start_time": "2022-12-21T15:24:47.394Z"
   },
   {
    "duration": 275,
    "start_time": "2022-12-21T15:24:47.844Z"
   },
   {
    "duration": 168,
    "start_time": "2022-12-21T15:24:48.120Z"
   },
   {
    "duration": 195,
    "start_time": "2022-12-21T15:24:48.290Z"
   },
   {
    "duration": 172,
    "start_time": "2022-12-21T15:24:48.486Z"
   },
   {
    "duration": 314,
    "start_time": "2022-12-21T15:24:48.661Z"
   },
   {
    "duration": 729,
    "start_time": "2022-12-21T15:24:48.977Z"
   },
   {
    "duration": 17,
    "start_time": "2022-12-21T15:24:49.708Z"
   },
   {
    "duration": 96,
    "start_time": "2022-12-21T15:24:49.727Z"
   },
   {
    "duration": 220,
    "start_time": "2022-12-21T15:24:49.833Z"
   },
   {
    "duration": 245,
    "start_time": "2022-12-21T15:24:50.055Z"
   },
   {
    "duration": 201,
    "start_time": "2022-12-21T15:24:50.302Z"
   },
   {
    "duration": 361,
    "start_time": "2022-12-21T15:24:50.505Z"
   },
   {
    "duration": 393,
    "start_time": "2022-12-21T15:24:50.869Z"
   },
   {
    "duration": 208,
    "start_time": "2022-12-21T15:24:51.264Z"
   },
   {
    "duration": 197,
    "start_time": "2022-12-21T15:24:51.473Z"
   },
   {
    "duration": 223,
    "start_time": "2022-12-21T15:24:51.672Z"
   },
   {
    "duration": 49,
    "start_time": "2022-12-21T15:24:51.896Z"
   },
   {
    "duration": 5,
    "start_time": "2022-12-21T15:24:51.947Z"
   },
   {
    "duration": 255,
    "start_time": "2022-12-21T15:24:51.954Z"
   },
   {
    "duration": 6,
    "start_time": "2022-12-21T15:27:46.040Z"
   },
   {
    "duration": 7,
    "start_time": "2022-12-21T15:28:14.851Z"
   },
   {
    "duration": 685,
    "start_time": "2022-12-22T14:09:31.380Z"
   },
   {
    "duration": 97,
    "start_time": "2022-12-22T14:09:32.067Z"
   },
   {
    "duration": 3,
    "start_time": "2022-12-22T14:09:32.166Z"
   },
   {
    "duration": 44,
    "start_time": "2022-12-22T14:09:32.171Z"
   },
   {
    "duration": 36,
    "start_time": "2022-12-22T14:09:32.217Z"
   },
   {
    "duration": 90,
    "start_time": "2022-12-22T14:09:32.255Z"
   },
   {
    "duration": 23,
    "start_time": "2022-12-22T14:09:32.347Z"
   },
   {
    "duration": 25,
    "start_time": "2022-12-22T14:09:32.372Z"
   },
   {
    "duration": 31,
    "start_time": "2022-12-22T14:09:32.399Z"
   },
   {
    "duration": 4,
    "start_time": "2022-12-22T14:09:32.433Z"
   },
   {
    "duration": 16,
    "start_time": "2022-12-22T14:09:32.439Z"
   },
   {
    "duration": 2,
    "start_time": "2022-12-22T14:09:32.457Z"
   },
   {
    "duration": 18,
    "start_time": "2022-12-22T14:09:32.461Z"
   },
   {
    "duration": 6,
    "start_time": "2022-12-22T14:09:32.497Z"
   },
   {
    "duration": 47,
    "start_time": "2022-12-22T14:09:32.505Z"
   },
   {
    "duration": 7,
    "start_time": "2022-12-22T14:09:32.554Z"
   },
   {
    "duration": 56,
    "start_time": "2022-12-22T14:09:32.563Z"
   },
   {
    "duration": 2,
    "start_time": "2022-12-22T14:09:32.621Z"
   },
   {
    "duration": 12,
    "start_time": "2022-12-22T14:09:32.625Z"
   },
   {
    "duration": 13,
    "start_time": "2022-12-22T14:09:32.638Z"
   },
   {
    "duration": 9,
    "start_time": "2022-12-22T14:09:32.653Z"
   },
   {
    "duration": 37,
    "start_time": "2022-12-22T14:09:32.664Z"
   },
   {
    "duration": 9,
    "start_time": "2022-12-22T14:09:32.702Z"
   },
   {
    "duration": 12,
    "start_time": "2022-12-22T14:09:32.713Z"
   },
   {
    "duration": 11,
    "start_time": "2022-12-22T14:09:32.726Z"
   },
   {
    "duration": 10,
    "start_time": "2022-12-22T14:09:32.739Z"
   },
   {
    "duration": 49,
    "start_time": "2022-12-22T14:09:32.750Z"
   },
   {
    "duration": 12,
    "start_time": "2022-12-22T14:09:32.804Z"
   },
   {
    "duration": 32,
    "start_time": "2022-12-22T14:09:32.817Z"
   },
   {
    "duration": 8,
    "start_time": "2022-12-22T14:09:32.851Z"
   },
   {
    "duration": 4,
    "start_time": "2022-12-22T14:09:32.861Z"
   },
   {
    "duration": 103,
    "start_time": "2022-12-22T14:09:32.867Z"
   },
   {
    "duration": 245,
    "start_time": "2022-12-22T14:09:32.972Z"
   },
   {
    "duration": 27,
    "start_time": "2022-12-22T14:09:33.219Z"
   },
   {
    "duration": 6,
    "start_time": "2022-12-22T14:09:33.247Z"
   },
   {
    "duration": 6,
    "start_time": "2022-12-22T14:09:33.254Z"
   },
   {
    "duration": 1070,
    "start_time": "2022-12-22T14:09:33.261Z"
   },
   {
    "duration": 369,
    "start_time": "2022-12-22T14:09:34.333Z"
   },
   {
    "duration": 15,
    "start_time": "2022-12-22T14:09:34.704Z"
   },
   {
    "duration": 11,
    "start_time": "2022-12-22T14:09:34.722Z"
   },
   {
    "duration": 36,
    "start_time": "2022-12-22T14:09:34.735Z"
   },
   {
    "duration": 348,
    "start_time": "2022-12-22T14:09:34.773Z"
   },
   {
    "duration": 261,
    "start_time": "2022-12-22T14:09:35.123Z"
   },
   {
    "duration": 326,
    "start_time": "2022-12-22T14:09:35.386Z"
   },
   {
    "duration": 416,
    "start_time": "2022-12-22T14:09:35.714Z"
   },
   {
    "duration": 238,
    "start_time": "2022-12-22T14:09:36.133Z"
   },
   {
    "duration": 203,
    "start_time": "2022-12-22T14:09:36.373Z"
   },
   {
    "duration": 214,
    "start_time": "2022-12-22T14:09:36.578Z"
   },
   {
    "duration": 104,
    "start_time": "2022-12-22T14:09:36.793Z"
   },
   {
    "duration": 221,
    "start_time": "2022-12-22T14:09:36.899Z"
   },
   {
    "duration": 326,
    "start_time": "2022-12-22T14:09:37.122Z"
   },
   {
    "duration": 316,
    "start_time": "2022-12-22T14:09:37.450Z"
   },
   {
    "duration": 306,
    "start_time": "2022-12-22T14:09:37.768Z"
   },
   {
    "duration": 160,
    "start_time": "2022-12-22T14:09:38.075Z"
   },
   {
    "duration": 173,
    "start_time": "2022-12-22T14:09:38.237Z"
   },
   {
    "duration": 155,
    "start_time": "2022-12-22T14:09:38.412Z"
   },
   {
    "duration": 191,
    "start_time": "2022-12-22T14:09:38.570Z"
   },
   {
    "duration": 548,
    "start_time": "2022-12-22T14:09:38.764Z"
   },
   {
    "duration": 13,
    "start_time": "2022-12-22T14:09:39.314Z"
   },
   {
    "duration": 87,
    "start_time": "2022-12-22T14:09:39.329Z"
   },
   {
    "duration": 200,
    "start_time": "2022-12-22T14:09:39.418Z"
   },
   {
    "duration": 188,
    "start_time": "2022-12-22T14:09:39.620Z"
   },
   {
    "duration": 210,
    "start_time": "2022-12-22T14:09:39.810Z"
   },
   {
    "duration": 284,
    "start_time": "2022-12-22T14:09:40.022Z"
   },
   {
    "duration": 369,
    "start_time": "2022-12-22T14:09:40.308Z"
   },
   {
    "duration": 190,
    "start_time": "2022-12-22T14:09:40.679Z"
   },
   {
    "duration": 216,
    "start_time": "2022-12-22T14:09:40.871Z"
   },
   {
    "duration": 225,
    "start_time": "2022-12-22T14:09:41.089Z"
   },
   {
    "duration": 40,
    "start_time": "2022-12-22T14:09:41.315Z"
   },
   {
    "duration": 5,
    "start_time": "2022-12-22T14:09:41.356Z"
   },
   {
    "duration": 242,
    "start_time": "2022-12-22T14:09:41.363Z"
   },
   {
    "duration": 19,
    "start_time": "2022-12-22T14:09:50.392Z"
   },
   {
    "duration": 861,
    "start_time": "2022-12-22T17:10:08.597Z"
   },
   {
    "duration": 331,
    "start_time": "2022-12-22T17:10:09.460Z"
   },
   {
    "duration": 4,
    "start_time": "2022-12-22T17:10:09.792Z"
   },
   {
    "duration": 34,
    "start_time": "2022-12-22T17:10:09.798Z"
   },
   {
    "duration": 16,
    "start_time": "2022-12-22T17:10:09.834Z"
   },
   {
    "duration": 84,
    "start_time": "2022-12-22T17:10:09.852Z"
   },
   {
    "duration": 21,
    "start_time": "2022-12-22T17:10:09.937Z"
   },
   {
    "duration": 9,
    "start_time": "2022-12-22T17:10:09.960Z"
   },
   {
    "duration": 58,
    "start_time": "2022-12-22T17:10:09.971Z"
   },
   {
    "duration": 5,
    "start_time": "2022-12-22T17:10:10.033Z"
   },
   {
    "duration": 17,
    "start_time": "2022-12-22T17:10:10.040Z"
   },
   {
    "duration": 3,
    "start_time": "2022-12-22T17:10:10.058Z"
   },
   {
    "duration": 9,
    "start_time": "2022-12-22T17:10:10.063Z"
   },
   {
    "duration": 7,
    "start_time": "2022-12-22T17:10:10.074Z"
   },
   {
    "duration": 58,
    "start_time": "2022-12-22T17:10:10.083Z"
   },
   {
    "duration": 8,
    "start_time": "2022-12-22T17:10:10.142Z"
   },
   {
    "duration": 42,
    "start_time": "2022-12-22T17:10:10.151Z"
   },
   {
    "duration": 2,
    "start_time": "2022-12-22T17:10:10.195Z"
   },
   {
    "duration": 3,
    "start_time": "2022-12-22T17:10:10.212Z"
   },
   {
    "duration": 5,
    "start_time": "2022-12-22T17:10:10.217Z"
   },
   {
    "duration": 5,
    "start_time": "2022-12-22T17:10:10.224Z"
   },
   {
    "duration": 34,
    "start_time": "2022-12-22T17:10:10.230Z"
   },
   {
    "duration": 7,
    "start_time": "2022-12-22T17:10:10.266Z"
   },
   {
    "duration": 11,
    "start_time": "2022-12-22T17:10:10.274Z"
   },
   {
    "duration": 31,
    "start_time": "2022-12-22T17:10:10.286Z"
   },
   {
    "duration": 13,
    "start_time": "2022-12-22T17:10:10.319Z"
   },
   {
    "duration": 31,
    "start_time": "2022-12-22T17:10:10.333Z"
   },
   {
    "duration": 8,
    "start_time": "2022-12-22T17:10:10.368Z"
   },
   {
    "duration": 38,
    "start_time": "2022-12-22T17:10:10.377Z"
   },
   {
    "duration": 8,
    "start_time": "2022-12-22T17:10:10.417Z"
   },
   {
    "duration": 24,
    "start_time": "2022-12-22T17:10:10.427Z"
   },
   {
    "duration": 89,
    "start_time": "2022-12-22T17:10:10.453Z"
   },
   {
    "duration": 237,
    "start_time": "2022-12-22T17:10:10.544Z"
   },
   {
    "duration": 30,
    "start_time": "2022-12-22T17:10:10.783Z"
   },
   {
    "duration": 4,
    "start_time": "2022-12-22T17:10:10.814Z"
   },
   {
    "duration": 8,
    "start_time": "2022-12-22T17:10:10.820Z"
   },
   {
    "duration": 944,
    "start_time": "2022-12-22T17:10:10.830Z"
   },
   {
    "duration": 370,
    "start_time": "2022-12-22T17:10:11.776Z"
   },
   {
    "duration": 18,
    "start_time": "2022-12-22T17:10:12.148Z"
   },
   {
    "duration": 6,
    "start_time": "2022-12-22T17:10:12.168Z"
   },
   {
    "duration": 39,
    "start_time": "2022-12-22T17:10:12.176Z"
   },
   {
    "duration": 302,
    "start_time": "2022-12-22T17:10:12.216Z"
   },
   {
    "duration": 241,
    "start_time": "2022-12-22T17:10:12.520Z"
   },
   {
    "duration": 318,
    "start_time": "2022-12-22T17:10:12.763Z"
   },
   {
    "duration": 374,
    "start_time": "2022-12-22T17:10:13.082Z"
   },
   {
    "duration": 177,
    "start_time": "2022-12-22T17:10:13.458Z"
   },
   {
    "duration": 188,
    "start_time": "2022-12-22T17:10:13.637Z"
   },
   {
    "duration": 212,
    "start_time": "2022-12-22T17:10:13.827Z"
   },
   {
    "duration": 97,
    "start_time": "2022-12-22T17:10:14.042Z"
   },
   {
    "duration": 205,
    "start_time": "2022-12-22T17:10:14.141Z"
   },
   {
    "duration": 300,
    "start_time": "2022-12-22T17:10:14.347Z"
   },
   {
    "duration": 333,
    "start_time": "2022-12-22T17:10:14.649Z"
   },
   {
    "duration": 271,
    "start_time": "2022-12-22T17:10:14.984Z"
   },
   {
    "duration": 163,
    "start_time": "2022-12-22T17:10:15.257Z"
   },
   {
    "duration": 168,
    "start_time": "2022-12-22T17:10:15.421Z"
   },
   {
    "duration": 163,
    "start_time": "2022-12-22T17:10:15.590Z"
   },
   {
    "duration": 197,
    "start_time": "2022-12-22T17:10:15.755Z"
   },
   {
    "duration": 584,
    "start_time": "2022-12-22T17:10:15.953Z"
   },
   {
    "duration": 11,
    "start_time": "2022-12-22T17:10:16.539Z"
   },
   {
    "duration": 92,
    "start_time": "2022-12-22T17:10:16.553Z"
   },
   {
    "duration": 193,
    "start_time": "2022-12-22T17:10:16.647Z"
   },
   {
    "duration": 173,
    "start_time": "2022-12-22T17:10:16.841Z"
   },
   {
    "duration": 196,
    "start_time": "2022-12-22T17:10:17.016Z"
   },
   {
    "duration": 273,
    "start_time": "2022-12-22T17:10:17.214Z"
   },
   {
    "duration": 330,
    "start_time": "2022-12-22T17:10:17.489Z"
   },
   {
    "duration": 210,
    "start_time": "2022-12-22T17:10:17.821Z"
   },
   {
    "duration": 201,
    "start_time": "2022-12-22T17:10:18.032Z"
   },
   {
    "duration": 327,
    "start_time": "2022-12-22T17:10:18.235Z"
   },
   {
    "duration": 65,
    "start_time": "2022-12-22T17:10:18.564Z"
   },
   {
    "duration": 5,
    "start_time": "2022-12-22T17:10:18.631Z"
   },
   {
    "duration": 206,
    "start_time": "2022-12-22T17:10:18.637Z"
   },
   {
    "duration": 15,
    "start_time": "2022-12-22T17:11:35.184Z"
   },
   {
    "duration": 761,
    "start_time": "2022-12-22T17:13:14.288Z"
   },
   {
    "duration": 110,
    "start_time": "2022-12-22T17:13:15.052Z"
   },
   {
    "duration": 4,
    "start_time": "2022-12-22T17:13:15.164Z"
   },
   {
    "duration": 47,
    "start_time": "2022-12-22T17:13:15.171Z"
   },
   {
    "duration": 27,
    "start_time": "2022-12-22T17:13:15.221Z"
   },
   {
    "duration": 111,
    "start_time": "2022-12-22T17:13:15.250Z"
   },
   {
    "duration": 26,
    "start_time": "2022-12-22T17:13:15.363Z"
   },
   {
    "duration": 29,
    "start_time": "2022-12-22T17:13:15.390Z"
   },
   {
    "duration": 46,
    "start_time": "2022-12-22T17:13:15.421Z"
   },
   {
    "duration": 5,
    "start_time": "2022-12-22T17:13:15.470Z"
   },
   {
    "duration": 26,
    "start_time": "2022-12-22T17:13:15.477Z"
   },
   {
    "duration": 8,
    "start_time": "2022-12-22T17:13:15.505Z"
   },
   {
    "duration": 8,
    "start_time": "2022-12-22T17:13:15.515Z"
   },
   {
    "duration": 10,
    "start_time": "2022-12-22T17:13:15.526Z"
   },
   {
    "duration": 47,
    "start_time": "2022-12-22T17:13:15.538Z"
   },
   {
    "duration": 25,
    "start_time": "2022-12-22T17:13:15.589Z"
   },
   {
    "duration": 42,
    "start_time": "2022-12-22T17:13:15.615Z"
   },
   {
    "duration": 2,
    "start_time": "2022-12-22T17:13:15.659Z"
   },
   {
    "duration": 12,
    "start_time": "2022-12-22T17:13:15.663Z"
   },
   {
    "duration": 4,
    "start_time": "2022-12-22T17:13:15.677Z"
   },
   {
    "duration": 5,
    "start_time": "2022-12-22T17:13:15.683Z"
   },
   {
    "duration": 47,
    "start_time": "2022-12-22T17:13:15.690Z"
   },
   {
    "duration": 9,
    "start_time": "2022-12-22T17:13:15.739Z"
   },
   {
    "duration": 16,
    "start_time": "2022-12-22T17:13:15.750Z"
   },
   {
    "duration": 8,
    "start_time": "2022-12-22T17:13:15.768Z"
   },
   {
    "duration": 8,
    "start_time": "2022-12-22T17:13:15.778Z"
   },
   {
    "duration": 43,
    "start_time": "2022-12-22T17:13:15.788Z"
   },
   {
    "duration": 8,
    "start_time": "2022-12-22T17:13:15.835Z"
   },
   {
    "duration": 17,
    "start_time": "2022-12-22T17:13:15.845Z"
   },
   {
    "duration": 9,
    "start_time": "2022-12-22T17:13:15.865Z"
   },
   {
    "duration": 36,
    "start_time": "2022-12-22T17:13:15.876Z"
   },
   {
    "duration": 103,
    "start_time": "2022-12-22T17:13:15.914Z"
   },
   {
    "duration": 261,
    "start_time": "2022-12-22T17:13:16.019Z"
   },
   {
    "duration": 19,
    "start_time": "2022-12-22T17:13:16.283Z"
   },
   {
    "duration": 35,
    "start_time": "2022-12-22T17:13:16.313Z"
   },
   {
    "duration": 6,
    "start_time": "2022-12-22T17:13:16.350Z"
   },
   {
    "duration": 11,
    "start_time": "2022-12-22T17:13:16.358Z"
   },
   {
    "duration": 1134,
    "start_time": "2022-12-22T17:13:16.370Z"
   },
   {
    "duration": 367,
    "start_time": "2022-12-22T17:13:17.506Z"
   },
   {
    "duration": 20,
    "start_time": "2022-12-22T17:13:17.875Z"
   },
   {
    "duration": 20,
    "start_time": "2022-12-22T17:13:17.896Z"
   },
   {
    "duration": 20,
    "start_time": "2022-12-22T17:13:17.918Z"
   },
   {
    "duration": 365,
    "start_time": "2022-12-22T17:13:17.940Z"
   },
   {
    "duration": 255,
    "start_time": "2022-12-22T17:13:18.312Z"
   },
   {
    "duration": 327,
    "start_time": "2022-12-22T17:13:18.569Z"
   },
   {
    "duration": 416,
    "start_time": "2022-12-22T17:13:18.898Z"
   },
   {
    "duration": 200,
    "start_time": "2022-12-22T17:13:19.316Z"
   },
   {
    "duration": 214,
    "start_time": "2022-12-22T17:13:19.518Z"
   },
   {
    "duration": 213,
    "start_time": "2022-12-22T17:13:19.733Z"
   },
   {
    "duration": 107,
    "start_time": "2022-12-22T17:13:19.948Z"
   },
   {
    "duration": 236,
    "start_time": "2022-12-22T17:13:20.056Z"
   },
   {
    "duration": 323,
    "start_time": "2022-12-22T17:13:20.294Z"
   },
   {
    "duration": 335,
    "start_time": "2022-12-22T17:13:20.619Z"
   },
   {
    "duration": 265,
    "start_time": "2022-12-22T17:13:20.955Z"
   },
   {
    "duration": 150,
    "start_time": "2022-12-22T17:13:21.222Z"
   },
   {
    "duration": 160,
    "start_time": "2022-12-22T17:13:21.374Z"
   },
   {
    "duration": 151,
    "start_time": "2022-12-22T17:13:21.536Z"
   },
   {
    "duration": 206,
    "start_time": "2022-12-22T17:13:21.689Z"
   },
   {
    "duration": 541,
    "start_time": "2022-12-22T17:13:21.897Z"
   },
   {
    "duration": 9,
    "start_time": "2022-12-22T17:13:22.439Z"
   },
   {
    "duration": 62,
    "start_time": "2022-12-22T17:13:22.450Z"
   },
   {
    "duration": 187,
    "start_time": "2022-12-22T17:13:22.514Z"
   },
   {
    "duration": 177,
    "start_time": "2022-12-22T17:13:22.713Z"
   },
   {
    "duration": 207,
    "start_time": "2022-12-22T17:13:22.892Z"
   },
   {
    "duration": 281,
    "start_time": "2022-12-22T17:13:23.101Z"
   },
   {
    "duration": 338,
    "start_time": "2022-12-22T17:13:23.384Z"
   },
   {
    "duration": 182,
    "start_time": "2022-12-22T17:13:23.723Z"
   },
   {
    "duration": 174,
    "start_time": "2022-12-22T17:13:23.912Z"
   },
   {
    "duration": 206,
    "start_time": "2022-12-22T17:13:24.088Z"
   },
   {
    "duration": 43,
    "start_time": "2022-12-22T17:13:24.297Z"
   },
   {
    "duration": 4,
    "start_time": "2022-12-22T17:13:24.342Z"
   },
   {
    "duration": 234,
    "start_time": "2022-12-22T17:13:24.348Z"
   },
   {
    "duration": 231,
    "start_time": "2022-12-22T17:15:47.166Z"
   },
   {
    "duration": 689,
    "start_time": "2022-12-22T17:15:56.044Z"
   },
   {
    "duration": 105,
    "start_time": "2022-12-22T17:15:56.736Z"
   },
   {
    "duration": 3,
    "start_time": "2022-12-22T17:15:56.842Z"
   },
   {
    "duration": 34,
    "start_time": "2022-12-22T17:15:56.847Z"
   },
   {
    "duration": 14,
    "start_time": "2022-12-22T17:15:56.883Z"
   },
   {
    "duration": 79,
    "start_time": "2022-12-22T17:15:56.912Z"
   },
   {
    "duration": 43,
    "start_time": "2022-12-22T17:15:56.993Z"
   },
   {
    "duration": 12,
    "start_time": "2022-12-22T17:15:57.040Z"
   },
   {
    "duration": 30,
    "start_time": "2022-12-22T17:15:57.053Z"
   },
   {
    "duration": 5,
    "start_time": "2022-12-22T17:15:57.113Z"
   },
   {
    "duration": 12,
    "start_time": "2022-12-22T17:15:57.120Z"
   },
   {
    "duration": 2,
    "start_time": "2022-12-22T17:15:57.133Z"
   },
   {
    "duration": 7,
    "start_time": "2022-12-22T17:15:57.137Z"
   },
   {
    "duration": 6,
    "start_time": "2022-12-22T17:15:57.145Z"
   },
   {
    "duration": 43,
    "start_time": "2022-12-22T17:15:57.152Z"
   },
   {
    "duration": 7,
    "start_time": "2022-12-22T17:15:57.212Z"
   },
   {
    "duration": 43,
    "start_time": "2022-12-22T17:15:57.221Z"
   },
   {
    "duration": 2,
    "start_time": "2022-12-22T17:15:57.266Z"
   },
   {
    "duration": 17,
    "start_time": "2022-12-22T17:15:57.270Z"
   },
   {
    "duration": 6,
    "start_time": "2022-12-22T17:15:57.289Z"
   },
   {
    "duration": 8,
    "start_time": "2022-12-22T17:15:57.296Z"
   },
   {
    "duration": 33,
    "start_time": "2022-12-22T17:15:57.306Z"
   },
   {
    "duration": 8,
    "start_time": "2022-12-22T17:15:57.341Z"
   },
   {
    "duration": 12,
    "start_time": "2022-12-22T17:15:57.351Z"
   },
   {
    "duration": 15,
    "start_time": "2022-12-22T17:15:57.364Z"
   },
   {
    "duration": 34,
    "start_time": "2022-12-22T17:15:57.381Z"
   },
   {
    "duration": 33,
    "start_time": "2022-12-22T17:15:57.417Z"
   },
   {
    "duration": 8,
    "start_time": "2022-12-22T17:15:57.454Z"
   },
   {
    "duration": 20,
    "start_time": "2022-12-22T17:15:57.464Z"
   },
   {
    "duration": 10,
    "start_time": "2022-12-22T17:15:57.486Z"
   },
   {
    "duration": 17,
    "start_time": "2022-12-22T17:15:57.498Z"
   },
   {
    "duration": 238,
    "start_time": "2022-12-22T17:15:57.517Z"
   },
   {
    "duration": 89,
    "start_time": "2022-12-22T17:15:57.757Z"
   },
   {
    "duration": 242,
    "start_time": "2022-12-22T17:15:57.848Z"
   },
   {
    "duration": 13,
    "start_time": "2022-12-22T17:15:58.092Z"
   },
   {
    "duration": 29,
    "start_time": "2022-12-22T17:15:58.107Z"
   },
   {
    "duration": 6,
    "start_time": "2022-12-22T17:15:58.137Z"
   },
   {
    "duration": 5,
    "start_time": "2022-12-22T17:15:58.145Z"
   },
   {
    "duration": 1001,
    "start_time": "2022-12-22T17:15:58.152Z"
   },
   {
    "duration": 397,
    "start_time": "2022-12-22T17:15:59.155Z"
   },
   {
    "duration": 25,
    "start_time": "2022-12-22T17:15:59.554Z"
   },
   {
    "duration": 6,
    "start_time": "2022-12-22T17:15:59.581Z"
   },
   {
    "duration": 34,
    "start_time": "2022-12-22T17:15:59.588Z"
   },
   {
    "duration": 293,
    "start_time": "2022-12-22T17:15:59.623Z"
   },
   {
    "duration": 242,
    "start_time": "2022-12-22T17:15:59.917Z"
   },
   {
    "duration": 397,
    "start_time": "2022-12-22T17:16:00.161Z"
   },
   {
    "duration": 313,
    "start_time": "2022-12-22T17:16:00.560Z"
   },
   {
    "duration": 179,
    "start_time": "2022-12-22T17:16:00.875Z"
   },
   {
    "duration": 197,
    "start_time": "2022-12-22T17:16:01.056Z"
   },
   {
    "duration": 211,
    "start_time": "2022-12-22T17:16:01.254Z"
   },
   {
    "duration": 95,
    "start_time": "2022-12-22T17:16:01.467Z"
   },
   {
    "duration": 207,
    "start_time": "2022-12-22T17:16:01.564Z"
   },
   {
    "duration": 294,
    "start_time": "2022-12-22T17:16:01.772Z"
   },
   {
    "duration": 373,
    "start_time": "2022-12-22T17:16:02.068Z"
   },
   {
    "duration": 153,
    "start_time": "2022-12-22T17:16:02.443Z"
   },
   {
    "duration": 149,
    "start_time": "2022-12-22T17:16:02.597Z"
   },
   {
    "duration": 166,
    "start_time": "2022-12-22T17:16:02.748Z"
   },
   {
    "duration": 150,
    "start_time": "2022-12-22T17:16:02.917Z"
   },
   {
    "duration": 194,
    "start_time": "2022-12-22T17:16:03.069Z"
   },
   {
    "duration": 506,
    "start_time": "2022-12-22T17:16:03.265Z"
   },
   {
    "duration": 9,
    "start_time": "2022-12-22T17:16:03.772Z"
   },
   {
    "duration": 59,
    "start_time": "2022-12-22T17:16:03.783Z"
   },
   {
    "duration": 173,
    "start_time": "2022-12-22T17:16:03.844Z"
   },
   {
    "duration": 172,
    "start_time": "2022-12-22T17:16:04.019Z"
   },
   {
    "duration": 272,
    "start_time": "2022-12-22T17:16:04.192Z"
   },
   {
    "duration": 204,
    "start_time": "2022-12-22T17:16:04.466Z"
   },
   {
    "duration": 361,
    "start_time": "2022-12-22T17:16:04.672Z"
   },
   {
    "duration": 183,
    "start_time": "2022-12-22T17:16:05.035Z"
   },
   {
    "duration": 175,
    "start_time": "2022-12-22T17:16:05.221Z"
   },
   {
    "duration": 232,
    "start_time": "2022-12-22T17:16:05.398Z"
   },
   {
    "duration": 40,
    "start_time": "2022-12-22T17:16:05.632Z"
   },
   {
    "duration": 4,
    "start_time": "2022-12-22T17:16:05.674Z"
   },
   {
    "duration": 242,
    "start_time": "2022-12-22T17:16:05.680Z"
   },
   {
    "duration": 628,
    "start_time": "2022-12-22T17:21:08.043Z"
   },
   {
    "duration": 97,
    "start_time": "2022-12-22T17:21:08.673Z"
   },
   {
    "duration": 3,
    "start_time": "2022-12-22T17:21:08.771Z"
   },
   {
    "duration": 51,
    "start_time": "2022-12-22T17:21:08.776Z"
   },
   {
    "duration": 18,
    "start_time": "2022-12-22T17:21:08.830Z"
   },
   {
    "duration": 79,
    "start_time": "2022-12-22T17:21:08.850Z"
   },
   {
    "duration": 23,
    "start_time": "2022-12-22T17:21:08.930Z"
   },
   {
    "duration": 9,
    "start_time": "2022-12-22T17:21:08.955Z"
   },
   {
    "duration": 57,
    "start_time": "2022-12-22T17:21:08.966Z"
   },
   {
    "duration": 5,
    "start_time": "2022-12-22T17:21:09.026Z"
   },
   {
    "duration": 20,
    "start_time": "2022-12-22T17:21:09.033Z"
   },
   {
    "duration": 9,
    "start_time": "2022-12-22T17:21:09.055Z"
   },
   {
    "duration": 25,
    "start_time": "2022-12-22T17:21:09.065Z"
   },
   {
    "duration": 15,
    "start_time": "2022-12-22T17:21:09.092Z"
   },
   {
    "duration": 57,
    "start_time": "2022-12-22T17:21:09.108Z"
   },
   {
    "duration": 6,
    "start_time": "2022-12-22T17:21:09.167Z"
   },
   {
    "duration": 44,
    "start_time": "2022-12-22T17:21:09.175Z"
   },
   {
    "duration": 2,
    "start_time": "2022-12-22T17:21:09.221Z"
   },
   {
    "duration": 34,
    "start_time": "2022-12-22T17:21:09.224Z"
   },
   {
    "duration": 13,
    "start_time": "2022-12-22T17:21:09.260Z"
   },
   {
    "duration": 30,
    "start_time": "2022-12-22T17:21:09.274Z"
   },
   {
    "duration": 55,
    "start_time": "2022-12-22T17:21:09.306Z"
   },
   {
    "duration": 9,
    "start_time": "2022-12-22T17:21:09.363Z"
   },
   {
    "duration": 19,
    "start_time": "2022-12-22T17:21:09.374Z"
   },
   {
    "duration": 19,
    "start_time": "2022-12-22T17:21:09.395Z"
   },
   {
    "duration": 25,
    "start_time": "2022-12-22T17:21:09.416Z"
   },
   {
    "duration": 44,
    "start_time": "2022-12-22T17:21:09.443Z"
   },
   {
    "duration": 7,
    "start_time": "2022-12-22T17:21:09.491Z"
   },
   {
    "duration": 21,
    "start_time": "2022-12-22T17:21:09.500Z"
   },
   {
    "duration": 19,
    "start_time": "2022-12-22T17:21:09.523Z"
   },
   {
    "duration": 16,
    "start_time": "2022-12-22T17:21:09.543Z"
   },
   {
    "duration": 94,
    "start_time": "2022-12-22T17:21:09.560Z"
   },
   {
    "duration": 252,
    "start_time": "2022-12-22T17:21:09.656Z"
   },
   {
    "duration": 13,
    "start_time": "2022-12-22T17:21:09.913Z"
   },
   {
    "duration": 28,
    "start_time": "2022-12-22T17:21:09.928Z"
   },
   {
    "duration": 4,
    "start_time": "2022-12-22T17:21:09.957Z"
   },
   {
    "duration": 18,
    "start_time": "2022-12-22T17:21:09.963Z"
   },
   {
    "duration": 1025,
    "start_time": "2022-12-22T17:21:09.982Z"
   },
   {
    "duration": 346,
    "start_time": "2022-12-22T17:21:11.009Z"
   },
   {
    "duration": 16,
    "start_time": "2022-12-22T17:21:11.356Z"
   },
   {
    "duration": 19,
    "start_time": "2022-12-22T17:21:11.374Z"
   },
   {
    "duration": 25,
    "start_time": "2022-12-22T17:21:11.395Z"
   },
   {
    "duration": 313,
    "start_time": "2022-12-22T17:21:11.422Z"
   },
   {
    "duration": 245,
    "start_time": "2022-12-22T17:21:11.737Z"
   },
   {
    "duration": 324,
    "start_time": "2022-12-22T17:21:11.983Z"
   },
   {
    "duration": 349,
    "start_time": "2022-12-22T17:21:12.308Z"
   },
   {
    "duration": 174,
    "start_time": "2022-12-22T17:21:12.659Z"
   },
   {
    "duration": 202,
    "start_time": "2022-12-22T17:21:12.834Z"
   },
   {
    "duration": 214,
    "start_time": "2022-12-22T17:21:13.038Z"
   },
   {
    "duration": 98,
    "start_time": "2022-12-22T17:21:13.254Z"
   },
   {
    "duration": 204,
    "start_time": "2022-12-22T17:21:13.354Z"
   },
   {
    "duration": 305,
    "start_time": "2022-12-22T17:21:13.560Z"
   },
   {
    "duration": 302,
    "start_time": "2022-12-22T17:21:13.867Z"
   },
   {
    "duration": 243,
    "start_time": "2022-12-22T17:21:14.170Z"
   },
   {
    "duration": 160,
    "start_time": "2022-12-22T17:21:14.416Z"
   },
   {
    "duration": 170,
    "start_time": "2022-12-22T17:21:14.577Z"
   },
   {
    "duration": 169,
    "start_time": "2022-12-22T17:21:14.748Z"
   },
   {
    "duration": 197,
    "start_time": "2022-12-22T17:21:14.919Z"
   },
   {
    "duration": 528,
    "start_time": "2022-12-22T17:21:15.118Z"
   },
   {
    "duration": 10,
    "start_time": "2022-12-22T17:21:15.648Z"
   },
   {
    "duration": 77,
    "start_time": "2022-12-22T17:21:15.660Z"
   },
   {
    "duration": 188,
    "start_time": "2022-12-22T17:21:15.739Z"
   },
   {
    "duration": 194,
    "start_time": "2022-12-22T17:21:15.929Z"
   },
   {
    "duration": 251,
    "start_time": "2022-12-22T17:21:16.125Z"
   },
   {
    "duration": 355,
    "start_time": "2022-12-22T17:21:16.378Z"
   },
   {
    "duration": 352,
    "start_time": "2022-12-22T17:21:16.734Z"
   },
   {
    "duration": 189,
    "start_time": "2022-12-22T17:21:17.089Z"
   },
   {
    "duration": 187,
    "start_time": "2022-12-22T17:21:17.280Z"
   },
   {
    "duration": 217,
    "start_time": "2022-12-22T17:21:17.469Z"
   },
   {
    "duration": 54,
    "start_time": "2022-12-22T17:21:17.689Z"
   },
   {
    "duration": 6,
    "start_time": "2022-12-22T17:21:17.745Z"
   },
   {
    "duration": 240,
    "start_time": "2022-12-22T17:21:17.753Z"
   },
   {
    "duration": 654,
    "start_time": "2022-12-22T17:22:56.629Z"
   },
   {
    "duration": 94,
    "start_time": "2022-12-22T17:22:57.285Z"
   },
   {
    "duration": 2,
    "start_time": "2022-12-22T17:22:57.381Z"
   },
   {
    "duration": 56,
    "start_time": "2022-12-22T17:22:57.385Z"
   },
   {
    "duration": 16,
    "start_time": "2022-12-22T17:22:57.444Z"
   },
   {
    "duration": 92,
    "start_time": "2022-12-22T17:22:57.462Z"
   },
   {
    "duration": 23,
    "start_time": "2022-12-22T17:22:57.556Z"
   },
   {
    "duration": 9,
    "start_time": "2022-12-22T17:22:57.580Z"
   },
   {
    "duration": 30,
    "start_time": "2022-12-22T17:22:57.612Z"
   },
   {
    "duration": 4,
    "start_time": "2022-12-22T17:22:57.644Z"
   },
   {
    "duration": 13,
    "start_time": "2022-12-22T17:22:57.649Z"
   },
   {
    "duration": 2,
    "start_time": "2022-12-22T17:22:57.663Z"
   },
   {
    "duration": 7,
    "start_time": "2022-12-22T17:22:57.667Z"
   },
   {
    "duration": 39,
    "start_time": "2022-12-22T17:22:57.676Z"
   },
   {
    "duration": 41,
    "start_time": "2022-12-22T17:22:57.716Z"
   },
   {
    "duration": 7,
    "start_time": "2022-12-22T17:22:57.758Z"
   },
   {
    "duration": 60,
    "start_time": "2022-12-22T17:22:57.766Z"
   },
   {
    "duration": 3,
    "start_time": "2022-12-22T17:22:57.827Z"
   },
   {
    "duration": 8,
    "start_time": "2022-12-22T17:22:57.831Z"
   },
   {
    "duration": 4,
    "start_time": "2022-12-22T17:22:57.841Z"
   },
   {
    "duration": 6,
    "start_time": "2022-12-22T17:22:57.846Z"
   },
   {
    "duration": 34,
    "start_time": "2022-12-22T17:22:57.853Z"
   },
   {
    "duration": 30,
    "start_time": "2022-12-22T17:22:57.889Z"
   },
   {
    "duration": 11,
    "start_time": "2022-12-22T17:22:57.921Z"
   },
   {
    "duration": 7,
    "start_time": "2022-12-22T17:22:57.934Z"
   },
   {
    "duration": 12,
    "start_time": "2022-12-22T17:22:57.943Z"
   },
   {
    "duration": 25,
    "start_time": "2022-12-22T17:22:57.957Z"
   },
   {
    "duration": 8,
    "start_time": "2022-12-22T17:22:57.984Z"
   },
   {
    "duration": 19,
    "start_time": "2022-12-22T17:22:58.013Z"
   },
   {
    "duration": 10,
    "start_time": "2022-12-22T17:22:58.033Z"
   },
   {
    "duration": 4,
    "start_time": "2022-12-22T17:22:58.046Z"
   },
   {
    "duration": 107,
    "start_time": "2022-12-22T17:22:58.052Z"
   },
   {
    "duration": 243,
    "start_time": "2022-12-22T17:22:58.161Z"
   },
   {
    "duration": 19,
    "start_time": "2022-12-22T17:22:58.406Z"
   },
   {
    "duration": 29,
    "start_time": "2022-12-22T17:22:58.427Z"
   },
   {
    "duration": 5,
    "start_time": "2022-12-22T17:22:58.457Z"
   },
   {
    "duration": 10,
    "start_time": "2022-12-22T17:22:58.464Z"
   },
   {
    "duration": 1038,
    "start_time": "2022-12-22T17:22:58.476Z"
   },
   {
    "duration": 341,
    "start_time": "2022-12-22T17:22:59.516Z"
   },
   {
    "duration": 15,
    "start_time": "2022-12-22T17:22:59.859Z"
   },
   {
    "duration": 5,
    "start_time": "2022-12-22T17:22:59.878Z"
   },
   {
    "duration": 35,
    "start_time": "2022-12-22T17:22:59.885Z"
   },
   {
    "duration": 378,
    "start_time": "2022-12-22T17:22:59.921Z"
   },
   {
    "duration": 238,
    "start_time": "2022-12-22T17:23:00.301Z"
   },
   {
    "duration": 302,
    "start_time": "2022-12-22T17:23:00.541Z"
   },
   {
    "duration": 374,
    "start_time": "2022-12-22T17:23:00.844Z"
   },
   {
    "duration": 169,
    "start_time": "2022-12-22T17:23:01.220Z"
   },
   {
    "duration": 212,
    "start_time": "2022-12-22T17:23:01.390Z"
   },
   {
    "duration": 200,
    "start_time": "2022-12-22T17:23:01.604Z"
   },
   {
    "duration": 126,
    "start_time": "2022-12-22T17:23:01.806Z"
   },
   {
    "duration": 222,
    "start_time": "2022-12-22T17:23:01.934Z"
   },
   {
    "duration": 403,
    "start_time": "2022-12-22T17:23:02.158Z"
   },
   {
    "duration": 360,
    "start_time": "2022-12-22T17:23:02.563Z"
   },
   {
    "duration": 239,
    "start_time": "2022-12-22T17:23:02.925Z"
   },
   {
    "duration": 183,
    "start_time": "2022-12-22T17:23:03.166Z"
   },
   {
    "duration": 223,
    "start_time": "2022-12-22T17:23:03.351Z"
   },
   {
    "duration": 165,
    "start_time": "2022-12-22T17:23:03.576Z"
   },
   {
    "duration": 196,
    "start_time": "2022-12-22T17:23:03.743Z"
   },
   {
    "duration": 540,
    "start_time": "2022-12-22T17:23:03.941Z"
   },
   {
    "duration": 12,
    "start_time": "2022-12-22T17:23:04.483Z"
   },
   {
    "duration": 71,
    "start_time": "2022-12-22T17:23:04.496Z"
   },
   {
    "duration": 181,
    "start_time": "2022-12-22T17:23:04.569Z"
   },
   {
    "duration": 244,
    "start_time": "2022-12-22T17:23:04.752Z"
   },
   {
    "duration": 226,
    "start_time": "2022-12-22T17:23:04.998Z"
   },
   {
    "duration": 294,
    "start_time": "2022-12-22T17:23:05.226Z"
   },
   {
    "duration": 336,
    "start_time": "2022-12-22T17:23:05.522Z"
   },
   {
    "duration": 178,
    "start_time": "2022-12-22T17:23:05.860Z"
   },
   {
    "duration": 188,
    "start_time": "2022-12-22T17:23:06.041Z"
   },
   {
    "duration": 251,
    "start_time": "2022-12-22T17:23:06.231Z"
   },
   {
    "duration": 58,
    "start_time": "2022-12-22T17:23:06.484Z"
   },
   {
    "duration": 4,
    "start_time": "2022-12-22T17:23:06.544Z"
   },
   {
    "duration": 228,
    "start_time": "2022-12-22T17:23:06.551Z"
   },
   {
    "duration": 682,
    "start_time": "2022-12-22T17:24:16.753Z"
   },
   {
    "duration": 104,
    "start_time": "2022-12-22T17:24:17.437Z"
   },
   {
    "duration": 3,
    "start_time": "2022-12-22T17:24:17.543Z"
   },
   {
    "duration": 48,
    "start_time": "2022-12-22T17:24:17.549Z"
   },
   {
    "duration": 17,
    "start_time": "2022-12-22T17:24:17.599Z"
   },
   {
    "duration": 78,
    "start_time": "2022-12-22T17:24:17.618Z"
   },
   {
    "duration": 27,
    "start_time": "2022-12-22T17:24:17.713Z"
   },
   {
    "duration": 12,
    "start_time": "2022-12-22T17:24:17.742Z"
   },
   {
    "duration": 68,
    "start_time": "2022-12-22T17:24:17.756Z"
   },
   {
    "duration": 6,
    "start_time": "2022-12-22T17:24:17.828Z"
   },
   {
    "duration": 11,
    "start_time": "2022-12-22T17:24:17.836Z"
   },
   {
    "duration": 16,
    "start_time": "2022-12-22T17:24:17.849Z"
   },
   {
    "duration": 24,
    "start_time": "2022-12-22T17:24:17.867Z"
   },
   {
    "duration": 17,
    "start_time": "2022-12-22T17:24:17.892Z"
   },
   {
    "duration": 45,
    "start_time": "2022-12-22T17:24:17.911Z"
   },
   {
    "duration": 7,
    "start_time": "2022-12-22T17:24:17.958Z"
   },
   {
    "duration": 41,
    "start_time": "2022-12-22T17:24:17.967Z"
   },
   {
    "duration": 4,
    "start_time": "2022-12-22T17:24:18.010Z"
   },
   {
    "duration": 14,
    "start_time": "2022-12-22T17:24:18.015Z"
   },
   {
    "duration": 14,
    "start_time": "2022-12-22T17:24:18.031Z"
   },
   {
    "duration": 9,
    "start_time": "2022-12-22T17:24:18.047Z"
   },
   {
    "duration": 59,
    "start_time": "2022-12-22T17:24:18.057Z"
   },
   {
    "duration": 18,
    "start_time": "2022-12-22T17:24:18.117Z"
   },
   {
    "duration": 14,
    "start_time": "2022-12-22T17:24:18.137Z"
   },
   {
    "duration": 19,
    "start_time": "2022-12-22T17:24:18.152Z"
   },
   {
    "duration": 46,
    "start_time": "2022-12-22T17:24:18.174Z"
   },
   {
    "duration": 46,
    "start_time": "2022-12-22T17:24:18.222Z"
   },
   {
    "duration": 8,
    "start_time": "2022-12-22T17:24:18.272Z"
   },
   {
    "duration": 45,
    "start_time": "2022-12-22T17:24:18.282Z"
   },
   {
    "duration": 10,
    "start_time": "2022-12-22T17:24:18.329Z"
   },
   {
    "duration": 13,
    "start_time": "2022-12-22T17:24:18.341Z"
   },
   {
    "duration": 188,
    "start_time": "2022-12-22T17:24:18.356Z"
   },
   {
    "duration": 261,
    "start_time": "2022-12-22T17:24:18.545Z"
   },
   {
    "duration": 15,
    "start_time": "2022-12-22T17:24:18.808Z"
   },
   {
    "duration": 28,
    "start_time": "2022-12-22T17:24:18.825Z"
   },
   {
    "duration": 4,
    "start_time": "2022-12-22T17:24:18.855Z"
   },
   {
    "duration": 9,
    "start_time": "2022-12-22T17:24:18.861Z"
   },
   {
    "duration": 1029,
    "start_time": "2022-12-22T17:24:18.872Z"
   },
   {
    "duration": 340,
    "start_time": "2022-12-22T17:24:19.903Z"
   },
   {
    "duration": 28,
    "start_time": "2022-12-22T17:24:20.245Z"
   },
   {
    "duration": 26,
    "start_time": "2022-12-22T17:24:20.275Z"
   },
   {
    "duration": 33,
    "start_time": "2022-12-22T17:24:20.303Z"
   },
   {
    "duration": 311,
    "start_time": "2022-12-22T17:24:20.338Z"
   },
   {
    "duration": 239,
    "start_time": "2022-12-22T17:24:20.651Z"
   },
   {
    "duration": 306,
    "start_time": "2022-12-22T17:24:20.892Z"
   },
   {
    "duration": 383,
    "start_time": "2022-12-22T17:24:21.200Z"
   },
   {
    "duration": 191,
    "start_time": "2022-12-22T17:24:21.584Z"
   },
   {
    "duration": 217,
    "start_time": "2022-12-22T17:24:21.776Z"
   },
   {
    "duration": 296,
    "start_time": "2022-12-22T17:24:21.996Z"
   },
   {
    "duration": 115,
    "start_time": "2022-12-22T17:24:22.294Z"
   },
   {
    "duration": 218,
    "start_time": "2022-12-22T17:24:22.411Z"
   },
   {
    "duration": 297,
    "start_time": "2022-12-22T17:24:22.631Z"
   },
   {
    "duration": 288,
    "start_time": "2022-12-22T17:24:22.930Z"
   },
   {
    "duration": 239,
    "start_time": "2022-12-22T17:24:23.219Z"
   },
   {
    "duration": 159,
    "start_time": "2022-12-22T17:24:23.459Z"
   },
   {
    "duration": 164,
    "start_time": "2022-12-22T17:24:23.620Z"
   },
   {
    "duration": 166,
    "start_time": "2022-12-22T17:24:23.785Z"
   },
   {
    "duration": 181,
    "start_time": "2022-12-22T17:24:23.953Z"
   },
   {
    "duration": 525,
    "start_time": "2022-12-22T17:24:24.136Z"
   },
   {
    "duration": 8,
    "start_time": "2022-12-22T17:24:24.663Z"
   },
   {
    "duration": 67,
    "start_time": "2022-12-22T17:24:24.673Z"
   },
   {
    "duration": 215,
    "start_time": "2022-12-22T17:24:24.742Z"
   },
   {
    "duration": 191,
    "start_time": "2022-12-22T17:24:24.960Z"
   },
   {
    "duration": 197,
    "start_time": "2022-12-22T17:24:25.153Z"
   },
   {
    "duration": 286,
    "start_time": "2022-12-22T17:24:25.352Z"
   },
   {
    "duration": 326,
    "start_time": "2022-12-22T17:24:25.640Z"
   },
   {
    "duration": 196,
    "start_time": "2022-12-22T17:24:25.967Z"
   },
   {
    "duration": 206,
    "start_time": "2022-12-22T17:24:26.165Z"
   },
   {
    "duration": 228,
    "start_time": "2022-12-22T17:24:26.373Z"
   },
   {
    "duration": 49,
    "start_time": "2022-12-22T17:24:26.604Z"
   },
   {
    "duration": 6,
    "start_time": "2022-12-22T17:24:26.654Z"
   },
   {
    "duration": 228,
    "start_time": "2022-12-22T17:24:26.662Z"
   },
   {
    "duration": 699,
    "start_time": "2022-12-22T17:27:05.118Z"
   },
   {
    "duration": 104,
    "start_time": "2022-12-22T17:27:05.819Z"
   },
   {
    "duration": 3,
    "start_time": "2022-12-22T17:27:05.924Z"
   },
   {
    "duration": 34,
    "start_time": "2022-12-22T17:27:05.930Z"
   },
   {
    "duration": 15,
    "start_time": "2022-12-22T17:27:05.966Z"
   },
   {
    "duration": 98,
    "start_time": "2022-12-22T17:27:05.983Z"
   },
   {
    "duration": 29,
    "start_time": "2022-12-22T17:27:06.083Z"
   },
   {
    "duration": 9,
    "start_time": "2022-12-22T17:27:06.114Z"
   },
   {
    "duration": 31,
    "start_time": "2022-12-22T17:27:06.124Z"
   },
   {
    "duration": 6,
    "start_time": "2022-12-22T17:27:06.159Z"
   },
   {
    "duration": 20,
    "start_time": "2022-12-22T17:27:06.167Z"
   },
   {
    "duration": 24,
    "start_time": "2022-12-22T17:27:06.189Z"
   },
   {
    "duration": 10,
    "start_time": "2022-12-22T17:27:06.215Z"
   },
   {
    "duration": 11,
    "start_time": "2022-12-22T17:27:06.226Z"
   },
   {
    "duration": 48,
    "start_time": "2022-12-22T17:27:06.239Z"
   },
   {
    "duration": 22,
    "start_time": "2022-12-22T17:27:06.289Z"
   },
   {
    "duration": 62,
    "start_time": "2022-12-22T17:27:06.314Z"
   },
   {
    "duration": 3,
    "start_time": "2022-12-22T17:27:06.378Z"
   },
   {
    "duration": 30,
    "start_time": "2022-12-22T17:27:06.383Z"
   },
   {
    "duration": 10,
    "start_time": "2022-12-22T17:27:06.415Z"
   },
   {
    "duration": 22,
    "start_time": "2022-12-22T17:27:06.428Z"
   },
   {
    "duration": 58,
    "start_time": "2022-12-22T17:27:06.453Z"
   },
   {
    "duration": 11,
    "start_time": "2022-12-22T17:27:06.514Z"
   },
   {
    "duration": 24,
    "start_time": "2022-12-22T17:27:06.528Z"
   },
   {
    "duration": 21,
    "start_time": "2022-12-22T17:27:06.554Z"
   },
   {
    "duration": 42,
    "start_time": "2022-12-22T17:27:06.578Z"
   },
   {
    "duration": 25,
    "start_time": "2022-12-22T17:27:06.626Z"
   },
   {
    "duration": 21,
    "start_time": "2022-12-22T17:27:06.656Z"
   },
   {
    "duration": 24,
    "start_time": "2022-12-22T17:27:06.679Z"
   },
   {
    "duration": 12,
    "start_time": "2022-12-22T17:27:06.705Z"
   },
   {
    "duration": 4,
    "start_time": "2022-12-22T17:27:06.719Z"
   },
   {
    "duration": 106,
    "start_time": "2022-12-22T17:27:06.725Z"
   },
   {
    "duration": 280,
    "start_time": "2022-12-22T17:27:06.833Z"
   },
   {
    "duration": 14,
    "start_time": "2022-12-22T17:27:07.115Z"
   },
   {
    "duration": 26,
    "start_time": "2022-12-22T17:27:07.131Z"
   },
   {
    "duration": 19,
    "start_time": "2022-12-22T17:27:07.160Z"
   },
   {
    "duration": 28,
    "start_time": "2022-12-22T17:27:07.180Z"
   },
   {
    "duration": 1017,
    "start_time": "2022-12-22T17:27:07.210Z"
   },
   {
    "duration": 410,
    "start_time": "2022-12-22T17:27:08.230Z"
   },
   {
    "duration": 14,
    "start_time": "2022-12-22T17:27:08.642Z"
   },
   {
    "duration": 6,
    "start_time": "2022-12-22T17:27:08.658Z"
   },
   {
    "duration": 17,
    "start_time": "2022-12-22T17:27:08.666Z"
   },
   {
    "duration": 355,
    "start_time": "2022-12-22T17:27:08.684Z"
   },
   {
    "duration": 257,
    "start_time": "2022-12-22T17:27:09.040Z"
   },
   {
    "duration": 332,
    "start_time": "2022-12-22T17:27:09.299Z"
   },
   {
    "duration": 420,
    "start_time": "2022-12-22T17:27:09.633Z"
   },
   {
    "duration": 192,
    "start_time": "2022-12-22T17:27:10.055Z"
   },
   {
    "duration": 200,
    "start_time": "2022-12-22T17:27:10.249Z"
   },
   {
    "duration": 212,
    "start_time": "2022-12-22T17:27:10.451Z"
   },
   {
    "duration": 101,
    "start_time": "2022-12-22T17:27:10.664Z"
   },
   {
    "duration": 217,
    "start_time": "2022-12-22T17:27:10.767Z"
   },
   {
    "duration": 333,
    "start_time": "2022-12-22T17:27:10.986Z"
   },
   {
    "duration": 312,
    "start_time": "2022-12-22T17:27:11.321Z"
   },
   {
    "duration": 247,
    "start_time": "2022-12-22T17:27:11.634Z"
   },
   {
    "duration": 167,
    "start_time": "2022-12-22T17:27:11.883Z"
   },
   {
    "duration": 237,
    "start_time": "2022-12-22T17:27:12.052Z"
   },
   {
    "duration": 155,
    "start_time": "2022-12-22T17:27:12.291Z"
   },
   {
    "duration": 193,
    "start_time": "2022-12-22T17:27:12.448Z"
   },
   {
    "duration": 575,
    "start_time": "2022-12-22T17:27:12.642Z"
   },
   {
    "duration": 9,
    "start_time": "2022-12-22T17:27:13.219Z"
   },
   {
    "duration": 50,
    "start_time": "2022-12-22T17:27:13.230Z"
   },
   {
    "duration": 203,
    "start_time": "2022-12-22T17:27:13.283Z"
   },
   {
    "duration": 182,
    "start_time": "2022-12-22T17:27:13.488Z"
   },
   {
    "duration": 192,
    "start_time": "2022-12-22T17:27:13.671Z"
   },
   {
    "duration": 267,
    "start_time": "2022-12-22T17:27:13.865Z"
   },
   {
    "duration": 369,
    "start_time": "2022-12-22T17:27:14.133Z"
   },
   {
    "duration": 179,
    "start_time": "2022-12-22T17:27:14.503Z"
   },
   {
    "duration": 175,
    "start_time": "2022-12-22T17:27:14.684Z"
   },
   {
    "duration": 233,
    "start_time": "2022-12-22T17:27:14.861Z"
   },
   {
    "duration": 43,
    "start_time": "2022-12-22T17:27:15.096Z"
   },
   {
    "duration": 4,
    "start_time": "2022-12-22T17:27:15.141Z"
   },
   {
    "duration": 211,
    "start_time": "2022-12-22T17:27:15.147Z"
   },
   {
    "duration": 756,
    "start_time": "2022-12-22T17:29:31.584Z"
   },
   {
    "duration": 102,
    "start_time": "2022-12-22T17:29:32.342Z"
   },
   {
    "duration": 3,
    "start_time": "2022-12-22T17:29:32.445Z"
   },
   {
    "duration": 35,
    "start_time": "2022-12-22T17:29:32.450Z"
   },
   {
    "duration": 26,
    "start_time": "2022-12-22T17:29:32.486Z"
   },
   {
    "duration": 85,
    "start_time": "2022-12-22T17:29:32.514Z"
   },
   {
    "duration": 24,
    "start_time": "2022-12-22T17:29:32.612Z"
   },
   {
    "duration": 10,
    "start_time": "2022-12-22T17:29:32.637Z"
   },
   {
    "duration": 32,
    "start_time": "2022-12-22T17:29:32.648Z"
   },
   {
    "duration": 32,
    "start_time": "2022-12-22T17:29:32.683Z"
   },
   {
    "duration": 12,
    "start_time": "2022-12-22T17:29:32.717Z"
   },
   {
    "duration": 3,
    "start_time": "2022-12-22T17:29:32.731Z"
   },
   {
    "duration": 9,
    "start_time": "2022-12-22T17:29:32.736Z"
   },
   {
    "duration": 8,
    "start_time": "2022-12-22T17:29:32.747Z"
   },
   {
    "duration": 69,
    "start_time": "2022-12-22T17:29:32.757Z"
   },
   {
    "duration": 8,
    "start_time": "2022-12-22T17:29:32.828Z"
   },
   {
    "duration": 40,
    "start_time": "2022-12-22T17:29:32.837Z"
   },
   {
    "duration": 3,
    "start_time": "2022-12-22T17:29:32.879Z"
   },
   {
    "duration": 30,
    "start_time": "2022-12-22T17:29:32.884Z"
   },
   {
    "duration": 5,
    "start_time": "2022-12-22T17:29:32.916Z"
   },
   {
    "duration": 7,
    "start_time": "2022-12-22T17:29:32.923Z"
   },
   {
    "duration": 33,
    "start_time": "2022-12-22T17:29:32.931Z"
   },
   {
    "duration": 10,
    "start_time": "2022-12-22T17:29:32.966Z"
   },
   {
    "duration": 37,
    "start_time": "2022-12-22T17:29:32.978Z"
   },
   {
    "duration": 8,
    "start_time": "2022-12-22T17:29:33.017Z"
   },
   {
    "duration": 10,
    "start_time": "2022-12-22T17:29:33.027Z"
   },
   {
    "duration": 27,
    "start_time": "2022-12-22T17:29:33.038Z"
   },
   {
    "duration": 8,
    "start_time": "2022-12-22T17:29:33.069Z"
   },
   {
    "duration": 40,
    "start_time": "2022-12-22T17:29:33.079Z"
   },
   {
    "duration": 9,
    "start_time": "2022-12-22T17:29:33.121Z"
   },
   {
    "duration": 4,
    "start_time": "2022-12-22T17:29:33.132Z"
   },
   {
    "duration": 109,
    "start_time": "2022-12-22T17:29:33.138Z"
   },
   {
    "duration": 252,
    "start_time": "2022-12-22T17:29:33.248Z"
   },
   {
    "duration": 23,
    "start_time": "2022-12-22T17:29:33.502Z"
   },
   {
    "duration": 27,
    "start_time": "2022-12-22T17:29:33.526Z"
   },
   {
    "duration": 12,
    "start_time": "2022-12-22T17:29:33.556Z"
   },
   {
    "duration": 7,
    "start_time": "2022-12-22T17:29:33.570Z"
   },
   {
    "duration": 1024,
    "start_time": "2022-12-22T17:29:33.578Z"
   },
   {
    "duration": 391,
    "start_time": "2022-12-22T17:29:34.604Z"
   },
   {
    "duration": 25,
    "start_time": "2022-12-22T17:29:34.997Z"
   },
   {
    "duration": 7,
    "start_time": "2022-12-22T17:29:35.024Z"
   },
   {
    "duration": 20,
    "start_time": "2022-12-22T17:29:35.032Z"
   },
   {
    "duration": 329,
    "start_time": "2022-12-22T17:29:35.055Z"
   },
   {
    "duration": 260,
    "start_time": "2022-12-22T17:29:35.387Z"
   },
   {
    "duration": 334,
    "start_time": "2022-12-22T17:29:35.649Z"
   },
   {
    "duration": 448,
    "start_time": "2022-12-22T17:29:35.985Z"
   },
   {
    "duration": 193,
    "start_time": "2022-12-22T17:29:36.435Z"
   },
   {
    "duration": 254,
    "start_time": "2022-12-22T17:29:36.630Z"
   },
   {
    "duration": 255,
    "start_time": "2022-12-22T17:29:36.888Z"
   },
   {
    "duration": 108,
    "start_time": "2022-12-22T17:29:37.146Z"
   },
   {
    "duration": 225,
    "start_time": "2022-12-22T17:29:37.256Z"
   },
   {
    "duration": 322,
    "start_time": "2022-12-22T17:29:37.483Z"
   },
   {
    "duration": 321,
    "start_time": "2022-12-22T17:29:37.812Z"
   },
   {
    "duration": 272,
    "start_time": "2022-12-22T17:29:38.135Z"
   },
   {
    "duration": 166,
    "start_time": "2022-12-22T17:29:38.408Z"
   },
   {
    "duration": 177,
    "start_time": "2022-12-22T17:29:38.576Z"
   },
   {
    "duration": 161,
    "start_time": "2022-12-22T17:29:38.754Z"
   },
   {
    "duration": 217,
    "start_time": "2022-12-22T17:29:38.917Z"
   },
   {
    "duration": 580,
    "start_time": "2022-12-22T17:29:39.136Z"
   },
   {
    "duration": 10,
    "start_time": "2022-12-22T17:29:39.719Z"
   },
   {
    "duration": 54,
    "start_time": "2022-12-22T17:29:39.731Z"
   },
   {
    "duration": 215,
    "start_time": "2022-12-22T17:29:39.788Z"
   },
   {
    "duration": 235,
    "start_time": "2022-12-22T17:29:40.005Z"
   },
   {
    "duration": 206,
    "start_time": "2022-12-22T17:29:40.241Z"
   },
   {
    "duration": 287,
    "start_time": "2022-12-22T17:29:40.450Z"
   },
   {
    "duration": 339,
    "start_time": "2022-12-22T17:29:40.739Z"
   },
   {
    "duration": 198,
    "start_time": "2022-12-22T17:29:41.080Z"
   },
   {
    "duration": 183,
    "start_time": "2022-12-22T17:29:41.280Z"
   },
   {
    "duration": 219,
    "start_time": "2022-12-22T17:29:41.466Z"
   },
   {
    "duration": 51,
    "start_time": "2022-12-22T17:29:41.687Z"
   },
   {
    "duration": 5,
    "start_time": "2022-12-22T17:29:41.739Z"
   },
   {
    "duration": 214,
    "start_time": "2022-12-22T17:29:41.746Z"
   },
   {
    "duration": 661,
    "start_time": "2022-12-22T17:33:42.336Z"
   },
   {
    "duration": 101,
    "start_time": "2022-12-22T17:33:42.999Z"
   },
   {
    "duration": 3,
    "start_time": "2022-12-22T17:33:43.102Z"
   },
   {
    "duration": 35,
    "start_time": "2022-12-22T17:33:43.107Z"
   },
   {
    "duration": 15,
    "start_time": "2022-12-22T17:33:43.144Z"
   },
   {
    "duration": 99,
    "start_time": "2022-12-22T17:33:43.161Z"
   },
   {
    "duration": 26,
    "start_time": "2022-12-22T17:33:43.262Z"
   },
   {
    "duration": 28,
    "start_time": "2022-12-22T17:33:43.291Z"
   },
   {
    "duration": 34,
    "start_time": "2022-12-22T17:33:43.321Z"
   },
   {
    "duration": 5,
    "start_time": "2022-12-22T17:33:43.359Z"
   },
   {
    "duration": 11,
    "start_time": "2022-12-22T17:33:43.366Z"
   },
   {
    "duration": 3,
    "start_time": "2022-12-22T17:33:43.378Z"
   },
   {
    "duration": 6,
    "start_time": "2022-12-22T17:33:43.413Z"
   },
   {
    "duration": 7,
    "start_time": "2022-12-22T17:33:43.421Z"
   },
   {
    "duration": 44,
    "start_time": "2022-12-22T17:33:43.430Z"
   },
   {
    "duration": 8,
    "start_time": "2022-12-22T17:33:43.476Z"
   },
   {
    "duration": 77,
    "start_time": "2022-12-22T17:33:43.485Z"
   },
   {
    "duration": 3,
    "start_time": "2022-12-22T17:33:43.564Z"
   },
   {
    "duration": 34,
    "start_time": "2022-12-22T17:33:43.568Z"
   },
   {
    "duration": 36,
    "start_time": "2022-12-22T17:33:43.604Z"
   },
   {
    "duration": 16,
    "start_time": "2022-12-22T17:33:43.643Z"
   },
   {
    "duration": 57,
    "start_time": "2022-12-22T17:33:43.661Z"
   },
   {
    "duration": 31,
    "start_time": "2022-12-22T17:33:43.720Z"
   },
   {
    "duration": 29,
    "start_time": "2022-12-22T17:33:43.754Z"
   },
   {
    "duration": 29,
    "start_time": "2022-12-22T17:33:43.785Z"
   },
   {
    "duration": 30,
    "start_time": "2022-12-22T17:33:43.816Z"
   },
   {
    "duration": 52,
    "start_time": "2022-12-22T17:33:43.848Z"
   },
   {
    "duration": 10,
    "start_time": "2022-12-22T17:33:43.906Z"
   },
   {
    "duration": 37,
    "start_time": "2022-12-22T17:33:43.918Z"
   },
   {
    "duration": 25,
    "start_time": "2022-12-22T17:33:43.957Z"
   },
   {
    "duration": 7,
    "start_time": "2022-12-22T17:33:43.984Z"
   },
   {
    "duration": 41,
    "start_time": "2022-12-22T17:33:43.992Z"
   },
   {
    "duration": 103,
    "start_time": "2022-12-22T17:33:44.035Z"
   },
   {
    "duration": 287,
    "start_time": "2022-12-22T17:33:44.140Z"
   },
   {
    "duration": 16,
    "start_time": "2022-12-22T17:33:44.429Z"
   },
   {
    "duration": 48,
    "start_time": "2022-12-22T17:33:44.447Z"
   },
   {
    "duration": 15,
    "start_time": "2022-12-22T17:33:44.497Z"
   },
   {
    "duration": 40,
    "start_time": "2022-12-22T17:33:44.514Z"
   },
   {
    "duration": 1082,
    "start_time": "2022-12-22T17:33:44.556Z"
   },
   {
    "duration": 367,
    "start_time": "2022-12-22T17:33:45.641Z"
   },
   {
    "duration": 17,
    "start_time": "2022-12-22T17:33:46.011Z"
   },
   {
    "duration": 6,
    "start_time": "2022-12-22T17:33:46.030Z"
   },
   {
    "duration": 32,
    "start_time": "2022-12-22T17:33:46.038Z"
   },
   {
    "duration": 396,
    "start_time": "2022-12-22T17:33:46.073Z"
   },
   {
    "duration": 290,
    "start_time": "2022-12-22T17:33:46.472Z"
   },
   {
    "duration": 314,
    "start_time": "2022-12-22T17:33:46.764Z"
   },
   {
    "duration": 398,
    "start_time": "2022-12-22T17:33:47.080Z"
   },
   {
    "duration": 181,
    "start_time": "2022-12-22T17:33:47.480Z"
   },
   {
    "duration": 211,
    "start_time": "2022-12-22T17:33:47.662Z"
   },
   {
    "duration": 214,
    "start_time": "2022-12-22T17:33:47.875Z"
   },
   {
    "duration": 101,
    "start_time": "2022-12-22T17:33:48.091Z"
   },
   {
    "duration": 222,
    "start_time": "2022-12-22T17:33:48.195Z"
   },
   {
    "duration": 329,
    "start_time": "2022-12-22T17:33:48.420Z"
   },
   {
    "duration": 320,
    "start_time": "2022-12-22T17:33:48.752Z"
   },
   {
    "duration": 285,
    "start_time": "2022-12-22T17:33:49.074Z"
   },
   {
    "duration": 176,
    "start_time": "2022-12-22T17:33:49.361Z"
   },
   {
    "duration": 180,
    "start_time": "2022-12-22T17:33:49.538Z"
   },
   {
    "duration": 158,
    "start_time": "2022-12-22T17:33:49.720Z"
   },
   {
    "duration": 196,
    "start_time": "2022-12-22T17:33:49.880Z"
   },
   {
    "duration": 579,
    "start_time": "2022-12-22T17:33:50.078Z"
   },
   {
    "duration": 9,
    "start_time": "2022-12-22T17:33:50.659Z"
   },
   {
    "duration": 81,
    "start_time": "2022-12-22T17:33:50.670Z"
   },
   {
    "duration": 198,
    "start_time": "2022-12-22T17:33:50.753Z"
   },
   {
    "duration": 215,
    "start_time": "2022-12-22T17:33:50.953Z"
   },
   {
    "duration": 210,
    "start_time": "2022-12-22T17:33:51.171Z"
   },
   {
    "duration": 290,
    "start_time": "2022-12-22T17:33:51.383Z"
   },
   {
    "duration": 344,
    "start_time": "2022-12-22T17:33:51.674Z"
   },
   {
    "duration": 186,
    "start_time": "2022-12-22T17:33:52.019Z"
   },
   {
    "duration": 188,
    "start_time": "2022-12-22T17:33:52.212Z"
   },
   {
    "duration": 222,
    "start_time": "2022-12-22T17:33:52.402Z"
   },
   {
    "duration": 41,
    "start_time": "2022-12-22T17:33:52.626Z"
   },
   {
    "duration": 5,
    "start_time": "2022-12-22T17:33:52.668Z"
   },
   {
    "duration": 230,
    "start_time": "2022-12-22T17:33:52.674Z"
   },
   {
    "duration": 637,
    "start_time": "2022-12-22T17:36:12.666Z"
   },
   {
    "duration": 107,
    "start_time": "2022-12-22T17:36:13.305Z"
   },
   {
    "duration": 4,
    "start_time": "2022-12-22T17:36:13.415Z"
   },
   {
    "duration": 54,
    "start_time": "2022-12-22T17:36:13.421Z"
   },
   {
    "duration": 22,
    "start_time": "2022-12-22T17:36:13.477Z"
   },
   {
    "duration": 86,
    "start_time": "2022-12-22T17:36:13.512Z"
   },
   {
    "duration": 31,
    "start_time": "2022-12-22T17:36:13.600Z"
   },
   {
    "duration": 10,
    "start_time": "2022-12-22T17:36:13.633Z"
   },
   {
    "duration": 32,
    "start_time": "2022-12-22T17:36:13.645Z"
   },
   {
    "duration": 32,
    "start_time": "2022-12-22T17:36:13.680Z"
   },
   {
    "duration": 13,
    "start_time": "2022-12-22T17:36:13.715Z"
   },
   {
    "duration": 3,
    "start_time": "2022-12-22T17:36:13.730Z"
   },
   {
    "duration": 15,
    "start_time": "2022-12-22T17:36:13.735Z"
   },
   {
    "duration": 6,
    "start_time": "2022-12-22T17:36:13.752Z"
   },
   {
    "duration": 62,
    "start_time": "2022-12-22T17:36:13.759Z"
   },
   {
    "duration": 8,
    "start_time": "2022-12-22T17:36:13.823Z"
   },
   {
    "duration": 40,
    "start_time": "2022-12-22T17:36:13.833Z"
   },
   {
    "duration": 3,
    "start_time": "2022-12-22T17:36:13.875Z"
   },
   {
    "duration": 7,
    "start_time": "2022-12-22T17:36:13.880Z"
   },
   {
    "duration": 3,
    "start_time": "2022-12-22T17:36:13.913Z"
   },
   {
    "duration": 28,
    "start_time": "2022-12-22T17:36:13.919Z"
   },
   {
    "duration": 38,
    "start_time": "2022-12-22T17:36:13.949Z"
   },
   {
    "duration": 11,
    "start_time": "2022-12-22T17:36:13.989Z"
   },
   {
    "duration": 23,
    "start_time": "2022-12-22T17:36:14.001Z"
   },
   {
    "duration": 9,
    "start_time": "2022-12-22T17:36:14.028Z"
   },
   {
    "duration": 16,
    "start_time": "2022-12-22T17:36:14.038Z"
   },
   {
    "duration": 31,
    "start_time": "2022-12-22T17:36:14.056Z"
   },
   {
    "duration": 25,
    "start_time": "2022-12-22T17:36:14.092Z"
   },
   {
    "duration": 22,
    "start_time": "2022-12-22T17:36:14.119Z"
   },
   {
    "duration": 9,
    "start_time": "2022-12-22T17:36:14.143Z"
   },
   {
    "duration": 5,
    "start_time": "2022-12-22T17:36:14.153Z"
   },
   {
    "duration": 15,
    "start_time": "2022-12-22T17:36:14.160Z"
   },
   {
    "duration": 115,
    "start_time": "2022-12-22T17:36:14.177Z"
   },
   {
    "duration": 321,
    "start_time": "2022-12-22T17:36:14.295Z"
   },
   {
    "duration": 15,
    "start_time": "2022-12-22T17:36:14.617Z"
   },
   {
    "duration": 27,
    "start_time": "2022-12-22T17:36:14.634Z"
   },
   {
    "duration": 9,
    "start_time": "2022-12-22T17:36:14.663Z"
   },
   {
    "duration": 21,
    "start_time": "2022-12-22T17:36:14.674Z"
   },
   {
    "duration": 1181,
    "start_time": "2022-12-22T17:36:14.697Z"
   },
   {
    "duration": 446,
    "start_time": "2022-12-22T17:36:15.881Z"
   },
   {
    "duration": 23,
    "start_time": "2022-12-22T17:36:16.330Z"
   },
   {
    "duration": 6,
    "start_time": "2022-12-22T17:36:16.356Z"
   },
   {
    "duration": 16,
    "start_time": "2022-12-22T17:36:16.364Z"
   },
   {
    "duration": 516,
    "start_time": "2022-12-22T17:36:16.382Z"
   },
   {
    "duration": 287,
    "start_time": "2022-12-22T17:36:16.900Z"
   },
   {
    "duration": 354,
    "start_time": "2022-12-22T17:36:17.189Z"
   },
   {
    "duration": 473,
    "start_time": "2022-12-22T17:36:17.545Z"
   },
   {
    "duration": 228,
    "start_time": "2022-12-22T17:36:18.020Z"
   },
   {
    "duration": 400,
    "start_time": "2022-12-22T17:36:18.250Z"
   },
   {
    "duration": 273,
    "start_time": "2022-12-22T17:36:18.652Z"
   },
   {
    "duration": 135,
    "start_time": "2022-12-22T17:36:18.927Z"
   },
   {
    "duration": 336,
    "start_time": "2022-12-22T17:36:19.065Z"
   },
   {
    "duration": 329,
    "start_time": "2022-12-22T17:36:19.403Z"
   },
   {
    "duration": 332,
    "start_time": "2022-12-22T17:36:19.735Z"
   },
   {
    "duration": 299,
    "start_time": "2022-12-22T17:36:20.069Z"
   },
   {
    "duration": 165,
    "start_time": "2022-12-22T17:36:20.371Z"
   },
   {
    "duration": 222,
    "start_time": "2022-12-22T17:36:20.539Z"
   },
   {
    "duration": 169,
    "start_time": "2022-12-22T17:36:20.763Z"
   },
   {
    "duration": 261,
    "start_time": "2022-12-22T17:36:20.934Z"
   },
   {
    "duration": 570,
    "start_time": "2022-12-22T17:36:21.197Z"
   },
   {
    "duration": 12,
    "start_time": "2022-12-22T17:36:21.769Z"
   },
   {
    "duration": 64,
    "start_time": "2022-12-22T17:36:21.784Z"
   },
   {
    "duration": 211,
    "start_time": "2022-12-22T17:36:21.850Z"
   },
   {
    "duration": 279,
    "start_time": "2022-12-22T17:36:22.064Z"
   },
   {
    "duration": 224,
    "start_time": "2022-12-22T17:36:22.345Z"
   },
   {
    "duration": 318,
    "start_time": "2022-12-22T17:36:22.571Z"
   },
   {
    "duration": 378,
    "start_time": "2022-12-22T17:36:22.891Z"
   },
   {
    "duration": 198,
    "start_time": "2022-12-22T17:36:23.271Z"
   },
   {
    "duration": 190,
    "start_time": "2022-12-22T17:36:23.471Z"
   },
   {
    "duration": 226,
    "start_time": "2022-12-22T17:36:23.663Z"
   },
   {
    "duration": 58,
    "start_time": "2022-12-22T17:36:23.892Z"
   },
   {
    "duration": 5,
    "start_time": "2022-12-22T17:36:23.951Z"
   },
   {
    "duration": 248,
    "start_time": "2022-12-22T17:36:23.958Z"
   },
   {
    "duration": 754,
    "start_time": "2022-12-22T17:50:06.209Z"
   },
   {
    "duration": 97,
    "start_time": "2022-12-22T17:50:06.964Z"
   },
   {
    "duration": 3,
    "start_time": "2022-12-22T17:50:07.063Z"
   },
   {
    "duration": 44,
    "start_time": "2022-12-22T17:50:07.068Z"
   },
   {
    "duration": 15,
    "start_time": "2022-12-22T17:50:07.114Z"
   },
   {
    "duration": 94,
    "start_time": "2022-12-22T17:50:07.131Z"
   },
   {
    "duration": 23,
    "start_time": "2022-12-22T17:50:07.227Z"
   },
   {
    "duration": 16,
    "start_time": "2022-12-22T17:50:07.252Z"
   },
   {
    "duration": 54,
    "start_time": "2022-12-22T17:50:07.269Z"
   },
   {
    "duration": 5,
    "start_time": "2022-12-22T17:50:07.326Z"
   },
   {
    "duration": 30,
    "start_time": "2022-12-22T17:50:07.332Z"
   },
   {
    "duration": 12,
    "start_time": "2022-12-22T17:50:07.364Z"
   },
   {
    "duration": 19,
    "start_time": "2022-12-22T17:50:07.378Z"
   },
   {
    "duration": 9,
    "start_time": "2022-12-22T17:50:07.399Z"
   },
   {
    "duration": 57,
    "start_time": "2022-12-22T17:50:07.410Z"
   },
   {
    "duration": 7,
    "start_time": "2022-12-22T17:50:07.470Z"
   },
   {
    "duration": 50,
    "start_time": "2022-12-22T17:50:07.478Z"
   },
   {
    "duration": 3,
    "start_time": "2022-12-22T17:50:07.530Z"
   },
   {
    "duration": 22,
    "start_time": "2022-12-22T17:50:07.535Z"
   },
   {
    "duration": 9,
    "start_time": "2022-12-22T17:50:07.559Z"
   },
   {
    "duration": 18,
    "start_time": "2022-12-22T17:50:07.570Z"
   },
   {
    "duration": 37,
    "start_time": "2022-12-22T17:50:07.590Z"
   },
   {
    "duration": 9,
    "start_time": "2022-12-22T17:50:07.629Z"
   },
   {
    "duration": 13,
    "start_time": "2022-12-22T17:50:07.640Z"
   },
   {
    "duration": 8,
    "start_time": "2022-12-22T17:50:07.654Z"
   },
   {
    "duration": 10,
    "start_time": "2022-12-22T17:50:07.663Z"
   },
   {
    "duration": 49,
    "start_time": "2022-12-22T17:50:07.674Z"
   },
   {
    "duration": 8,
    "start_time": "2022-12-22T17:50:07.727Z"
   },
   {
    "duration": 19,
    "start_time": "2022-12-22T17:50:07.737Z"
   },
   {
    "duration": 19,
    "start_time": "2022-12-22T17:50:07.758Z"
   },
   {
    "duration": 11,
    "start_time": "2022-12-22T17:50:07.779Z"
   },
   {
    "duration": 30,
    "start_time": "2022-12-22T17:50:07.791Z"
   },
   {
    "duration": 99,
    "start_time": "2022-12-22T17:50:07.823Z"
   },
   {
    "duration": 269,
    "start_time": "2022-12-22T17:50:07.924Z"
   },
   {
    "duration": 27,
    "start_time": "2022-12-22T17:50:08.195Z"
   },
   {
    "duration": 54,
    "start_time": "2022-12-22T17:50:08.225Z"
   },
   {
    "duration": 27,
    "start_time": "2022-12-22T17:50:08.281Z"
   },
   {
    "duration": 52,
    "start_time": "2022-12-22T17:50:08.310Z"
   },
   {
    "duration": 1024,
    "start_time": "2022-12-22T17:50:08.364Z"
   },
   {
    "duration": 361,
    "start_time": "2022-12-22T17:50:09.390Z"
   },
   {
    "duration": 23,
    "start_time": "2022-12-22T17:50:09.754Z"
   },
   {
    "duration": 6,
    "start_time": "2022-12-22T17:50:09.779Z"
   },
   {
    "duration": 33,
    "start_time": "2022-12-22T17:50:09.787Z"
   },
   {
    "duration": 317,
    "start_time": "2022-12-22T17:50:09.822Z"
   },
   {
    "duration": 248,
    "start_time": "2022-12-22T17:50:10.142Z"
   },
   {
    "duration": 321,
    "start_time": "2022-12-22T17:50:10.391Z"
   },
   {
    "duration": 381,
    "start_time": "2022-12-22T17:50:10.714Z"
   },
   {
    "duration": 193,
    "start_time": "2022-12-22T17:50:11.097Z"
   },
   {
    "duration": 203,
    "start_time": "2022-12-22T17:50:11.292Z"
   },
   {
    "duration": 213,
    "start_time": "2022-12-22T17:50:11.496Z"
   },
   {
    "duration": 86,
    "start_time": "2022-12-22T17:50:11.712Z"
   },
   {
    "duration": 227,
    "start_time": "2022-12-22T17:50:11.813Z"
   },
   {
    "duration": 392,
    "start_time": "2022-12-22T17:50:12.041Z"
   },
   {
    "duration": 309,
    "start_time": "2022-12-22T17:50:12.435Z"
   },
   {
    "duration": 246,
    "start_time": "2022-12-22T17:50:12.746Z"
   },
   {
    "duration": 177,
    "start_time": "2022-12-22T17:50:12.994Z"
   },
   {
    "duration": 166,
    "start_time": "2022-12-22T17:50:13.174Z"
   },
   {
    "duration": 161,
    "start_time": "2022-12-22T17:50:13.342Z"
   },
   {
    "duration": 199,
    "start_time": "2022-12-22T17:50:13.505Z"
   },
   {
    "duration": 532,
    "start_time": "2022-12-22T17:50:13.712Z"
   },
   {
    "duration": 10,
    "start_time": "2022-12-22T17:50:14.247Z"
   },
   {
    "duration": 83,
    "start_time": "2022-12-22T17:50:14.259Z"
   },
   {
    "duration": 189,
    "start_time": "2022-12-22T17:50:14.344Z"
   },
   {
    "duration": 207,
    "start_time": "2022-12-22T17:50:14.536Z"
   },
   {
    "duration": 228,
    "start_time": "2022-12-22T17:50:14.744Z"
   },
   {
    "duration": 283,
    "start_time": "2022-12-22T17:50:14.974Z"
   },
   {
    "duration": 368,
    "start_time": "2022-12-22T17:50:15.259Z"
   },
   {
    "duration": 185,
    "start_time": "2022-12-22T17:50:15.629Z"
   },
   {
    "duration": 184,
    "start_time": "2022-12-22T17:50:15.815Z"
   },
   {
    "duration": 225,
    "start_time": "2022-12-22T17:50:16.001Z"
   },
   {
    "duration": 37,
    "start_time": "2022-12-22T17:50:16.228Z"
   },
   {
    "duration": 6,
    "start_time": "2022-12-22T17:50:16.267Z"
   },
   {
    "duration": 240,
    "start_time": "2022-12-22T17:50:16.275Z"
   },
   {
    "duration": 642,
    "start_time": "2022-12-22T21:13:50.021Z"
   },
   {
    "duration": 92,
    "start_time": "2022-12-22T21:13:50.665Z"
   },
   {
    "duration": 3,
    "start_time": "2022-12-22T21:13:50.759Z"
   },
   {
    "duration": 38,
    "start_time": "2022-12-22T21:13:50.765Z"
   },
   {
    "duration": 21,
    "start_time": "2022-12-22T21:13:50.805Z"
   },
   {
    "duration": 64,
    "start_time": "2022-12-22T21:13:50.827Z"
   },
   {
    "duration": 35,
    "start_time": "2022-12-22T21:13:50.893Z"
   },
   {
    "duration": 9,
    "start_time": "2022-12-22T21:13:50.929Z"
   },
   {
    "duration": 35,
    "start_time": "2022-12-22T21:13:50.939Z"
   },
   {
    "duration": 4,
    "start_time": "2022-12-22T21:13:50.977Z"
   },
   {
    "duration": 16,
    "start_time": "2022-12-22T21:13:50.982Z"
   },
   {
    "duration": 4,
    "start_time": "2022-12-22T21:13:50.999Z"
   },
   {
    "duration": 19,
    "start_time": "2022-12-22T21:13:51.004Z"
   },
   {
    "duration": 6,
    "start_time": "2022-12-22T21:13:51.024Z"
   },
   {
    "duration": 39,
    "start_time": "2022-12-22T21:13:51.031Z"
   },
   {
    "duration": 7,
    "start_time": "2022-12-22T21:13:51.071Z"
   },
   {
    "duration": 59,
    "start_time": "2022-12-22T21:13:51.079Z"
   },
   {
    "duration": 3,
    "start_time": "2022-12-22T21:13:51.140Z"
   },
   {
    "duration": 17,
    "start_time": "2022-12-22T21:13:51.144Z"
   },
   {
    "duration": 17,
    "start_time": "2022-12-22T21:13:51.163Z"
   },
   {
    "duration": 7,
    "start_time": "2022-12-22T21:13:51.181Z"
   },
   {
    "duration": 33,
    "start_time": "2022-12-22T21:13:51.189Z"
   },
   {
    "duration": 7,
    "start_time": "2022-12-22T21:13:51.224Z"
   },
   {
    "duration": 12,
    "start_time": "2022-12-22T21:13:51.232Z"
   },
   {
    "duration": 9,
    "start_time": "2022-12-22T21:13:51.245Z"
   },
   {
    "duration": 10,
    "start_time": "2022-12-22T21:13:51.255Z"
   },
   {
    "duration": 22,
    "start_time": "2022-12-22T21:13:51.268Z"
   },
   {
    "duration": 6,
    "start_time": "2022-12-22T21:13:51.294Z"
   },
   {
    "duration": 26,
    "start_time": "2022-12-22T21:13:51.301Z"
   },
   {
    "duration": 7,
    "start_time": "2022-12-22T21:13:51.328Z"
   },
   {
    "duration": 9,
    "start_time": "2022-12-22T21:13:51.337Z"
   },
   {
    "duration": 15,
    "start_time": "2022-12-22T21:13:51.347Z"
   },
   {
    "duration": 76,
    "start_time": "2022-12-22T21:13:51.363Z"
   },
   {
    "duration": 214,
    "start_time": "2022-12-22T21:13:51.440Z"
   },
   {
    "duration": 11,
    "start_time": "2022-12-22T21:13:51.656Z"
   },
   {
    "duration": 24,
    "start_time": "2022-12-22T21:13:51.668Z"
   },
   {
    "duration": 4,
    "start_time": "2022-12-22T21:13:51.694Z"
   },
   {
    "duration": 23,
    "start_time": "2022-12-22T21:13:51.700Z"
   },
   {
    "duration": 838,
    "start_time": "2022-12-22T21:13:51.724Z"
   },
   {
    "duration": 317,
    "start_time": "2022-12-22T21:13:52.564Z"
   },
   {
    "duration": 13,
    "start_time": "2022-12-22T21:13:52.883Z"
   },
   {
    "duration": 14,
    "start_time": "2022-12-22T21:13:52.897Z"
   },
   {
    "duration": 18,
    "start_time": "2022-12-22T21:13:52.913Z"
   },
   {
    "duration": 261,
    "start_time": "2022-12-22T21:13:52.933Z"
   },
   {
    "duration": 210,
    "start_time": "2022-12-22T21:13:53.195Z"
   },
   {
    "duration": 279,
    "start_time": "2022-12-22T21:13:53.407Z"
   },
   {
    "duration": 325,
    "start_time": "2022-12-22T21:13:53.688Z"
   },
   {
    "duration": 150,
    "start_time": "2022-12-22T21:13:54.014Z"
   },
   {
    "duration": 173,
    "start_time": "2022-12-22T21:13:54.166Z"
   },
   {
    "duration": 175,
    "start_time": "2022-12-22T21:13:54.340Z"
   },
   {
    "duration": 76,
    "start_time": "2022-12-22T21:13:54.517Z"
   },
   {
    "duration": 193,
    "start_time": "2022-12-22T21:13:54.595Z"
   },
   {
    "duration": 269,
    "start_time": "2022-12-22T21:13:54.790Z"
   },
   {
    "duration": 256,
    "start_time": "2022-12-22T21:13:55.060Z"
   },
   {
    "duration": 243,
    "start_time": "2022-12-22T21:13:55.317Z"
   },
   {
    "duration": 135,
    "start_time": "2022-12-22T21:13:55.561Z"
   },
   {
    "duration": 139,
    "start_time": "2022-12-22T21:13:55.698Z"
   },
   {
    "duration": 130,
    "start_time": "2022-12-22T21:13:55.839Z"
   },
   {
    "duration": 167,
    "start_time": "2022-12-22T21:13:55.970Z"
   },
   {
    "duration": 435,
    "start_time": "2022-12-22T21:13:56.138Z"
   },
   {
    "duration": 8,
    "start_time": "2022-12-22T21:13:56.574Z"
   },
   {
    "duration": 50,
    "start_time": "2022-12-22T21:13:56.583Z"
   },
   {
    "duration": 155,
    "start_time": "2022-12-22T21:13:56.635Z"
   },
   {
    "duration": 160,
    "start_time": "2022-12-22T21:13:56.792Z"
   },
   {
    "duration": 161,
    "start_time": "2022-12-22T21:13:56.953Z"
   },
   {
    "duration": 220,
    "start_time": "2022-12-22T21:13:57.116Z"
   },
   {
    "duration": 271,
    "start_time": "2022-12-22T21:13:57.338Z"
   },
   {
    "duration": 155,
    "start_time": "2022-12-22T21:13:57.611Z"
   },
   {
    "duration": 147,
    "start_time": "2022-12-22T21:13:57.767Z"
   },
   {
    "duration": 169,
    "start_time": "2022-12-22T21:13:57.921Z"
   },
   {
    "duration": 39,
    "start_time": "2022-12-22T21:13:58.092Z"
   },
   {
    "duration": 3,
    "start_time": "2022-12-22T21:13:58.133Z"
   },
   {
    "duration": 178,
    "start_time": "2022-12-22T21:13:58.138Z"
   },
   {
    "duration": 13,
    "start_time": "2022-12-22T21:14:20.348Z"
   }
  ],
  "kernelspec": {
   "display_name": "Python 3 (ipykernel)",
   "language": "python",
   "name": "python3"
  },
  "language_info": {
   "codemirror_mode": {
    "name": "ipython",
    "version": 3
   },
   "file_extension": ".py",
   "mimetype": "text/x-python",
   "name": "python",
   "nbconvert_exporter": "python",
   "pygments_lexer": "ipython3",
   "version": "3.9.13"
  },
  "toc": {
   "base_numbering": 1,
   "nav_menu": {},
   "number_sections": true,
   "sideBar": true,
   "skip_h1_title": true,
   "title_cell": "Table of Contents",
   "title_sidebar": "Contents",
   "toc_cell": false,
   "toc_position": {
    "height": "calc(100% - 180px)",
    "left": "10px",
    "top": "150px",
    "width": "165px"
   },
   "toc_section_display": true,
   "toc_window_display": false
  }
 },
 "nbformat": 4,
 "nbformat_minor": 2
}
