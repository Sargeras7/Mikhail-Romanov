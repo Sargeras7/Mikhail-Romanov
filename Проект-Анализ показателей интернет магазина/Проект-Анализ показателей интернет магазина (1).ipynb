{
 "cells": [
  {
   "cell_type": "markdown",
   "metadata": {},
   "source": [
    " ## Анализ показателей интернет магазина\n",
    " "
   ]
  },
  {
   "cell_type": "markdown",
   "metadata": {},
   "source": [
    "### Описание проекта "
   ]
  },
  {
   "cell_type": "markdown",
   "metadata": {},
   "source": [
    "В данном проекте, необходимо вжиться в роль  аналитика крупного интернет-магазина и вместе с отделом маркетинга подготовить перечень гипотез, направленных на увеличение выручки(т.е. дохода без учета затрат на товар, маркетинг, зарплаты и налоги). Для этого необходимо преоретизировать выдвинутые гипотезы, запустить A/B-тест и проанализировать полученные результаты."
   ]
  },
  {
   "cell_type": "code",
   "execution_count": 1,
   "metadata": {},
   "outputs": [],
   "source": [
    "#загрузим необходимые библиотеки\n",
    "import pandas as pd\n",
    "import numpy as np\n",
    "import seaborn as sns\n",
    "from matplotlib import pyplot as plt\n",
    "import scipy.stats as stats\n",
    "import datetime as dt"
   ]
  },
  {
   "cell_type": "code",
   "execution_count": 2,
   "metadata": {},
   "outputs": [],
   "source": [
    "\n",
    "hypothesis = pd.read_csv('/datasets/hypothesis.csv')\n",
    "orders = pd.read_csv('/datasets/orders.csv')\n",
    "visitors = pd.read_csv('/datasets/visitors.csv')"
   ]
  },
  {
   "cell_type": "markdown",
   "metadata": {},
   "source": [
    "###  Знакомство с данными и их предобработка "
   ]
  },
  {
   "cell_type": "code",
   "execution_count": 3,
   "metadata": {},
   "outputs": [
    {
     "name": "stdout",
     "output_type": "stream",
     "text": [
      "<class 'pandas.core.frame.DataFrame'>\n",
      "RangeIndex: 9 entries, 0 to 8\n",
      "Data columns (total 5 columns):\n",
      " #   Column      Non-Null Count  Dtype \n",
      "---  ------      --------------  ----- \n",
      " 0   Hypothesis  9 non-null      object\n",
      " 1   Reach       9 non-null      int64 \n",
      " 2   Impact      9 non-null      int64 \n",
      " 3   Confidence  9 non-null      int64 \n",
      " 4   Efforts     9 non-null      int64 \n",
      "dtypes: int64(4), object(1)\n",
      "memory usage: 488.0+ bytes\n"
     ]
    }
   ],
   "source": [
    "hypothesis.info()\n"
   ]
  },
  {
   "cell_type": "code",
   "execution_count": 4,
   "metadata": {},
   "outputs": [
    {
     "data": {
      "text/html": [
       "<div>\n",
       "<style scoped>\n",
       "    .dataframe tbody tr th:only-of-type {\n",
       "        vertical-align: middle;\n",
       "    }\n",
       "\n",
       "    .dataframe tbody tr th {\n",
       "        vertical-align: top;\n",
       "    }\n",
       "\n",
       "    .dataframe thead th {\n",
       "        text-align: right;\n",
       "    }\n",
       "</style>\n",
       "<table border=\"1\" class=\"dataframe\">\n",
       "  <thead>\n",
       "    <tr style=\"text-align: right;\">\n",
       "      <th></th>\n",
       "      <th>hypothesis</th>\n",
       "      <th>reach</th>\n",
       "      <th>impact</th>\n",
       "      <th>confidence</th>\n",
       "      <th>efforts</th>\n",
       "    </tr>\n",
       "  </thead>\n",
       "  <tbody>\n",
       "    <tr>\n",
       "      <th>0</th>\n",
       "      <td>Добавить два новых канала привлечения трафика,...</td>\n",
       "      <td>3</td>\n",
       "      <td>10</td>\n",
       "      <td>8</td>\n",
       "      <td>6</td>\n",
       "    </tr>\n",
       "    <tr>\n",
       "      <th>1</th>\n",
       "      <td>Запустить собственную службу доставки, что сок...</td>\n",
       "      <td>2</td>\n",
       "      <td>5</td>\n",
       "      <td>4</td>\n",
       "      <td>10</td>\n",
       "    </tr>\n",
       "    <tr>\n",
       "      <th>2</th>\n",
       "      <td>Добавить блоки рекомендаций товаров на сайт ин...</td>\n",
       "      <td>8</td>\n",
       "      <td>3</td>\n",
       "      <td>7</td>\n",
       "      <td>3</td>\n",
       "    </tr>\n",
       "    <tr>\n",
       "      <th>3</th>\n",
       "      <td>Изменить структура категорий, что увеличит кон...</td>\n",
       "      <td>8</td>\n",
       "      <td>3</td>\n",
       "      <td>3</td>\n",
       "      <td>8</td>\n",
       "    </tr>\n",
       "    <tr>\n",
       "      <th>4</th>\n",
       "      <td>Изменить цвет фона главной страницы, чтобы уве...</td>\n",
       "      <td>3</td>\n",
       "      <td>1</td>\n",
       "      <td>1</td>\n",
       "      <td>1</td>\n",
       "    </tr>\n",
       "    <tr>\n",
       "      <th>5</th>\n",
       "      <td>Добавить страницу отзывов клиентов о магазине,...</td>\n",
       "      <td>3</td>\n",
       "      <td>2</td>\n",
       "      <td>2</td>\n",
       "      <td>3</td>\n",
       "    </tr>\n",
       "    <tr>\n",
       "      <th>6</th>\n",
       "      <td>Показать на главной странице баннеры с актуаль...</td>\n",
       "      <td>5</td>\n",
       "      <td>3</td>\n",
       "      <td>8</td>\n",
       "      <td>3</td>\n",
       "    </tr>\n",
       "    <tr>\n",
       "      <th>7</th>\n",
       "      <td>Добавить форму подписки на все основные страни...</td>\n",
       "      <td>10</td>\n",
       "      <td>7</td>\n",
       "      <td>8</td>\n",
       "      <td>5</td>\n",
       "    </tr>\n",
       "    <tr>\n",
       "      <th>8</th>\n",
       "      <td>Запустить акцию, дающую скидку на товар в день...</td>\n",
       "      <td>1</td>\n",
       "      <td>9</td>\n",
       "      <td>9</td>\n",
       "      <td>5</td>\n",
       "    </tr>\n",
       "  </tbody>\n",
       "</table>\n",
       "</div>"
      ],
      "text/plain": [
       "                                          hypothesis  reach  impact  \\\n",
       "0  Добавить два новых канала привлечения трафика,...      3      10   \n",
       "1  Запустить собственную службу доставки, что сок...      2       5   \n",
       "2  Добавить блоки рекомендаций товаров на сайт ин...      8       3   \n",
       "3  Изменить структура категорий, что увеличит кон...      8       3   \n",
       "4  Изменить цвет фона главной страницы, чтобы уве...      3       1   \n",
       "5  Добавить страницу отзывов клиентов о магазине,...      3       2   \n",
       "6  Показать на главной странице баннеры с актуаль...      5       3   \n",
       "7  Добавить форму подписки на все основные страни...     10       7   \n",
       "8  Запустить акцию, дающую скидку на товар в день...      1       9   \n",
       "\n",
       "   confidence  efforts  \n",
       "0           8        6  \n",
       "1           4       10  \n",
       "2           7        3  \n",
       "3           3        8  \n",
       "4           1        1  \n",
       "5           2        3  \n",
       "6           8        3  \n",
       "7           8        5  \n",
       "8           9        5  "
      ]
     },
     "execution_count": 4,
     "metadata": {},
     "output_type": "execute_result"
    }
   ],
   "source": [
    "hypothesis.columns=hypothesis.columns.str.lower()#приведем название столбцов к змеиному регистру\n",
    "hypothesis.head(10)"
   ]
  },
  {
   "cell_type": "markdown",
   "metadata": {},
   "source": [
    "В данных нет пропусков, ошибок и дубликатов, а занчит они готовы к дальнейшему анализу ."
   ]
  },
  {
   "cell_type": "code",
   "execution_count": 5,
   "metadata": {},
   "outputs": [
    {
     "name": "stdout",
     "output_type": "stream",
     "text": [
      "<class 'pandas.core.frame.DataFrame'>\n",
      "RangeIndex: 1197 entries, 0 to 1196\n",
      "Data columns (total 5 columns):\n",
      " #   Column         Non-Null Count  Dtype \n",
      "---  ------         --------------  ----- \n",
      " 0   transactionId  1197 non-null   int64 \n",
      " 1   visitorId      1197 non-null   int64 \n",
      " 2   date           1197 non-null   object\n",
      " 3   revenue        1197 non-null   int64 \n",
      " 4   group          1197 non-null   object\n",
      "dtypes: int64(3), object(2)\n",
      "memory usage: 46.9+ KB\n"
     ]
    }
   ],
   "source": [
    "orders.info()"
   ]
  },
  {
   "cell_type": "code",
   "execution_count": 6,
   "metadata": {},
   "outputs": [
    {
     "data": {
      "text/html": [
       "<div>\n",
       "<style scoped>\n",
       "    .dataframe tbody tr th:only-of-type {\n",
       "        vertical-align: middle;\n",
       "    }\n",
       "\n",
       "    .dataframe tbody tr th {\n",
       "        vertical-align: top;\n",
       "    }\n",
       "\n",
       "    .dataframe thead th {\n",
       "        text-align: right;\n",
       "    }\n",
       "</style>\n",
       "<table border=\"1\" class=\"dataframe\">\n",
       "  <thead>\n",
       "    <tr style=\"text-align: right;\">\n",
       "      <th></th>\n",
       "      <th>transactionId</th>\n",
       "      <th>visitorId</th>\n",
       "      <th>date</th>\n",
       "      <th>revenue</th>\n",
       "      <th>group</th>\n",
       "    </tr>\n",
       "  </thead>\n",
       "  <tbody>\n",
       "    <tr>\n",
       "      <th>0</th>\n",
       "      <td>3667963787</td>\n",
       "      <td>3312258926</td>\n",
       "      <td>2019-08-15</td>\n",
       "      <td>1650</td>\n",
       "      <td>B</td>\n",
       "    </tr>\n",
       "    <tr>\n",
       "      <th>1</th>\n",
       "      <td>2804400009</td>\n",
       "      <td>3642806036</td>\n",
       "      <td>2019-08-15</td>\n",
       "      <td>730</td>\n",
       "      <td>B</td>\n",
       "    </tr>\n",
       "    <tr>\n",
       "      <th>2</th>\n",
       "      <td>2961555356</td>\n",
       "      <td>4069496402</td>\n",
       "      <td>2019-08-15</td>\n",
       "      <td>400</td>\n",
       "      <td>A</td>\n",
       "    </tr>\n",
       "    <tr>\n",
       "      <th>3</th>\n",
       "      <td>3797467345</td>\n",
       "      <td>1196621759</td>\n",
       "      <td>2019-08-15</td>\n",
       "      <td>9759</td>\n",
       "      <td>B</td>\n",
       "    </tr>\n",
       "    <tr>\n",
       "      <th>4</th>\n",
       "      <td>2282983706</td>\n",
       "      <td>2322279887</td>\n",
       "      <td>2019-08-15</td>\n",
       "      <td>2308</td>\n",
       "      <td>B</td>\n",
       "    </tr>\n",
       "  </tbody>\n",
       "</table>\n",
       "</div>"
      ],
      "text/plain": [
       "   transactionId   visitorId        date  revenue group\n",
       "0     3667963787  3312258926  2019-08-15     1650     B\n",
       "1     2804400009  3642806036  2019-08-15      730     B\n",
       "2     2961555356  4069496402  2019-08-15      400     A\n",
       "3     3797467345  1196621759  2019-08-15     9759     B\n",
       "4     2282983706  2322279887  2019-08-15     2308     B"
      ]
     },
     "execution_count": 6,
     "metadata": {},
     "output_type": "execute_result"
    }
   ],
   "source": [
    "orders.head()"
   ]
  },
  {
   "cell_type": "code",
   "execution_count": 7,
   "metadata": {},
   "outputs": [],
   "source": [
    "\n",
    "orders['date'] = pd.to_datetime(orders['date']) #приведем  тип данных  столбца \"date\" на datetime"
   ]
  },
  {
   "cell_type": "code",
   "execution_count": 8,
   "metadata": {},
   "outputs": [
    {
     "name": "stdout",
     "output_type": "stream",
     "text": [
      "Количество дубликатов = 0\n"
     ]
    }
   ],
   "source": [
    "print('Количество дубликатов =',orders.duplicated().sum())"
   ]
  },
  {
   "cell_type": "markdown",
   "metadata": {},
   "source": [
    "Данные корректны,дубликатов и пропусков нет, название столбцов в таблице в нижнем регистре,  тип данных в столбце date приведен к datetime для дальнейшего анализа. "
   ]
  },
  {
   "cell_type": "code",
   "execution_count": 9,
   "metadata": {},
   "outputs": [
    {
     "name": "stdout",
     "output_type": "stream",
     "text": [
      "<class 'pandas.core.frame.DataFrame'>\n",
      "RangeIndex: 62 entries, 0 to 61\n",
      "Data columns (total 3 columns):\n",
      " #   Column    Non-Null Count  Dtype \n",
      "---  ------    --------------  ----- \n",
      " 0   date      62 non-null     object\n",
      " 1   group     62 non-null     object\n",
      " 2   visitors  62 non-null     int64 \n",
      "dtypes: int64(1), object(2)\n",
      "memory usage: 1.6+ KB\n"
     ]
    }
   ],
   "source": [
    "visitors.info()"
   ]
  },
  {
   "cell_type": "code",
   "execution_count": 10,
   "metadata": {},
   "outputs": [],
   "source": [
    "visitors['date'] = pd.to_datetime(visitors['date']) #приведем  тип данных столбца  \"date\" на datetime"
   ]
  },
  {
   "cell_type": "code",
   "execution_count": 11,
   "metadata": {},
   "outputs": [
    {
     "name": "stdout",
     "output_type": "stream",
     "text": [
      "Количество дубликатов = 0\n"
     ]
    }
   ],
   "source": [
    "print('Количество дубликатов =',visitors.duplicated().sum())"
   ]
  },
  {
   "cell_type": "markdown",
   "metadata": {},
   "source": [
    "Общий вывод по предобработке данных: данные корректны, тип данных в столбцах date в таблицах orders и visitors приведены к datetime, пропусков и дубликатов в таблицах не обнаружено."
   ]
  },
  {
   "cell_type": "markdown",
   "metadata": {},
   "source": [
    "###  Приоритизация гипотез "
   ]
  },
  {
   "cell_type": "markdown",
   "metadata": {},
   "source": [
    "Перейдем к приоретизации гипотез. Необходимо применить  фреймворк ICE(Impact — влияние, Confidence — уверенность, Ease — легкость реализации) для приоритизации гипотез. Для этого необходимо отсортировать гипотезы   по убыванию приоритета.\n",
    "Затем применим  фреймворк RICE(Reach — охват, Impact — влияние, Confidence — достоверность, Effort — усилия) для приоритизации гипотез и отсортируем их по убыванию приоритета.\n"
   ]
  },
  {
   "cell_type": "code",
   "execution_count": 12,
   "metadata": {},
   "outputs": [
    {
     "data": {
      "text/html": [
       "<div>\n",
       "<style scoped>\n",
       "    .dataframe tbody tr th:only-of-type {\n",
       "        vertical-align: middle;\n",
       "    }\n",
       "\n",
       "    .dataframe tbody tr th {\n",
       "        vertical-align: top;\n",
       "    }\n",
       "\n",
       "    .dataframe thead th {\n",
       "        text-align: right;\n",
       "    }\n",
       "</style>\n",
       "<table border=\"1\" class=\"dataframe\">\n",
       "  <thead>\n",
       "    <tr style=\"text-align: right;\">\n",
       "      <th></th>\n",
       "      <th>hypothesis</th>\n",
       "      <th>reach</th>\n",
       "      <th>impact</th>\n",
       "      <th>confidence</th>\n",
       "      <th>efforts</th>\n",
       "    </tr>\n",
       "  </thead>\n",
       "  <tbody>\n",
       "    <tr>\n",
       "      <th>0</th>\n",
       "      <td>Добавить два новых канала привлечения трафика,...</td>\n",
       "      <td>3</td>\n",
       "      <td>10</td>\n",
       "      <td>8</td>\n",
       "      <td>6</td>\n",
       "    </tr>\n",
       "    <tr>\n",
       "      <th>1</th>\n",
       "      <td>Запустить собственную службу доставки, что сок...</td>\n",
       "      <td>2</td>\n",
       "      <td>5</td>\n",
       "      <td>4</td>\n",
       "      <td>10</td>\n",
       "    </tr>\n",
       "    <tr>\n",
       "      <th>2</th>\n",
       "      <td>Добавить блоки рекомендаций товаров на сайт ин...</td>\n",
       "      <td>8</td>\n",
       "      <td>3</td>\n",
       "      <td>7</td>\n",
       "      <td>3</td>\n",
       "    </tr>\n",
       "    <tr>\n",
       "      <th>3</th>\n",
       "      <td>Изменить структура категорий, что увеличит кон...</td>\n",
       "      <td>8</td>\n",
       "      <td>3</td>\n",
       "      <td>3</td>\n",
       "      <td>8</td>\n",
       "    </tr>\n",
       "    <tr>\n",
       "      <th>4</th>\n",
       "      <td>Изменить цвет фона главной страницы, чтобы уве...</td>\n",
       "      <td>3</td>\n",
       "      <td>1</td>\n",
       "      <td>1</td>\n",
       "      <td>1</td>\n",
       "    </tr>\n",
       "    <tr>\n",
       "      <th>5</th>\n",
       "      <td>Добавить страницу отзывов клиентов о магазине,...</td>\n",
       "      <td>3</td>\n",
       "      <td>2</td>\n",
       "      <td>2</td>\n",
       "      <td>3</td>\n",
       "    </tr>\n",
       "    <tr>\n",
       "      <th>6</th>\n",
       "      <td>Показать на главной странице баннеры с актуаль...</td>\n",
       "      <td>5</td>\n",
       "      <td>3</td>\n",
       "      <td>8</td>\n",
       "      <td>3</td>\n",
       "    </tr>\n",
       "    <tr>\n",
       "      <th>7</th>\n",
       "      <td>Добавить форму подписки на все основные страни...</td>\n",
       "      <td>10</td>\n",
       "      <td>7</td>\n",
       "      <td>8</td>\n",
       "      <td>5</td>\n",
       "    </tr>\n",
       "    <tr>\n",
       "      <th>8</th>\n",
       "      <td>Запустить акцию, дающую скидку на товар в день...</td>\n",
       "      <td>1</td>\n",
       "      <td>9</td>\n",
       "      <td>9</td>\n",
       "      <td>5</td>\n",
       "    </tr>\n",
       "  </tbody>\n",
       "</table>\n",
       "</div>"
      ],
      "text/plain": [
       "                                          hypothesis  reach  impact  \\\n",
       "0  Добавить два новых канала привлечения трафика,...      3      10   \n",
       "1  Запустить собственную службу доставки, что сок...      2       5   \n",
       "2  Добавить блоки рекомендаций товаров на сайт ин...      8       3   \n",
       "3  Изменить структура категорий, что увеличит кон...      8       3   \n",
       "4  Изменить цвет фона главной страницы, чтобы уве...      3       1   \n",
       "5  Добавить страницу отзывов клиентов о магазине,...      3       2   \n",
       "6  Показать на главной странице баннеры с актуаль...      5       3   \n",
       "7  Добавить форму подписки на все основные страни...     10       7   \n",
       "8  Запустить акцию, дающую скидку на товар в день...      1       9   \n",
       "\n",
       "   confidence  efforts  \n",
       "0           8        6  \n",
       "1           4       10  \n",
       "2           7        3  \n",
       "3           3        8  \n",
       "4           1        1  \n",
       "5           2        3  \n",
       "6           8        3  \n",
       "7           8        5  \n",
       "8           9        5  "
      ]
     },
     "execution_count": 12,
     "metadata": {},
     "output_type": "execute_result"
    }
   ],
   "source": [
    "hypothesis\n"
   ]
  },
  {
   "cell_type": "code",
   "execution_count": 13,
   "metadata": {},
   "outputs": [],
   "source": [
    "hypothesis['ICE'] = ((hypothesis['impact'] * hypothesis['confidence']) / hypothesis['efforts']).round(1)\n",
    "hypothesis['RICE'] = (hypothesis['reach']  *hypothesis['impact'] * hypothesis['confidence']) / hypothesis['efforts']"
   ]
  },
  {
   "cell_type": "code",
   "execution_count": 14,
   "metadata": {},
   "outputs": [
    {
     "data": {
      "text/html": [
       "<div>\n",
       "<style scoped>\n",
       "    .dataframe tbody tr th:only-of-type {\n",
       "        vertical-align: middle;\n",
       "    }\n",
       "\n",
       "    .dataframe tbody tr th {\n",
       "        vertical-align: top;\n",
       "    }\n",
       "\n",
       "    .dataframe thead th {\n",
       "        text-align: right;\n",
       "    }\n",
       "</style>\n",
       "<table border=\"1\" class=\"dataframe\">\n",
       "  <thead>\n",
       "    <tr style=\"text-align: right;\">\n",
       "      <th></th>\n",
       "      <th>ICE</th>\n",
       "      <th>hypothesis</th>\n",
       "    </tr>\n",
       "  </thead>\n",
       "  <tbody>\n",
       "    <tr>\n",
       "      <th>8</th>\n",
       "      <td>16.2</td>\n",
       "      <td>Запустить акцию, дающую скидку на товар в день рождения</td>\n",
       "    </tr>\n",
       "    <tr>\n",
       "      <th>0</th>\n",
       "      <td>13.3</td>\n",
       "      <td>Добавить два новых канала привлечения трафика, что позволит привлекать на 30% больше пользователей</td>\n",
       "    </tr>\n",
       "    <tr>\n",
       "      <th>7</th>\n",
       "      <td>11.2</td>\n",
       "      <td>Добавить форму подписки на все основные страницы, чтобы собрать базу клиентов для email-рассылок</td>\n",
       "    </tr>\n",
       "    <tr>\n",
       "      <th>6</th>\n",
       "      <td>8.0</td>\n",
       "      <td>Показать на главной странице баннеры с актуальными акциями и распродажами, чтобы увеличить конверсию</td>\n",
       "    </tr>\n",
       "    <tr>\n",
       "      <th>2</th>\n",
       "      <td>7.0</td>\n",
       "      <td>Добавить блоки рекомендаций товаров на сайт интернет магазина, чтобы повысить конверсию и средний чек заказа</td>\n",
       "    </tr>\n",
       "    <tr>\n",
       "      <th>1</th>\n",
       "      <td>2.0</td>\n",
       "      <td>Запустить собственную службу доставки, что сократит срок доставки заказов</td>\n",
       "    </tr>\n",
       "    <tr>\n",
       "      <th>5</th>\n",
       "      <td>1.3</td>\n",
       "      <td>Добавить страницу отзывов клиентов о магазине, что позволит увеличить количество заказов</td>\n",
       "    </tr>\n",
       "    <tr>\n",
       "      <th>3</th>\n",
       "      <td>1.1</td>\n",
       "      <td>Изменить структура категорий, что увеличит конверсию, т.к. пользователи быстрее найдут нужный товар</td>\n",
       "    </tr>\n",
       "    <tr>\n",
       "      <th>4</th>\n",
       "      <td>1.0</td>\n",
       "      <td>Изменить цвет фона главной страницы, чтобы увеличить вовлеченность пользователей</td>\n",
       "    </tr>\n",
       "  </tbody>\n",
       "</table>\n",
       "</div>"
      ],
      "text/plain": [
       "    ICE  \\\n",
       "8  16.2   \n",
       "0  13.3   \n",
       "7  11.2   \n",
       "6   8.0   \n",
       "2   7.0   \n",
       "1   2.0   \n",
       "5   1.3   \n",
       "3   1.1   \n",
       "4   1.0   \n",
       "\n",
       "                                                                                                     hypothesis  \n",
       "8                                                       Запустить акцию, дающую скидку на товар в день рождения  \n",
       "0            Добавить два новых канала привлечения трафика, что позволит привлекать на 30% больше пользователей  \n",
       "7              Добавить форму подписки на все основные страницы, чтобы собрать базу клиентов для email-рассылок  \n",
       "6          Показать на главной странице баннеры с актуальными акциями и распродажами, чтобы увеличить конверсию  \n",
       "2  Добавить блоки рекомендаций товаров на сайт интернет магазина, чтобы повысить конверсию и средний чек заказа  \n",
       "1                                     Запустить собственную службу доставки, что сократит срок доставки заказов  \n",
       "5                      Добавить страницу отзывов клиентов о магазине, что позволит увеличить количество заказов  \n",
       "3           Изменить структура категорий, что увеличит конверсию, т.к. пользователи быстрее найдут нужный товар  \n",
       "4                              Изменить цвет фона главной страницы, чтобы увеличить вовлеченность пользователей  "
      ]
     },
     "execution_count": 14,
     "metadata": {},
     "output_type": "execute_result"
    }
   ],
   "source": [
    "pd.set_option('display.max_colwidth', 500)\n",
    "hypothesis[['ICE', 'hypothesis']].sort_values(by='ICE', ascending=False)"
   ]
  },
  {
   "cell_type": "code",
   "execution_count": 15,
   "metadata": {},
   "outputs": [
    {
     "data": {
      "text/html": [
       "<div>\n",
       "<style scoped>\n",
       "    .dataframe tbody tr th:only-of-type {\n",
       "        vertical-align: middle;\n",
       "    }\n",
       "\n",
       "    .dataframe tbody tr th {\n",
       "        vertical-align: top;\n",
       "    }\n",
       "\n",
       "    .dataframe thead th {\n",
       "        text-align: right;\n",
       "    }\n",
       "</style>\n",
       "<table border=\"1\" class=\"dataframe\">\n",
       "  <thead>\n",
       "    <tr style=\"text-align: right;\">\n",
       "      <th></th>\n",
       "      <th>RICE</th>\n",
       "      <th>hypothesis</th>\n",
       "      <th>reach</th>\n",
       "    </tr>\n",
       "  </thead>\n",
       "  <tbody>\n",
       "    <tr>\n",
       "      <th>7</th>\n",
       "      <td>112.0</td>\n",
       "      <td>Добавить форму подписки на все основные страницы, чтобы собрать базу клиентов для email-рассылок</td>\n",
       "      <td>10</td>\n",
       "    </tr>\n",
       "    <tr>\n",
       "      <th>2</th>\n",
       "      <td>56.0</td>\n",
       "      <td>Добавить блоки рекомендаций товаров на сайт интернет магазина, чтобы повысить конверсию и средний чек заказа</td>\n",
       "      <td>8</td>\n",
       "    </tr>\n",
       "    <tr>\n",
       "      <th>0</th>\n",
       "      <td>40.0</td>\n",
       "      <td>Добавить два новых канала привлечения трафика, что позволит привлекать на 30% больше пользователей</td>\n",
       "      <td>3</td>\n",
       "    </tr>\n",
       "    <tr>\n",
       "      <th>6</th>\n",
       "      <td>40.0</td>\n",
       "      <td>Показать на главной странице баннеры с актуальными акциями и распродажами, чтобы увеличить конверсию</td>\n",
       "      <td>5</td>\n",
       "    </tr>\n",
       "    <tr>\n",
       "      <th>8</th>\n",
       "      <td>16.2</td>\n",
       "      <td>Запустить акцию, дающую скидку на товар в день рождения</td>\n",
       "      <td>1</td>\n",
       "    </tr>\n",
       "    <tr>\n",
       "      <th>3</th>\n",
       "      <td>9.0</td>\n",
       "      <td>Изменить структура категорий, что увеличит конверсию, т.к. пользователи быстрее найдут нужный товар</td>\n",
       "      <td>8</td>\n",
       "    </tr>\n",
       "    <tr>\n",
       "      <th>1</th>\n",
       "      <td>4.0</td>\n",
       "      <td>Запустить собственную службу доставки, что сократит срок доставки заказов</td>\n",
       "      <td>2</td>\n",
       "    </tr>\n",
       "    <tr>\n",
       "      <th>5</th>\n",
       "      <td>4.0</td>\n",
       "      <td>Добавить страницу отзывов клиентов о магазине, что позволит увеличить количество заказов</td>\n",
       "      <td>3</td>\n",
       "    </tr>\n",
       "    <tr>\n",
       "      <th>4</th>\n",
       "      <td>3.0</td>\n",
       "      <td>Изменить цвет фона главной страницы, чтобы увеличить вовлеченность пользователей</td>\n",
       "      <td>3</td>\n",
       "    </tr>\n",
       "  </tbody>\n",
       "</table>\n",
       "</div>"
      ],
      "text/plain": [
       "    RICE  \\\n",
       "7  112.0   \n",
       "2   56.0   \n",
       "0   40.0   \n",
       "6   40.0   \n",
       "8   16.2   \n",
       "3    9.0   \n",
       "1    4.0   \n",
       "5    4.0   \n",
       "4    3.0   \n",
       "\n",
       "                                                                                                     hypothesis  \\\n",
       "7              Добавить форму подписки на все основные страницы, чтобы собрать базу клиентов для email-рассылок   \n",
       "2  Добавить блоки рекомендаций товаров на сайт интернет магазина, чтобы повысить конверсию и средний чек заказа   \n",
       "0            Добавить два новых канала привлечения трафика, что позволит привлекать на 30% больше пользователей   \n",
       "6          Показать на главной странице баннеры с актуальными акциями и распродажами, чтобы увеличить конверсию   \n",
       "8                                                       Запустить акцию, дающую скидку на товар в день рождения   \n",
       "3           Изменить структура категорий, что увеличит конверсию, т.к. пользователи быстрее найдут нужный товар   \n",
       "1                                     Запустить собственную службу доставки, что сократит срок доставки заказов   \n",
       "5                      Добавить страницу отзывов клиентов о магазине, что позволит увеличить количество заказов   \n",
       "4                              Изменить цвет фона главной страницы, чтобы увеличить вовлеченность пользователей   \n",
       "\n",
       "   reach  \n",
       "7     10  \n",
       "2      8  \n",
       "0      3  \n",
       "6      5  \n",
       "8      1  \n",
       "3      8  \n",
       "1      2  \n",
       "5      3  \n",
       "4      3  "
      ]
     },
     "execution_count": 15,
     "metadata": {},
     "output_type": "execute_result"
    }
   ],
   "source": [
    "pd.set_option('display.max_colwidth', 500)\n",
    "hypothesis[['RICE', 'hypothesis', 'reach']].sort_values(by='RICE', ascending=False)"
   ]
  },
  {
   "cell_type": "markdown",
   "metadata": {},
   "source": [
    "### Вывод: \n",
    "Заметны различия при приоретизации по разным фреймворкам. Во-первых  меняется тройка лидеров : при приоретизации черз ICE это гипотезы с индексами 8, 0, 7 , а приоретизации через  RICE это 7,2,0(позиции по приоритету сохранены для обоих случаев). При этом 8-я гипотеза, которая была самой приоритетной по ICE стала занимать пятую позицию по RICE, а 2-я гипотеза, поднялась с пятой позиции на вторую. Это обусловлено учетом охвата пользователей, которых затронет изменение(т.е. параметр Reach). В связи с этим, 7-я гипотеза с третьей строчки после приоретизации по фреймворку ICE поднялась на первую по RICE т.к. параметр охвата у неё максимальный(а именно 10), в то время как у 8-я гипотеза имеет минимальный показатель охвата (а именно 1). В связи с этим, наиболее приоритетной для дальнейшего проведения тестирования можно назвать 7-ю  гипотезу и далее, 2-я и 0-я гипотезы."
   ]
  },
  {
   "cell_type": "markdown",
   "metadata": {},
   "source": [
    "###  Анализ A/B-теста"
   ]
  },
  {
   "cell_type": "markdown",
   "metadata": {},
   "source": [
    "#### График кумулятивной выручки "
   ]
  },
  {
   "cell_type": "code",
   "execution_count": 16,
   "metadata": {},
   "outputs": [
    {
     "data": {
      "text/html": [
       "<div>\n",
       "<style scoped>\n",
       "    .dataframe tbody tr th:only-of-type {\n",
       "        vertical-align: middle;\n",
       "    }\n",
       "\n",
       "    .dataframe tbody tr th {\n",
       "        vertical-align: top;\n",
       "    }\n",
       "\n",
       "    .dataframe thead th {\n",
       "        text-align: right;\n",
       "    }\n",
       "</style>\n",
       "<table border=\"1\" class=\"dataframe\">\n",
       "  <thead>\n",
       "    <tr style=\"text-align: right;\">\n",
       "      <th></th>\n",
       "      <th>transactionId</th>\n",
       "      <th>visitorId</th>\n",
       "      <th>date</th>\n",
       "      <th>revenue</th>\n",
       "      <th>group</th>\n",
       "    </tr>\n",
       "  </thead>\n",
       "  <tbody>\n",
       "    <tr>\n",
       "      <th>9</th>\n",
       "      <td>1506739906</td>\n",
       "      <td>1882260405</td>\n",
       "      <td>2019-08-15</td>\n",
       "      <td>1855</td>\n",
       "      <td>B</td>\n",
       "    </tr>\n",
       "    <tr>\n",
       "      <th>800</th>\n",
       "      <td>2017680897</td>\n",
       "      <td>399216493</td>\n",
       "      <td>2019-08-05</td>\n",
       "      <td>1640</td>\n",
       "      <td>A</td>\n",
       "    </tr>\n",
       "    <tr>\n",
       "      <th>552</th>\n",
       "      <td>151437276</td>\n",
       "      <td>3908431265</td>\n",
       "      <td>2019-08-06</td>\n",
       "      <td>1510</td>\n",
       "      <td>A</td>\n",
       "    </tr>\n",
       "  </tbody>\n",
       "</table>\n",
       "</div>"
      ],
      "text/plain": [
       "     transactionId   visitorId       date  revenue group\n",
       "9       1506739906  1882260405 2019-08-15     1855     B\n",
       "800     2017680897   399216493 2019-08-05     1640     A\n",
       "552      151437276  3908431265 2019-08-06     1510     A"
      ]
     },
     "execution_count": 16,
     "metadata": {},
     "output_type": "execute_result"
    }
   ],
   "source": [
    "orders.sample(3)# получим случайно отобранный список 3х случайных элементов таблицы orders"
   ]
  },
  {
   "cell_type": "code",
   "execution_count": 17,
   "metadata": {},
   "outputs": [
    {
     "data": {
      "text/plain": [
       "group\n",
       "A    112473\n",
       "B    147274\n",
       "Name: revenue, dtype: int64"
      ]
     },
     "execution_count": 17,
     "metadata": {},
     "output_type": "execute_result"
    }
   ],
   "source": [
    "#Рассчитаем медианную  выручку за день для каждой группы\n",
    "orders.groupby(['date','group'])['revenue'].sum().groupby('group').median()"
   ]
  },
  {
   "cell_type": "code",
   "execution_count": 18,
   "metadata": {},
   "outputs": [
    {
     "data": {
      "text/html": [
       "<div>\n",
       "<style scoped>\n",
       "    .dataframe tbody tr th:only-of-type {\n",
       "        vertical-align: middle;\n",
       "    }\n",
       "\n",
       "    .dataframe tbody tr th {\n",
       "        vertical-align: top;\n",
       "    }\n",
       "\n",
       "    .dataframe thead th {\n",
       "        text-align: right;\n",
       "    }\n",
       "</style>\n",
       "<table border=\"1\" class=\"dataframe\">\n",
       "  <thead>\n",
       "    <tr style=\"text-align: right;\">\n",
       "      <th></th>\n",
       "      <th>date</th>\n",
       "      <th>group</th>\n",
       "      <th>visitors</th>\n",
       "    </tr>\n",
       "  </thead>\n",
       "  <tbody>\n",
       "    <tr>\n",
       "      <th>8</th>\n",
       "      <td>2019-08-09</td>\n",
       "      <td>A</td>\n",
       "      <td>617</td>\n",
       "    </tr>\n",
       "    <tr>\n",
       "      <th>43</th>\n",
       "      <td>2019-08-13</td>\n",
       "      <td>B</td>\n",
       "      <td>769</td>\n",
       "    </tr>\n",
       "    <tr>\n",
       "      <th>57</th>\n",
       "      <td>2019-08-27</td>\n",
       "      <td>B</td>\n",
       "      <td>720</td>\n",
       "    </tr>\n",
       "  </tbody>\n",
       "</table>\n",
       "</div>"
      ],
      "text/plain": [
       "         date group  visitors\n",
       "8  2019-08-09     A       617\n",
       "43 2019-08-13     B       769\n",
       "57 2019-08-27     B       720"
      ]
     },
     "execution_count": 18,
     "metadata": {},
     "output_type": "execute_result"
    }
   ],
   "source": [
    "visitors.sample(3)# получим случайно отобранный список 3х случайных элементов таблицы orders"
   ]
  },
  {
   "cell_type": "code",
   "execution_count": 19,
   "metadata": {},
   "outputs": [
    {
     "data": {
      "text/html": [
       "<div>\n",
       "<style scoped>\n",
       "    .dataframe tbody tr th:only-of-type {\n",
       "        vertical-align: middle;\n",
       "    }\n",
       "\n",
       "    .dataframe tbody tr th {\n",
       "        vertical-align: top;\n",
       "    }\n",
       "\n",
       "    .dataframe thead th {\n",
       "        text-align: right;\n",
       "    }\n",
       "</style>\n",
       "<table border=\"1\" class=\"dataframe\">\n",
       "  <thead>\n",
       "    <tr style=\"text-align: right;\">\n",
       "      <th></th>\n",
       "      <th>date</th>\n",
       "      <th>group</th>\n",
       "    </tr>\n",
       "  </thead>\n",
       "  <tbody>\n",
       "    <tr>\n",
       "      <th>0</th>\n",
       "      <td>2019-08-01</td>\n",
       "      <td>A</td>\n",
       "    </tr>\n",
       "    <tr>\n",
       "      <th>1</th>\n",
       "      <td>2019-08-01</td>\n",
       "      <td>B</td>\n",
       "    </tr>\n",
       "    <tr>\n",
       "      <th>2</th>\n",
       "      <td>2019-08-02</td>\n",
       "      <td>A</td>\n",
       "    </tr>\n",
       "    <tr>\n",
       "      <th>3</th>\n",
       "      <td>2019-08-02</td>\n",
       "      <td>B</td>\n",
       "    </tr>\n",
       "    <tr>\n",
       "      <th>4</th>\n",
       "      <td>2019-08-03</td>\n",
       "      <td>A</td>\n",
       "    </tr>\n",
       "    <tr>\n",
       "      <th>...</th>\n",
       "      <td>...</td>\n",
       "      <td>...</td>\n",
       "    </tr>\n",
       "    <tr>\n",
       "      <th>57</th>\n",
       "      <td>2019-08-29</td>\n",
       "      <td>B</td>\n",
       "    </tr>\n",
       "    <tr>\n",
       "      <th>58</th>\n",
       "      <td>2019-08-30</td>\n",
       "      <td>A</td>\n",
       "    </tr>\n",
       "    <tr>\n",
       "      <th>59</th>\n",
       "      <td>2019-08-30</td>\n",
       "      <td>B</td>\n",
       "    </tr>\n",
       "    <tr>\n",
       "      <th>60</th>\n",
       "      <td>2019-08-31</td>\n",
       "      <td>A</td>\n",
       "    </tr>\n",
       "    <tr>\n",
       "      <th>61</th>\n",
       "      <td>2019-08-31</td>\n",
       "      <td>B</td>\n",
       "    </tr>\n",
       "  </tbody>\n",
       "</table>\n",
       "<p>62 rows × 2 columns</p>\n",
       "</div>"
      ],
      "text/plain": [
       "         date group\n",
       "0  2019-08-01     A\n",
       "1  2019-08-01     B\n",
       "2  2019-08-02     A\n",
       "3  2019-08-02     B\n",
       "4  2019-08-03     A\n",
       "..        ...   ...\n",
       "57 2019-08-29     B\n",
       "58 2019-08-30     A\n",
       "59 2019-08-30     B\n",
       "60 2019-08-31     A\n",
       "61 2019-08-31     B\n",
       "\n",
       "[62 rows x 2 columns]"
      ]
     },
     "execution_count": 19,
     "metadata": {},
     "output_type": "execute_result"
    }
   ],
   "source": [
    "#Сравним, одинаковы ли реперные даты и группы в таблице vistors для дальнейшего объединения с таблицей orders\n",
    "orders[['date','group']].drop_duplicates().sort_values(by=['date','group']).reset_index(drop=True)"
   ]
  },
  {
   "cell_type": "code",
   "execution_count": 20,
   "metadata": {},
   "outputs": [
    {
     "data": {
      "text/html": [
       "<div>\n",
       "<style scoped>\n",
       "    .dataframe tbody tr th:only-of-type {\n",
       "        vertical-align: middle;\n",
       "    }\n",
       "\n",
       "    .dataframe tbody tr th {\n",
       "        vertical-align: top;\n",
       "    }\n",
       "\n",
       "    .dataframe thead th {\n",
       "        text-align: right;\n",
       "    }\n",
       "</style>\n",
       "<table border=\"1\" class=\"dataframe\">\n",
       "  <thead>\n",
       "    <tr style=\"text-align: right;\">\n",
       "      <th></th>\n",
       "      <th>date</th>\n",
       "      <th>group</th>\n",
       "    </tr>\n",
       "  </thead>\n",
       "  <tbody>\n",
       "    <tr>\n",
       "      <th>0</th>\n",
       "      <td>True</td>\n",
       "      <td>True</td>\n",
       "    </tr>\n",
       "    <tr>\n",
       "      <th>1</th>\n",
       "      <td>True</td>\n",
       "      <td>True</td>\n",
       "    </tr>\n",
       "    <tr>\n",
       "      <th>2</th>\n",
       "      <td>True</td>\n",
       "      <td>True</td>\n",
       "    </tr>\n",
       "    <tr>\n",
       "      <th>3</th>\n",
       "      <td>True</td>\n",
       "      <td>True</td>\n",
       "    </tr>\n",
       "    <tr>\n",
       "      <th>4</th>\n",
       "      <td>True</td>\n",
       "      <td>True</td>\n",
       "    </tr>\n",
       "    <tr>\n",
       "      <th>...</th>\n",
       "      <td>...</td>\n",
       "      <td>...</td>\n",
       "    </tr>\n",
       "    <tr>\n",
       "      <th>57</th>\n",
       "      <td>True</td>\n",
       "      <td>True</td>\n",
       "    </tr>\n",
       "    <tr>\n",
       "      <th>58</th>\n",
       "      <td>True</td>\n",
       "      <td>True</td>\n",
       "    </tr>\n",
       "    <tr>\n",
       "      <th>59</th>\n",
       "      <td>True</td>\n",
       "      <td>True</td>\n",
       "    </tr>\n",
       "    <tr>\n",
       "      <th>60</th>\n",
       "      <td>True</td>\n",
       "      <td>True</td>\n",
       "    </tr>\n",
       "    <tr>\n",
       "      <th>61</th>\n",
       "      <td>True</td>\n",
       "      <td>True</td>\n",
       "    </tr>\n",
       "  </tbody>\n",
       "</table>\n",
       "<p>62 rows × 2 columns</p>\n",
       "</div>"
      ],
      "text/plain": [
       "    date  group\n",
       "0   True   True\n",
       "1   True   True\n",
       "2   True   True\n",
       "3   True   True\n",
       "4   True   True\n",
       "..   ...    ...\n",
       "57  True   True\n",
       "58  True   True\n",
       "59  True   True\n",
       "60  True   True\n",
       "61  True   True\n",
       "\n",
       "[62 rows x 2 columns]"
      ]
     },
     "execution_count": 20,
     "metadata": {},
     "output_type": "execute_result"
    }
   ],
   "source": [
    "compare_dg = orders[['date','group']].drop_duplicates().sort_values(by=['date','group']).reset_index(drop=True) == \\\n",
    "                        visitors[['date','group']].drop_duplicates().sort_values(by=['date','group']).reset_index(drop=True)\n",
    "compare_dg"
   ]
  },
  {
   "cell_type": "code",
   "execution_count": 21,
   "metadata": {},
   "outputs": [
    {
     "data": {
      "text/plain": [
       "(62, 62)"
      ]
     },
     "execution_count": 21,
     "metadata": {},
     "output_type": "execute_result"
    }
   ],
   "source": [
    "compare_dg['date'].sum() , compare_dg['group'].sum()"
   ]
  },
  {
   "cell_type": "markdown",
   "metadata": {},
   "source": [
    "### Вывод:\n",
    "Данные в реперных дат для груп в таблицах visitors и orders совпадают, поэтому можно их объединять, для чего создадим таблицу cumulativeData  для рассчета выручки с накоплением.\n",
    "\n"
   ]
  },
  {
   "cell_type": "code",
   "execution_count": 22,
   "metadata": {},
   "outputs": [
    {
     "data": {
      "text/html": [
       "<div>\n",
       "<style scoped>\n",
       "    .dataframe tbody tr th:only-of-type {\n",
       "        vertical-align: middle;\n",
       "    }\n",
       "\n",
       "    .dataframe tbody tr th {\n",
       "        vertical-align: top;\n",
       "    }\n",
       "\n",
       "    .dataframe thead th {\n",
       "        text-align: right;\n",
       "    }\n",
       "</style>\n",
       "<table border=\"1\" class=\"dataframe\">\n",
       "  <thead>\n",
       "    <tr style=\"text-align: right;\">\n",
       "      <th></th>\n",
       "      <th>date</th>\n",
       "      <th>group</th>\n",
       "      <th>orders</th>\n",
       "      <th>buyers</th>\n",
       "      <th>revenue</th>\n",
       "      <th>visitors</th>\n",
       "    </tr>\n",
       "  </thead>\n",
       "  <tbody>\n",
       "    <tr>\n",
       "      <th>0</th>\n",
       "      <td>2019-08-01</td>\n",
       "      <td>A</td>\n",
       "      <td>24</td>\n",
       "      <td>20</td>\n",
       "      <td>148579</td>\n",
       "      <td>719</td>\n",
       "    </tr>\n",
       "    <tr>\n",
       "      <th>1</th>\n",
       "      <td>2019-08-01</td>\n",
       "      <td>B</td>\n",
       "      <td>21</td>\n",
       "      <td>20</td>\n",
       "      <td>101217</td>\n",
       "      <td>713</td>\n",
       "    </tr>\n",
       "    <tr>\n",
       "      <th>2</th>\n",
       "      <td>2019-08-02</td>\n",
       "      <td>A</td>\n",
       "      <td>44</td>\n",
       "      <td>38</td>\n",
       "      <td>242401</td>\n",
       "      <td>1338</td>\n",
       "    </tr>\n",
       "    <tr>\n",
       "      <th>3</th>\n",
       "      <td>2019-08-02</td>\n",
       "      <td>B</td>\n",
       "      <td>45</td>\n",
       "      <td>43</td>\n",
       "      <td>266748</td>\n",
       "      <td>1294</td>\n",
       "    </tr>\n",
       "    <tr>\n",
       "      <th>4</th>\n",
       "      <td>2019-08-03</td>\n",
       "      <td>A</td>\n",
       "      <td>68</td>\n",
       "      <td>62</td>\n",
       "      <td>354874</td>\n",
       "      <td>1845</td>\n",
       "    </tr>\n",
       "    <tr>\n",
       "      <th>5</th>\n",
       "      <td>2019-08-03</td>\n",
       "      <td>B</td>\n",
       "      <td>61</td>\n",
       "      <td>59</td>\n",
       "      <td>380996</td>\n",
       "      <td>1803</td>\n",
       "    </tr>\n",
       "    <tr>\n",
       "      <th>6</th>\n",
       "      <td>2019-08-04</td>\n",
       "      <td>A</td>\n",
       "      <td>84</td>\n",
       "      <td>77</td>\n",
       "      <td>425699</td>\n",
       "      <td>2562</td>\n",
       "    </tr>\n",
       "    <tr>\n",
       "      <th>7</th>\n",
       "      <td>2019-08-04</td>\n",
       "      <td>B</td>\n",
       "      <td>78</td>\n",
       "      <td>75</td>\n",
       "      <td>489567</td>\n",
       "      <td>2573</td>\n",
       "    </tr>\n",
       "    <tr>\n",
       "      <th>8</th>\n",
       "      <td>2019-08-05</td>\n",
       "      <td>A</td>\n",
       "      <td>109</td>\n",
       "      <td>100</td>\n",
       "      <td>549917</td>\n",
       "      <td>3318</td>\n",
       "    </tr>\n",
       "    <tr>\n",
       "      <th>9</th>\n",
       "      <td>2019-08-05</td>\n",
       "      <td>B</td>\n",
       "      <td>101</td>\n",
       "      <td>98</td>\n",
       "      <td>581995</td>\n",
       "      <td>3280</td>\n",
       "    </tr>\n",
       "  </tbody>\n",
       "</table>\n",
       "</div>"
      ],
      "text/plain": [
       "        date group  orders  buyers  revenue  visitors\n",
       "0 2019-08-01     A      24      20   148579       719\n",
       "1 2019-08-01     B      21      20   101217       713\n",
       "2 2019-08-02     A      44      38   242401      1338\n",
       "3 2019-08-02     B      45      43   266748      1294\n",
       "4 2019-08-03     A      68      62   354874      1845\n",
       "5 2019-08-03     B      61      59   380996      1803\n",
       "6 2019-08-04     A      84      77   425699      2562\n",
       "7 2019-08-04     B      78      75   489567      2573\n",
       "8 2019-08-05     A     109     100   549917      3318\n",
       "9 2019-08-05     B     101      98   581995      3280"
      ]
     },
     "execution_count": 22,
     "metadata": {},
     "output_type": "execute_result"
    }
   ],
   "source": [
    "datesGroups = orders[['date','group']].drop_duplicates()\n",
    "\n",
    "ordersAggregated = datesGroups.apply(lambda x: orders[np.logical_and(orders['date'] <= x['date'], orders['group'] == x['group'])]. \\\n",
    "                                     agg({'date' : 'max', \n",
    "                                          'group' : 'max', \n",
    "                                          'transactionId' : pd.Series.nunique, \n",
    "                                          'visitorId' : pd.Series.nunique, \n",
    "                                          'revenue' : 'sum'}), axis=1).sort_values(by=['date','group'])\n",
    "\n",
    "visitorsAggregated = datesGroups.apply(lambda x: visitors[np.logical_and(visitors['date'] <= x['date'], visitors['group'] == x['group'])]. \\\n",
    "                                       agg({'date' : 'max', \n",
    "                                            'group' : 'max', \n",
    "                                            'visitors' : 'sum'}), axis=1).sort_values(by=['date','group'])\n",
    "\n",
    "cumulativeData = ordersAggregated.merge(visitorsAggregated, left_on=['date', 'group'], right_on=['date', 'group'])\n",
    "cumulativeData.columns = ['date', 'group', 'orders', 'buyers', 'revenue', 'visitors']\n",
    "\n",
    "cumulativeData.head(10)"
   ]
  },
  {
   "cell_type": "code",
   "execution_count": 23,
   "metadata": {},
   "outputs": [
    {
     "data": {
      "image/png": "[encoded data removed]",
      "text/plain": [
       "<Figure size 1440x648 with 1 Axes>"
      ]
     },
     "metadata": {
      "needs_background": "light"
     },
     "output_type": "display_data"
    }
   ],
   "source": [
    "#Тепрерь построим графики куммулятивной(с накоплением) выручки для обеих групп\n",
    "cumulativeRevenueA = cumulativeData[cumulativeData['group']=='A'][['date','revenue', 'orders']]\n",
    "cumulativeRevenueB = cumulativeData[cumulativeData['group']=='B'][['date','revenue', 'orders']]\n",
    "\n",
    "from pandas.plotting import register_matplotlib_converters\n",
    "register_matplotlib_converters()\n",
    "plt.figure(figsize=(20,9))\n",
    "plt.title('Соотношение куммулятивной выручки групп А и В', fontsize = 20)\n",
    "plt.xlabel('дата')\n",
    "plt.ylabel('выручка')\n",
    "# Строим график выручки группы А\n",
    "plt.plot(cumulativeRevenueA['date'], cumulativeRevenueA['revenue'], label='Куммулятивная выручка группы A')\n",
    "# Строим график выручки группы B\n",
    "plt.plot(cumulativeRevenueB['date'], cumulativeRevenueB['revenue'], label='Куммулятивная выручка группы B')\n",
    "plt.tick_params(axis = 'both',    #  Применяем параметры к обеим осям\n",
    "               which = 'major',    #  Применяем параметры к основным делениям\n",
    "               direction = 'inout',    #  Рисуем деления внутри и снаружи графика\n",
    "               length = 10,    #  Длинна делений\n",
    "               width = 4,     #  Ширина делений\n",
    "               color = 'black',    #  Цвет делений\n",
    "               pad = 10,    #  Расстояние между черточкой и ее подписью\n",
    "               labelsize = 14,    #  Размер подписи\n",
    "               labelcolor = 'blue',    #  Цвет подписи\n",
    "            rotation= 50 )    #  Поворот подписей\n",
    "plt.grid()\n",
    "plt.legend()\n",
    "plt.show()"
   ]
  },
  {
   "cell_type": "markdown",
   "metadata": {},
   "source": [
    "### Вывод:\n",
    "В первой половине месяца видно, что выручка в группе 'B' растёт чуть быстрее, чем в 'A'.  5 и 13 августа выручка в обеих группах практически идентична, но далее наблюдается четкая дивергенция( а примерно с 18  по 19 августа происходит резкий подъем выручки в группе 'B' , после чего выручка в группе 'B' расчстет с заметным отрвывом в большую сторону, чем в группе 'A' что возможно связано с единовременными заказами или одним крупным заказом в указанный период, что и создало дивергенцию в изначально соразмерном росте выручки в обеих группах.\n"
   ]
  },
  {
   "cell_type": "code",
   "execution_count": 24,
   "metadata": {},
   "outputs": [
    {
     "data": {
      "text/html": [
       "<div>\n",
       "<style scoped>\n",
       "    .dataframe tbody tr th:only-of-type {\n",
       "        vertical-align: middle;\n",
       "    }\n",
       "\n",
       "    .dataframe tbody tr th {\n",
       "        vertical-align: top;\n",
       "    }\n",
       "\n",
       "    .dataframe thead th {\n",
       "        text-align: right;\n",
       "    }\n",
       "</style>\n",
       "<table border=\"1\" class=\"dataframe\">\n",
       "  <thead>\n",
       "    <tr style=\"text-align: right;\">\n",
       "      <th></th>\n",
       "      <th>date</th>\n",
       "      <th>revenue</th>\n",
       "      <th>orders</th>\n",
       "    </tr>\n",
       "  </thead>\n",
       "  <tbody>\n",
       "    <tr>\n",
       "      <th>33</th>\n",
       "      <td>2019-08-17</td>\n",
       "      <td>2620790</td>\n",
       "      <td>373</td>\n",
       "    </tr>\n",
       "    <tr>\n",
       "      <th>35</th>\n",
       "      <td>2019-08-18</td>\n",
       "      <td>2686621</td>\n",
       "      <td>382</td>\n",
       "    </tr>\n",
       "    <tr>\n",
       "      <th>37</th>\n",
       "      <td>2019-08-19</td>\n",
       "      <td>4116541</td>\n",
       "      <td>403</td>\n",
       "    </tr>\n",
       "    <tr>\n",
       "      <th>39</th>\n",
       "      <td>2019-08-20</td>\n",
       "      <td>4263815</td>\n",
       "      <td>423</td>\n",
       "    </tr>\n",
       "    <tr>\n",
       "      <th>41</th>\n",
       "      <td>2019-08-21</td>\n",
       "      <td>4426892</td>\n",
       "      <td>437</td>\n",
       "    </tr>\n",
       "  </tbody>\n",
       "</table>\n",
       "</div>"
      ],
      "text/plain": [
       "         date  revenue  orders\n",
       "33 2019-08-17  2620790     373\n",
       "35 2019-08-18  2686621     382\n",
       "37 2019-08-19  4116541     403\n",
       "39 2019-08-20  4263815     423\n",
       "41 2019-08-21  4426892     437"
      ]
     },
     "execution_count": 24,
     "metadata": {},
     "output_type": "execute_result"
    }
   ],
   "source": [
    "#Посмотрим сколько заказов было в переиод с 17 по 21 августа, в который попадает всплеск кумулятивной выручки\n",
    "cumulativeRevenueB.query(' \"2019-08-17\" <= date <= \"2019-08-21\" ')"
   ]
  },
  {
   "cell_type": "code",
   "execution_count": 25,
   "metadata": {},
   "outputs": [
    {
     "name": "stdout",
     "output_type": "stream",
     "text": [
      "Медианное значение  заказа 19 августа = 2630.0\n"
     ]
    },
    {
     "data": {
      "text/html": [
       "<div>\n",
       "<style scoped>\n",
       "    .dataframe tbody tr th:only-of-type {\n",
       "        vertical-align: middle;\n",
       "    }\n",
       "\n",
       "    .dataframe tbody tr th {\n",
       "        vertical-align: top;\n",
       "    }\n",
       "\n",
       "    .dataframe thead th {\n",
       "        text-align: right;\n",
       "    }\n",
       "</style>\n",
       "<table border=\"1\" class=\"dataframe\">\n",
       "  <thead>\n",
       "    <tr style=\"text-align: right;\">\n",
       "      <th></th>\n",
       "      <th>transactionId</th>\n",
       "      <th>visitorId</th>\n",
       "      <th>date</th>\n",
       "      <th>revenue</th>\n",
       "      <th>group</th>\n",
       "    </tr>\n",
       "  </thead>\n",
       "  <tbody>\n",
       "    <tr>\n",
       "      <th>425</th>\n",
       "      <td>590470918</td>\n",
       "      <td>1920142716</td>\n",
       "      <td>2019-08-19</td>\n",
       "      <td>1294500</td>\n",
       "      <td>B</td>\n",
       "    </tr>\n",
       "    <tr>\n",
       "      <th>530</th>\n",
       "      <td>3970235543</td>\n",
       "      <td>2912540959</td>\n",
       "      <td>2019-08-19</td>\n",
       "      <td>43990</td>\n",
       "      <td>A</td>\n",
       "    </tr>\n",
       "    <tr>\n",
       "      <th>527</th>\n",
       "      <td>1570513684</td>\n",
       "      <td>2837914161</td>\n",
       "      <td>2019-08-19</td>\n",
       "      <td>33405</td>\n",
       "      <td>B</td>\n",
       "    </tr>\n",
       "    <tr>\n",
       "      <th>421</th>\n",
       "      <td>3765974140</td>\n",
       "      <td>1357170471</td>\n",
       "      <td>2019-08-19</td>\n",
       "      <td>31680</td>\n",
       "      <td>A</td>\n",
       "    </tr>\n",
       "    <tr>\n",
       "      <th>461</th>\n",
       "      <td>2683113224</td>\n",
       "      <td>154576532</td>\n",
       "      <td>2019-08-19</td>\n",
       "      <td>26550</td>\n",
       "      <td>B</td>\n",
       "    </tr>\n",
       "    <tr>\n",
       "      <th>525</th>\n",
       "      <td>3031564664</td>\n",
       "      <td>393266494</td>\n",
       "      <td>2019-08-19</td>\n",
       "      <td>21550</td>\n",
       "      <td>A</td>\n",
       "    </tr>\n",
       "    <tr>\n",
       "      <th>368</th>\n",
       "      <td>3268879337</td>\n",
       "      <td>2536252163</td>\n",
       "      <td>2019-08-19</td>\n",
       "      <td>20026</td>\n",
       "      <td>B</td>\n",
       "    </tr>\n",
       "    <tr>\n",
       "      <th>366</th>\n",
       "      <td>2037051350</td>\n",
       "      <td>1957949546</td>\n",
       "      <td>2019-08-19</td>\n",
       "      <td>16770</td>\n",
       "      <td>A</td>\n",
       "    </tr>\n",
       "    <tr>\n",
       "      <th>463</th>\n",
       "      <td>4170537404</td>\n",
       "      <td>290022471</td>\n",
       "      <td>2019-08-19</td>\n",
       "      <td>16480</td>\n",
       "      <td>B</td>\n",
       "    </tr>\n",
       "    <tr>\n",
       "      <th>531</th>\n",
       "      <td>4016435970</td>\n",
       "      <td>4017075195</td>\n",
       "      <td>2019-08-19</td>\n",
       "      <td>13390</td>\n",
       "      <td>A</td>\n",
       "    </tr>\n",
       "  </tbody>\n",
       "</table>\n",
       "</div>"
      ],
      "text/plain": [
       "     transactionId   visitorId       date  revenue group\n",
       "425      590470918  1920142716 2019-08-19  1294500     B\n",
       "530     3970235543  2912540959 2019-08-19    43990     A\n",
       "527     1570513684  2837914161 2019-08-19    33405     B\n",
       "421     3765974140  1357170471 2019-08-19    31680     A\n",
       "461     2683113224   154576532 2019-08-19    26550     B\n",
       "525     3031564664   393266494 2019-08-19    21550     A\n",
       "368     3268879337  2536252163 2019-08-19    20026     B\n",
       "366     2037051350  1957949546 2019-08-19    16770     A\n",
       "463     4170537404   290022471 2019-08-19    16480     B\n",
       "531     4016435970  4017075195 2019-08-19    13390     A"
      ]
     },
     "execution_count": 25,
     "metadata": {},
     "output_type": "execute_result"
    }
   ],
   "source": [
    "#Изучим отдельно самые крупные заказы  19 августа и сопоставим с медианным значением\n",
    "print('Медианное значение  заказа 19 августа =',orders.query(' date == \"2019-08-19\" ')['revenue'].median())\n",
    "orders.query(' date == \"2019-08-19\" ').sort_values(by='revenue', ascending=False).head(10)\n"
   ]
  },
  {
   "cell_type": "markdown",
   "metadata": {},
   "source": [
    "### Вывод:\n",
    "Резкий прирост кумулятивной выручки в группе 'B' объясняется наличием заказа № 425, на который приходится 1.294500 млн в группе 'B', что в 492 раза выше медианного значения в 2630 рублей и составляет 31 % от дневной выручки 19 августа (1294500 /4116541). 'Этот единичный крупный заказ можно отнести к выбросам. \t\n",
    "\n",
    "\n"
   ]
  },
  {
   "cell_type": "markdown",
   "metadata": {},
   "source": [
    "####  График кумулятивного среднего чека"
   ]
  },
  {
   "cell_type": "code",
   "execution_count": 26,
   "metadata": {},
   "outputs": [
    {
     "data": {
      "image/png": "[encoded data removed]",
      "text/plain": [
       "<Figure size 1080x360 with 1 Axes>"
      ]
     },
     "metadata": {
      "needs_background": "light"
     },
     "output_type": "display_data"
    }
   ],
   "source": [
    "#Построим графики среднего кумулятивного чека для групп 'A' и 'B', для этого разделим кумулятивную выручку на кумулятивное число заказов:\n",
    "plt.figure(figsize=(15,5))\n",
    "plt.title('Средний кумулятивный чек для групп А и В', fontsize = 15)\n",
    "plt.xlabel('дата')\n",
    "plt.ylabel('размер чека')\n",
    "plt.grid()\n",
    "plt.plot(cumulativeRevenueA['date'], cumulativeRevenueA['revenue']/cumulativeRevenueA['orders'], label='Средний кумулятивный чек группы A')\n",
    "plt.plot(cumulativeRevenueB['date'], cumulativeRevenueB['revenue']/cumulativeRevenueB['orders'], label='Средний кумулятивный чек группы B')\n",
    "plt.legend();\n",
    "\n",
    "\n",
    "\n"
   ]
  },
  {
   "cell_type": "markdown",
   "metadata": {},
   "source": [
    "### Вывод:\n",
    "Графики среднего кумулятивного чека весьма схожи с графиками кумулятивной выручки, но  различаются отдельные точечные события: 13 августа средний чек был выше в группе 'A' (в этот день кумулятивная выручка обеих групп была практически в паритете), но далее такж идут расхождения. Средний чек в группе 'B' за счет заказа №425 идет вверх 19 августа, но уже потом наблюдается нисходящий тренд, в то время как в группе 'A' наблюдается пусть и слабое, но восходящее движение, что отличает данные графики от графиков кумулятивной выручки. "
   ]
  },
  {
   "cell_type": "markdown",
   "metadata": {},
   "source": [
    "#### График относительного изменения кумулятивного среднего чека "
   ]
  },
  {
   "cell_type": "code",
   "execution_count": 27,
   "metadata": {},
   "outputs": [
    {
     "data": {
      "image/png": "[encoded data removed]",
      "text/plain": [
       "<Figure size 1080x360 with 1 Axes>"
      ]
     },
     "metadata": {
      "needs_background": "light"
     },
     "output_type": "display_data"
    }
   ],
   "source": [
    "#Объединим данный в один датафрейм,\n",
    "#чтобы построить график относительного изменения кумулятивного среднего чека группы 'B' к группе 'A'.\n",
    "mergedCumulativeRevenue = cumulativeRevenueA.merge(cumulativeRevenueB, left_on='date', right_on='date', how='left', suffixes=['A', 'B'])\n",
    "\n",
    "plt.figure(figsize=(15,5))\n",
    "plt.grid()\n",
    "plt.plot(mergedCumulativeRevenue['date'], (mergedCumulativeRevenue['revenueB']/mergedCumulativeRevenue['ordersB'])/ \\\n",
    "         (mergedCumulativeRevenue['revenueA']/mergedCumulativeRevenue['ordersA'])-1)\n",
    "plt.title('Относительное изменение кумулятивного среднего чека групп \"B\" к \"А\"')\n",
    "plt.xlabel('дата')\n",
    "plt.ylabel('соотношение процентной динамики среднего куммулятивного чека групп B к А в %')\n",
    "plt.axhline(y=0, color='black', linestyle='--') ;"
   ]
  },
  {
   "cell_type": "markdown",
   "metadata": {},
   "source": [
    "### Вывод: \n",
    "Анализируя построенный график, можно говорить, что средний чек 'B' к 'A' перешел паритет еще до середины периода с 1 по 2 августа, а рост, с локальными просадками(5 августа) наблюдаелся вплоть до 7 августа, после чего наблюдается падения вплоть до 13 августа, с пробитием вниз линии паритета в районе 12 августа. Но уже после 13 августа начинается новое восходящее движение до итоговой точки вплоть до 19 августа, где  кумулятивный средний чек 'B' к 'A' превышал 50 % на что безусловно повлиял аномальный заказ №425."
   ]
  },
  {
   "cell_type": "markdown",
   "metadata": {},
   "source": [
    "#### График кумулятивной конверсии "
   ]
  },
  {
   "cell_type": "code",
   "execution_count": 28,
   "metadata": {},
   "outputs": [
    {
     "data": {
      "image/png": "[encoded data removed]",
      "text/plain": [
       "<Figure size 1080x360 with 1 Axes>"
      ]
     },
     "metadata": {
      "needs_background": "light"
     },
     "output_type": "display_data"
    }
   ],
   "source": [
    "#Аналогично проанализируем график кумулятивной конверсии:\n",
    "cumulativeData['conversion'] = cumulativeData['orders']/cumulativeData['visitors']\n",
    "\n",
    "cumulativeDataA = cumulativeData[cumulativeData['group']=='A']\n",
    "cumulativeDataB = cumulativeData[cumulativeData['group']=='B']\n",
    "\n",
    "plt.figure(figsize=(15,5))\n",
    "plt.grid()\n",
    "plt.plot(cumulativeDataA['date'], cumulativeDataA['conversion'], label='кумулятивная конверсия A')\n",
    "plt.plot(cumulativeDataB['date'], cumulativeDataB['conversion'], label='кумулятивная конверсия B')\n",
    "plt.title('Кумулятивная конверсия',fontsize = 15)\n",
    "plt.xlabel('дата')\n",
    "plt.ylabel('среднее число заказов')\n",
    "plt.legend();\n",
    "# plt.axis([\"2019-08-01\", '2019-08-31', 0.028, 0.038]);"
   ]
  },
  {
   "cell_type": "markdown",
   "metadata": {},
   "source": [
    "### Вывод:\n",
    "В начале месяца конверсия конверсия 'A' была больше, но уже 3 августа, достигнув максимуа за весь рассматриваемый период она начинает снижение, и начиная с 8 августа до конца периода двигается в корридоре 0,029-0,031. В это же врем,  конверсия группы 'B' совершив движение вверх, к  4 августа достигла локального минимума и далее пошла в рост, превысив конверсию группы 'A' к 6 августа  и выйдя на пик 9 августа(выше 0,036 ) продолжила движение в корридоре  0,033- 0,034 (с локальными подьемами почти выше 0,035 с 14 по 17 августа) до конца рассматриваемого периода. Таким образом, можно констратировать, что конверсия 'B' превысила 'A' 6 августа и большую часть месяца была выше. "
   ]
  },
  {
   "cell_type": "markdown",
   "metadata": {},
   "source": [
    "####  График относительного изменения кумулятивной конверсии\n"
   ]
  },
  {
   "cell_type": "code",
   "execution_count": 29,
   "metadata": {},
   "outputs": [
    {
     "data": {
      "image/png": "[encoded data removed]",
      "text/plain": [
       "<Figure size 1080x360 with 1 Axes>"
      ]
     },
     "metadata": {
      "needs_background": "light"
     },
     "output_type": "display_data"
    }
   ],
   "source": [
    "#Построим график относительного изменения кумулятивной конверсии группы 'B' к группе 'A'. \n",
    "mergedCumulativeConversions = cumulativeDataA[['date','conversion']].merge(cumulativeDataB[['date','conversion']], \\\n",
    "                                                    left_on='date', right_on='date', how='left', suffixes=['A', 'B'])\n",
    "plt.figure(figsize=(15,5))\n",
    "plt.grid()\n",
    "plt.plot(mergedCumulativeConversions['date'], mergedCumulativeConversions['conversionB']/mergedCumulativeConversions['conversionA']-1, label=\"Относительный прирост конверсии группы B относительно группы A\")\n",
    "\n",
    "plt.title('Относительное изменение кумулятивной конверсии группы B к группе A',fontsize = 15)\n",
    "plt.xlabel('дата')\n",
    "plt.ylabel('соотношение процентной динамики  куммулятивной конверсии групп B к А в %')\n",
    "\n",
    "plt.axhline(y=0, color='red', linestyle='--') \n",
    "plt.axhline(y=0.1, color='yellow', linestyle='--')\n",
    "plt.axhline(y=0.21, color='green', linestyle='--')\n",
    "plt.axhline(y=0.057, color='orange', linestyle='--');\n",
    " \n",
    "    \n",
    "    "
   ]
  },
  {
   "cell_type": "markdown",
   "metadata": {},
   "source": [
    "### Вывод:\n",
    "График весьма схож  сграфиком кумулятивной конверсии группы 'B'. С 1 авгста по 6 - несколько дней когда конверсия в 'A' была больше на 5%( кроме 2 августа), а после 6 августа наблюдается  рост конверсии в группе 'B' до 10%  7 августа и до 15 % 9 августа. Стоит отметить что 2 августа рост кумулятивной коверсии отмечен в обоих группах(согласно графику 3.4), что может иметь под собой стимуляцию потребительского спроса. С 6 августа превышение конверсии 'B' над 'A' наюблюдается до конца рассматриваемого периода, двигаеясь в корридоре 10-15 %, с локальными пиками 14-17 августа до уровня выше 20%. \n",
    "\n"
   ]
  },
  {
   "cell_type": "markdown",
   "metadata": {},
   "source": [
    "#### График количества заказов по пользователям "
   ]
  },
  {
   "cell_type": "code",
   "execution_count": 30,
   "metadata": {},
   "outputs": [],
   "source": [
    "#Построим точечный график количества заказов по пользователям."
   ]
  },
  {
   "cell_type": "code",
   "execution_count": 31,
   "metadata": {},
   "outputs": [
    {
     "data": {
      "text/html": [
       "<div>\n",
       "<style scoped>\n",
       "    .dataframe tbody tr th:only-of-type {\n",
       "        vertical-align: middle;\n",
       "    }\n",
       "\n",
       "    .dataframe tbody tr th {\n",
       "        vertical-align: top;\n",
       "    }\n",
       "\n",
       "    .dataframe thead th {\n",
       "        text-align: right;\n",
       "    }\n",
       "</style>\n",
       "<table border=\"1\" class=\"dataframe\">\n",
       "  <thead>\n",
       "    <tr style=\"text-align: right;\">\n",
       "      <th></th>\n",
       "      <th>transactionId</th>\n",
       "      <th>visitorId</th>\n",
       "      <th>date</th>\n",
       "      <th>revenue</th>\n",
       "      <th>group</th>\n",
       "    </tr>\n",
       "  </thead>\n",
       "  <tbody>\n",
       "    <tr>\n",
       "      <th>1160</th>\n",
       "      <td>290089453</td>\n",
       "      <td>1571986409</td>\n",
       "      <td>2019-08-14</td>\n",
       "      <td>3480</td>\n",
       "      <td>B</td>\n",
       "    </tr>\n",
       "    <tr>\n",
       "      <th>165</th>\n",
       "      <td>565328425</td>\n",
       "      <td>309675944</td>\n",
       "      <td>2019-08-17</td>\n",
       "      <td>6990</td>\n",
       "      <td>B</td>\n",
       "    </tr>\n",
       "    <tr>\n",
       "      <th>765</th>\n",
       "      <td>1457259561</td>\n",
       "      <td>2421265884</td>\n",
       "      <td>2019-08-07</td>\n",
       "      <td>990</td>\n",
       "      <td>B</td>\n",
       "    </tr>\n",
       "  </tbody>\n",
       "</table>\n",
       "</div>"
      ],
      "text/plain": [
       "      transactionId   visitorId       date  revenue group\n",
       "1160      290089453  1571986409 2019-08-14     3480     B\n",
       "165       565328425   309675944 2019-08-17     6990     B\n",
       "765      1457259561  2421265884 2019-08-07      990     B"
      ]
     },
     "execution_count": 31,
     "metadata": {},
     "output_type": "execute_result"
    }
   ],
   "source": [
    "orders.sample(3)"
   ]
  },
  {
   "cell_type": "code",
   "execution_count": 32,
   "metadata": {},
   "outputs": [
    {
     "data": {
      "text/html": [
       "<div>\n",
       "<style scoped>\n",
       "    .dataframe tbody tr th:only-of-type {\n",
       "        vertical-align: middle;\n",
       "    }\n",
       "\n",
       "    .dataframe tbody tr th {\n",
       "        vertical-align: top;\n",
       "    }\n",
       "\n",
       "    .dataframe thead th {\n",
       "        text-align: right;\n",
       "    }\n",
       "</style>\n",
       "<table border=\"1\" class=\"dataframe\">\n",
       "  <thead>\n",
       "    <tr style=\"text-align: right;\">\n",
       "      <th></th>\n",
       "      <th>user_id</th>\n",
       "      <th>orders</th>\n",
       "    </tr>\n",
       "  </thead>\n",
       "  <tbody>\n",
       "    <tr>\n",
       "      <th>1023</th>\n",
       "      <td>4256040402</td>\n",
       "      <td>11</td>\n",
       "    </tr>\n",
       "    <tr>\n",
       "      <th>591</th>\n",
       "      <td>2458001652</td>\n",
       "      <td>11</td>\n",
       "    </tr>\n",
       "    <tr>\n",
       "      <th>569</th>\n",
       "      <td>2378935119</td>\n",
       "      <td>9</td>\n",
       "    </tr>\n",
       "    <tr>\n",
       "      <th>487</th>\n",
       "      <td>2038680547</td>\n",
       "      <td>8</td>\n",
       "    </tr>\n",
       "    <tr>\n",
       "      <th>44</th>\n",
       "      <td>199603092</td>\n",
       "      <td>5</td>\n",
       "    </tr>\n",
       "    <tr>\n",
       "      <th>744</th>\n",
       "      <td>3062433592</td>\n",
       "      <td>5</td>\n",
       "    </tr>\n",
       "    <tr>\n",
       "      <th>55</th>\n",
       "      <td>237748145</td>\n",
       "      <td>5</td>\n",
       "    </tr>\n",
       "    <tr>\n",
       "      <th>917</th>\n",
       "      <td>3803269165</td>\n",
       "      <td>5</td>\n",
       "    </tr>\n",
       "    <tr>\n",
       "      <th>299</th>\n",
       "      <td>1230306981</td>\n",
       "      <td>5</td>\n",
       "    </tr>\n",
       "    <tr>\n",
       "      <th>897</th>\n",
       "      <td>3717692402</td>\n",
       "      <td>5</td>\n",
       "    </tr>\n",
       "  </tbody>\n",
       "</table>\n",
       "</div>"
      ],
      "text/plain": [
       "         user_id  orders\n",
       "1023  4256040402      11\n",
       "591   2458001652      11\n",
       "569   2378935119       9\n",
       "487   2038680547       8\n",
       "44     199603092       5\n",
       "744   3062433592       5\n",
       "55     237748145       5\n",
       "917   3803269165       5\n",
       "299   1230306981       5\n",
       "897   3717692402       5"
      ]
     },
     "execution_count": 32,
     "metadata": {},
     "output_type": "execute_result"
    }
   ],
   "source": [
    "ordersByUsers = orders.drop(['group', 'revenue', 'date'], axis=1).groupby('visitorId', as_index=False). \\\n",
    "                                                                        agg({'transactionId' : pd.Series.nunique})\n",
    "\n",
    "ordersByUsers.columns = ['user_id','orders']\n",
    "\n",
    "ordersByUsers.sort_values(by='orders',ascending=False).head(10)"
   ]
  },
  {
   "cell_type": "code",
   "execution_count": 33,
   "metadata": {},
   "outputs": [
    {
     "data": {
      "image/png": "[encoded data removed]",
      "text/plain": [
       "<Figure size 1080x360 with 1 Axes>"
      ]
     },
     "metadata": {
      "needs_background": "light"
     },
     "output_type": "display_data"
    }
   ],
   "source": [
    "x_values = pd.Series(range(0,len(ordersByUsers)))\n",
    "\n",
    "plt.figure(figsize=(15,5))\n",
    "plt.grid()\n",
    "plt.title('График количества заказов по пользователям',fontsize = 15)\n",
    "plt.xlabel('число пользователей')\n",
    "plt.ylabel('количество заказов')\n",
    "plt.scatter(x_values, ordersByUsers['orders'], alpha=0.5) ;"
   ]
  },
  {
   "cell_type": "markdown",
   "metadata": {},
   "source": [
    "### Вывод:\n",
    "Болишнство пользователей которые совершили только 1 заказ, тех кто совершил   2-мя заказа заметно меньше, а пользоватлей с 3-мя заказами уже единицы(пользователей с числом заказов больше 3х еще меньше,что воможно стоит отнести к аномалиям). Поэтому необходимо посчитать процентили 95 и 99. \n"
   ]
  },
  {
   "cell_type": "markdown",
   "metadata": {},
   "source": [
    "#### Граница заказов для определения аномальных пользователей"
   ]
  },
  {
   "cell_type": "code",
   "execution_count": 34,
   "metadata": {},
   "outputs": [
    {
     "name": "stdout",
     "output_type": "stream",
     "text": [
      "Рассчитаем 95 и 99 перцентили по заказам :  [2. 4.]\n"
     ]
    }
   ],
   "source": [
    "#Посчитаем 95-й и 99-й перцентили количества заказов на пользователя. Определим границу для определения аномальных пользователей.\n",
    "print('Рассчитаем 95 и 99 перцентили по заказам : ', np.percentile(ordersByUsers['orders'], [95, 99])) "
   ]
  },
  {
   "cell_type": "code",
   "execution_count": 35,
   "metadata": {},
   "outputs": [
    {
     "name": "stdout",
     "output_type": "stream",
     "text": [
      "перцентили c 95 по 99 (по заказам) :  [2. 2. 2. 3. 4.]\n"
     ]
    }
   ],
   "source": [
    "#Далее рассчитаем все процентили с 95 по 99\n",
    "print('перцентили c 95 по 99 (по заказам) : ', np.percentile(ordersByUsers['orders'], [95,96,97,98, 99])) \n",
    "#*Теперь видно, что большинство (98%) пользователей делают 1 или 2 заказа. Всё что выше - это аномалия*"
   ]
  },
  {
   "cell_type": "markdown",
   "metadata": {},
   "source": [
    "### Вывод:\n",
    "Не более 5% пользователей оформляли больше чем 2 заказа, в связи с чем  можно выбрать уровень в 2 заказа на одного пользователя за нижнюю границу числа заказов, и отсеять аномальных пользователей по этой границе.\n"
   ]
  },
  {
   "cell_type": "markdown",
   "metadata": {},
   "source": [
    "#### График стоимостей заказов "
   ]
  },
  {
   "cell_type": "code",
   "execution_count": 36,
   "metadata": {},
   "outputs": [
    {
     "data": {
      "image/png": "[encoded data removed]",
      "text/plain": [
       "<Figure size 1080x360 with 1 Axes>"
      ]
     },
     "metadata": {
      "needs_background": "light"
     },
     "output_type": "display_data"
    }
   ],
   "source": [
    "#Построим точечный график стоимостей заказов.\n",
    "x_values = pd.Series(range(0,len(orders['revenue'])))\n",
    "plt.figure(figsize=(15,5))\n",
    "plt.grid()\n",
    "plt.title('График стоимостей заказов',fontsize = 15)\n",
    "plt.xlabel('количество заказов')\n",
    "plt.ylabel('стоимость')\n",
    "plt.scatter(x_values, orders['revenue'], alpha=0.5);"
   ]
  },
  {
   "cell_type": "code",
   "execution_count": 37,
   "metadata": {},
   "outputs": [
    {
     "data": {
      "image/png": "[encoded data removed]",
      "text/plain": [
       "<Figure size 1080x360 with 1 Axes>"
      ]
     },
     "metadata": {
      "needs_background": "light"
     },
     "output_type": "display_data"
    }
   ],
   "source": [
    "#Построим более наглядный график, для это уберем явные выбросы с 'revenue' большим 199000:\n",
    "\n",
    "norm_orders = orders[orders['revenue']<=199000]['revenue']\n",
    "xn_values = pd.Series(range(0,len(norm_orders)))\n",
    "plt.figure(figsize=(15,5))\n",
    "plt.grid()\n",
    "plt.title('График стоимостей заказов без выбросов',fontsize = 15)\n",
    "plt.xlabel('количество заказов')\n",
    "plt.ylabel('стоимость')\n",
    "plt.scatter(xn_values, norm_orders, alpha=0.5);"
   ]
  },
  {
   "cell_type": "markdown",
   "metadata": {},
   "source": [
    "### Вывод:\n",
    "Хорошо виден тот аномальный заказ №425 на 1.294 млн и еще один на сумму в примерно 200 тысяч, остальные  заказы, в целом,   укладываются в корридор примерно ве 100 тысяч. Для определение более точны границ аномалий необходимо рассчитать перцентили. \n"
   ]
  },
  {
   "cell_type": "markdown",
   "metadata": {},
   "source": [
    "#### Граница для определения аномальных заказов (по выручке) "
   ]
  },
  {
   "cell_type": "code",
   "execution_count": 38,
   "metadata": {
    "scrolled": false
   },
   "outputs": [
    {
     "name": "stdout",
     "output_type": "stream",
     "text": [
      "95 и 99 перцентили по выручке заказов соответствеено:  [28000.  58233.2]\n"
     ]
    }
   ],
   "source": [
    "#Рассчитаем 95-й и 99-й перцентили стоимости заказов. Определим границу для выделения  аномальных заказов.\n",
    "print('95 и 99 перцентили по выручке заказов соответствеено: ', np.percentile(orders['revenue'], [95, 99])) \n"
   ]
  },
  {
   "cell_type": "markdown",
   "metadata": {},
   "source": [
    "### Вывод:\n",
    "95% заказов ниже 28000, 99% заказов нижк суммы в 58233.2 , что и можно принять в качестве  границы для определения аномальных значений."
   ]
  },
  {
   "cell_type": "markdown",
   "metadata": {},
   "source": [
    "####  Различия в конверсии между группами по «сырым» данным"
   ]
  },
  {
   "cell_type": "markdown",
   "metadata": {},
   "source": [
    "Соберем все данные по заказам и визитам в одну таблицу. :\n"
   ]
  },
  {
   "cell_type": "code",
   "execution_count": 39,
   "metadata": {},
   "outputs": [],
   "source": [
    "visitorsADaily = visitors[visitors['group']=='A'][['date', 'visitors']]\n",
    "visitorsADaily.columns = ['date', 'visitorsPerDateA']\n",
    "\n",
    "visitorsACummulative = visitorsADaily.apply(lambda x: visitorsADaily[visitorsADaily['date'] <= x['date']]. \\\n",
    "                                            agg({'date' : 'max', 'visitorsPerDateA' : 'sum'}), axis=1)\n",
    "visitorsACummulative.columns = ['date', 'visitorsCummulativeA']\n",
    "\n",
    "visitorsBDaily = visitors[visitors['group']=='B'][['date', 'visitors']]\n",
    "visitorsBDaily.columns = ['date', 'visitorsPerDateB']\n",
    "\n",
    "visitorsBCummulative = visitorsBDaily.apply(lambda x: visitorsBDaily[visitorsBDaily['date'] <= x['date']]. \\\n",
    "                                            agg({'date' : 'max', 'visitorsPerDateB' : 'sum'}), axis=1)\n",
    "visitorsBCummulative.columns = ['date', 'visitorsCummulativeB']\n",
    "\n",
    "\n",
    "ordersADaily = orders[orders['group']=='A'][['date', 'transactionId', 'visitorId', 'revenue']]\\\n",
    "    .groupby('date', as_index=False)\\\n",
    "    .agg({'transactionId' : pd.Series.nunique, 'revenue' : 'sum'})\n",
    "ordersADaily.columns = ['date', 'ordersPerDateA', 'revenuePerDateA']\n",
    "\n",
    "ordersACummulative = ordersADaily.apply(\n",
    "    lambda x: \\\n",
    "        ordersADaily[ordersADaily['date'] <= x['date']]\\\n",
    "            .agg({\n",
    "                'date' : 'max',\n",
    "                'ordersPerDateA' : 'sum',\n",
    "                'revenuePerDateA' : 'sum'}), axis=1).sort_values(by=['date'])\n",
    "ordersACummulative.columns = ['date', 'ordersCummulativeA', 'revenueCummulativeA']\n",
    "\n",
    "ordersBDaily = orders[orders['group']=='B'][['date', 'transactionId', 'visitorId', 'revenue']]\\\n",
    "    .groupby('date', as_index=False)\\\n",
    "    .agg({'transactionId' : pd.Series.nunique, 'revenue' : 'sum'})\n",
    "ordersBDaily.columns = ['date', 'ordersPerDateB', 'revenuePerDateB']\n",
    "\n",
    "ordersBCummulative = ordersBDaily.apply(\n",
    "    lambda x: \\\n",
    "        ordersBDaily[ordersBDaily['date'] <= x['date']]\\\n",
    "            .agg({\n",
    "                'date' : 'max',\n",
    "                'ordersPerDateB' : 'sum',\n",
    "                'revenuePerDateB' : 'sum'}), axis=1).sort_values(by=['date'])\n",
    "ordersBCummulative.columns = ['date', 'ordersCummulativeB', 'revenueCummulativeB']"
   ]
  },
  {
   "cell_type": "code",
   "execution_count": 40,
   "metadata": {},
   "outputs": [
    {
     "data": {
      "text/html": [
       "<div>\n",
       "<style scoped>\n",
       "    .dataframe tbody tr th:only-of-type {\n",
       "        vertical-align: middle;\n",
       "    }\n",
       "\n",
       "    .dataframe tbody tr th {\n",
       "        vertical-align: top;\n",
       "    }\n",
       "\n",
       "    .dataframe thead th {\n",
       "        text-align: right;\n",
       "    }\n",
       "</style>\n",
       "<table border=\"1\" class=\"dataframe\">\n",
       "  <thead>\n",
       "    <tr style=\"text-align: right;\">\n",
       "      <th></th>\n",
       "      <th>date</th>\n",
       "      <th>ordersPerDateA</th>\n",
       "      <th>revenuePerDateA</th>\n",
       "      <th>ordersPerDateB</th>\n",
       "      <th>revenuePerDateB</th>\n",
       "      <th>ordersCummulativeA</th>\n",
       "      <th>revenueCummulativeA</th>\n",
       "      <th>ordersCummulativeB</th>\n",
       "      <th>revenueCummulativeB</th>\n",
       "      <th>visitorsPerDateA</th>\n",
       "      <th>visitorsPerDateB</th>\n",
       "      <th>visitorsCummulativeA</th>\n",
       "      <th>visitorsCummulativeB</th>\n",
       "    </tr>\n",
       "  </thead>\n",
       "  <tbody>\n",
       "    <tr>\n",
       "      <th>30</th>\n",
       "      <td>2019-08-31</td>\n",
       "      <td>12</td>\n",
       "      <td>61833</td>\n",
       "      <td>20</td>\n",
       "      <td>133129</td>\n",
       "      <td>557</td>\n",
       "      <td>4084803</td>\n",
       "      <td>640</td>\n",
       "      <td>5907760</td>\n",
       "      <td>699</td>\n",
       "      <td>718</td>\n",
       "      <td>18736</td>\n",
       "      <td>18916</td>\n",
       "    </tr>\n",
       "    <tr>\n",
       "      <th>24</th>\n",
       "      <td>2019-08-25</td>\n",
       "      <td>10</td>\n",
       "      <td>68634</td>\n",
       "      <td>14</td>\n",
       "      <td>102862</td>\n",
       "      <td>451</td>\n",
       "      <td>3070704</td>\n",
       "      <td>507</td>\n",
       "      <td>4901584</td>\n",
       "      <td>621</td>\n",
       "      <td>679</td>\n",
       "      <td>14943</td>\n",
       "      <td>15127</td>\n",
       "    </tr>\n",
       "    <tr>\n",
       "      <th>22</th>\n",
       "      <td>2019-08-23</td>\n",
       "      <td>25</td>\n",
       "      <td>117788</td>\n",
       "      <td>15</td>\n",
       "      <td>113969</td>\n",
       "      <td>426</td>\n",
       "      <td>2874367</td>\n",
       "      <td>477</td>\n",
       "      <td>4703216</td>\n",
       "      <td>468</td>\n",
       "      <td>546</td>\n",
       "      <td>13927</td>\n",
       "      <td>14070</td>\n",
       "    </tr>\n",
       "  </tbody>\n",
       "</table>\n",
       "</div>"
      ],
      "text/plain": [
       "         date  ordersPerDateA  revenuePerDateA  ordersPerDateB  \\\n",
       "30 2019-08-31              12            61833              20   \n",
       "24 2019-08-25              10            68634              14   \n",
       "22 2019-08-23              25           117788              15   \n",
       "\n",
       "    revenuePerDateB  ordersCummulativeA  revenueCummulativeA  \\\n",
       "30           133129                 557              4084803   \n",
       "24           102862                 451              3070704   \n",
       "22           113969                 426              2874367   \n",
       "\n",
       "    ordersCummulativeB  revenueCummulativeB  visitorsPerDateA  \\\n",
       "30                 640              5907760               699   \n",
       "24                 507              4901584               621   \n",
       "22                 477              4703216               468   \n",
       "\n",
       "    visitorsPerDateB  visitorsCummulativeA  visitorsCummulativeB  \n",
       "30               718                 18736                 18916  \n",
       "24               679                 14943                 15127  \n",
       "22               546                 13927                 14070  "
      ]
     },
     "execution_count": 40,
     "metadata": {},
     "output_type": "execute_result"
    }
   ],
   "source": [
    "#Теперь объединим  данные в одну таблицу:\n",
    "data = ordersADaily.merge(ordersBDaily, left_on='date', right_on='date', how='left')\\\n",
    "    .merge(ordersACummulative, left_on='date', right_on='date', how='left')\\\n",
    "    .merge(ordersBCummulative, left_on='date', right_on='date', how='left')\\\n",
    "    .merge(visitorsADaily, left_on='date', right_on='date', how='left')\\\n",
    "    .merge(visitorsBDaily, left_on='date', right_on='date', how='left')\\\n",
    "    .merge(visitorsACummulative, left_on='date', right_on='date', how='left')\\\n",
    "    .merge(visitorsBCummulative, left_on='date', right_on='date', how='left')\n",
    "data.sample(3)"
   ]
  },
  {
   "cell_type": "markdown",
   "metadata": {},
   "source": [
    "Применим критерий U-критерий Манна-Уитни и округлимм p-value, до трёх знаков после запятой. В Sample A сохраним выборку, где каждый элемент соответсвует числу заказов для каждого пользователя(даже если заказов нет). Для рассчета конверсии разделим количество заказов на число пользователей  и найдем среднее в группе Sample A через  mean(). Таким же образом   найдём конверсию группы B.\n",
    "Далее расчитаем динамику   конверсии группы 'B' относительно группы 'A'.\n",
    "Как H0( нулевую гипотезу) определим то, что что статистически значимые различия  конверсии между группами отсутствуют,а H1 будет утверждать, чтостатистически значимые различия  в конверсии между группами есть."
   ]
  },
  {
   "cell_type": "code",
   "execution_count": 41,
   "metadata": {},
   "outputs": [
    {
     "name": "stdout",
     "output_type": "stream",
     "text": [
      "alpha = 0.05\n",
      "p-value = 0.017\n",
      "Относительный показатель 'B' и 'A' = 0.138\n"
     ]
    }
   ],
   "source": [
    "ordersByUsersA = orders[orders['group']=='A'].groupby('visitorId', as_index=False).agg({'transactionId' : pd.Series.nunique})\n",
    "ordersByUsersA.columns = ['userId', 'orders']\n",
    "\n",
    "ordersByUsersB = orders[orders['group']=='B'].groupby('visitorId', as_index=False).agg({'transactionId' : pd.Series.nunique})\n",
    "ordersByUsersB.columns = ['userId', 'orders']\n",
    "\n",
    "sampleA = pd.concat([ordersByUsersA['orders'],pd.Series(0, index=np.arange(data['visitorsPerDateA'].sum() - len(ordersByUsersA['orders'])), name='orders')],axis=0)\n",
    "\n",
    "sampleB = pd.concat([ordersByUsersB['orders'],pd.Series(0, index=np.arange(data['visitorsPerDateB'].sum() - len(ordersByUsersB['orders'])), name='orders')],axis=0)\n",
    "\n",
    "print(\"alpha =\",0.05)\n",
    "print(\"p-value = {0:.3f}\".format(stats.mannwhitneyu(sampleA, sampleB, alternative = 'two-sided')[1]))\n",
    "print(\"Относительный показатель 'B' и 'A' = {0:.3f}\".format(sampleB.mean()/sampleA.mean()-1)) "
   ]
  },
  {
   "cell_type": "markdown",
   "metadata": {},
   "source": [
    "### Вывод: \n",
    "p-value = 0.017 (что уровня статистичекой значимости  альфа  0.05), а значит, мы отвергаем H0, т.к. есть статистические различия в конверсии между группами 'A' и 'B'. Превышение конверсии группы 'A' над 'B' составляет  13.8% ."
   ]
  },
  {
   "cell_type": "markdown",
   "metadata": {},
   "source": [
    "####  Статистическая значимость различий в среднем чеке заказа между группами по «сырым» данным "
   ]
  },
  {
   "cell_type": "markdown",
   "metadata": {},
   "source": [
    "Чтобы рассчитать статистическую значимость различий в среднем чеке между группами, передадим критерию mannwhitneyu() данные о выручке с заказов (пороговое значение возьмём равное 5%). И найдём относительные различия в среднем чеке между группами.\n",
    "\n",
    "За нулевую гипотезу возьмём что: \"статистически значимых различий в средних чеках между группами нет\"; тогда альтернативная гипотеза будет гласить - статистически значимые различия есть."
   ]
  },
  {
   "cell_type": "code",
   "execution_count": 42,
   "metadata": {
    "scrolled": true
   },
   "outputs": [
    {
     "name": "stdout",
     "output_type": "stream",
     "text": [
      "alpha = 0.05\n",
      "P-value: 0.729\n",
      "Относительные различия: 0.259\n"
     ]
    }
   ],
   "source": [
    "print(\"alpha =\",0.05)\n",
    "print('P-value:','{0:.3f}'.format(stats.mannwhitneyu(orders[orders['group']=='A']['revenue'], orders[orders['group']=='B']['revenue'])[1]))\n",
    "print('Относительные различия:','{0:.3f}'.format(orders[orders['group']=='B']['revenue'].mean()/orders[orders['group']=='A']['revenue'].mean()-1)) \n",
    "\n",
    "\n",
    "\n"
   ]
  },
  {
   "cell_type": "markdown",
   "metadata": {},
   "source": [
    "### Вывод: \n",
    "p-value = 0.729  что значительно больше 0.05, а значит нет причин отвергать  нулевую гипотезу о том, что статистически значимых различий в конверсии между группами есть. Это значит,что по «сырым» данным средние чеки групп 'A' и 'B' не различаются. Также отметим. что средний чек  группы 'B' над 'A' больше на 25.9% .\n"
   ]
  },
  {
   "cell_type": "markdown",
   "metadata": {},
   "source": [
    "#### Различия в конверсии между группами по «очищенным» данным "
   ]
  },
  {
   "cell_type": "markdown",
   "metadata": {},
   "source": [
    "В пункте 4.6  мы приняли за аномальных пользователей тех, кто совершил 3 и более заказа или сумма заказа пользователя превышала  58233.2. Сделаем срезы пользователей с числом заказов более 3 — usersWithManyOrders и пользователей, совершивших заказы дороже 58233.2 — usersWithExpensiveOrders. Объединим  аномальные заказы  в таблице abnormalUsers. Выясним число аномальных пользователей методом shape().\n",
    "\n"
   ]
  },
  {
   "cell_type": "code",
   "execution_count": 43,
   "metadata": {},
   "outputs": [
    {
     "name": "stdout",
     "output_type": "stream",
     "text": [
      "1099    148427295\n",
      "18      199603092\n",
      "23      237748145\n",
      "949     887908475\n",
      "744     888512513\n",
      "dtype: int64\n",
      "Число аномальных пользователей = 20\n"
     ]
    }
   ],
   "source": [
    "usersWithManyOrders = pd.concat([ordersByUsersA[ordersByUsersA['orders'] > 3]['userId'], ordersByUsersB[ordersByUsersB['orders'] > 3]['userId']], axis = 0)\n",
    "usersWithExpensiveOrders = orders[orders['revenue'] > 58233.2]['visitorId']\n",
    "abnormalUsers = pd.concat([usersWithManyOrders, usersWithExpensiveOrders], axis = 0).drop_duplicates().sort_values()\n",
    "print(abnormalUsers.head(5))\n",
    "print('Число аномальных пользователей =' ,len(abnormalUsers)) \n"
   ]
  },
  {
   "cell_type": "markdown",
   "metadata": {},
   "source": [
    "Узнаем, как их действия повлияли на результаты теста. Посчитаем статистическую значимость различий в конверсии между группами теста по очищенным данным. Сначала подготовим выборки количества заказов по пользователям по группам теста:"
   ]
  },
  {
   "cell_type": "code",
   "execution_count": 44,
   "metadata": {},
   "outputs": [],
   "source": [
    "sampleAFiltered = pd.concat([ordersByUsersA[np.logical_not(ordersByUsersA['userId'].isin(abnormalUsers))]['orders'], \\\n",
    "                             pd.Series(0, index=np.arange(data['visitorsPerDateA'].sum() - len(ordersByUsersA['orders'])), \\\n",
    "                                       name='orders')],axis=0)\n",
    "\n",
    "sampleBFiltered = pd.concat([ordersByUsersB[np.logical_not(ordersByUsersB['userId'].isin(abnormalUsers))]['orders'], \\\n",
    "                             pd.Series(0, index=np.arange(data['visitorsPerDateB'].sum() - len(ordersByUsersB['orders'])), \\\n",
    "                                       name='orders')],axis=0) \n",
    "# sampleAFiltered.value_counts() , sampleBFiltered.value_counts()"
   ]
  },
  {
   "cell_type": "markdown",
   "metadata": {},
   "source": [
    "Применим статистический критерий Манна-Уитни к полученным выборкам,\n",
    "\n",
    "За H0, нулевую гипотезу, возьмём то,  что статистически значимые различия в конверсии между группами отсутствуют,  тогда H1, альтернативная гипотеза будет гласить, что статистически значимые различия есть."
   ]
  },
  {
   "cell_type": "code",
   "execution_count": 45,
   "metadata": {},
   "outputs": [
    {
     "name": "stdout",
     "output_type": "stream",
     "text": [
      "alpha = 0.05\n",
      "p-value = 0.014\n",
      "Относительный показатель 'B' и 'A' = 0.151\n"
     ]
    }
   ],
   "source": [
    "print(\"alpha =\",0.05)\n",
    "print(\"p-value = {0:.3f}\".format(stats.mannwhitneyu(sampleAFiltered, sampleBFiltered, alternative = 'two-sided')[1]))\n",
    "print(\"Относительный показатель 'B' и 'A' = {0:.3f}\".format(sampleBFiltered.mean()/sampleAFiltered.mean()-1)) "
   ]
  },
  {
   "cell_type": "markdown",
   "metadata": {},
   "source": [
    "### Вывод: \n",
    "p-value = 0.009, что меньше 0.05. Значит, H0, о том что статистически значимые различия в конверсии между группами 'A' и 'B' отсутствует, нами отвергается. Таким образом, по данным  очищенным от аномалий,  различия в конверсии групп'A' и 'B' есть. А превышение конверсии группы 'B' над 'A' составляет 19,3% , что превышает результат по  «сырым» данными на 5.5 процентных пункта"
   ]
  },
  {
   "cell_type": "markdown",
   "metadata": {},
   "source": [
    "#### Статистическая значимость различий в среднем чеке заказа между группами по «очищенным» данным "
   ]
  },
  {
   "cell_type": "markdown",
   "metadata": {},
   "source": [
    "А теперь рассмотрим, изменился ли средний чек.\n",
    "\n",
    "За нулевую гипотезу(H0) возьмём что статистически значимых различий в средних чеках между группами 'A' и 'B'нет, тогда альтернативная гипотеза(H1) будет, что статистически значимые различия есть."
   ]
  },
  {
   "cell_type": "code",
   "execution_count": 46,
   "metadata": {},
   "outputs": [
    {
     "name": "stdout",
     "output_type": "stream",
     "text": [
      "alpha = 0.05\n",
      "p-value = 0.959\n",
      "Относительный показатель 'B' и 'A' = -0.014\n"
     ]
    }
   ],
   "source": [
    "print(\"alpha =\",0.05)\n",
    "print(\"p-value = {0:.3f}\".format(stats.mannwhitneyu(\n",
    "    orders[np.logical_and(\n",
    "        orders['group']=='A',\n",
    "        np.logical_not(orders['visitorId'].isin(abnormalUsers)))]['revenue'],\n",
    "    orders[np.logical_and(\n",
    "        orders['group']=='B',\n",
    "        np.logical_not(orders['visitorId'].isin(abnormalUsers)))]['revenue'], alternative = 'two-sided')[1]))\n",
    "\n",
    "print(\"Относительный показатель 'B' и 'A' = {0:.3f}\".format(\n",
    "    orders[np.logical_and(orders['group']=='B',np.logical_not(orders['visitorId'].isin(abnormalUsers)))]['revenue'].mean()/\n",
    "    orders[np.logical_and(\n",
    "        orders['group']=='A',\n",
    "        np.logical_not(orders['visitorId'].isin(abnormalUsers)))]['revenue'].mean() - 1)) "
   ]
  },
  {
   "cell_type": "markdown",
   "metadata": {},
   "source": [
    "### Вывод:\n",
    "P-value значительно больше 0.05(0,86), а значит, нет оснований  отвергать нулевую гипотезу, т.е.  в среднем чеке нет различий, как и в случае с резульатом по \"сырым данным\" . При этом средний чек группы 'B' оказался ниже на 1,8%  среднего чека группы 'A', в то время как по \"сырым\" данным средний чек группы 'B' больше на 25,9%, что обусловлено влиянием заказа  №425 на сумму 1,29 млн "
   ]
  },
  {
   "cell_type": "markdown",
   "metadata": {},
   "source": [
    "#### Общий  Решение по результатам теста "
   ]
  },
  {
   "cell_type": "markdown",
   "metadata": {},
   "source": [
    "По результатам тестирования можно сделать следующие выводы:\n",
    "Различия в конверсии между группами 'A' и 'B' присутствуют как по  \"сырым\" , так и по \"очищенным\" данным. Превышение конверсии  группы 'B' над 'A' равен 19,3% по \"очищенным\" данным  и 13.8% по \"сырым\" данным.\n",
    "\n",
    "В это же время, различия в среднем чеке  по \"сырым\" и по \"очищенным\" данным групп 'A' и 'B' отстутствуют, несмотря на то, что по \"очищенным\" данным средний чек группы 'B' на 1,8 %  ниже среднего чека группы 'A' по \"очищенным\" данным, в то время как по \"сырым\" данным, он  больше  на 25,9%, что обусловлено влиянием заказа  №425 на сумму 1,29 млн.\n",
    "Исходя из этого, можно остановить тестирования и сделать вывод, что конверсия клиентов в группе 'B' выше, чем в группе 'A', в то время как средний чек в обоих группах почти идентичен.\n",
    "Вывод  update:\n",
    "Фиксируем победу группы 'B'. Гипотеза о том, что добавление формы подписки на все основные страницы, чтобы собрать базу клиентов для email-рассылок(самая приоритетная) оказалась верна(если сделать допущение, что H0 это то что конверсия не изменится(т.е. выручка то же не изменится), а H1 что добавление форм подписки повлияет на изменение выручки(и соответственно конверсии)\n",
    "После внедрения гипотезы конверсия увеличилась на 19,3%, средний чек не изменился."
   ]
  }
 ],
 "metadata": {
  "ExecuteTimeLog": [
   {
    "duration": 1244,
    "start_time": "2023-03-12T15:31:56.511Z"
   },
   {
    "duration": 223,
    "start_time": "2023-03-12T15:31:59.415Z"
   },
   {
    "duration": 10,
    "start_time": "2023-03-12T15:32:09.225Z"
   },
   {
    "duration": 3,
    "start_time": "2023-03-12T15:33:21.057Z"
   },
   {
    "duration": 105,
    "start_time": "2023-03-12T15:33:32.630Z"
   },
   {
    "duration": 8,
    "start_time": "2023-03-12T15:34:11.217Z"
   },
   {
    "duration": 7,
    "start_time": "2023-03-12T15:34:14.909Z"
   },
   {
    "duration": 1058,
    "start_time": "2023-03-12T15:34:20.962Z"
   },
   {
    "duration": 72,
    "start_time": "2023-03-12T15:34:22.022Z"
   },
   {
    "duration": 11,
    "start_time": "2023-03-12T15:34:22.095Z"
   },
   {
    "duration": 9,
    "start_time": "2023-03-12T15:34:22.108Z"
   },
   {
    "duration": 32,
    "start_time": "2023-03-12T15:34:22.118Z"
   },
   {
    "duration": 15,
    "start_time": "2023-03-12T15:35:41.928Z"
   },
   {
    "duration": 1116,
    "start_time": "2023-03-12T15:37:45.057Z"
   },
   {
    "duration": 76,
    "start_time": "2023-03-12T15:37:46.175Z"
   },
   {
    "duration": 14,
    "start_time": "2023-03-12T15:37:46.253Z"
   },
   {
    "duration": 25,
    "start_time": "2023-03-12T15:37:46.268Z"
   },
   {
    "duration": 18,
    "start_time": "2023-03-12T15:37:46.296Z"
   },
   {
    "duration": 21,
    "start_time": "2023-03-12T15:37:46.315Z"
   },
   {
    "duration": 5,
    "start_time": "2023-03-12T15:49:00.457Z"
   },
   {
    "duration": 17,
    "start_time": "2023-03-12T15:55:44.589Z"
   },
   {
    "duration": 8,
    "start_time": "2023-03-12T15:56:12.846Z"
   },
   {
    "duration": 6,
    "start_time": "2023-03-12T15:58:51.443Z"
   },
   {
    "duration": 14,
    "start_time": "2023-03-12T16:00:29.152Z"
   },
   {
    "duration": 98,
    "start_time": "2023-03-12T16:03:13.877Z"
   },
   {
    "duration": 1018,
    "start_time": "2023-03-12T16:03:23.922Z"
   },
   {
    "duration": 72,
    "start_time": "2023-03-12T16:03:24.943Z"
   },
   {
    "duration": 10,
    "start_time": "2023-03-12T16:03:25.017Z"
   },
   {
    "duration": 23,
    "start_time": "2023-03-12T16:03:25.029Z"
   },
   {
    "duration": 16,
    "start_time": "2023-03-12T16:03:25.053Z"
   },
   {
    "duration": 33,
    "start_time": "2023-03-12T16:03:25.071Z"
   },
   {
    "duration": 17,
    "start_time": "2023-03-12T16:03:25.106Z"
   },
   {
    "duration": 12,
    "start_time": "2023-03-12T16:03:25.125Z"
   },
   {
    "duration": 19,
    "start_time": "2023-03-12T16:03:25.140Z"
   },
   {
    "duration": 103,
    "start_time": "2023-03-12T16:03:25.160Z"
   },
   {
    "duration": 4,
    "start_time": "2023-03-12T16:03:40.244Z"
   },
   {
    "duration": 9,
    "start_time": "2023-03-12T16:04:34.808Z"
   },
   {
    "duration": 5,
    "start_time": "2023-03-12T16:05:19.045Z"
   },
   {
    "duration": 49,
    "start_time": "2023-03-13T06:02:38.415Z"
   },
   {
    "duration": 1351,
    "start_time": "2023-03-13T06:02:54.290Z"
   },
   {
    "duration": 214,
    "start_time": "2023-03-13T06:02:55.643Z"
   },
   {
    "duration": 14,
    "start_time": "2023-03-13T06:02:55.859Z"
   },
   {
    "duration": 14,
    "start_time": "2023-03-13T06:02:55.875Z"
   },
   {
    "duration": 9,
    "start_time": "2023-03-13T06:02:55.891Z"
   },
   {
    "duration": 17,
    "start_time": "2023-03-13T06:02:55.902Z"
   },
   {
    "duration": 15,
    "start_time": "2023-03-13T06:02:55.920Z"
   },
   {
    "duration": 20,
    "start_time": "2023-03-13T06:02:55.937Z"
   },
   {
    "duration": 10,
    "start_time": "2023-03-13T06:02:55.959Z"
   },
   {
    "duration": 7,
    "start_time": "2023-03-13T06:02:55.971Z"
   },
   {
    "duration": 14,
    "start_time": "2023-03-13T06:02:55.980Z"
   },
   {
    "duration": 14,
    "start_time": "2023-03-13T06:02:55.996Z"
   },
   {
    "duration": 1353,
    "start_time": "2023-03-13T19:46:55.810Z"
   },
   {
    "duration": 232,
    "start_time": "2023-03-13T19:46:57.165Z"
   },
   {
    "duration": 14,
    "start_time": "2023-03-13T19:46:57.398Z"
   },
   {
    "duration": 14,
    "start_time": "2023-03-13T19:46:57.413Z"
   },
   {
    "duration": 10,
    "start_time": "2023-03-13T19:46:57.429Z"
   },
   {
    "duration": 11,
    "start_time": "2023-03-13T19:46:57.440Z"
   },
   {
    "duration": 8,
    "start_time": "2023-03-13T19:46:57.452Z"
   },
   {
    "duration": 7,
    "start_time": "2023-03-13T19:46:57.462Z"
   },
   {
    "duration": 11,
    "start_time": "2023-03-13T19:46:57.470Z"
   },
   {
    "duration": 5,
    "start_time": "2023-03-13T19:46:57.482Z"
   },
   {
    "duration": 18,
    "start_time": "2023-03-13T19:46:57.489Z"
   },
   {
    "duration": 24,
    "start_time": "2023-03-13T19:46:57.509Z"
   },
   {
    "duration": 9,
    "start_time": "2023-03-13T19:46:57.535Z"
   },
   {
    "duration": 103,
    "start_time": "2023-03-13T19:46:57.547Z"
   },
   {
    "duration": 0,
    "start_time": "2023-03-13T19:46:57.652Z"
   },
   {
    "duration": 0,
    "start_time": "2023-03-13T19:46:57.653Z"
   },
   {
    "duration": 0,
    "start_time": "2023-03-13T19:46:57.654Z"
   },
   {
    "duration": 0,
    "start_time": "2023-03-13T19:46:57.655Z"
   },
   {
    "duration": 0,
    "start_time": "2023-03-13T19:46:57.656Z"
   },
   {
    "duration": 0,
    "start_time": "2023-03-13T19:46:57.657Z"
   },
   {
    "duration": 0,
    "start_time": "2023-03-13T19:46:57.658Z"
   },
   {
    "duration": 0,
    "start_time": "2023-03-13T19:46:57.659Z"
   },
   {
    "duration": 0,
    "start_time": "2023-03-13T19:46:57.660Z"
   },
   {
    "duration": 0,
    "start_time": "2023-03-13T19:46:57.661Z"
   },
   {
    "duration": 0,
    "start_time": "2023-03-13T19:46:57.662Z"
   },
   {
    "duration": 0,
    "start_time": "2023-03-13T19:46:57.663Z"
   },
   {
    "duration": 0,
    "start_time": "2023-03-13T19:46:57.664Z"
   },
   {
    "duration": 0,
    "start_time": "2023-03-13T19:46:57.665Z"
   },
   {
    "duration": 0,
    "start_time": "2023-03-13T19:46:57.666Z"
   },
   {
    "duration": 0,
    "start_time": "2023-03-13T19:46:57.667Z"
   },
   {
    "duration": 0,
    "start_time": "2023-03-13T19:46:57.668Z"
   },
   {
    "duration": 0,
    "start_time": "2023-03-13T19:46:57.670Z"
   },
   {
    "duration": 0,
    "start_time": "2023-03-13T19:46:57.670Z"
   },
   {
    "duration": 0,
    "start_time": "2023-03-13T19:46:57.671Z"
   },
   {
    "duration": 0,
    "start_time": "2023-03-13T19:46:57.672Z"
   },
   {
    "duration": 0,
    "start_time": "2023-03-13T19:46:57.673Z"
   },
   {
    "duration": 0,
    "start_time": "2023-03-13T19:46:57.674Z"
   },
   {
    "duration": 0,
    "start_time": "2023-03-13T19:46:57.675Z"
   },
   {
    "duration": 0,
    "start_time": "2023-03-13T19:46:57.678Z"
   },
   {
    "duration": 0,
    "start_time": "2023-03-13T19:46:57.679Z"
   },
   {
    "duration": 0,
    "start_time": "2023-03-13T19:46:57.680Z"
   },
   {
    "duration": 0,
    "start_time": "2023-03-13T19:46:57.681Z"
   },
   {
    "duration": 0,
    "start_time": "2023-03-13T19:46:57.682Z"
   },
   {
    "duration": 0,
    "start_time": "2023-03-13T19:46:57.683Z"
   },
   {
    "duration": 0,
    "start_time": "2023-03-13T19:46:57.684Z"
   },
   {
    "duration": 0,
    "start_time": "2023-03-13T19:46:57.685Z"
   },
   {
    "duration": 0,
    "start_time": "2023-03-13T19:46:57.686Z"
   },
   {
    "duration": 0,
    "start_time": "2023-03-13T19:46:57.741Z"
   },
   {
    "duration": 0,
    "start_time": "2023-03-13T19:46:57.742Z"
   },
   {
    "duration": 1137,
    "start_time": "2023-03-13T19:47:22.363Z"
   },
   {
    "duration": 75,
    "start_time": "2023-03-13T19:47:23.502Z"
   },
   {
    "duration": 14,
    "start_time": "2023-03-13T19:47:23.579Z"
   },
   {
    "duration": 17,
    "start_time": "2023-03-13T19:47:23.594Z"
   },
   {
    "duration": 16,
    "start_time": "2023-03-13T19:47:23.612Z"
   },
   {
    "duration": 14,
    "start_time": "2023-03-13T19:47:23.630Z"
   },
   {
    "duration": 16,
    "start_time": "2023-03-13T19:47:23.646Z"
   },
   {
    "duration": 13,
    "start_time": "2023-03-13T19:47:23.664Z"
   },
   {
    "duration": 13,
    "start_time": "2023-03-13T19:47:23.679Z"
   },
   {
    "duration": 12,
    "start_time": "2023-03-13T19:47:23.695Z"
   },
   {
    "duration": 8,
    "start_time": "2023-03-13T19:47:23.708Z"
   },
   {
    "duration": 10,
    "start_time": "2023-03-13T19:47:23.717Z"
   },
   {
    "duration": 12,
    "start_time": "2023-03-13T19:47:23.728Z"
   },
   {
    "duration": 9,
    "start_time": "2023-03-13T19:47:23.742Z"
   },
   {
    "duration": 131,
    "start_time": "2023-03-13T19:47:23.752Z"
   },
   {
    "duration": 0,
    "start_time": "2023-03-13T19:47:23.885Z"
   },
   {
    "duration": 0,
    "start_time": "2023-03-13T19:47:23.886Z"
   },
   {
    "duration": 0,
    "start_time": "2023-03-13T19:47:23.887Z"
   },
   {
    "duration": 0,
    "start_time": "2023-03-13T19:47:23.888Z"
   },
   {
    "duration": 0,
    "start_time": "2023-03-13T19:47:23.889Z"
   },
   {
    "duration": 0,
    "start_time": "2023-03-13T19:47:23.893Z"
   },
   {
    "duration": 0,
    "start_time": "2023-03-13T19:47:23.894Z"
   },
   {
    "duration": 0,
    "start_time": "2023-03-13T19:47:23.895Z"
   },
   {
    "duration": 0,
    "start_time": "2023-03-13T19:47:23.896Z"
   },
   {
    "duration": 0,
    "start_time": "2023-03-13T19:47:23.897Z"
   },
   {
    "duration": 0,
    "start_time": "2023-03-13T19:47:23.898Z"
   },
   {
    "duration": 0,
    "start_time": "2023-03-13T19:47:23.899Z"
   },
   {
    "duration": 0,
    "start_time": "2023-03-13T19:47:23.900Z"
   },
   {
    "duration": 0,
    "start_time": "2023-03-13T19:47:23.901Z"
   },
   {
    "duration": 0,
    "start_time": "2023-03-13T19:47:23.902Z"
   },
   {
    "duration": 0,
    "start_time": "2023-03-13T19:47:23.904Z"
   },
   {
    "duration": 0,
    "start_time": "2023-03-13T19:47:23.905Z"
   },
   {
    "duration": 0,
    "start_time": "2023-03-13T19:47:23.906Z"
   },
   {
    "duration": 0,
    "start_time": "2023-03-13T19:47:23.940Z"
   },
   {
    "duration": 0,
    "start_time": "2023-03-13T19:47:23.942Z"
   },
   {
    "duration": 0,
    "start_time": "2023-03-13T19:47:23.943Z"
   },
   {
    "duration": 0,
    "start_time": "2023-03-13T19:47:23.944Z"
   },
   {
    "duration": 0,
    "start_time": "2023-03-13T19:47:23.945Z"
   },
   {
    "duration": 0,
    "start_time": "2023-03-13T19:47:23.946Z"
   },
   {
    "duration": 0,
    "start_time": "2023-03-13T19:47:23.948Z"
   },
   {
    "duration": 0,
    "start_time": "2023-03-13T19:47:23.949Z"
   },
   {
    "duration": 0,
    "start_time": "2023-03-13T19:47:23.950Z"
   },
   {
    "duration": 0,
    "start_time": "2023-03-13T19:47:23.951Z"
   },
   {
    "duration": 0,
    "start_time": "2023-03-13T19:47:23.952Z"
   },
   {
    "duration": 0,
    "start_time": "2023-03-13T19:47:23.953Z"
   },
   {
    "duration": 0,
    "start_time": "2023-03-13T19:47:23.954Z"
   },
   {
    "duration": 0,
    "start_time": "2023-03-13T19:47:23.956Z"
   },
   {
    "duration": 0,
    "start_time": "2023-03-13T19:47:23.957Z"
   },
   {
    "duration": 0,
    "start_time": "2023-03-13T19:47:23.958Z"
   },
   {
    "duration": 1150,
    "start_time": "2023-03-13T19:47:44.781Z"
   },
   {
    "duration": 82,
    "start_time": "2023-03-13T19:47:45.934Z"
   },
   {
    "duration": 15,
    "start_time": "2023-03-13T19:47:46.019Z"
   },
   {
    "duration": 17,
    "start_time": "2023-03-13T19:47:46.037Z"
   },
   {
    "duration": 17,
    "start_time": "2023-03-13T19:47:46.056Z"
   },
   {
    "duration": 7,
    "start_time": "2023-03-13T19:47:46.076Z"
   },
   {
    "duration": 7,
    "start_time": "2023-03-13T19:47:46.085Z"
   },
   {
    "duration": 9,
    "start_time": "2023-03-13T19:47:46.093Z"
   },
   {
    "duration": 14,
    "start_time": "2023-03-13T19:47:46.103Z"
   },
   {
    "duration": 24,
    "start_time": "2023-03-13T19:47:46.121Z"
   },
   {
    "duration": 48,
    "start_time": "2023-03-13T19:47:46.147Z"
   },
   {
    "duration": 25,
    "start_time": "2023-03-13T19:47:46.197Z"
   },
   {
    "duration": 12,
    "start_time": "2023-03-13T19:47:46.224Z"
   },
   {
    "duration": 18,
    "start_time": "2023-03-13T19:47:46.238Z"
   },
   {
    "duration": 16,
    "start_time": "2023-03-13T19:47:46.257Z"
   },
   {
    "duration": 15,
    "start_time": "2023-03-13T19:47:46.276Z"
   },
   {
    "duration": 20,
    "start_time": "2023-03-13T19:47:46.293Z"
   },
   {
    "duration": 13,
    "start_time": "2023-03-13T19:47:46.315Z"
   },
   {
    "duration": 22,
    "start_time": "2023-03-13T19:47:46.329Z"
   },
   {
    "duration": 28,
    "start_time": "2023-03-13T19:47:46.353Z"
   },
   {
    "duration": 5,
    "start_time": "2023-03-13T19:47:46.383Z"
   },
   {
    "duration": 340,
    "start_time": "2023-03-13T19:47:46.390Z"
   },
   {
    "duration": 305,
    "start_time": "2023-03-13T19:47:46.732Z"
   },
   {
    "duration": 13,
    "start_time": "2023-03-13T19:47:47.040Z"
   },
   {
    "duration": 35,
    "start_time": "2023-03-13T19:47:47.055Z"
   },
   {
    "duration": 227,
    "start_time": "2023-03-13T19:47:47.092Z"
   },
   {
    "duration": 327,
    "start_time": "2023-03-13T19:47:47.320Z"
   },
   {
    "duration": 264,
    "start_time": "2023-03-13T19:47:47.652Z"
   },
   {
    "duration": 366,
    "start_time": "2023-03-13T19:47:47.919Z"
   },
   {
    "duration": 3,
    "start_time": "2023-03-13T19:47:48.287Z"
   },
   {
    "duration": 13,
    "start_time": "2023-03-13T19:47:48.291Z"
   },
   {
    "duration": 246,
    "start_time": "2023-03-13T19:47:48.306Z"
   },
   {
    "duration": 167,
    "start_time": "2023-03-13T19:47:48.554Z"
   },
   {
    "duration": 6,
    "start_time": "2023-03-13T19:47:48.722Z"
   },
   {
    "duration": 14,
    "start_time": "2023-03-13T19:47:48.729Z"
   },
   {
    "duration": 200,
    "start_time": "2023-03-13T19:47:48.746Z"
   },
   {
    "duration": 71,
    "start_time": "2023-03-13T19:47:48.948Z"
   },
   {
    "duration": 0,
    "start_time": "2023-03-13T19:47:49.021Z"
   },
   {
    "duration": 0,
    "start_time": "2023-03-13T19:47:49.022Z"
   },
   {
    "duration": 0,
    "start_time": "2023-03-13T19:47:49.023Z"
   },
   {
    "duration": 0,
    "start_time": "2023-03-13T19:47:49.025Z"
   },
   {
    "duration": 0,
    "start_time": "2023-03-13T19:47:49.026Z"
   },
   {
    "duration": 0,
    "start_time": "2023-03-13T19:47:49.027Z"
   },
   {
    "duration": 0,
    "start_time": "2023-03-13T19:47:49.028Z"
   },
   {
    "duration": 0,
    "start_time": "2023-03-13T19:47:49.029Z"
   },
   {
    "duration": 0,
    "start_time": "2023-03-13T19:47:49.030Z"
   },
   {
    "duration": 0,
    "start_time": "2023-03-13T19:47:49.031Z"
   },
   {
    "duration": 0,
    "start_time": "2023-03-13T19:47:49.032Z"
   },
   {
    "duration": 0,
    "start_time": "2023-03-13T19:47:49.033Z"
   },
   {
    "duration": 1257,
    "start_time": "2023-03-13T19:48:32.803Z"
   },
   {
    "duration": 76,
    "start_time": "2023-03-13T19:48:34.062Z"
   },
   {
    "duration": 11,
    "start_time": "2023-03-13T19:48:34.140Z"
   },
   {
    "duration": 12,
    "start_time": "2023-03-13T19:48:34.153Z"
   },
   {
    "duration": 11,
    "start_time": "2023-03-13T19:48:34.168Z"
   },
   {
    "duration": 12,
    "start_time": "2023-03-13T19:48:34.180Z"
   },
   {
    "duration": 6,
    "start_time": "2023-03-13T19:48:34.194Z"
   },
   {
    "duration": 10,
    "start_time": "2023-03-13T19:48:34.202Z"
   },
   {
    "duration": 37,
    "start_time": "2023-03-13T19:48:34.214Z"
   },
   {
    "duration": 7,
    "start_time": "2023-03-13T19:48:34.253Z"
   },
   {
    "duration": 12,
    "start_time": "2023-03-13T19:48:34.261Z"
   },
   {
    "duration": 9,
    "start_time": "2023-03-13T19:48:34.275Z"
   },
   {
    "duration": 13,
    "start_time": "2023-03-13T19:48:34.285Z"
   },
   {
    "duration": 11,
    "start_time": "2023-03-13T19:48:34.301Z"
   },
   {
    "duration": 31,
    "start_time": "2023-03-13T19:48:34.314Z"
   },
   {
    "duration": 16,
    "start_time": "2023-03-13T19:48:34.347Z"
   },
   {
    "duration": 18,
    "start_time": "2023-03-13T19:48:34.365Z"
   },
   {
    "duration": 10,
    "start_time": "2023-03-13T19:48:34.385Z"
   },
   {
    "duration": 20,
    "start_time": "2023-03-13T19:48:34.397Z"
   },
   {
    "duration": 43,
    "start_time": "2023-03-13T19:48:34.419Z"
   },
   {
    "duration": 5,
    "start_time": "2023-03-13T19:48:34.464Z"
   },
   {
    "duration": 310,
    "start_time": "2023-03-13T19:48:34.471Z"
   },
   {
    "duration": 280,
    "start_time": "2023-03-13T19:48:34.783Z"
   },
   {
    "duration": 9,
    "start_time": "2023-03-13T19:48:35.065Z"
   },
   {
    "duration": 21,
    "start_time": "2023-03-13T19:48:35.076Z"
   },
   {
    "duration": 215,
    "start_time": "2023-03-13T19:48:35.098Z"
   },
   {
    "duration": 325,
    "start_time": "2023-03-13T19:48:35.315Z"
   },
   {
    "duration": 225,
    "start_time": "2023-03-13T19:48:35.641Z"
   },
   {
    "duration": 292,
    "start_time": "2023-03-13T19:48:35.868Z"
   },
   {
    "duration": 2,
    "start_time": "2023-03-13T19:48:36.162Z"
   },
   {
    "duration": 11,
    "start_time": "2023-03-13T19:48:36.166Z"
   },
   {
    "duration": 126,
    "start_time": "2023-03-13T19:48:36.179Z"
   },
   {
    "duration": 138,
    "start_time": "2023-03-13T19:48:36.307Z"
   },
   {
    "duration": 4,
    "start_time": "2023-03-13T19:48:36.447Z"
   },
   {
    "duration": 5,
    "start_time": "2023-03-13T19:48:36.453Z"
   },
   {
    "duration": 175,
    "start_time": "2023-03-13T19:48:36.460Z"
   },
   {
    "duration": 190,
    "start_time": "2023-03-13T19:48:36.637Z"
   },
   {
    "duration": 5,
    "start_time": "2023-03-13T19:48:36.829Z"
   },
   {
    "duration": 15,
    "start_time": "2023-03-13T19:48:36.836Z"
   },
   {
    "duration": 17,
    "start_time": "2023-03-13T19:48:36.853Z"
   },
   {
    "duration": 266,
    "start_time": "2023-03-13T19:48:36.874Z"
   },
   {
    "duration": 29,
    "start_time": "2023-03-13T19:48:37.142Z"
   },
   {
    "duration": 186,
    "start_time": "2023-03-13T19:48:37.172Z"
   },
   {
    "duration": 5,
    "start_time": "2023-03-13T19:48:37.360Z"
   },
   {
    "duration": 68,
    "start_time": "2023-03-13T19:48:37.367Z"
   },
   {
    "duration": 0,
    "start_time": "2023-03-13T19:48:37.437Z"
   },
   {
    "duration": 0,
    "start_time": "2023-03-13T19:48:37.438Z"
   },
   {
    "duration": 0,
    "start_time": "2023-03-13T19:48:37.439Z"
   },
   {
    "duration": 0,
    "start_time": "2023-03-13T19:48:37.441Z"
   },
   {
    "duration": 1128,
    "start_time": "2023-03-13T19:51:03.144Z"
   },
   {
    "duration": 74,
    "start_time": "2023-03-13T19:51:04.274Z"
   },
   {
    "duration": 11,
    "start_time": "2023-03-13T19:51:04.350Z"
   },
   {
    "duration": 14,
    "start_time": "2023-03-13T19:51:04.362Z"
   },
   {
    "duration": 9,
    "start_time": "2023-03-13T19:51:04.378Z"
   },
   {
    "duration": 8,
    "start_time": "2023-03-13T19:51:04.389Z"
   },
   {
    "duration": 7,
    "start_time": "2023-03-13T19:51:04.399Z"
   },
   {
    "duration": 8,
    "start_time": "2023-03-13T19:51:04.407Z"
   },
   {
    "duration": 33,
    "start_time": "2023-03-13T19:51:04.417Z"
   },
   {
    "duration": 11,
    "start_time": "2023-03-13T19:51:04.452Z"
   },
   {
    "duration": 15,
    "start_time": "2023-03-13T19:51:04.465Z"
   },
   {
    "duration": 16,
    "start_time": "2023-03-13T19:51:04.482Z"
   },
   {
    "duration": 9,
    "start_time": "2023-03-13T19:51:04.499Z"
   },
   {
    "duration": 11,
    "start_time": "2023-03-13T19:51:04.511Z"
   },
   {
    "duration": 19,
    "start_time": "2023-03-13T19:51:04.524Z"
   },
   {
    "duration": 14,
    "start_time": "2023-03-13T19:51:04.544Z"
   },
   {
    "duration": 12,
    "start_time": "2023-03-13T19:51:04.559Z"
   },
   {
    "duration": 7,
    "start_time": "2023-03-13T19:51:04.572Z"
   },
   {
    "duration": 13,
    "start_time": "2023-03-13T19:51:04.581Z"
   },
   {
    "duration": 17,
    "start_time": "2023-03-13T19:51:04.596Z"
   },
   {
    "duration": 4,
    "start_time": "2023-03-13T19:51:04.614Z"
   },
   {
    "duration": 289,
    "start_time": "2023-03-13T19:51:04.640Z"
   },
   {
    "duration": 275,
    "start_time": "2023-03-13T19:51:04.931Z"
   },
   {
    "duration": 10,
    "start_time": "2023-03-13T19:51:05.207Z"
   },
   {
    "duration": 28,
    "start_time": "2023-03-13T19:51:05.218Z"
   },
   {
    "duration": 203,
    "start_time": "2023-03-13T19:51:05.248Z"
   },
   {
    "duration": 299,
    "start_time": "2023-03-13T19:51:05.454Z"
   },
   {
    "duration": 227,
    "start_time": "2023-03-13T19:51:05.754Z"
   },
   {
    "duration": 278,
    "start_time": "2023-03-13T19:51:05.983Z"
   },
   {
    "duration": 2,
    "start_time": "2023-03-13T19:51:06.263Z"
   },
   {
    "duration": 16,
    "start_time": "2023-03-13T19:51:06.267Z"
   },
   {
    "duration": 130,
    "start_time": "2023-03-13T19:51:06.285Z"
   },
   {
    "duration": 146,
    "start_time": "2023-03-13T19:51:06.417Z"
   },
   {
    "duration": 5,
    "start_time": "2023-03-13T19:51:06.566Z"
   },
   {
    "duration": 8,
    "start_time": "2023-03-13T19:51:06.572Z"
   },
   {
    "duration": 168,
    "start_time": "2023-03-13T19:51:06.582Z"
   },
   {
    "duration": 203,
    "start_time": "2023-03-13T19:51:06.752Z"
   },
   {
    "duration": 4,
    "start_time": "2023-03-13T19:51:06.956Z"
   },
   {
    "duration": 10,
    "start_time": "2023-03-13T19:51:06.962Z"
   },
   {
    "duration": 8,
    "start_time": "2023-03-13T19:51:06.974Z"
   },
   {
    "duration": 259,
    "start_time": "2023-03-13T19:51:06.986Z"
   },
   {
    "duration": 31,
    "start_time": "2023-03-13T19:51:07.247Z"
   },
   {
    "duration": 161,
    "start_time": "2023-03-13T19:51:07.279Z"
   },
   {
    "duration": 5,
    "start_time": "2023-03-13T19:51:07.442Z"
   },
   {
    "duration": 99,
    "start_time": "2023-03-13T19:51:07.448Z"
   },
   {
    "duration": 0,
    "start_time": "2023-03-13T19:51:07.549Z"
   },
   {
    "duration": 0,
    "start_time": "2023-03-13T19:51:07.550Z"
   },
   {
    "duration": 0,
    "start_time": "2023-03-13T19:51:07.551Z"
   },
   {
    "duration": 0,
    "start_time": "2023-03-13T19:51:07.552Z"
   },
   {
    "duration": 1120,
    "start_time": "2023-03-13T19:53:00.534Z"
   },
   {
    "duration": 75,
    "start_time": "2023-03-13T19:53:01.656Z"
   },
   {
    "duration": 12,
    "start_time": "2023-03-13T19:53:01.733Z"
   },
   {
    "duration": 35,
    "start_time": "2023-03-13T19:53:01.747Z"
   },
   {
    "duration": 40,
    "start_time": "2023-03-13T19:53:01.784Z"
   },
   {
    "duration": 22,
    "start_time": "2023-03-13T19:53:01.825Z"
   },
   {
    "duration": 18,
    "start_time": "2023-03-13T19:53:01.848Z"
   },
   {
    "duration": 18,
    "start_time": "2023-03-13T19:53:01.867Z"
   },
   {
    "duration": 32,
    "start_time": "2023-03-13T19:53:01.886Z"
   },
   {
    "duration": 19,
    "start_time": "2023-03-13T19:53:01.920Z"
   },
   {
    "duration": 23,
    "start_time": "2023-03-13T19:53:01.941Z"
   },
   {
    "duration": 22,
    "start_time": "2023-03-13T19:53:01.965Z"
   },
   {
    "duration": 24,
    "start_time": "2023-03-13T19:53:01.988Z"
   },
   {
    "duration": 33,
    "start_time": "2023-03-13T19:53:02.015Z"
   },
   {
    "duration": 52,
    "start_time": "2023-03-13T19:53:02.049Z"
   },
   {
    "duration": 32,
    "start_time": "2023-03-13T19:53:02.102Z"
   },
   {
    "duration": 14,
    "start_time": "2023-03-13T19:53:02.135Z"
   },
   {
    "duration": 10,
    "start_time": "2023-03-13T19:53:02.151Z"
   },
   {
    "duration": 16,
    "start_time": "2023-03-13T19:53:02.162Z"
   },
   {
    "duration": 15,
    "start_time": "2023-03-13T19:53:02.180Z"
   },
   {
    "duration": 5,
    "start_time": "2023-03-13T19:53:02.196Z"
   },
   {
    "duration": 298,
    "start_time": "2023-03-13T19:53:02.202Z"
   },
   {
    "duration": 324,
    "start_time": "2023-03-13T19:53:02.502Z"
   },
   {
    "duration": 17,
    "start_time": "2023-03-13T19:53:02.828Z"
   },
   {
    "duration": 72,
    "start_time": "2023-03-13T19:53:02.847Z"
   },
   {
    "duration": 210,
    "start_time": "2023-03-13T19:53:02.921Z"
   },
   {
    "duration": 316,
    "start_time": "2023-03-13T19:53:03.133Z"
   },
   {
    "duration": 235,
    "start_time": "2023-03-13T19:53:03.450Z"
   },
   {
    "duration": 281,
    "start_time": "2023-03-13T19:53:03.686Z"
   },
   {
    "duration": 3,
    "start_time": "2023-03-13T19:53:03.968Z"
   },
   {
    "duration": 18,
    "start_time": "2023-03-13T19:53:03.973Z"
   },
   {
    "duration": 123,
    "start_time": "2023-03-13T19:53:03.993Z"
   },
   {
    "duration": 150,
    "start_time": "2023-03-13T19:53:04.118Z"
   },
   {
    "duration": 5,
    "start_time": "2023-03-13T19:53:04.269Z"
   },
   {
    "duration": 14,
    "start_time": "2023-03-13T19:53:04.276Z"
   },
   {
    "duration": 158,
    "start_time": "2023-03-13T19:53:04.292Z"
   },
   {
    "duration": 183,
    "start_time": "2023-03-13T19:53:04.452Z"
   },
   {
    "duration": 4,
    "start_time": "2023-03-13T19:53:04.636Z"
   },
   {
    "duration": 10,
    "start_time": "2023-03-13T19:53:04.642Z"
   },
   {
    "duration": 10,
    "start_time": "2023-03-13T19:53:04.654Z"
   },
   {
    "duration": 273,
    "start_time": "2023-03-13T19:53:04.667Z"
   },
   {
    "duration": 26,
    "start_time": "2023-03-13T19:53:04.941Z"
   },
   {
    "duration": 154,
    "start_time": "2023-03-13T19:53:04.968Z"
   },
   {
    "duration": 17,
    "start_time": "2023-03-13T19:53:05.124Z"
   },
   {
    "duration": 71,
    "start_time": "2023-03-13T19:53:05.142Z"
   },
   {
    "duration": 0,
    "start_time": "2023-03-13T19:53:05.215Z"
   },
   {
    "duration": 0,
    "start_time": "2023-03-13T19:53:05.216Z"
   },
   {
    "duration": 0,
    "start_time": "2023-03-13T19:53:05.217Z"
   },
   {
    "duration": 0,
    "start_time": "2023-03-13T19:53:05.218Z"
   },
   {
    "duration": 168,
    "start_time": "2023-03-13T19:54:12.548Z"
   },
   {
    "duration": 21,
    "start_time": "2023-03-13T19:56:06.367Z"
   },
   {
    "duration": 1103,
    "start_time": "2023-03-13T19:56:25.765Z"
   },
   {
    "duration": 74,
    "start_time": "2023-03-13T19:56:26.870Z"
   },
   {
    "duration": 11,
    "start_time": "2023-03-13T19:56:26.946Z"
   },
   {
    "duration": 16,
    "start_time": "2023-03-13T19:56:26.960Z"
   },
   {
    "duration": 10,
    "start_time": "2023-03-13T19:56:26.978Z"
   },
   {
    "duration": 13,
    "start_time": "2023-03-13T19:56:26.991Z"
   },
   {
    "duration": 9,
    "start_time": "2023-03-13T19:56:27.006Z"
   },
   {
    "duration": 25,
    "start_time": "2023-03-13T19:56:27.017Z"
   },
   {
    "duration": 18,
    "start_time": "2023-03-13T19:56:27.043Z"
   },
   {
    "duration": 6,
    "start_time": "2023-03-13T19:56:27.064Z"
   },
   {
    "duration": 16,
    "start_time": "2023-03-13T19:56:27.071Z"
   },
   {
    "duration": 36,
    "start_time": "2023-03-13T19:56:27.089Z"
   },
   {
    "duration": 24,
    "start_time": "2023-03-13T19:56:27.127Z"
   },
   {
    "duration": 7,
    "start_time": "2023-03-13T19:56:27.153Z"
   },
   {
    "duration": 27,
    "start_time": "2023-03-13T19:56:27.162Z"
   },
   {
    "duration": 29,
    "start_time": "2023-03-13T19:56:27.191Z"
   },
   {
    "duration": 23,
    "start_time": "2023-03-13T19:56:27.222Z"
   },
   {
    "duration": 17,
    "start_time": "2023-03-13T19:56:27.247Z"
   },
   {
    "duration": 22,
    "start_time": "2023-03-13T19:56:27.266Z"
   },
   {
    "duration": 24,
    "start_time": "2023-03-13T19:56:27.289Z"
   },
   {
    "duration": 26,
    "start_time": "2023-03-13T19:56:27.315Z"
   },
   {
    "duration": 326,
    "start_time": "2023-03-13T19:56:27.343Z"
   },
   {
    "duration": 282,
    "start_time": "2023-03-13T19:56:27.671Z"
   },
   {
    "duration": 10,
    "start_time": "2023-03-13T19:56:27.955Z"
   },
   {
    "duration": 27,
    "start_time": "2023-03-13T19:56:27.967Z"
   },
   {
    "duration": 255,
    "start_time": "2023-03-13T19:56:27.995Z"
   },
   {
    "duration": 308,
    "start_time": "2023-03-13T19:56:28.252Z"
   },
   {
    "duration": 234,
    "start_time": "2023-03-13T19:56:28.564Z"
   },
   {
    "duration": 367,
    "start_time": "2023-03-13T19:56:28.800Z"
   },
   {
    "duration": 4,
    "start_time": "2023-03-13T19:56:29.170Z"
   },
   {
    "duration": 12,
    "start_time": "2023-03-13T19:56:29.176Z"
   },
   {
    "duration": 143,
    "start_time": "2023-03-13T19:56:29.190Z"
   },
   {
    "duration": 138,
    "start_time": "2023-03-13T19:56:29.335Z"
   },
   {
    "duration": 4,
    "start_time": "2023-03-13T19:56:29.474Z"
   },
   {
    "duration": 7,
    "start_time": "2023-03-13T19:56:29.479Z"
   },
   {
    "duration": 164,
    "start_time": "2023-03-13T19:56:29.487Z"
   },
   {
    "duration": 186,
    "start_time": "2023-03-13T19:56:29.653Z"
   },
   {
    "duration": 4,
    "start_time": "2023-03-13T19:56:29.841Z"
   },
   {
    "duration": 11,
    "start_time": "2023-03-13T19:56:29.846Z"
   },
   {
    "duration": 10,
    "start_time": "2023-03-13T19:56:29.858Z"
   },
   {
    "duration": 278,
    "start_time": "2023-03-13T19:56:29.870Z"
   },
   {
    "duration": 26,
    "start_time": "2023-03-13T19:56:30.150Z"
   },
   {
    "duration": 171,
    "start_time": "2023-03-13T19:56:30.178Z"
   },
   {
    "duration": 5,
    "start_time": "2023-03-13T19:56:30.351Z"
   },
   {
    "duration": 67,
    "start_time": "2023-03-13T19:56:30.357Z"
   },
   {
    "duration": 24,
    "start_time": "2023-03-13T19:56:30.426Z"
   },
   {
    "duration": 55,
    "start_time": "2023-03-13T19:56:30.451Z"
   },
   {
    "duration": 51,
    "start_time": "2023-03-13T19:56:30.508Z"
   },
   {
    "duration": 35,
    "start_time": "2023-03-13T19:56:30.561Z"
   },
   {
    "duration": 49,
    "start_time": "2023-03-14T03:26:28.102Z"
   },
   {
    "duration": 1365,
    "start_time": "2023-03-14T03:26:43.503Z"
   },
   {
    "duration": 280,
    "start_time": "2023-03-14T03:26:44.871Z"
   },
   {
    "duration": 24,
    "start_time": "2023-03-14T03:26:45.154Z"
   },
   {
    "duration": 21,
    "start_time": "2023-03-14T03:26:45.181Z"
   },
   {
    "duration": 11,
    "start_time": "2023-03-14T03:26:45.204Z"
   },
   {
    "duration": 11,
    "start_time": "2023-03-14T03:26:45.217Z"
   },
   {
    "duration": 10,
    "start_time": "2023-03-14T03:26:45.230Z"
   },
   {
    "duration": 7,
    "start_time": "2023-03-14T03:26:45.267Z"
   },
   {
    "duration": 15,
    "start_time": "2023-03-14T03:26:45.276Z"
   },
   {
    "duration": 13,
    "start_time": "2023-03-14T03:26:45.295Z"
   },
   {
    "duration": 13,
    "start_time": "2023-03-14T03:26:45.310Z"
   },
   {
    "duration": 27,
    "start_time": "2023-03-14T03:26:45.325Z"
   },
   {
    "duration": 29,
    "start_time": "2023-03-14T03:26:45.354Z"
   },
   {
    "duration": 9,
    "start_time": "2023-03-14T03:26:45.385Z"
   },
   {
    "duration": 13,
    "start_time": "2023-03-14T03:26:45.396Z"
   },
   {
    "duration": 16,
    "start_time": "2023-03-14T03:26:45.411Z"
   },
   {
    "duration": 19,
    "start_time": "2023-03-14T03:26:45.429Z"
   },
   {
    "duration": 20,
    "start_time": "2023-03-14T03:26:45.449Z"
   },
   {
    "duration": 21,
    "start_time": "2023-03-14T03:26:45.471Z"
   },
   {
    "duration": 29,
    "start_time": "2023-03-14T03:26:45.494Z"
   },
   {
    "duration": 16,
    "start_time": "2023-03-14T03:26:45.526Z"
   },
   {
    "duration": 373,
    "start_time": "2023-03-14T03:26:45.544Z"
   },
   {
    "duration": 326,
    "start_time": "2023-03-14T03:26:45.919Z"
   },
   {
    "duration": 15,
    "start_time": "2023-03-14T03:26:46.247Z"
   },
   {
    "duration": 21,
    "start_time": "2023-03-14T03:26:46.268Z"
   },
   {
    "duration": 230,
    "start_time": "2023-03-14T03:26:46.291Z"
   },
   {
    "duration": 391,
    "start_time": "2023-03-14T03:26:46.523Z"
   },
   {
    "duration": 266,
    "start_time": "2023-03-14T03:26:46.918Z"
   },
   {
    "duration": 311,
    "start_time": "2023-03-14T03:26:47.186Z"
   },
   {
    "duration": 3,
    "start_time": "2023-03-14T03:26:47.498Z"
   },
   {
    "duration": 14,
    "start_time": "2023-03-14T03:26:47.502Z"
   },
   {
    "duration": 135,
    "start_time": "2023-03-14T03:26:47.518Z"
   },
   {
    "duration": 155,
    "start_time": "2023-03-14T03:26:47.655Z"
   },
   {
    "duration": 4,
    "start_time": "2023-03-14T03:26:47.812Z"
   },
   {
    "duration": 9,
    "start_time": "2023-03-14T03:26:47.818Z"
   },
   {
    "duration": 194,
    "start_time": "2023-03-14T03:26:47.829Z"
   },
   {
    "duration": 215,
    "start_time": "2023-03-14T03:26:48.025Z"
   },
   {
    "duration": 5,
    "start_time": "2023-03-14T03:26:48.242Z"
   },
   {
    "duration": 20,
    "start_time": "2023-03-14T03:26:48.249Z"
   },
   {
    "duration": 14,
    "start_time": "2023-03-14T03:26:48.270Z"
   },
   {
    "duration": 300,
    "start_time": "2023-03-14T03:26:48.286Z"
   },
   {
    "duration": 27,
    "start_time": "2023-03-14T03:26:48.588Z"
   },
   {
    "duration": 188,
    "start_time": "2023-03-14T03:26:48.616Z"
   },
   {
    "duration": 7,
    "start_time": "2023-03-14T03:26:48.806Z"
   },
   {
    "duration": 29,
    "start_time": "2023-03-14T03:26:48.814Z"
   },
   {
    "duration": 24,
    "start_time": "2023-03-14T03:26:48.845Z"
   },
   {
    "duration": 10,
    "start_time": "2023-03-14T03:26:48.871Z"
   },
   {
    "duration": 29,
    "start_time": "2023-03-14T03:26:48.883Z"
   },
   {
    "duration": 14,
    "start_time": "2023-03-14T03:26:48.914Z"
   },
   {
    "duration": 6,
    "start_time": "2023-03-14T03:27:20.821Z"
   },
   {
    "duration": 7,
    "start_time": "2023-03-14T03:27:24.549Z"
   },
   {
    "duration": 1190,
    "start_time": "2023-03-14T03:27:31.935Z"
   },
   {
    "duration": 78,
    "start_time": "2023-03-14T03:27:33.127Z"
   },
   {
    "duration": 11,
    "start_time": "2023-03-14T03:27:33.207Z"
   },
   {
    "duration": 17,
    "start_time": "2023-03-14T03:27:33.219Z"
   },
   {
    "duration": 12,
    "start_time": "2023-03-14T03:27:33.238Z"
   },
   {
    "duration": 17,
    "start_time": "2023-03-14T03:27:33.252Z"
   },
   {
    "duration": 9,
    "start_time": "2023-03-14T03:27:33.271Z"
   },
   {
    "duration": 7,
    "start_time": "2023-03-14T03:27:33.281Z"
   },
   {
    "duration": 10,
    "start_time": "2023-03-14T03:27:33.290Z"
   },
   {
    "duration": 6,
    "start_time": "2023-03-14T03:27:33.302Z"
   },
   {
    "duration": 10,
    "start_time": "2023-03-14T03:27:33.310Z"
   },
   {
    "duration": 10,
    "start_time": "2023-03-14T03:27:33.322Z"
   },
   {
    "duration": 40,
    "start_time": "2023-03-14T03:27:33.333Z"
   },
   {
    "duration": 8,
    "start_time": "2023-03-14T03:27:33.377Z"
   },
   {
    "duration": 15,
    "start_time": "2023-03-14T03:27:33.386Z"
   },
   {
    "duration": 8,
    "start_time": "2023-03-14T03:27:33.403Z"
   },
   {
    "duration": 10,
    "start_time": "2023-03-14T03:27:33.413Z"
   },
   {
    "duration": 7,
    "start_time": "2023-03-14T03:27:33.425Z"
   },
   {
    "duration": 42,
    "start_time": "2023-03-14T03:27:33.433Z"
   },
   {
    "duration": 17,
    "start_time": "2023-03-14T03:27:33.477Z"
   },
   {
    "duration": 4,
    "start_time": "2023-03-14T03:27:33.496Z"
   },
   {
    "duration": 351,
    "start_time": "2023-03-14T03:27:33.501Z"
   },
   {
    "duration": 355,
    "start_time": "2023-03-14T03:27:33.853Z"
   },
   {
    "duration": 13,
    "start_time": "2023-03-14T03:27:34.210Z"
   },
   {
    "duration": 20,
    "start_time": "2023-03-14T03:27:34.225Z"
   },
   {
    "duration": 257,
    "start_time": "2023-03-14T03:27:34.247Z"
   },
   {
    "duration": 310,
    "start_time": "2023-03-14T03:27:34.506Z"
   },
   {
    "duration": 256,
    "start_time": "2023-03-14T03:27:34.817Z"
   },
   {
    "duration": 366,
    "start_time": "2023-03-14T03:27:35.075Z"
   },
   {
    "duration": 3,
    "start_time": "2023-03-14T03:27:35.443Z"
   },
   {
    "duration": 26,
    "start_time": "2023-03-14T03:27:35.448Z"
   },
   {
    "duration": 192,
    "start_time": "2023-03-14T03:27:35.476Z"
   },
   {
    "duration": 166,
    "start_time": "2023-03-14T03:27:35.671Z"
   },
   {
    "duration": 4,
    "start_time": "2023-03-14T03:27:35.839Z"
   },
   {
    "duration": 13,
    "start_time": "2023-03-14T03:27:35.845Z"
   },
   {
    "duration": 171,
    "start_time": "2023-03-14T03:27:35.868Z"
   },
   {
    "duration": 215,
    "start_time": "2023-03-14T03:27:36.041Z"
   },
   {
    "duration": 5,
    "start_time": "2023-03-14T03:27:36.268Z"
   },
   {
    "duration": 32,
    "start_time": "2023-03-14T03:27:36.275Z"
   },
   {
    "duration": 15,
    "start_time": "2023-03-14T03:27:36.309Z"
   },
   {
    "duration": 318,
    "start_time": "2023-03-14T03:27:36.327Z"
   },
   {
    "duration": 39,
    "start_time": "2023-03-14T03:27:36.646Z"
   },
   {
    "duration": 163,
    "start_time": "2023-03-14T03:27:36.687Z"
   },
   {
    "duration": 17,
    "start_time": "2023-03-14T03:27:36.852Z"
   },
   {
    "duration": 28,
    "start_time": "2023-03-14T03:27:36.871Z"
   },
   {
    "duration": 10,
    "start_time": "2023-03-14T03:27:36.901Z"
   },
   {
    "duration": 16,
    "start_time": "2023-03-14T03:27:36.913Z"
   },
   {
    "duration": 58,
    "start_time": "2023-03-14T03:27:36.931Z"
   },
   {
    "duration": 14,
    "start_time": "2023-03-14T03:27:36.990Z"
   },
   {
    "duration": 1208,
    "start_time": "2023-03-14T03:28:32.736Z"
   },
   {
    "duration": 84,
    "start_time": "2023-03-14T03:28:33.947Z"
   },
   {
    "duration": 12,
    "start_time": "2023-03-14T03:28:34.032Z"
   },
   {
    "duration": 25,
    "start_time": "2023-03-14T03:28:34.046Z"
   },
   {
    "duration": 12,
    "start_time": "2023-03-14T03:28:34.073Z"
   },
   {
    "duration": 12,
    "start_time": "2023-03-14T03:28:34.087Z"
   },
   {
    "duration": 8,
    "start_time": "2023-03-14T03:28:34.100Z"
   },
   {
    "duration": 8,
    "start_time": "2023-03-14T03:28:34.110Z"
   },
   {
    "duration": 11,
    "start_time": "2023-03-14T03:28:34.120Z"
   },
   {
    "duration": 45,
    "start_time": "2023-03-14T03:28:34.134Z"
   },
   {
    "duration": 8,
    "start_time": "2023-03-14T03:28:34.180Z"
   },
   {
    "duration": 18,
    "start_time": "2023-03-14T03:28:34.190Z"
   },
   {
    "duration": 12,
    "start_time": "2023-03-14T03:28:34.210Z"
   },
   {
    "duration": 11,
    "start_time": "2023-03-14T03:28:34.226Z"
   },
   {
    "duration": 35,
    "start_time": "2023-03-14T03:28:34.239Z"
   },
   {
    "duration": 18,
    "start_time": "2023-03-14T03:28:34.276Z"
   },
   {
    "duration": 26,
    "start_time": "2023-03-14T03:28:34.296Z"
   },
   {
    "duration": 12,
    "start_time": "2023-03-14T03:28:34.324Z"
   },
   {
    "duration": 39,
    "start_time": "2023-03-14T03:28:34.338Z"
   },
   {
    "duration": 21,
    "start_time": "2023-03-14T03:28:34.380Z"
   },
   {
    "duration": 5,
    "start_time": "2023-03-14T03:28:34.403Z"
   },
   {
    "duration": 378,
    "start_time": "2023-03-14T03:28:34.410Z"
   },
   {
    "duration": 337,
    "start_time": "2023-03-14T03:28:34.790Z"
   },
   {
    "duration": 10,
    "start_time": "2023-03-14T03:28:35.129Z"
   },
   {
    "duration": 37,
    "start_time": "2023-03-14T03:28:35.141Z"
   },
   {
    "duration": 297,
    "start_time": "2023-03-14T03:28:35.181Z"
   },
   {
    "duration": 346,
    "start_time": "2023-03-14T03:28:35.481Z"
   },
   {
    "duration": 261,
    "start_time": "2023-03-14T03:28:35.828Z"
   },
   {
    "duration": 322,
    "start_time": "2023-03-14T03:28:36.091Z"
   },
   {
    "duration": 3,
    "start_time": "2023-03-14T03:28:36.415Z"
   },
   {
    "duration": 13,
    "start_time": "2023-03-14T03:28:36.419Z"
   },
   {
    "duration": 179,
    "start_time": "2023-03-14T03:28:36.433Z"
   },
   {
    "duration": 162,
    "start_time": "2023-03-14T03:28:36.614Z"
   },
   {
    "duration": 5,
    "start_time": "2023-03-14T03:28:36.778Z"
   },
   {
    "duration": 9,
    "start_time": "2023-03-14T03:28:36.785Z"
   },
   {
    "duration": 187,
    "start_time": "2023-03-14T03:28:36.796Z"
   },
   {
    "duration": 219,
    "start_time": "2023-03-14T03:28:36.985Z"
   },
   {
    "duration": 4,
    "start_time": "2023-03-14T03:28:37.206Z"
   },
   {
    "duration": 14,
    "start_time": "2023-03-14T03:28:37.212Z"
   },
   {
    "duration": 11,
    "start_time": "2023-03-14T03:28:37.228Z"
   },
   {
    "duration": 336,
    "start_time": "2023-03-14T03:28:37.245Z"
   },
   {
    "duration": 28,
    "start_time": "2023-03-14T03:28:37.583Z"
   },
   {
    "duration": 186,
    "start_time": "2023-03-14T03:28:37.612Z"
   },
   {
    "duration": 6,
    "start_time": "2023-03-14T03:28:37.800Z"
   },
   {
    "duration": 26,
    "start_time": "2023-03-14T03:28:37.807Z"
   },
   {
    "duration": 9,
    "start_time": "2023-03-14T03:28:37.835Z"
   },
   {
    "duration": 12,
    "start_time": "2023-03-14T03:28:37.862Z"
   },
   {
    "duration": 30,
    "start_time": "2023-03-14T03:28:37.876Z"
   },
   {
    "duration": 15,
    "start_time": "2023-03-14T03:28:37.907Z"
   },
   {
    "duration": 7,
    "start_time": "2023-03-14T03:28:49.074Z"
   },
   {
    "duration": 1235,
    "start_time": "2023-03-14T03:30:50.699Z"
   },
   {
    "duration": 84,
    "start_time": "2023-03-14T03:30:51.935Z"
   },
   {
    "duration": 11,
    "start_time": "2023-03-14T03:30:52.021Z"
   },
   {
    "duration": 14,
    "start_time": "2023-03-14T03:30:52.033Z"
   },
   {
    "duration": 19,
    "start_time": "2023-03-14T03:30:52.049Z"
   },
   {
    "duration": 10,
    "start_time": "2023-03-14T03:30:52.070Z"
   },
   {
    "duration": 5,
    "start_time": "2023-03-14T03:30:52.084Z"
   },
   {
    "duration": 8,
    "start_time": "2023-03-14T03:30:52.091Z"
   },
   {
    "duration": 15,
    "start_time": "2023-03-14T03:30:52.101Z"
   },
   {
    "duration": 5,
    "start_time": "2023-03-14T03:30:52.118Z"
   },
   {
    "duration": 7,
    "start_time": "2023-03-14T03:30:52.125Z"
   },
   {
    "duration": 9,
    "start_time": "2023-03-14T03:30:52.134Z"
   },
   {
    "duration": 8,
    "start_time": "2023-03-14T03:30:52.168Z"
   },
   {
    "duration": 8,
    "start_time": "2023-03-14T03:30:52.180Z"
   },
   {
    "duration": 12,
    "start_time": "2023-03-14T03:30:52.189Z"
   },
   {
    "duration": 9,
    "start_time": "2023-03-14T03:30:52.203Z"
   },
   {
    "duration": 10,
    "start_time": "2023-03-14T03:30:52.214Z"
   },
   {
    "duration": 8,
    "start_time": "2023-03-14T03:30:52.225Z"
   },
   {
    "duration": 16,
    "start_time": "2023-03-14T03:30:52.262Z"
   },
   {
    "duration": 18,
    "start_time": "2023-03-14T03:30:52.279Z"
   },
   {
    "duration": 5,
    "start_time": "2023-03-14T03:30:52.299Z"
   },
   {
    "duration": 357,
    "start_time": "2023-03-14T03:30:52.305Z"
   },
   {
    "duration": 321,
    "start_time": "2023-03-14T03:30:52.668Z"
   },
   {
    "duration": 10,
    "start_time": "2023-03-14T03:30:52.991Z"
   },
   {
    "duration": 18,
    "start_time": "2023-03-14T03:30:53.003Z"
   },
   {
    "duration": 234,
    "start_time": "2023-03-14T03:30:53.022Z"
   },
   {
    "duration": 332,
    "start_time": "2023-03-14T03:30:53.268Z"
   },
   {
    "duration": 240,
    "start_time": "2023-03-14T03:30:53.603Z"
   },
   {
    "duration": 361,
    "start_time": "2023-03-14T03:30:53.845Z"
   },
   {
    "duration": 3,
    "start_time": "2023-03-14T03:30:54.207Z"
   },
   {
    "duration": 17,
    "start_time": "2023-03-14T03:30:54.211Z"
   },
   {
    "duration": 156,
    "start_time": "2023-03-14T03:30:54.229Z"
   },
   {
    "duration": 149,
    "start_time": "2023-03-14T03:30:54.386Z"
   },
   {
    "duration": 4,
    "start_time": "2023-03-14T03:30:54.537Z"
   },
   {
    "duration": 10,
    "start_time": "2023-03-14T03:30:54.542Z"
   },
   {
    "duration": 166,
    "start_time": "2023-03-14T03:30:54.566Z"
   },
   {
    "duration": 199,
    "start_time": "2023-03-14T03:30:54.733Z"
   },
   {
    "duration": 4,
    "start_time": "2023-03-14T03:30:54.934Z"
   },
   {
    "duration": 15,
    "start_time": "2023-03-14T03:30:54.940Z"
   },
   {
    "duration": 23,
    "start_time": "2023-03-14T03:30:54.963Z"
   },
   {
    "duration": 330,
    "start_time": "2023-03-14T03:30:54.990Z"
   },
   {
    "duration": 45,
    "start_time": "2023-03-14T03:30:55.322Z"
   },
   {
    "duration": 220,
    "start_time": "2023-03-14T03:30:55.370Z"
   },
   {
    "duration": 7,
    "start_time": "2023-03-14T03:30:55.592Z"
   },
   {
    "duration": 28,
    "start_time": "2023-03-14T03:30:55.601Z"
   },
   {
    "duration": 11,
    "start_time": "2023-03-14T03:30:55.630Z"
   },
   {
    "duration": 29,
    "start_time": "2023-03-14T03:30:55.643Z"
   },
   {
    "duration": 31,
    "start_time": "2023-03-14T03:30:55.674Z"
   },
   {
    "duration": 14,
    "start_time": "2023-03-14T03:30:55.707Z"
   },
   {
    "duration": 10,
    "start_time": "2023-03-14T03:32:05.246Z"
   },
   {
    "duration": 63,
    "start_time": "2023-03-14T16:31:00.800Z"
   },
   {
    "duration": 1471,
    "start_time": "2023-03-14T16:31:08.044Z"
   },
   {
    "duration": 213,
    "start_time": "2023-03-14T16:31:09.518Z"
   },
   {
    "duration": 18,
    "start_time": "2023-03-14T16:31:09.733Z"
   },
   {
    "duration": 13,
    "start_time": "2023-03-14T16:31:09.753Z"
   },
   {
    "duration": 11,
    "start_time": "2023-03-14T16:31:09.769Z"
   },
   {
    "duration": 12,
    "start_time": "2023-03-14T16:31:09.782Z"
   },
   {
    "duration": 28,
    "start_time": "2023-03-14T16:31:09.796Z"
   },
   {
    "duration": 8,
    "start_time": "2023-03-14T16:31:09.826Z"
   },
   {
    "duration": 15,
    "start_time": "2023-03-14T16:31:09.836Z"
   },
   {
    "duration": 8,
    "start_time": "2023-03-14T16:31:09.853Z"
   },
   {
    "duration": 26,
    "start_time": "2023-03-14T16:31:09.862Z"
   },
   {
    "duration": 9,
    "start_time": "2023-03-14T16:31:09.889Z"
   },
   {
    "duration": 7,
    "start_time": "2023-03-14T16:31:09.899Z"
   },
   {
    "duration": 32,
    "start_time": "2023-03-14T16:31:09.909Z"
   },
   {
    "duration": 17,
    "start_time": "2023-03-14T16:31:09.942Z"
   },
   {
    "duration": 12,
    "start_time": "2023-03-14T16:31:09.962Z"
   },
   {
    "duration": 15,
    "start_time": "2023-03-14T16:31:09.975Z"
   },
   {
    "duration": 7,
    "start_time": "2023-03-14T16:31:09.991Z"
   },
   {
    "duration": 46,
    "start_time": "2023-03-14T16:31:10.000Z"
   },
   {
    "duration": 17,
    "start_time": "2023-03-14T16:31:10.048Z"
   },
   {
    "duration": 18,
    "start_time": "2023-03-14T16:31:10.067Z"
   },
   {
    "duration": 317,
    "start_time": "2023-03-14T16:31:10.086Z"
   },
   {
    "duration": 357,
    "start_time": "2023-03-14T16:31:10.406Z"
   },
   {
    "duration": 10,
    "start_time": "2023-03-14T16:31:10.765Z"
   },
   {
    "duration": 16,
    "start_time": "2023-03-14T16:31:10.777Z"
   },
   {
    "duration": 253,
    "start_time": "2023-03-14T16:31:10.795Z"
   },
   {
    "duration": 384,
    "start_time": "2023-03-14T16:31:11.050Z"
   },
   {
    "duration": 262,
    "start_time": "2023-03-14T16:31:11.438Z"
   },
   {
    "duration": 363,
    "start_time": "2023-03-14T16:31:11.702Z"
   },
   {
    "duration": 3,
    "start_time": "2023-03-14T16:31:12.066Z"
   },
   {
    "duration": 23,
    "start_time": "2023-03-14T16:31:12.070Z"
   },
   {
    "duration": 195,
    "start_time": "2023-03-14T16:31:12.094Z"
   },
   {
    "duration": 172,
    "start_time": "2023-03-14T16:31:12.291Z"
   },
   {
    "duration": 4,
    "start_time": "2023-03-14T16:31:12.465Z"
   },
   {
    "duration": 5,
    "start_time": "2023-03-14T16:31:12.471Z"
   },
   {
    "duration": 199,
    "start_time": "2023-03-14T16:31:12.478Z"
   },
   {
    "duration": 214,
    "start_time": "2023-03-14T16:31:12.678Z"
   },
   {
    "duration": 5,
    "start_time": "2023-03-14T16:31:12.894Z"
   },
   {
    "duration": 13,
    "start_time": "2023-03-14T16:31:12.900Z"
   },
   {
    "duration": 8,
    "start_time": "2023-03-14T16:31:12.914Z"
   },
   {
    "duration": 301,
    "start_time": "2023-03-14T16:31:12.927Z"
   },
   {
    "duration": 32,
    "start_time": "2023-03-14T16:31:13.236Z"
   },
   {
    "duration": 196,
    "start_time": "2023-03-14T16:31:13.270Z"
   },
   {
    "duration": 5,
    "start_time": "2023-03-14T16:31:13.468Z"
   },
   {
    "duration": 25,
    "start_time": "2023-03-14T16:31:13.475Z"
   },
   {
    "duration": 27,
    "start_time": "2023-03-14T16:31:13.502Z"
   },
   {
    "duration": 10,
    "start_time": "2023-03-14T16:31:13.531Z"
   },
   {
    "duration": 34,
    "start_time": "2023-03-14T16:31:13.543Z"
   },
   {
    "duration": 19,
    "start_time": "2023-03-14T16:31:13.578Z"
   },
   {
    "duration": 1250,
    "start_time": "2023-03-14T16:38:39.644Z"
   },
   {
    "duration": 72,
    "start_time": "2023-03-14T16:38:40.896Z"
   },
   {
    "duration": 12,
    "start_time": "2023-03-14T16:38:40.970Z"
   },
   {
    "duration": 41,
    "start_time": "2023-03-14T16:38:40.984Z"
   },
   {
    "duration": 16,
    "start_time": "2023-03-14T16:38:41.028Z"
   },
   {
    "duration": 18,
    "start_time": "2023-03-14T16:38:41.046Z"
   },
   {
    "duration": 8,
    "start_time": "2023-03-14T16:38:41.066Z"
   },
   {
    "duration": 8,
    "start_time": "2023-03-14T16:38:41.075Z"
   },
   {
    "duration": 13,
    "start_time": "2023-03-14T16:38:41.085Z"
   },
   {
    "duration": 24,
    "start_time": "2023-03-14T16:38:41.100Z"
   },
   {
    "duration": 8,
    "start_time": "2023-03-14T16:38:41.126Z"
   },
   {
    "duration": 15,
    "start_time": "2023-03-14T16:38:41.135Z"
   },
   {
    "duration": 28,
    "start_time": "2023-03-14T16:38:41.151Z"
   },
   {
    "duration": 11,
    "start_time": "2023-03-14T16:38:41.182Z"
   },
   {
    "duration": 16,
    "start_time": "2023-03-14T16:38:41.195Z"
   },
   {
    "duration": 20,
    "start_time": "2023-03-14T16:38:41.213Z"
   },
   {
    "duration": 16,
    "start_time": "2023-03-14T16:38:41.235Z"
   },
   {
    "duration": 9,
    "start_time": "2023-03-14T16:38:41.253Z"
   },
   {
    "duration": 15,
    "start_time": "2023-03-14T16:38:41.263Z"
   },
   {
    "duration": 47,
    "start_time": "2023-03-14T16:38:41.280Z"
   },
   {
    "duration": 6,
    "start_time": "2023-03-14T16:38:41.330Z"
   },
   {
    "duration": 344,
    "start_time": "2023-03-14T16:38:41.338Z"
   },
   {
    "duration": 381,
    "start_time": "2023-03-14T16:38:41.684Z"
   },
   {
    "duration": 10,
    "start_time": "2023-03-14T16:38:42.067Z"
   },
   {
    "duration": 18,
    "start_time": "2023-03-14T16:38:42.078Z"
   },
   {
    "duration": 246,
    "start_time": "2023-03-14T16:38:42.098Z"
   },
   {
    "duration": 324,
    "start_time": "2023-03-14T16:38:42.346Z"
   },
   {
    "duration": 252,
    "start_time": "2023-03-14T16:38:42.672Z"
   },
   {
    "duration": 339,
    "start_time": "2023-03-14T16:38:42.926Z"
   },
   {
    "duration": 2,
    "start_time": "2023-03-14T16:38:43.267Z"
   },
   {
    "duration": 11,
    "start_time": "2023-03-14T16:38:43.271Z"
   },
   {
    "duration": 160,
    "start_time": "2023-03-14T16:38:43.284Z"
   },
   {
    "duration": 172,
    "start_time": "2023-03-14T16:38:43.446Z"
   },
   {
    "duration": 5,
    "start_time": "2023-03-14T16:38:43.619Z"
   },
   {
    "duration": 10,
    "start_time": "2023-03-14T16:38:43.626Z"
   },
   {
    "duration": 181,
    "start_time": "2023-03-14T16:38:43.638Z"
   },
   {
    "duration": 200,
    "start_time": "2023-03-14T16:38:43.821Z"
   },
   {
    "duration": 6,
    "start_time": "2023-03-14T16:38:44.022Z"
   },
   {
    "duration": 14,
    "start_time": "2023-03-14T16:38:44.030Z"
   },
   {
    "duration": 10,
    "start_time": "2023-03-14T16:38:44.045Z"
   },
   {
    "duration": 335,
    "start_time": "2023-03-14T16:38:44.058Z"
   },
   {
    "duration": 47,
    "start_time": "2023-03-14T16:38:44.394Z"
   },
   {
    "duration": 176,
    "start_time": "2023-03-14T16:38:44.443Z"
   },
   {
    "duration": 7,
    "start_time": "2023-03-14T16:38:44.621Z"
   },
   {
    "duration": 38,
    "start_time": "2023-03-14T16:38:44.631Z"
   },
   {
    "duration": 11,
    "start_time": "2023-03-14T16:38:44.671Z"
   },
   {
    "duration": 23,
    "start_time": "2023-03-14T16:38:44.684Z"
   },
   {
    "duration": 44,
    "start_time": "2023-03-14T16:38:44.709Z"
   },
   {
    "duration": 14,
    "start_time": "2023-03-14T16:38:44.755Z"
   },
   {
    "duration": 307,
    "start_time": "2023-03-14T16:39:29.963Z"
   },
   {
    "duration": 1237,
    "start_time": "2023-03-14T16:39:44.129Z"
   },
   {
    "duration": 77,
    "start_time": "2023-03-14T16:39:45.368Z"
   },
   {
    "duration": 12,
    "start_time": "2023-03-14T16:39:45.446Z"
   },
   {
    "duration": 25,
    "start_time": "2023-03-14T16:39:45.460Z"
   },
   {
    "duration": 14,
    "start_time": "2023-03-14T16:39:45.487Z"
   },
   {
    "duration": 12,
    "start_time": "2023-03-14T16:39:45.503Z"
   },
   {
    "duration": 14,
    "start_time": "2023-03-14T16:39:45.517Z"
   },
   {
    "duration": 6,
    "start_time": "2023-03-14T16:39:45.539Z"
   },
   {
    "duration": 16,
    "start_time": "2023-03-14T16:39:45.546Z"
   },
   {
    "duration": 9,
    "start_time": "2023-03-14T16:39:45.565Z"
   },
   {
    "duration": 10,
    "start_time": "2023-03-14T16:39:45.575Z"
   },
   {
    "duration": 9,
    "start_time": "2023-03-14T16:39:45.587Z"
   },
   {
    "duration": 37,
    "start_time": "2023-03-14T16:39:45.597Z"
   },
   {
    "duration": 13,
    "start_time": "2023-03-14T16:39:45.636Z"
   },
   {
    "duration": 19,
    "start_time": "2023-03-14T16:39:45.651Z"
   },
   {
    "duration": 12,
    "start_time": "2023-03-14T16:39:45.672Z"
   },
   {
    "duration": 45,
    "start_time": "2023-03-14T16:39:45.685Z"
   },
   {
    "duration": 10,
    "start_time": "2023-03-14T16:39:45.732Z"
   },
   {
    "duration": 14,
    "start_time": "2023-03-14T16:39:45.744Z"
   },
   {
    "duration": 18,
    "start_time": "2023-03-14T16:39:45.759Z"
   },
   {
    "duration": 4,
    "start_time": "2023-03-14T16:39:45.778Z"
   },
   {
    "duration": 360,
    "start_time": "2023-03-14T16:39:45.784Z"
   },
   {
    "duration": 384,
    "start_time": "2023-03-14T16:39:46.146Z"
   },
   {
    "duration": 18,
    "start_time": "2023-03-14T16:39:46.532Z"
   },
   {
    "duration": 16,
    "start_time": "2023-03-14T16:39:46.552Z"
   },
   {
    "duration": 241,
    "start_time": "2023-03-14T16:39:46.570Z"
   },
   {
    "duration": 342,
    "start_time": "2023-03-14T16:39:46.813Z"
   },
   {
    "duration": 265,
    "start_time": "2023-03-14T16:39:47.159Z"
   },
   {
    "duration": 352,
    "start_time": "2023-03-14T16:39:47.426Z"
   },
   {
    "duration": 3,
    "start_time": "2023-03-14T16:39:47.780Z"
   },
   {
    "duration": 36,
    "start_time": "2023-03-14T16:39:47.784Z"
   },
   {
    "duration": 219,
    "start_time": "2023-03-14T16:39:47.822Z"
   },
   {
    "duration": 158,
    "start_time": "2023-03-14T16:39:48.043Z"
   },
   {
    "duration": 5,
    "start_time": "2023-03-14T16:39:48.203Z"
   },
   {
    "duration": 15,
    "start_time": "2023-03-14T16:39:48.209Z"
   },
   {
    "duration": 181,
    "start_time": "2023-03-14T16:39:48.225Z"
   },
   {
    "duration": 198,
    "start_time": "2023-03-14T16:39:48.407Z"
   },
   {
    "duration": 5,
    "start_time": "2023-03-14T16:39:48.607Z"
   },
   {
    "duration": 15,
    "start_time": "2023-03-14T16:39:48.613Z"
   },
   {
    "duration": 24,
    "start_time": "2023-03-14T16:39:48.630Z"
   },
   {
    "duration": 320,
    "start_time": "2023-03-14T16:39:48.656Z"
   },
   {
    "duration": 52,
    "start_time": "2023-03-14T16:39:48.978Z"
   },
   {
    "duration": 218,
    "start_time": "2023-03-14T16:39:49.033Z"
   },
   {
    "duration": 6,
    "start_time": "2023-03-14T16:39:49.252Z"
   },
   {
    "duration": 26,
    "start_time": "2023-03-14T16:39:49.260Z"
   },
   {
    "duration": 9,
    "start_time": "2023-03-14T16:39:49.287Z"
   },
   {
    "duration": 34,
    "start_time": "2023-03-14T16:39:49.298Z"
   },
   {
    "duration": 26,
    "start_time": "2023-03-14T16:39:49.334Z"
   },
   {
    "duration": 15,
    "start_time": "2023-03-14T16:39:49.361Z"
   },
   {
    "duration": 1201,
    "start_time": "2023-03-14T16:40:51.995Z"
   },
   {
    "duration": 67,
    "start_time": "2023-03-14T16:40:53.198Z"
   },
   {
    "duration": 12,
    "start_time": "2023-03-14T16:40:53.266Z"
   },
   {
    "duration": 13,
    "start_time": "2023-03-14T16:40:53.280Z"
   },
   {
    "duration": 10,
    "start_time": "2023-03-14T16:40:53.296Z"
   },
   {
    "duration": 8,
    "start_time": "2023-03-14T16:40:53.308Z"
   },
   {
    "duration": 7,
    "start_time": "2023-03-14T16:40:53.318Z"
   },
   {
    "duration": 11,
    "start_time": "2023-03-14T16:40:53.327Z"
   },
   {
    "duration": 20,
    "start_time": "2023-03-14T16:40:53.341Z"
   },
   {
    "duration": 12,
    "start_time": "2023-03-14T16:40:53.363Z"
   },
   {
    "duration": 6,
    "start_time": "2023-03-14T16:40:53.376Z"
   },
   {
    "duration": 10,
    "start_time": "2023-03-14T16:40:53.383Z"
   },
   {
    "duration": 6,
    "start_time": "2023-03-14T16:40:53.395Z"
   },
   {
    "duration": 31,
    "start_time": "2023-03-14T16:40:53.404Z"
   },
   {
    "duration": 20,
    "start_time": "2023-03-14T16:40:53.437Z"
   },
   {
    "duration": 10,
    "start_time": "2023-03-14T16:40:53.459Z"
   },
   {
    "duration": 15,
    "start_time": "2023-03-14T16:40:53.471Z"
   },
   {
    "duration": 9,
    "start_time": "2023-03-14T16:40:53.488Z"
   },
   {
    "duration": 43,
    "start_time": "2023-03-14T16:40:53.499Z"
   },
   {
    "duration": 19,
    "start_time": "2023-03-14T16:40:53.544Z"
   },
   {
    "duration": 8,
    "start_time": "2023-03-14T16:40:53.564Z"
   },
   {
    "duration": 369,
    "start_time": "2023-03-14T16:40:53.574Z"
   },
   {
    "duration": 426,
    "start_time": "2023-03-14T16:40:53.945Z"
   },
   {
    "duration": 10,
    "start_time": "2023-03-14T16:40:54.373Z"
   },
   {
    "duration": 15,
    "start_time": "2023-03-14T16:40:54.385Z"
   },
   {
    "duration": 252,
    "start_time": "2023-03-14T16:40:54.402Z"
   },
   {
    "duration": 327,
    "start_time": "2023-03-14T16:40:54.655Z"
   },
   {
    "duration": 255,
    "start_time": "2023-03-14T16:40:54.984Z"
   },
   {
    "duration": 331,
    "start_time": "2023-03-14T16:40:55.240Z"
   },
   {
    "duration": 2,
    "start_time": "2023-03-14T16:40:55.573Z"
   },
   {
    "duration": 21,
    "start_time": "2023-03-14T16:40:55.577Z"
   },
   {
    "duration": 151,
    "start_time": "2023-03-14T16:40:55.599Z"
   },
   {
    "duration": 163,
    "start_time": "2023-03-14T16:40:55.752Z"
   },
   {
    "duration": 10,
    "start_time": "2023-03-14T16:40:55.917Z"
   },
   {
    "duration": 12,
    "start_time": "2023-03-14T16:40:55.929Z"
   },
   {
    "duration": 175,
    "start_time": "2023-03-14T16:40:55.943Z"
   },
   {
    "duration": 219,
    "start_time": "2023-03-14T16:40:56.120Z"
   },
   {
    "duration": 5,
    "start_time": "2023-03-14T16:40:56.341Z"
   },
   {
    "duration": 13,
    "start_time": "2023-03-14T16:40:56.347Z"
   },
   {
    "duration": 11,
    "start_time": "2023-03-14T16:40:56.362Z"
   },
   {
    "duration": 301,
    "start_time": "2023-03-14T16:40:56.377Z"
   },
   {
    "duration": 45,
    "start_time": "2023-03-14T16:40:56.680Z"
   },
   {
    "duration": 211,
    "start_time": "2023-03-14T16:40:56.726Z"
   },
   {
    "duration": 8,
    "start_time": "2023-03-14T16:40:56.939Z"
   },
   {
    "duration": 24,
    "start_time": "2023-03-14T16:40:56.949Z"
   },
   {
    "duration": 11,
    "start_time": "2023-03-14T16:40:56.974Z"
   },
   {
    "duration": 39,
    "start_time": "2023-03-14T16:40:56.987Z"
   },
   {
    "duration": 28,
    "start_time": "2023-03-14T16:40:57.029Z"
   },
   {
    "duration": 15,
    "start_time": "2023-03-14T16:40:57.059Z"
   },
   {
    "duration": 1219,
    "start_time": "2023-03-14T16:42:05.893Z"
   },
   {
    "duration": 79,
    "start_time": "2023-03-14T16:42:07.114Z"
   },
   {
    "duration": 12,
    "start_time": "2023-03-14T16:42:07.195Z"
   },
   {
    "duration": 21,
    "start_time": "2023-03-14T16:42:07.208Z"
   },
   {
    "duration": 16,
    "start_time": "2023-03-14T16:42:07.233Z"
   },
   {
    "duration": 9,
    "start_time": "2023-03-14T16:42:07.251Z"
   },
   {
    "duration": 7,
    "start_time": "2023-03-14T16:42:07.262Z"
   },
   {
    "duration": 17,
    "start_time": "2023-03-14T16:42:07.270Z"
   },
   {
    "duration": 15,
    "start_time": "2023-03-14T16:42:07.289Z"
   },
   {
    "duration": 8,
    "start_time": "2023-03-14T16:42:07.324Z"
   },
   {
    "duration": 15,
    "start_time": "2023-03-14T16:42:07.334Z"
   },
   {
    "duration": 10,
    "start_time": "2023-03-14T16:42:07.351Z"
   },
   {
    "duration": 10,
    "start_time": "2023-03-14T16:42:07.362Z"
   },
   {
    "duration": 10,
    "start_time": "2023-03-14T16:42:07.375Z"
   },
   {
    "duration": 15,
    "start_time": "2023-03-14T16:42:07.387Z"
   },
   {
    "duration": 15,
    "start_time": "2023-03-14T16:42:07.429Z"
   },
   {
    "duration": 10,
    "start_time": "2023-03-14T16:42:07.446Z"
   },
   {
    "duration": 8,
    "start_time": "2023-03-14T16:42:07.457Z"
   },
   {
    "duration": 16,
    "start_time": "2023-03-14T16:42:07.466Z"
   },
   {
    "duration": 47,
    "start_time": "2023-03-14T16:42:07.483Z"
   },
   {
    "duration": 6,
    "start_time": "2023-03-14T16:42:07.532Z"
   },
   {
    "duration": 333,
    "start_time": "2023-03-14T16:42:07.540Z"
   },
   {
    "duration": 394,
    "start_time": "2023-03-14T16:42:07.875Z"
   },
   {
    "duration": 10,
    "start_time": "2023-03-14T16:42:08.271Z"
   },
   {
    "duration": 28,
    "start_time": "2023-03-14T16:42:08.282Z"
   },
   {
    "duration": 232,
    "start_time": "2023-03-14T16:42:08.324Z"
   },
   {
    "duration": 313,
    "start_time": "2023-03-14T16:42:08.558Z"
   },
   {
    "duration": 296,
    "start_time": "2023-03-14T16:42:08.873Z"
   },
   {
    "duration": 370,
    "start_time": "2023-03-14T16:42:09.171Z"
   },
   {
    "duration": 4,
    "start_time": "2023-03-14T16:42:09.543Z"
   },
   {
    "duration": 12,
    "start_time": "2023-03-14T16:42:09.549Z"
   },
   {
    "duration": 136,
    "start_time": "2023-03-14T16:42:09.563Z"
   },
   {
    "duration": 163,
    "start_time": "2023-03-14T16:42:09.700Z"
   },
   {
    "duration": 4,
    "start_time": "2023-03-14T16:42:09.865Z"
   },
   {
    "duration": 24,
    "start_time": "2023-03-14T16:42:09.871Z"
   },
   {
    "duration": 165,
    "start_time": "2023-03-14T16:42:09.897Z"
   },
   {
    "duration": 225,
    "start_time": "2023-03-14T16:42:10.064Z"
   },
   {
    "duration": 4,
    "start_time": "2023-03-14T16:42:10.291Z"
   },
   {
    "duration": 24,
    "start_time": "2023-03-14T16:42:10.297Z"
   },
   {
    "duration": 11,
    "start_time": "2023-03-14T16:42:10.322Z"
   },
   {
    "duration": 312,
    "start_time": "2023-03-14T16:42:10.338Z"
   },
   {
    "duration": 29,
    "start_time": "2023-03-14T16:42:10.652Z"
   },
   {
    "duration": 195,
    "start_time": "2023-03-14T16:42:10.682Z"
   },
   {
    "duration": 6,
    "start_time": "2023-03-14T16:42:10.879Z"
   },
   {
    "duration": 46,
    "start_time": "2023-03-14T16:42:10.887Z"
   },
   {
    "duration": 11,
    "start_time": "2023-03-14T16:42:10.934Z"
   },
   {
    "duration": 9,
    "start_time": "2023-03-14T16:42:10.947Z"
   },
   {
    "duration": 24,
    "start_time": "2023-03-14T16:42:10.958Z"
   },
   {
    "duration": 14,
    "start_time": "2023-03-14T16:42:10.983Z"
   },
   {
    "duration": 293,
    "start_time": "2023-03-14T16:42:33.117Z"
   },
   {
    "duration": 315,
    "start_time": "2023-03-14T16:43:38.740Z"
   },
   {
    "duration": 372,
    "start_time": "2023-03-14T16:43:59.163Z"
   },
   {
    "duration": 291,
    "start_time": "2023-03-14T16:44:35.897Z"
   },
   {
    "duration": 367,
    "start_time": "2023-03-14T16:46:58.816Z"
   },
   {
    "duration": 52,
    "start_time": "2023-03-14T19:31:44.841Z"
   },
   {
    "duration": 1324,
    "start_time": "2023-03-14T19:31:52.545Z"
   },
   {
    "duration": 228,
    "start_time": "2023-03-14T19:31:53.871Z"
   },
   {
    "duration": 12,
    "start_time": "2023-03-14T19:31:54.103Z"
   },
   {
    "duration": 18,
    "start_time": "2023-03-14T19:31:54.117Z"
   },
   {
    "duration": 11,
    "start_time": "2023-03-14T19:31:54.137Z"
   },
   {
    "duration": 9,
    "start_time": "2023-03-14T19:31:54.149Z"
   },
   {
    "duration": 5,
    "start_time": "2023-03-14T19:31:54.160Z"
   },
   {
    "duration": 6,
    "start_time": "2023-03-14T19:31:54.166Z"
   },
   {
    "duration": 10,
    "start_time": "2023-03-14T19:31:54.173Z"
   },
   {
    "duration": 3,
    "start_time": "2023-03-14T19:31:54.185Z"
   },
   {
    "duration": 48,
    "start_time": "2023-03-14T19:31:54.189Z"
   },
   {
    "duration": 8,
    "start_time": "2023-03-14T19:31:54.238Z"
   },
   {
    "duration": 18,
    "start_time": "2023-03-14T19:31:54.249Z"
   },
   {
    "duration": 13,
    "start_time": "2023-03-14T19:31:54.270Z"
   },
   {
    "duration": 12,
    "start_time": "2023-03-14T19:31:54.284Z"
   },
   {
    "duration": 10,
    "start_time": "2023-03-14T19:31:54.297Z"
   },
   {
    "duration": 18,
    "start_time": "2023-03-14T19:31:54.323Z"
   },
   {
    "duration": 7,
    "start_time": "2023-03-14T19:31:54.342Z"
   },
   {
    "duration": 12,
    "start_time": "2023-03-14T19:31:54.351Z"
   },
   {
    "duration": 16,
    "start_time": "2023-03-14T19:31:54.364Z"
   },
   {
    "duration": 4,
    "start_time": "2023-03-14T19:31:54.382Z"
   },
   {
    "duration": 347,
    "start_time": "2023-03-14T19:31:54.387Z"
   },
   {
    "duration": 405,
    "start_time": "2023-03-14T19:31:54.735Z"
   },
   {
    "duration": 10,
    "start_time": "2023-03-14T19:31:55.141Z"
   },
   {
    "duration": 16,
    "start_time": "2023-03-14T19:31:55.153Z"
   },
   {
    "duration": 226,
    "start_time": "2023-03-14T19:31:55.170Z"
   },
   {
    "duration": 382,
    "start_time": "2023-03-14T19:31:55.398Z"
   },
   {
    "duration": 238,
    "start_time": "2023-03-14T19:31:55.782Z"
   },
   {
    "duration": 329,
    "start_time": "2023-03-14T19:31:56.022Z"
   },
   {
    "duration": 6,
    "start_time": "2023-03-14T19:31:56.356Z"
   },
   {
    "duration": 12,
    "start_time": "2023-03-14T19:31:56.364Z"
   },
   {
    "duration": 139,
    "start_time": "2023-03-14T19:31:56.377Z"
   },
   {
    "duration": 157,
    "start_time": "2023-03-14T19:31:56.517Z"
   },
   {
    "duration": 4,
    "start_time": "2023-03-14T19:31:56.676Z"
   },
   {
    "duration": 5,
    "start_time": "2023-03-14T19:31:56.682Z"
   },
   {
    "duration": 190,
    "start_time": "2023-03-14T19:31:56.689Z"
   },
   {
    "duration": 187,
    "start_time": "2023-03-14T19:31:56.881Z"
   },
   {
    "duration": 5,
    "start_time": "2023-03-14T19:31:57.071Z"
   },
   {
    "duration": 10,
    "start_time": "2023-03-14T19:31:57.078Z"
   },
   {
    "duration": 14,
    "start_time": "2023-03-14T19:31:57.092Z"
   },
   {
    "duration": 297,
    "start_time": "2023-03-14T19:31:57.108Z"
   },
   {
    "duration": 33,
    "start_time": "2023-03-14T19:31:57.407Z"
   },
   {
    "duration": 200,
    "start_time": "2023-03-14T19:31:57.442Z"
   },
   {
    "duration": 5,
    "start_time": "2023-03-14T19:31:57.644Z"
   },
   {
    "duration": 22,
    "start_time": "2023-03-14T19:31:57.650Z"
   },
   {
    "duration": 8,
    "start_time": "2023-03-14T19:31:57.673Z"
   },
   {
    "duration": 10,
    "start_time": "2023-03-14T19:31:57.683Z"
   },
   {
    "duration": 53,
    "start_time": "2023-03-14T19:31:57.694Z"
   },
   {
    "duration": 14,
    "start_time": "2023-03-14T19:31:57.749Z"
   },
   {
    "duration": 33,
    "start_time": "2023-03-14T19:32:29.107Z"
   },
   {
    "duration": 20,
    "start_time": "2023-03-14T19:37:21.464Z"
   },
   {
    "duration": 350,
    "start_time": "2023-03-14T20:29:28.916Z"
   },
   {
    "duration": 351,
    "start_time": "2023-03-14T20:30:48.209Z"
   },
   {
    "duration": 49,
    "start_time": "2023-03-15T04:42:13.151Z"
   },
   {
    "duration": 1319,
    "start_time": "2023-03-15T04:42:19.501Z"
   },
   {
    "duration": 185,
    "start_time": "2023-03-15T04:42:20.822Z"
   },
   {
    "duration": 14,
    "start_time": "2023-03-15T04:42:21.008Z"
   },
   {
    "duration": 15,
    "start_time": "2023-03-15T04:42:21.024Z"
   },
   {
    "duration": 10,
    "start_time": "2023-03-15T04:42:21.042Z"
   },
   {
    "duration": 15,
    "start_time": "2023-03-15T04:42:21.054Z"
   },
   {
    "duration": 17,
    "start_time": "2023-03-15T04:42:21.071Z"
   },
   {
    "duration": 8,
    "start_time": "2023-03-15T04:42:21.089Z"
   },
   {
    "duration": 18,
    "start_time": "2023-03-15T04:42:21.112Z"
   },
   {
    "duration": 7,
    "start_time": "2023-03-15T04:42:21.131Z"
   },
   {
    "duration": 12,
    "start_time": "2023-03-15T04:42:21.140Z"
   },
   {
    "duration": 8,
    "start_time": "2023-03-15T04:42:21.155Z"
   },
   {
    "duration": 11,
    "start_time": "2023-03-15T04:42:21.166Z"
   },
   {
    "duration": 14,
    "start_time": "2023-03-15T04:42:21.180Z"
   },
   {
    "duration": 29,
    "start_time": "2023-03-15T04:42:21.195Z"
   },
   {
    "duration": 12,
    "start_time": "2023-03-15T04:42:21.226Z"
   },
   {
    "duration": 15,
    "start_time": "2023-03-15T04:42:21.240Z"
   },
   {
    "duration": 9,
    "start_time": "2023-03-15T04:42:21.256Z"
   },
   {
    "duration": 14,
    "start_time": "2023-03-15T04:42:21.267Z"
   },
   {
    "duration": 18,
    "start_time": "2023-03-15T04:42:21.311Z"
   },
   {
    "duration": 4,
    "start_time": "2023-03-15T04:42:21.330Z"
   },
   {
    "duration": 311,
    "start_time": "2023-03-15T04:42:21.335Z"
   },
   {
    "duration": 375,
    "start_time": "2023-03-15T04:42:21.648Z"
   },
   {
    "duration": 9,
    "start_time": "2023-03-15T04:42:22.025Z"
   },
   {
    "duration": 22,
    "start_time": "2023-03-15T04:42:22.036Z"
   },
   {
    "duration": 222,
    "start_time": "2023-03-15T04:42:22.059Z"
   },
   {
    "duration": 371,
    "start_time": "2023-03-15T04:42:22.282Z"
   },
   {
    "duration": 229,
    "start_time": "2023-03-15T04:42:22.655Z"
   },
   {
    "duration": 338,
    "start_time": "2023-03-15T04:42:22.885Z"
   },
   {
    "duration": 2,
    "start_time": "2023-03-15T04:42:23.225Z"
   },
   {
    "duration": 17,
    "start_time": "2023-03-15T04:42:23.228Z"
   },
   {
    "duration": 142,
    "start_time": "2023-03-15T04:42:23.247Z"
   },
   {
    "duration": 160,
    "start_time": "2023-03-15T04:42:23.390Z"
   },
   {
    "duration": 4,
    "start_time": "2023-03-15T04:42:23.552Z"
   },
   {
    "duration": 10,
    "start_time": "2023-03-15T04:42:23.559Z"
   },
   {
    "duration": 251,
    "start_time": "2023-03-15T04:42:23.571Z"
   },
   {
    "duration": 190,
    "start_time": "2023-03-15T04:42:23.824Z"
   },
   {
    "duration": 6,
    "start_time": "2023-03-15T04:42:24.016Z"
   },
   {
    "duration": 19,
    "start_time": "2023-03-15T04:42:24.024Z"
   },
   {
    "duration": 13,
    "start_time": "2023-03-15T04:42:24.045Z"
   },
   {
    "duration": 238,
    "start_time": "2023-03-15T04:42:24.062Z"
   },
   {
    "duration": 34,
    "start_time": "2023-03-15T04:42:24.301Z"
   },
   {
    "duration": 158,
    "start_time": "2023-03-15T04:42:24.336Z"
   },
   {
    "duration": 17,
    "start_time": "2023-03-15T04:42:24.496Z"
   },
   {
    "duration": 19,
    "start_time": "2023-03-15T04:42:24.515Z"
   },
   {
    "duration": 9,
    "start_time": "2023-03-15T04:42:24.536Z"
   },
   {
    "duration": 8,
    "start_time": "2023-03-15T04:42:24.547Z"
   },
   {
    "duration": 21,
    "start_time": "2023-03-15T04:42:24.556Z"
   },
   {
    "duration": 40,
    "start_time": "2023-03-15T04:42:24.579Z"
   },
   {
    "duration": 9,
    "start_time": "2023-03-15T05:17:05.802Z"
   },
   {
    "duration": 9,
    "start_time": "2023-03-15T05:17:48.438Z"
   },
   {
    "duration": 1251,
    "start_time": "2023-03-15T05:19:43.815Z"
   },
   {
    "duration": 61,
    "start_time": "2023-03-15T05:19:45.068Z"
   },
   {
    "duration": 11,
    "start_time": "2023-03-15T05:19:45.131Z"
   },
   {
    "duration": 16,
    "start_time": "2023-03-15T05:19:45.144Z"
   },
   {
    "duration": 10,
    "start_time": "2023-03-15T05:19:45.163Z"
   },
   {
    "duration": 9,
    "start_time": "2023-03-15T05:19:45.175Z"
   },
   {
    "duration": 27,
    "start_time": "2023-03-15T05:19:45.185Z"
   },
   {
    "duration": 5,
    "start_time": "2023-03-15T05:19:45.214Z"
   },
   {
    "duration": 11,
    "start_time": "2023-03-15T05:19:45.221Z"
   },
   {
    "duration": 6,
    "start_time": "2023-03-15T05:19:45.234Z"
   },
   {
    "duration": 9,
    "start_time": "2023-03-15T05:19:45.242Z"
   },
   {
    "duration": 18,
    "start_time": "2023-03-15T05:19:45.252Z"
   },
   {
    "duration": 10,
    "start_time": "2023-03-15T05:19:45.272Z"
   },
   {
    "duration": 13,
    "start_time": "2023-03-15T05:19:45.314Z"
   },
   {
    "duration": 12,
    "start_time": "2023-03-15T05:19:45.330Z"
   },
   {
    "duration": 11,
    "start_time": "2023-03-15T05:19:45.345Z"
   },
   {
    "duration": 17,
    "start_time": "2023-03-15T05:19:45.358Z"
   },
   {
    "duration": 40,
    "start_time": "2023-03-15T05:19:45.377Z"
   },
   {
    "duration": 15,
    "start_time": "2023-03-15T05:19:45.419Z"
   },
   {
    "duration": 32,
    "start_time": "2023-03-15T05:19:45.435Z"
   },
   {
    "duration": 19,
    "start_time": "2023-03-15T05:19:45.469Z"
   },
   {
    "duration": 331,
    "start_time": "2023-03-15T05:19:45.489Z"
   },
   {
    "duration": 385,
    "start_time": "2023-03-15T05:19:45.822Z"
   },
   {
    "duration": 11,
    "start_time": "2023-03-15T05:19:46.211Z"
   },
   {
    "duration": 16,
    "start_time": "2023-03-15T05:19:46.224Z"
   },
   {
    "duration": 240,
    "start_time": "2023-03-15T05:19:46.242Z"
   },
   {
    "duration": 347,
    "start_time": "2023-03-15T05:19:46.484Z"
   },
   {
    "duration": 255,
    "start_time": "2023-03-15T05:19:46.833Z"
   },
   {
    "duration": 343,
    "start_time": "2023-03-15T05:19:47.090Z"
   },
   {
    "duration": 3,
    "start_time": "2023-03-15T05:19:47.435Z"
   },
   {
    "duration": 12,
    "start_time": "2023-03-15T05:19:47.440Z"
   },
   {
    "duration": 163,
    "start_time": "2023-03-15T05:19:47.454Z"
   },
   {
    "duration": 203,
    "start_time": "2023-03-15T05:19:47.618Z"
   },
   {
    "duration": 6,
    "start_time": "2023-03-15T05:19:47.823Z"
   },
   {
    "duration": 7,
    "start_time": "2023-03-15T05:19:47.831Z"
   },
   {
    "duration": 231,
    "start_time": "2023-03-15T05:19:47.840Z"
   },
   {
    "duration": 197,
    "start_time": "2023-03-15T05:19:48.073Z"
   },
   {
    "duration": 6,
    "start_time": "2023-03-15T05:19:48.272Z"
   },
   {
    "duration": 308,
    "start_time": "2023-03-15T05:19:48.281Z"
   },
   {
    "duration": 36,
    "start_time": "2023-03-15T05:19:48.590Z"
   },
   {
    "duration": 185,
    "start_time": "2023-03-15T05:19:48.630Z"
   },
   {
    "duration": 34,
    "start_time": "2023-03-15T05:19:48.817Z"
   },
   {
    "duration": 12,
    "start_time": "2023-03-15T05:19:48.854Z"
   },
   {
    "duration": 12,
    "start_time": "2023-03-15T05:19:48.868Z"
   },
   {
    "duration": 53,
    "start_time": "2023-03-15T05:19:48.882Z"
   },
   {
    "duration": 16,
    "start_time": "2023-03-15T05:19:48.937Z"
   },
   {
    "duration": 1230,
    "start_time": "2023-03-15T05:24:43.265Z"
   },
   {
    "duration": 62,
    "start_time": "2023-03-15T05:24:44.497Z"
   },
   {
    "duration": 13,
    "start_time": "2023-03-15T05:24:44.560Z"
   },
   {
    "duration": 14,
    "start_time": "2023-03-15T05:24:44.574Z"
   },
   {
    "duration": 13,
    "start_time": "2023-03-15T05:24:44.590Z"
   },
   {
    "duration": 10,
    "start_time": "2023-03-15T05:24:44.604Z"
   },
   {
    "duration": 6,
    "start_time": "2023-03-15T05:24:44.616Z"
   },
   {
    "duration": 7,
    "start_time": "2023-03-15T05:24:44.624Z"
   },
   {
    "duration": 13,
    "start_time": "2023-03-15T05:24:44.633Z"
   },
   {
    "duration": 7,
    "start_time": "2023-03-15T05:24:44.647Z"
   },
   {
    "duration": 6,
    "start_time": "2023-03-15T05:24:44.656Z"
   },
   {
    "duration": 9,
    "start_time": "2023-03-15T05:24:44.664Z"
   },
   {
    "duration": 43,
    "start_time": "2023-03-15T05:24:44.675Z"
   },
   {
    "duration": 11,
    "start_time": "2023-03-15T05:24:44.721Z"
   },
   {
    "duration": 13,
    "start_time": "2023-03-15T05:24:44.733Z"
   },
   {
    "duration": 10,
    "start_time": "2023-03-15T05:24:44.748Z"
   },
   {
    "duration": 10,
    "start_time": "2023-03-15T05:24:44.760Z"
   },
   {
    "duration": 46,
    "start_time": "2023-03-15T05:24:44.772Z"
   },
   {
    "duration": 16,
    "start_time": "2023-03-15T05:24:44.820Z"
   },
   {
    "duration": 22,
    "start_time": "2023-03-15T05:24:44.837Z"
   },
   {
    "duration": 4,
    "start_time": "2023-03-15T05:24:44.861Z"
   },
   {
    "duration": 357,
    "start_time": "2023-03-15T05:24:44.867Z"
   },
   {
    "duration": 415,
    "start_time": "2023-03-15T05:24:45.226Z"
   },
   {
    "duration": 11,
    "start_time": "2023-03-15T05:24:45.643Z"
   },
   {
    "duration": 21,
    "start_time": "2023-03-15T05:24:45.656Z"
   },
   {
    "duration": 223,
    "start_time": "2023-03-15T05:24:45.679Z"
   },
   {
    "duration": 327,
    "start_time": "2023-03-15T05:24:45.904Z"
   },
   {
    "duration": 253,
    "start_time": "2023-03-15T05:24:46.233Z"
   },
   {
    "duration": 367,
    "start_time": "2023-03-15T05:24:46.488Z"
   },
   {
    "duration": 3,
    "start_time": "2023-03-15T05:24:46.857Z"
   },
   {
    "duration": 11,
    "start_time": "2023-03-15T05:24:46.861Z"
   },
   {
    "duration": 193,
    "start_time": "2023-03-15T05:24:46.874Z"
   },
   {
    "duration": 146,
    "start_time": "2023-03-15T05:24:47.069Z"
   },
   {
    "duration": 6,
    "start_time": "2023-03-15T05:24:47.217Z"
   },
   {
    "duration": 7,
    "start_time": "2023-03-15T05:24:47.224Z"
   },
   {
    "duration": 212,
    "start_time": "2023-03-15T05:24:47.233Z"
   },
   {
    "duration": 203,
    "start_time": "2023-03-15T05:24:47.447Z"
   },
   {
    "duration": 4,
    "start_time": "2023-03-15T05:24:47.652Z"
   },
   {
    "duration": 293,
    "start_time": "2023-03-15T05:24:47.658Z"
   },
   {
    "duration": 30,
    "start_time": "2023-03-15T05:24:47.953Z"
   },
   {
    "duration": 186,
    "start_time": "2023-03-15T05:24:47.987Z"
   },
   {
    "duration": 23,
    "start_time": "2023-03-15T05:24:48.175Z"
   },
   {
    "duration": 19,
    "start_time": "2023-03-15T05:24:48.200Z"
   },
   {
    "duration": 8,
    "start_time": "2023-03-15T05:24:48.220Z"
   },
   {
    "duration": 21,
    "start_time": "2023-03-15T05:24:48.230Z"
   },
   {
    "duration": 14,
    "start_time": "2023-03-15T05:24:48.252Z"
   },
   {
    "duration": 78,
    "start_time": "2023-03-15T05:25:16.859Z"
   },
   {
    "duration": 23,
    "start_time": "2023-03-15T05:25:28.208Z"
   },
   {
    "duration": 90,
    "start_time": "2023-03-15T05:27:04.097Z"
   },
   {
    "duration": 77,
    "start_time": "2023-03-15T05:29:56.102Z"
   },
   {
    "duration": 1201,
    "start_time": "2023-03-15T05:30:03.847Z"
   },
   {
    "duration": 62,
    "start_time": "2023-03-15T05:30:05.050Z"
   },
   {
    "duration": 12,
    "start_time": "2023-03-15T05:30:05.114Z"
   },
   {
    "duration": 19,
    "start_time": "2023-03-15T05:30:05.128Z"
   },
   {
    "duration": 13,
    "start_time": "2023-03-15T05:30:05.148Z"
   },
   {
    "duration": 20,
    "start_time": "2023-03-15T05:30:05.163Z"
   },
   {
    "duration": 16,
    "start_time": "2023-03-15T05:30:05.184Z"
   },
   {
    "duration": 19,
    "start_time": "2023-03-15T05:30:05.202Z"
   },
   {
    "duration": 12,
    "start_time": "2023-03-15T05:30:05.225Z"
   },
   {
    "duration": 5,
    "start_time": "2023-03-15T05:30:05.241Z"
   },
   {
    "duration": 8,
    "start_time": "2023-03-15T05:30:05.248Z"
   },
   {
    "duration": 12,
    "start_time": "2023-03-15T05:30:05.258Z"
   },
   {
    "duration": 41,
    "start_time": "2023-03-15T05:30:05.272Z"
   },
   {
    "duration": 12,
    "start_time": "2023-03-15T05:30:05.314Z"
   },
   {
    "duration": 13,
    "start_time": "2023-03-15T05:30:05.327Z"
   },
   {
    "duration": 15,
    "start_time": "2023-03-15T05:30:05.342Z"
   },
   {
    "duration": 15,
    "start_time": "2023-03-15T05:30:05.360Z"
   },
   {
    "duration": 43,
    "start_time": "2023-03-15T05:30:05.377Z"
   },
   {
    "duration": 29,
    "start_time": "2023-03-15T05:30:05.422Z"
   },
   {
    "duration": 29,
    "start_time": "2023-03-15T05:30:05.453Z"
   },
   {
    "duration": 7,
    "start_time": "2023-03-15T05:30:05.484Z"
   },
   {
    "duration": 327,
    "start_time": "2023-03-15T05:30:05.493Z"
   },
   {
    "duration": 370,
    "start_time": "2023-03-15T05:30:05.822Z"
   },
   {
    "duration": 19,
    "start_time": "2023-03-15T05:30:06.194Z"
   },
   {
    "duration": 22,
    "start_time": "2023-03-15T05:30:06.216Z"
   },
   {
    "duration": 236,
    "start_time": "2023-03-15T05:30:06.241Z"
   },
   {
    "duration": 373,
    "start_time": "2023-03-15T05:30:06.479Z"
   },
   {
    "duration": 296,
    "start_time": "2023-03-15T05:30:06.856Z"
   },
   {
    "duration": 325,
    "start_time": "2023-03-15T05:30:07.154Z"
   },
   {
    "duration": 2,
    "start_time": "2023-03-15T05:30:07.481Z"
   },
   {
    "duration": 11,
    "start_time": "2023-03-15T05:30:07.485Z"
   },
   {
    "duration": 172,
    "start_time": "2023-03-15T05:30:07.498Z"
   },
   {
    "duration": 167,
    "start_time": "2023-03-15T05:30:07.671Z"
   },
   {
    "duration": 5,
    "start_time": "2023-03-15T05:30:07.840Z"
   },
   {
    "duration": 13,
    "start_time": "2023-03-15T05:30:07.847Z"
   },
   {
    "duration": 205,
    "start_time": "2023-03-15T05:30:07.862Z"
   },
   {
    "duration": 220,
    "start_time": "2023-03-15T05:30:08.070Z"
   },
   {
    "duration": 6,
    "start_time": "2023-03-15T05:30:08.291Z"
   },
   {
    "duration": 293,
    "start_time": "2023-03-15T05:30:08.298Z"
   },
   {
    "duration": 43,
    "start_time": "2023-03-15T05:30:08.593Z"
   },
   {
    "duration": 212,
    "start_time": "2023-03-15T05:30:08.638Z"
   },
   {
    "duration": 23,
    "start_time": "2023-03-15T05:30:08.852Z"
   },
   {
    "duration": 78,
    "start_time": "2023-03-15T05:30:08.878Z"
   },
   {
    "duration": 0,
    "start_time": "2023-03-15T05:30:08.958Z"
   },
   {
    "duration": 0,
    "start_time": "2023-03-15T05:30:08.959Z"
   },
   {
    "duration": 0,
    "start_time": "2023-03-15T05:30:08.960Z"
   },
   {
    "duration": 0,
    "start_time": "2023-03-15T05:30:08.962Z"
   },
   {
    "duration": 56,
    "start_time": "2023-03-15T15:23:33.456Z"
   },
   {
    "duration": 1491,
    "start_time": "2023-03-15T15:24:45.504Z"
   },
   {
    "duration": 171,
    "start_time": "2023-03-15T15:24:46.997Z"
   },
   {
    "duration": 13,
    "start_time": "2023-03-15T15:24:47.170Z"
   },
   {
    "duration": 31,
    "start_time": "2023-03-15T15:24:47.185Z"
   },
   {
    "duration": 13,
    "start_time": "2023-03-15T15:24:47.220Z"
   },
   {
    "duration": 26,
    "start_time": "2023-03-15T15:24:47.237Z"
   },
   {
    "duration": 10,
    "start_time": "2023-03-15T15:24:47.264Z"
   },
   {
    "duration": 11,
    "start_time": "2023-03-15T15:24:47.276Z"
   },
   {
    "duration": 14,
    "start_time": "2023-03-15T15:24:47.289Z"
   },
   {
    "duration": 7,
    "start_time": "2023-03-15T15:24:47.305Z"
   },
   {
    "duration": 8,
    "start_time": "2023-03-15T15:24:47.314Z"
   },
   {
    "duration": 21,
    "start_time": "2023-03-15T15:24:47.324Z"
   },
   {
    "duration": 18,
    "start_time": "2023-03-15T15:24:47.347Z"
   },
   {
    "duration": 20,
    "start_time": "2023-03-15T15:24:47.368Z"
   },
   {
    "duration": 17,
    "start_time": "2023-03-15T15:24:47.390Z"
   },
   {
    "duration": 21,
    "start_time": "2023-03-15T15:24:47.409Z"
   },
   {
    "duration": 28,
    "start_time": "2023-03-15T15:24:47.432Z"
   },
   {
    "duration": 9,
    "start_time": "2023-03-15T15:24:47.463Z"
   },
   {
    "duration": 24,
    "start_time": "2023-03-15T15:24:47.474Z"
   },
   {
    "duration": 32,
    "start_time": "2023-03-15T15:24:47.500Z"
   },
   {
    "duration": 8,
    "start_time": "2023-03-15T15:24:47.535Z"
   },
   {
    "duration": 362,
    "start_time": "2023-03-15T15:24:47.546Z"
   },
   {
    "duration": 460,
    "start_time": "2023-03-15T15:24:47.910Z"
   },
   {
    "duration": 11,
    "start_time": "2023-03-15T15:24:48.371Z"
   },
   {
    "duration": 22,
    "start_time": "2023-03-15T15:24:48.384Z"
   },
   {
    "duration": 269,
    "start_time": "2023-03-15T15:24:48.407Z"
   },
   {
    "duration": 406,
    "start_time": "2023-03-15T15:24:48.678Z"
   },
   {
    "duration": 274,
    "start_time": "2023-03-15T15:24:49.086Z"
   },
   {
    "duration": 323,
    "start_time": "2023-03-15T15:24:49.362Z"
   },
   {
    "duration": 2,
    "start_time": "2023-03-15T15:24:49.687Z"
   },
   {
    "duration": 15,
    "start_time": "2023-03-15T15:24:49.690Z"
   },
   {
    "duration": 153,
    "start_time": "2023-03-15T15:24:49.707Z"
   },
   {
    "duration": 179,
    "start_time": "2023-03-15T15:24:49.862Z"
   },
   {
    "duration": 8,
    "start_time": "2023-03-15T15:24:50.045Z"
   },
   {
    "duration": 25,
    "start_time": "2023-03-15T15:24:50.056Z"
   },
   {
    "duration": 222,
    "start_time": "2023-03-15T15:24:50.083Z"
   },
   {
    "duration": 216,
    "start_time": "2023-03-15T15:24:50.307Z"
   },
   {
    "duration": 4,
    "start_time": "2023-03-15T15:24:50.525Z"
   },
   {
    "duration": 334,
    "start_time": "2023-03-15T15:24:50.532Z"
   },
   {
    "duration": 27,
    "start_time": "2023-03-15T15:24:50.868Z"
   },
   {
    "duration": 191,
    "start_time": "2023-03-15T15:24:50.899Z"
   },
   {
    "duration": 42,
    "start_time": "2023-03-15T15:24:51.092Z"
   },
   {
    "duration": 1023,
    "start_time": "2023-03-15T15:24:51.136Z"
   },
   {
    "duration": 0,
    "start_time": "2023-03-15T15:24:52.161Z"
   },
   {
    "duration": 0,
    "start_time": "2023-03-15T15:24:52.162Z"
   },
   {
    "duration": 0,
    "start_time": "2023-03-15T15:24:52.164Z"
   },
   {
    "duration": 0,
    "start_time": "2023-03-15T15:24:52.166Z"
   },
   {
    "duration": 9,
    "start_time": "2023-03-15T15:27:41.644Z"
   },
   {
    "duration": 15,
    "start_time": "2023-03-15T15:27:52.345Z"
   },
   {
    "duration": 1297,
    "start_time": "2023-03-15T15:28:46.529Z"
   },
   {
    "duration": 67,
    "start_time": "2023-03-15T15:28:47.828Z"
   },
   {
    "duration": 12,
    "start_time": "2023-03-15T15:28:47.897Z"
   },
   {
    "duration": 17,
    "start_time": "2023-03-15T15:28:47.911Z"
   },
   {
    "duration": 28,
    "start_time": "2023-03-15T15:28:47.929Z"
   },
   {
    "duration": 14,
    "start_time": "2023-03-15T15:28:47.960Z"
   },
   {
    "duration": 8,
    "start_time": "2023-03-15T15:28:47.976Z"
   },
   {
    "duration": 14,
    "start_time": "2023-03-15T15:28:47.986Z"
   },
   {
    "duration": 14,
    "start_time": "2023-03-15T15:28:48.002Z"
   },
   {
    "duration": 40,
    "start_time": "2023-03-15T15:28:48.019Z"
   },
   {
    "duration": 8,
    "start_time": "2023-03-15T15:28:48.062Z"
   },
   {
    "duration": 15,
    "start_time": "2023-03-15T15:28:48.073Z"
   },
   {
    "duration": 18,
    "start_time": "2023-03-15T15:28:48.090Z"
   },
   {
    "duration": 21,
    "start_time": "2023-03-15T15:28:48.110Z"
   },
   {
    "duration": 17,
    "start_time": "2023-03-15T15:28:48.134Z"
   },
   {
    "duration": 12,
    "start_time": "2023-03-15T15:28:48.154Z"
   },
   {
    "duration": 11,
    "start_time": "2023-03-15T15:28:48.168Z"
   },
   {
    "duration": 10,
    "start_time": "2023-03-15T15:28:48.181Z"
   },
   {
    "duration": 18,
    "start_time": "2023-03-15T15:28:48.193Z"
   },
   {
    "duration": 44,
    "start_time": "2023-03-15T15:28:48.212Z"
   },
   {
    "duration": 4,
    "start_time": "2023-03-15T15:28:48.258Z"
   },
   {
    "duration": 152,
    "start_time": "2023-03-15T15:28:48.264Z"
   },
   {
    "duration": 0,
    "start_time": "2023-03-15T15:28:48.418Z"
   },
   {
    "duration": 0,
    "start_time": "2023-03-15T15:28:48.419Z"
   },
   {
    "duration": 1,
    "start_time": "2023-03-15T15:28:48.420Z"
   },
   {
    "duration": 0,
    "start_time": "2023-03-15T15:28:48.421Z"
   },
   {
    "duration": 0,
    "start_time": "2023-03-15T15:28:48.423Z"
   },
   {
    "duration": 0,
    "start_time": "2023-03-15T15:28:48.433Z"
   },
   {
    "duration": 0,
    "start_time": "2023-03-15T15:28:48.434Z"
   },
   {
    "duration": 0,
    "start_time": "2023-03-15T15:28:48.436Z"
   },
   {
    "duration": 0,
    "start_time": "2023-03-15T15:28:48.438Z"
   },
   {
    "duration": 0,
    "start_time": "2023-03-15T15:28:48.439Z"
   },
   {
    "duration": 0,
    "start_time": "2023-03-15T15:28:48.440Z"
   },
   {
    "duration": 0,
    "start_time": "2023-03-15T15:28:48.442Z"
   },
   {
    "duration": 0,
    "start_time": "2023-03-15T15:28:48.443Z"
   },
   {
    "duration": 0,
    "start_time": "2023-03-15T15:28:48.443Z"
   },
   {
    "duration": 0,
    "start_time": "2023-03-15T15:28:48.444Z"
   },
   {
    "duration": 0,
    "start_time": "2023-03-15T15:28:48.445Z"
   },
   {
    "duration": 0,
    "start_time": "2023-03-15T15:28:48.446Z"
   },
   {
    "duration": 0,
    "start_time": "2023-03-15T15:28:48.448Z"
   },
   {
    "duration": 0,
    "start_time": "2023-03-15T15:28:48.449Z"
   },
   {
    "duration": 0,
    "start_time": "2023-03-15T15:28:48.450Z"
   },
   {
    "duration": 0,
    "start_time": "2023-03-15T15:28:48.452Z"
   },
   {
    "duration": 0,
    "start_time": "2023-03-15T15:28:48.453Z"
   },
   {
    "duration": 0,
    "start_time": "2023-03-15T15:28:48.455Z"
   },
   {
    "duration": 0,
    "start_time": "2023-03-15T15:28:48.456Z"
   },
   {
    "duration": 0,
    "start_time": "2023-03-15T15:28:48.458Z"
   },
   {
    "duration": 1366,
    "start_time": "2023-03-15T15:34:25.926Z"
   },
   {
    "duration": 65,
    "start_time": "2023-03-15T15:34:27.294Z"
   },
   {
    "duration": 11,
    "start_time": "2023-03-15T15:34:27.361Z"
   },
   {
    "duration": 16,
    "start_time": "2023-03-15T15:34:27.375Z"
   },
   {
    "duration": 16,
    "start_time": "2023-03-15T15:34:27.393Z"
   },
   {
    "duration": 12,
    "start_time": "2023-03-15T15:34:27.411Z"
   },
   {
    "duration": 14,
    "start_time": "2023-03-15T15:34:27.425Z"
   },
   {
    "duration": 11,
    "start_time": "2023-03-15T15:34:27.442Z"
   },
   {
    "duration": 19,
    "start_time": "2023-03-15T15:34:27.455Z"
   },
   {
    "duration": 14,
    "start_time": "2023-03-15T15:34:27.476Z"
   },
   {
    "duration": 19,
    "start_time": "2023-03-15T15:34:27.491Z"
   },
   {
    "duration": 13,
    "start_time": "2023-03-15T15:34:27.512Z"
   },
   {
    "duration": 22,
    "start_time": "2023-03-15T15:34:27.527Z"
   },
   {
    "duration": 16,
    "start_time": "2023-03-15T15:34:27.551Z"
   },
   {
    "duration": 27,
    "start_time": "2023-03-15T15:34:27.568Z"
   },
   {
    "duration": 17,
    "start_time": "2023-03-15T15:34:27.597Z"
   },
   {
    "duration": 19,
    "start_time": "2023-03-15T15:34:27.616Z"
   },
   {
    "duration": 21,
    "start_time": "2023-03-15T15:34:27.637Z"
   },
   {
    "duration": 14,
    "start_time": "2023-03-15T15:34:27.660Z"
   },
   {
    "duration": 23,
    "start_time": "2023-03-15T15:34:27.675Z"
   },
   {
    "duration": 6,
    "start_time": "2023-03-15T15:34:27.700Z"
   },
   {
    "duration": 384,
    "start_time": "2023-03-15T15:34:27.708Z"
   },
   {
    "duration": 431,
    "start_time": "2023-03-15T15:34:28.094Z"
   },
   {
    "duration": 20,
    "start_time": "2023-03-15T15:34:28.528Z"
   },
   {
    "duration": 21,
    "start_time": "2023-03-15T15:34:28.551Z"
   },
   {
    "duration": 250,
    "start_time": "2023-03-15T15:34:28.574Z"
   },
   {
    "duration": 357,
    "start_time": "2023-03-15T15:34:28.826Z"
   },
   {
    "duration": 252,
    "start_time": "2023-03-15T15:34:29.188Z"
   },
   {
    "duration": 356,
    "start_time": "2023-03-15T15:34:29.442Z"
   },
   {
    "duration": 3,
    "start_time": "2023-03-15T15:34:29.800Z"
   },
   {
    "duration": 13,
    "start_time": "2023-03-15T15:34:29.804Z"
   },
   {
    "duration": 190,
    "start_time": "2023-03-15T15:34:29.818Z"
   },
   {
    "duration": 187,
    "start_time": "2023-03-15T15:34:30.010Z"
   },
   {
    "duration": 5,
    "start_time": "2023-03-15T15:34:30.198Z"
   },
   {
    "duration": 37,
    "start_time": "2023-03-15T15:34:30.205Z"
   },
   {
    "duration": 206,
    "start_time": "2023-03-15T15:34:30.244Z"
   },
   {
    "duration": 214,
    "start_time": "2023-03-15T15:34:30.454Z"
   },
   {
    "duration": 4,
    "start_time": "2023-03-15T15:34:30.670Z"
   },
   {
    "duration": 319,
    "start_time": "2023-03-15T15:34:30.677Z"
   },
   {
    "duration": 46,
    "start_time": "2023-03-15T15:34:30.998Z"
   },
   {
    "duration": 206,
    "start_time": "2023-03-15T15:34:31.046Z"
   },
   {
    "duration": 24,
    "start_time": "2023-03-15T15:34:31.254Z"
   },
   {
    "duration": 129,
    "start_time": "2023-03-15T15:34:31.280Z"
   },
   {
    "duration": 0,
    "start_time": "2023-03-15T15:34:31.411Z"
   },
   {
    "duration": 0,
    "start_time": "2023-03-15T15:34:31.412Z"
   },
   {
    "duration": 0,
    "start_time": "2023-03-15T15:34:31.414Z"
   },
   {
    "duration": 0,
    "start_time": "2023-03-15T15:34:31.415Z"
   },
   {
    "duration": 736,
    "start_time": "2023-03-15T15:37:45.699Z"
   },
   {
    "duration": 1167,
    "start_time": "2023-03-15T15:38:10.326Z"
   },
   {
    "duration": 64,
    "start_time": "2023-03-15T15:38:11.495Z"
   },
   {
    "duration": 12,
    "start_time": "2023-03-15T15:38:11.561Z"
   },
   {
    "duration": 22,
    "start_time": "2023-03-15T15:38:11.574Z"
   },
   {
    "duration": 9,
    "start_time": "2023-03-15T15:38:11.598Z"
   },
   {
    "duration": 22,
    "start_time": "2023-03-15T15:38:11.609Z"
   },
   {
    "duration": 8,
    "start_time": "2023-03-15T15:38:11.632Z"
   },
   {
    "duration": 10,
    "start_time": "2023-03-15T15:38:11.641Z"
   },
   {
    "duration": 10,
    "start_time": "2023-03-15T15:38:11.652Z"
   },
   {
    "duration": 11,
    "start_time": "2023-03-15T15:38:11.664Z"
   },
   {
    "duration": 7,
    "start_time": "2023-03-15T15:38:11.677Z"
   },
   {
    "duration": 10,
    "start_time": "2023-03-15T15:38:11.686Z"
   },
   {
    "duration": 33,
    "start_time": "2023-03-15T15:38:11.698Z"
   },
   {
    "duration": 13,
    "start_time": "2023-03-15T15:38:11.734Z"
   },
   {
    "duration": 11,
    "start_time": "2023-03-15T15:38:11.749Z"
   },
   {
    "duration": 11,
    "start_time": "2023-03-15T15:38:11.762Z"
   },
   {
    "duration": 14,
    "start_time": "2023-03-15T15:38:11.775Z"
   },
   {
    "duration": 11,
    "start_time": "2023-03-15T15:38:11.792Z"
   },
   {
    "duration": 14,
    "start_time": "2023-03-15T15:38:11.831Z"
   },
   {
    "duration": 17,
    "start_time": "2023-03-15T15:38:11.846Z"
   },
   {
    "duration": 4,
    "start_time": "2023-03-15T15:38:11.865Z"
   },
   {
    "duration": 348,
    "start_time": "2023-03-15T15:38:11.871Z"
   },
   {
    "duration": 399,
    "start_time": "2023-03-15T15:38:12.221Z"
   },
   {
    "duration": 15,
    "start_time": "2023-03-15T15:38:12.622Z"
   },
   {
    "duration": 19,
    "start_time": "2023-03-15T15:38:12.638Z"
   },
   {
    "duration": 226,
    "start_time": "2023-03-15T15:38:12.658Z"
   },
   {
    "duration": 319,
    "start_time": "2023-03-15T15:38:12.885Z"
   },
   {
    "duration": 247,
    "start_time": "2023-03-15T15:38:13.205Z"
   },
   {
    "duration": 325,
    "start_time": "2023-03-15T15:38:13.454Z"
   },
   {
    "duration": 3,
    "start_time": "2023-03-15T15:38:13.780Z"
   },
   {
    "duration": 16,
    "start_time": "2023-03-15T15:38:13.785Z"
   },
   {
    "duration": 133,
    "start_time": "2023-03-15T15:38:13.803Z"
   },
   {
    "duration": 160,
    "start_time": "2023-03-15T15:38:13.937Z"
   },
   {
    "duration": 5,
    "start_time": "2023-03-15T15:38:14.099Z"
   },
   {
    "duration": 17,
    "start_time": "2023-03-15T15:38:14.106Z"
   },
   {
    "duration": 161,
    "start_time": "2023-03-15T15:38:14.125Z"
   },
   {
    "duration": 199,
    "start_time": "2023-03-15T15:38:14.288Z"
   },
   {
    "duration": 5,
    "start_time": "2023-03-15T15:38:14.488Z"
   },
   {
    "duration": 276,
    "start_time": "2023-03-15T15:38:14.494Z"
   },
   {
    "duration": 28,
    "start_time": "2023-03-15T15:38:14.772Z"
   },
   {
    "duration": 157,
    "start_time": "2023-03-15T15:38:14.805Z"
   },
   {
    "duration": 25,
    "start_time": "2023-03-15T15:38:14.964Z"
   },
   {
    "duration": 834,
    "start_time": "2023-03-15T15:38:14.990Z"
   },
   {
    "duration": 0,
    "start_time": "2023-03-15T15:38:15.826Z"
   },
   {
    "duration": 0,
    "start_time": "2023-03-15T15:38:15.828Z"
   },
   {
    "duration": 0,
    "start_time": "2023-03-15T15:38:15.829Z"
   },
   {
    "duration": 0,
    "start_time": "2023-03-15T15:38:15.830Z"
   },
   {
    "duration": 1,
    "start_time": "2023-03-15T15:38:15.831Z"
   },
   {
    "duration": 1358,
    "start_time": "2023-03-15T15:40:18.202Z"
   },
   {
    "duration": 1197,
    "start_time": "2023-03-15T15:47:09.610Z"
   },
   {
    "duration": 60,
    "start_time": "2023-03-15T15:47:10.810Z"
   },
   {
    "duration": 12,
    "start_time": "2023-03-15T15:47:10.871Z"
   },
   {
    "duration": 22,
    "start_time": "2023-03-15T15:47:10.885Z"
   },
   {
    "duration": 10,
    "start_time": "2023-03-15T15:47:10.909Z"
   },
   {
    "duration": 20,
    "start_time": "2023-03-15T15:47:10.921Z"
   },
   {
    "duration": 12,
    "start_time": "2023-03-15T15:47:10.942Z"
   },
   {
    "duration": 13,
    "start_time": "2023-03-15T15:47:10.955Z"
   },
   {
    "duration": 11,
    "start_time": "2023-03-15T15:47:10.970Z"
   },
   {
    "duration": 8,
    "start_time": "2023-03-15T15:47:10.984Z"
   },
   {
    "duration": 10,
    "start_time": "2023-03-15T15:47:10.994Z"
   },
   {
    "duration": 11,
    "start_time": "2023-03-15T15:47:11.006Z"
   },
   {
    "duration": 17,
    "start_time": "2023-03-15T15:47:11.019Z"
   },
   {
    "duration": 11,
    "start_time": "2023-03-15T15:47:11.038Z"
   },
   {
    "duration": 15,
    "start_time": "2023-03-15T15:47:11.051Z"
   },
   {
    "duration": 12,
    "start_time": "2023-03-15T15:47:11.068Z"
   },
   {
    "duration": 13,
    "start_time": "2023-03-15T15:47:11.081Z"
   },
   {
    "duration": 8,
    "start_time": "2023-03-15T15:47:11.096Z"
   },
   {
    "duration": 42,
    "start_time": "2023-03-15T15:47:11.106Z"
   },
   {
    "duration": 19,
    "start_time": "2023-03-15T15:47:11.150Z"
   },
   {
    "duration": 8,
    "start_time": "2023-03-15T15:47:11.170Z"
   },
   {
    "duration": 342,
    "start_time": "2023-03-15T15:47:11.179Z"
   },
   {
    "duration": 400,
    "start_time": "2023-03-15T15:47:11.523Z"
   },
   {
    "duration": 12,
    "start_time": "2023-03-15T15:47:11.925Z"
   },
   {
    "duration": 20,
    "start_time": "2023-03-15T15:47:11.939Z"
   },
   {
    "duration": 265,
    "start_time": "2023-03-15T15:47:11.961Z"
   },
   {
    "duration": 328,
    "start_time": "2023-03-15T15:47:12.227Z"
   },
   {
    "duration": 247,
    "start_time": "2023-03-15T15:47:12.558Z"
   },
   {
    "duration": 344,
    "start_time": "2023-03-15T15:47:12.807Z"
   },
   {
    "duration": 3,
    "start_time": "2023-03-15T15:47:13.153Z"
   },
   {
    "duration": 17,
    "start_time": "2023-03-15T15:47:13.157Z"
   },
   {
    "duration": 162,
    "start_time": "2023-03-15T15:47:13.175Z"
   },
   {
    "duration": 167,
    "start_time": "2023-03-15T15:47:13.339Z"
   },
   {
    "duration": 5,
    "start_time": "2023-03-15T15:47:13.509Z"
   },
   {
    "duration": 5,
    "start_time": "2023-03-15T15:47:13.530Z"
   },
   {
    "duration": 179,
    "start_time": "2023-03-15T15:47:13.536Z"
   },
   {
    "duration": 226,
    "start_time": "2023-03-15T15:47:13.717Z"
   },
   {
    "duration": 6,
    "start_time": "2023-03-15T15:47:13.945Z"
   },
   {
    "duration": 320,
    "start_time": "2023-03-15T15:47:13.952Z"
   },
   {
    "duration": 30,
    "start_time": "2023-03-15T15:47:14.273Z"
   },
   {
    "duration": 136,
    "start_time": "2023-03-15T15:47:14.306Z"
   },
   {
    "duration": 0,
    "start_time": "2023-03-15T15:47:14.444Z"
   },
   {
    "duration": 0,
    "start_time": "2023-03-15T15:47:14.446Z"
   },
   {
    "duration": 0,
    "start_time": "2023-03-15T15:47:14.448Z"
   },
   {
    "duration": 0,
    "start_time": "2023-03-15T15:47:14.450Z"
   },
   {
    "duration": 0,
    "start_time": "2023-03-15T15:47:14.451Z"
   },
   {
    "duration": 0,
    "start_time": "2023-03-15T15:47:14.452Z"
   },
   {
    "duration": 51,
    "start_time": "2023-03-15T15:48:01.744Z"
   },
   {
    "duration": 78,
    "start_time": "2023-03-15T15:48:12.718Z"
   },
   {
    "duration": 12,
    "start_time": "2023-03-15T15:48:54.218Z"
   },
   {
    "duration": 1218,
    "start_time": "2023-03-15T15:49:11.688Z"
   },
   {
    "duration": 62,
    "start_time": "2023-03-15T15:49:12.908Z"
   },
   {
    "duration": 13,
    "start_time": "2023-03-15T15:49:12.971Z"
   },
   {
    "duration": 16,
    "start_time": "2023-03-15T15:49:12.986Z"
   },
   {
    "duration": 11,
    "start_time": "2023-03-15T15:49:13.005Z"
   },
   {
    "duration": 12,
    "start_time": "2023-03-15T15:49:13.018Z"
   },
   {
    "duration": 12,
    "start_time": "2023-03-15T15:49:13.032Z"
   },
   {
    "duration": 12,
    "start_time": "2023-03-15T15:49:13.046Z"
   },
   {
    "duration": 16,
    "start_time": "2023-03-15T15:49:13.060Z"
   },
   {
    "duration": 12,
    "start_time": "2023-03-15T15:49:13.078Z"
   },
   {
    "duration": 8,
    "start_time": "2023-03-15T15:49:13.091Z"
   },
   {
    "duration": 12,
    "start_time": "2023-03-15T15:49:13.100Z"
   },
   {
    "duration": 10,
    "start_time": "2023-03-15T15:49:13.114Z"
   },
   {
    "duration": 11,
    "start_time": "2023-03-15T15:49:13.128Z"
   },
   {
    "duration": 17,
    "start_time": "2023-03-15T15:49:13.140Z"
   },
   {
    "duration": 10,
    "start_time": "2023-03-15T15:49:13.159Z"
   },
   {
    "duration": 14,
    "start_time": "2023-03-15T15:49:13.171Z"
   },
   {
    "duration": 8,
    "start_time": "2023-03-15T15:49:13.187Z"
   },
   {
    "duration": 35,
    "start_time": "2023-03-15T15:49:13.197Z"
   },
   {
    "duration": 23,
    "start_time": "2023-03-15T15:49:13.234Z"
   },
   {
    "duration": 4,
    "start_time": "2023-03-15T15:49:13.259Z"
   },
   {
    "duration": 329,
    "start_time": "2023-03-15T15:49:13.265Z"
   },
   {
    "duration": 436,
    "start_time": "2023-03-15T15:49:13.596Z"
   },
   {
    "duration": 13,
    "start_time": "2023-03-15T15:49:14.034Z"
   },
   {
    "duration": 26,
    "start_time": "2023-03-15T15:49:14.049Z"
   },
   {
    "duration": 217,
    "start_time": "2023-03-15T15:49:14.076Z"
   },
   {
    "duration": 369,
    "start_time": "2023-03-15T15:49:14.294Z"
   },
   {
    "duration": 248,
    "start_time": "2023-03-15T15:49:14.664Z"
   },
   {
    "duration": 363,
    "start_time": "2023-03-15T15:49:14.914Z"
   },
   {
    "duration": 2,
    "start_time": "2023-03-15T15:49:15.279Z"
   },
   {
    "duration": 21,
    "start_time": "2023-03-15T15:49:15.283Z"
   },
   {
    "duration": 136,
    "start_time": "2023-03-15T15:49:15.307Z"
   },
   {
    "duration": 164,
    "start_time": "2023-03-15T15:49:15.445Z"
   },
   {
    "duration": 5,
    "start_time": "2023-03-15T15:49:15.610Z"
   },
   {
    "duration": 22,
    "start_time": "2023-03-15T15:49:15.617Z"
   },
   {
    "duration": 170,
    "start_time": "2023-03-15T15:49:15.641Z"
   },
   {
    "duration": 201,
    "start_time": "2023-03-15T15:49:15.814Z"
   },
   {
    "duration": 4,
    "start_time": "2023-03-15T15:49:16.017Z"
   },
   {
    "duration": 298,
    "start_time": "2023-03-15T15:49:16.023Z"
   },
   {
    "duration": 35,
    "start_time": "2023-03-15T15:49:16.323Z"
   },
   {
    "duration": 10,
    "start_time": "2023-03-15T15:49:16.363Z"
   },
   {
    "duration": 127,
    "start_time": "2023-03-15T15:49:16.375Z"
   },
   {
    "duration": 0,
    "start_time": "2023-03-15T15:49:16.503Z"
   },
   {
    "duration": 0,
    "start_time": "2023-03-15T15:49:16.504Z"
   },
   {
    "duration": 0,
    "start_time": "2023-03-15T15:49:16.506Z"
   },
   {
    "duration": 0,
    "start_time": "2023-03-15T15:49:16.507Z"
   },
   {
    "duration": 0,
    "start_time": "2023-03-15T15:49:16.508Z"
   },
   {
    "duration": 51,
    "start_time": "2023-03-15T15:52:07.324Z"
   },
   {
    "duration": 208,
    "start_time": "2023-03-15T15:52:24.767Z"
   },
   {
    "duration": 25,
    "start_time": "2023-03-15T15:52:28.667Z"
   },
   {
    "duration": 725,
    "start_time": "2023-03-15T15:52:37.938Z"
   },
   {
    "duration": 14,
    "start_time": "2023-03-15T15:53:32.790Z"
   },
   {
    "duration": 1168,
    "start_time": "2023-03-15T15:54:12.809Z"
   },
   {
    "duration": 65,
    "start_time": "2023-03-15T15:54:13.978Z"
   },
   {
    "duration": 13,
    "start_time": "2023-03-15T15:54:14.045Z"
   },
   {
    "duration": 19,
    "start_time": "2023-03-15T15:54:14.062Z"
   },
   {
    "duration": 16,
    "start_time": "2023-03-15T15:54:14.083Z"
   },
   {
    "duration": 13,
    "start_time": "2023-03-15T15:54:14.101Z"
   },
   {
    "duration": 7,
    "start_time": "2023-03-15T15:54:14.116Z"
   },
   {
    "duration": 12,
    "start_time": "2023-03-15T15:54:14.125Z"
   },
   {
    "duration": 11,
    "start_time": "2023-03-15T15:54:14.139Z"
   },
   {
    "duration": 10,
    "start_time": "2023-03-15T15:54:14.153Z"
   },
   {
    "duration": 8,
    "start_time": "2023-03-15T15:54:14.165Z"
   },
   {
    "duration": 9,
    "start_time": "2023-03-15T15:54:14.174Z"
   },
   {
    "duration": 53,
    "start_time": "2023-03-15T15:54:14.185Z"
   },
   {
    "duration": 16,
    "start_time": "2023-03-15T15:54:14.240Z"
   },
   {
    "duration": 28,
    "start_time": "2023-03-15T15:54:14.257Z"
   },
   {
    "duration": 24,
    "start_time": "2023-03-15T15:54:14.287Z"
   },
   {
    "duration": 22,
    "start_time": "2023-03-15T15:54:14.313Z"
   },
   {
    "duration": 11,
    "start_time": "2023-03-15T15:54:14.337Z"
   },
   {
    "duration": 20,
    "start_time": "2023-03-15T15:54:14.350Z"
   },
   {
    "duration": 24,
    "start_time": "2023-03-15T15:54:14.372Z"
   },
   {
    "duration": 5,
    "start_time": "2023-03-15T15:54:14.398Z"
   },
   {
    "duration": 341,
    "start_time": "2023-03-15T15:54:14.405Z"
   },
   {
    "duration": 389,
    "start_time": "2023-03-15T15:54:14.748Z"
   },
   {
    "duration": 11,
    "start_time": "2023-03-15T15:54:15.139Z"
   },
   {
    "duration": 40,
    "start_time": "2023-03-15T15:54:15.152Z"
   },
   {
    "duration": 220,
    "start_time": "2023-03-15T15:54:15.194Z"
   },
   {
    "duration": 358,
    "start_time": "2023-03-15T15:54:15.416Z"
   },
   {
    "duration": 243,
    "start_time": "2023-03-15T15:54:15.778Z"
   },
   {
    "duration": 359,
    "start_time": "2023-03-15T15:54:16.023Z"
   },
   {
    "duration": 3,
    "start_time": "2023-03-15T15:54:16.383Z"
   },
   {
    "duration": 33,
    "start_time": "2023-03-15T15:54:16.387Z"
   },
   {
    "duration": 133,
    "start_time": "2023-03-15T15:54:16.422Z"
   },
   {
    "duration": 152,
    "start_time": "2023-03-15T15:54:16.556Z"
   },
   {
    "duration": 5,
    "start_time": "2023-03-15T15:54:16.709Z"
   },
   {
    "duration": 8,
    "start_time": "2023-03-15T15:54:16.731Z"
   },
   {
    "duration": 183,
    "start_time": "2023-03-15T15:54:16.741Z"
   },
   {
    "duration": 205,
    "start_time": "2023-03-15T15:54:16.930Z"
   },
   {
    "duration": 5,
    "start_time": "2023-03-15T15:54:17.136Z"
   },
   {
    "duration": 308,
    "start_time": "2023-03-15T15:54:17.142Z"
   },
   {
    "duration": 29,
    "start_time": "2023-03-15T15:54:17.452Z"
   },
   {
    "duration": 277,
    "start_time": "2023-03-15T15:54:17.483Z"
   },
   {
    "duration": 15,
    "start_time": "2023-03-15T15:54:17.763Z"
   },
   {
    "duration": 940,
    "start_time": "2023-03-15T15:54:17.781Z"
   },
   {
    "duration": 0,
    "start_time": "2023-03-15T15:54:18.723Z"
   },
   {
    "duration": 0,
    "start_time": "2023-03-15T15:54:18.725Z"
   },
   {
    "duration": 0,
    "start_time": "2023-03-15T15:54:18.726Z"
   },
   {
    "duration": 1204,
    "start_time": "2023-03-15T15:54:45.788Z"
   },
   {
    "duration": 64,
    "start_time": "2023-03-15T15:54:46.995Z"
   },
   {
    "duration": 13,
    "start_time": "2023-03-15T15:54:47.061Z"
   },
   {
    "duration": 23,
    "start_time": "2023-03-15T15:54:47.075Z"
   },
   {
    "duration": 14,
    "start_time": "2023-03-15T15:54:47.101Z"
   },
   {
    "duration": 20,
    "start_time": "2023-03-15T15:54:47.117Z"
   },
   {
    "duration": 18,
    "start_time": "2023-03-15T15:54:47.138Z"
   },
   {
    "duration": 10,
    "start_time": "2023-03-15T15:54:47.159Z"
   },
   {
    "duration": 13,
    "start_time": "2023-03-15T15:54:47.170Z"
   },
   {
    "duration": 7,
    "start_time": "2023-03-15T15:54:47.185Z"
   },
   {
    "duration": 11,
    "start_time": "2023-03-15T15:54:47.194Z"
   },
   {
    "duration": 13,
    "start_time": "2023-03-15T15:54:47.206Z"
   },
   {
    "duration": 17,
    "start_time": "2023-03-15T15:54:47.220Z"
   },
   {
    "duration": 16,
    "start_time": "2023-03-15T15:54:47.240Z"
   },
   {
    "duration": 13,
    "start_time": "2023-03-15T15:54:47.257Z"
   },
   {
    "duration": 10,
    "start_time": "2023-03-15T15:54:47.272Z"
   },
   {
    "duration": 21,
    "start_time": "2023-03-15T15:54:47.283Z"
   },
   {
    "duration": 9,
    "start_time": "2023-03-15T15:54:47.306Z"
   },
   {
    "duration": 16,
    "start_time": "2023-03-15T15:54:47.330Z"
   },
   {
    "duration": 21,
    "start_time": "2023-03-15T15:54:47.348Z"
   },
   {
    "duration": 5,
    "start_time": "2023-03-15T15:54:47.370Z"
   },
   {
    "duration": 338,
    "start_time": "2023-03-15T15:54:47.377Z"
   },
   {
    "duration": 402,
    "start_time": "2023-03-15T15:54:47.716Z"
   },
   {
    "duration": 16,
    "start_time": "2023-03-15T15:54:48.120Z"
   },
   {
    "duration": 43,
    "start_time": "2023-03-15T15:54:48.138Z"
   },
   {
    "duration": 215,
    "start_time": "2023-03-15T15:54:48.183Z"
   },
   {
    "duration": 372,
    "start_time": "2023-03-15T15:54:48.400Z"
   },
   {
    "duration": 253,
    "start_time": "2023-03-15T15:54:48.774Z"
   },
   {
    "duration": 345,
    "start_time": "2023-03-15T15:54:49.028Z"
   },
   {
    "duration": 3,
    "start_time": "2023-03-15T15:54:49.375Z"
   },
   {
    "duration": 14,
    "start_time": "2023-03-15T15:54:49.380Z"
   },
   {
    "duration": 145,
    "start_time": "2023-03-15T15:54:49.396Z"
   },
   {
    "duration": 156,
    "start_time": "2023-03-15T15:54:49.543Z"
   },
   {
    "duration": 6,
    "start_time": "2023-03-15T15:54:49.701Z"
   },
   {
    "duration": 10,
    "start_time": "2023-03-15T15:54:49.708Z"
   },
   {
    "duration": 156,
    "start_time": "2023-03-15T15:54:49.730Z"
   },
   {
    "duration": 203,
    "start_time": "2023-03-15T15:54:49.888Z"
   },
   {
    "duration": 5,
    "start_time": "2023-03-15T15:54:50.092Z"
   },
   {
    "duration": 297,
    "start_time": "2023-03-15T15:54:50.099Z"
   },
   {
    "duration": 37,
    "start_time": "2023-03-15T15:54:50.398Z"
   },
   {
    "duration": 173,
    "start_time": "2023-03-15T15:54:50.439Z"
   },
   {
    "duration": 21,
    "start_time": "2023-03-15T15:54:50.614Z"
   },
   {
    "duration": 9,
    "start_time": "2023-03-15T15:54:50.637Z"
   },
   {
    "duration": 11,
    "start_time": "2023-03-15T15:54:50.648Z"
   },
   {
    "duration": 26,
    "start_time": "2023-03-15T15:54:50.661Z"
   },
   {
    "duration": 1042,
    "start_time": "2023-03-15T15:54:50.689Z"
   },
   {
    "duration": 1191,
    "start_time": "2023-03-15T15:55:20.221Z"
   },
   {
    "duration": 62,
    "start_time": "2023-03-15T15:55:21.414Z"
   },
   {
    "duration": 12,
    "start_time": "2023-03-15T15:55:21.478Z"
   },
   {
    "duration": 25,
    "start_time": "2023-03-15T15:55:21.492Z"
   },
   {
    "duration": 13,
    "start_time": "2023-03-15T15:55:21.519Z"
   },
   {
    "duration": 35,
    "start_time": "2023-03-15T15:55:21.533Z"
   },
   {
    "duration": 11,
    "start_time": "2023-03-15T15:55:21.570Z"
   },
   {
    "duration": 13,
    "start_time": "2023-03-15T15:55:21.583Z"
   },
   {
    "duration": 13,
    "start_time": "2023-03-15T15:55:21.598Z"
   },
   {
    "duration": 6,
    "start_time": "2023-03-15T15:55:21.614Z"
   },
   {
    "duration": 7,
    "start_time": "2023-03-15T15:55:21.622Z"
   },
   {
    "duration": 11,
    "start_time": "2023-03-15T15:55:21.631Z"
   },
   {
    "duration": 10,
    "start_time": "2023-03-15T15:55:21.643Z"
   },
   {
    "duration": 17,
    "start_time": "2023-03-15T15:55:21.654Z"
   },
   {
    "duration": 16,
    "start_time": "2023-03-15T15:55:21.672Z"
   },
   {
    "duration": 12,
    "start_time": "2023-03-15T15:55:21.690Z"
   },
   {
    "duration": 16,
    "start_time": "2023-03-15T15:55:21.704Z"
   },
   {
    "duration": 9,
    "start_time": "2023-03-15T15:55:21.731Z"
   },
   {
    "duration": 16,
    "start_time": "2023-03-15T15:55:21.742Z"
   },
   {
    "duration": 18,
    "start_time": "2023-03-15T15:55:21.760Z"
   },
   {
    "duration": 5,
    "start_time": "2023-03-15T15:55:21.779Z"
   },
   {
    "duration": 371,
    "start_time": "2023-03-15T15:55:21.786Z"
   },
   {
    "duration": 394,
    "start_time": "2023-03-15T15:55:22.159Z"
   },
   {
    "duration": 11,
    "start_time": "2023-03-15T15:55:22.555Z"
   },
   {
    "duration": 28,
    "start_time": "2023-03-15T15:55:22.568Z"
   },
   {
    "duration": 224,
    "start_time": "2023-03-15T15:55:22.598Z"
   },
   {
    "duration": 318,
    "start_time": "2023-03-15T15:55:22.824Z"
   },
   {
    "duration": 242,
    "start_time": "2023-03-15T15:55:23.145Z"
   },
   {
    "duration": 345,
    "start_time": "2023-03-15T15:55:23.389Z"
   },
   {
    "duration": 2,
    "start_time": "2023-03-15T15:55:23.736Z"
   },
   {
    "duration": 12,
    "start_time": "2023-03-15T15:55:23.740Z"
   },
   {
    "duration": 137,
    "start_time": "2023-03-15T15:55:23.754Z"
   },
   {
    "duration": 158,
    "start_time": "2023-03-15T15:55:23.893Z"
   },
   {
    "duration": 5,
    "start_time": "2023-03-15T15:55:24.053Z"
   },
   {
    "duration": 10,
    "start_time": "2023-03-15T15:55:24.061Z"
   },
   {
    "duration": 169,
    "start_time": "2023-03-15T15:55:24.073Z"
   },
   {
    "duration": 195,
    "start_time": "2023-03-15T15:55:24.244Z"
   },
   {
    "duration": 4,
    "start_time": "2023-03-15T15:55:24.440Z"
   },
   {
    "duration": 279,
    "start_time": "2023-03-15T15:55:24.446Z"
   },
   {
    "duration": 28,
    "start_time": "2023-03-15T15:55:24.731Z"
   },
   {
    "duration": 166,
    "start_time": "2023-03-15T15:55:24.761Z"
   },
   {
    "duration": 10,
    "start_time": "2023-03-15T15:55:24.931Z"
   },
   {
    "duration": 18,
    "start_time": "2023-03-15T15:55:24.943Z"
   },
   {
    "duration": 14,
    "start_time": "2023-03-15T15:55:24.963Z"
   },
   {
    "duration": 29,
    "start_time": "2023-03-15T15:55:24.979Z"
   },
   {
    "duration": 30,
    "start_time": "2023-03-15T15:55:25.010Z"
   },
   {
    "duration": 1119,
    "start_time": "2023-03-15T16:51:52.670Z"
   },
   {
    "duration": 77,
    "start_time": "2023-03-15T16:51:53.790Z"
   },
   {
    "duration": 13,
    "start_time": "2023-03-15T16:51:53.868Z"
   },
   {
    "duration": 20,
    "start_time": "2023-03-15T16:51:53.884Z"
   },
   {
    "duration": 12,
    "start_time": "2023-03-15T16:51:53.906Z"
   },
   {
    "duration": 13,
    "start_time": "2023-03-15T16:51:53.920Z"
   },
   {
    "duration": 10,
    "start_time": "2023-03-15T16:51:53.935Z"
   },
   {
    "duration": 10,
    "start_time": "2023-03-15T16:51:53.947Z"
   },
   {
    "duration": 11,
    "start_time": "2023-03-15T16:51:53.959Z"
   },
   {
    "duration": 5,
    "start_time": "2023-03-15T16:51:53.972Z"
   },
   {
    "duration": 11,
    "start_time": "2023-03-15T16:51:53.978Z"
   },
   {
    "duration": 12,
    "start_time": "2023-03-15T16:51:53.990Z"
   },
   {
    "duration": 28,
    "start_time": "2023-03-15T16:51:54.003Z"
   },
   {
    "duration": 25,
    "start_time": "2023-03-15T16:51:54.033Z"
   },
   {
    "duration": 63,
    "start_time": "2023-03-15T16:51:54.060Z"
   },
   {
    "duration": 12,
    "start_time": "2023-03-15T16:51:54.125Z"
   },
   {
    "duration": 16,
    "start_time": "2023-03-15T16:51:54.139Z"
   },
   {
    "duration": 15,
    "start_time": "2023-03-15T16:51:54.156Z"
   },
   {
    "duration": 26,
    "start_time": "2023-03-15T16:51:54.173Z"
   },
   {
    "duration": 32,
    "start_time": "2023-03-15T16:51:54.200Z"
   },
   {
    "duration": 5,
    "start_time": "2023-03-15T16:51:54.234Z"
   },
   {
    "duration": 341,
    "start_time": "2023-03-15T16:51:54.241Z"
   },
   {
    "duration": 409,
    "start_time": "2023-03-15T16:51:54.584Z"
   },
   {
    "duration": 10,
    "start_time": "2023-03-15T16:51:54.996Z"
   },
   {
    "duration": 31,
    "start_time": "2023-03-15T16:51:55.008Z"
   },
   {
    "duration": 287,
    "start_time": "2023-03-15T16:51:55.041Z"
   },
   {
    "duration": 356,
    "start_time": "2023-03-15T16:51:55.331Z"
   },
   {
    "duration": 231,
    "start_time": "2023-03-15T16:51:55.692Z"
   },
   {
    "duration": 354,
    "start_time": "2023-03-15T16:51:55.925Z"
   },
   {
    "duration": 4,
    "start_time": "2023-03-15T16:51:56.282Z"
   },
   {
    "duration": 22,
    "start_time": "2023-03-15T16:51:56.287Z"
   },
   {
    "duration": 167,
    "start_time": "2023-03-15T16:51:56.311Z"
   },
   {
    "duration": 236,
    "start_time": "2023-03-15T16:51:56.480Z"
   },
   {
    "duration": 12,
    "start_time": "2023-03-15T16:51:56.718Z"
   },
   {
    "duration": 18,
    "start_time": "2023-03-15T16:51:56.732Z"
   },
   {
    "duration": 243,
    "start_time": "2023-03-15T16:51:56.752Z"
   },
   {
    "duration": 280,
    "start_time": "2023-03-15T16:51:56.997Z"
   },
   {
    "duration": 5,
    "start_time": "2023-03-15T16:51:57.278Z"
   },
   {
    "duration": 283,
    "start_time": "2023-03-15T16:51:57.285Z"
   },
   {
    "duration": 41,
    "start_time": "2023-03-15T16:51:57.569Z"
   },
   {
    "duration": 192,
    "start_time": "2023-03-15T16:51:57.612Z"
   },
   {
    "duration": 12,
    "start_time": "2023-03-15T16:51:57.806Z"
   },
   {
    "duration": 10,
    "start_time": "2023-03-15T16:51:57.830Z"
   },
   {
    "duration": 13,
    "start_time": "2023-03-15T16:51:57.842Z"
   },
   {
    "duration": 40,
    "start_time": "2023-03-15T16:51:57.858Z"
   },
   {
    "duration": 38,
    "start_time": "2023-03-15T16:51:57.900Z"
   },
   {
    "duration": 1416,
    "start_time": "2023-03-15T17:48:16.119Z"
   },
   {
    "duration": 292,
    "start_time": "2023-03-15T17:48:17.537Z"
   },
   {
    "duration": 12,
    "start_time": "2023-03-15T17:48:17.830Z"
   },
   {
    "duration": 37,
    "start_time": "2023-03-15T17:48:17.844Z"
   },
   {
    "duration": 56,
    "start_time": "2023-03-15T17:48:17.883Z"
   },
   {
    "duration": 15,
    "start_time": "2023-03-15T17:48:17.940Z"
   },
   {
    "duration": 9,
    "start_time": "2023-03-15T17:48:17.957Z"
   },
   {
    "duration": 14,
    "start_time": "2023-03-15T17:48:17.968Z"
   },
   {
    "duration": 57,
    "start_time": "2023-03-15T17:48:17.983Z"
   },
   {
    "duration": 21,
    "start_time": "2023-03-15T17:48:18.042Z"
   },
   {
    "duration": 22,
    "start_time": "2023-03-15T17:48:18.065Z"
   },
   {
    "duration": 58,
    "start_time": "2023-03-15T17:48:18.088Z"
   },
   {
    "duration": 10,
    "start_time": "2023-03-15T17:48:18.148Z"
   },
   {
    "duration": 10,
    "start_time": "2023-03-15T17:48:18.161Z"
   },
   {
    "duration": 12,
    "start_time": "2023-03-15T17:48:18.173Z"
   },
   {
    "duration": 37,
    "start_time": "2023-03-15T17:48:18.187Z"
   },
   {
    "duration": 17,
    "start_time": "2023-03-15T17:48:18.226Z"
   },
   {
    "duration": 8,
    "start_time": "2023-03-15T17:48:18.245Z"
   },
   {
    "duration": 17,
    "start_time": "2023-03-15T17:48:18.254Z"
   },
   {
    "duration": 16,
    "start_time": "2023-03-15T17:48:18.272Z"
   },
   {
    "duration": 10,
    "start_time": "2023-03-15T17:48:18.291Z"
   },
   {
    "duration": 396,
    "start_time": "2023-03-15T17:48:18.303Z"
   },
   {
    "duration": 445,
    "start_time": "2023-03-15T17:48:18.706Z"
   },
   {
    "duration": 11,
    "start_time": "2023-03-15T17:48:19.153Z"
   },
   {
    "duration": 38,
    "start_time": "2023-03-15T17:48:19.166Z"
   },
   {
    "duration": 262,
    "start_time": "2023-03-15T17:48:19.210Z"
   },
   {
    "duration": 388,
    "start_time": "2023-03-15T17:48:19.474Z"
   },
   {
    "duration": 279,
    "start_time": "2023-03-15T17:48:19.864Z"
   },
   {
    "duration": 309,
    "start_time": "2023-03-15T17:48:20.145Z"
   },
   {
    "duration": 2,
    "start_time": "2023-03-15T17:48:20.459Z"
   },
   {
    "duration": 13,
    "start_time": "2023-03-15T17:48:20.463Z"
   },
   {
    "duration": 186,
    "start_time": "2023-03-15T17:48:20.477Z"
   },
   {
    "duration": 176,
    "start_time": "2023-03-15T17:48:20.665Z"
   },
   {
    "duration": 6,
    "start_time": "2023-03-15T17:48:20.843Z"
   },
   {
    "duration": 12,
    "start_time": "2023-03-15T17:48:20.850Z"
   },
   {
    "duration": 200,
    "start_time": "2023-03-15T17:48:20.864Z"
   },
   {
    "duration": 189,
    "start_time": "2023-03-15T17:48:21.067Z"
   },
   {
    "duration": 5,
    "start_time": "2023-03-15T17:48:21.258Z"
   },
   {
    "duration": 303,
    "start_time": "2023-03-15T17:48:21.264Z"
   },
   {
    "duration": 39,
    "start_time": "2023-03-15T17:48:21.569Z"
   },
   {
    "duration": 213,
    "start_time": "2023-03-15T17:48:21.616Z"
   },
   {
    "duration": 11,
    "start_time": "2023-03-15T17:48:21.835Z"
   },
   {
    "duration": 9,
    "start_time": "2023-03-15T17:48:21.848Z"
   },
   {
    "duration": 8,
    "start_time": "2023-03-15T17:48:21.859Z"
   },
   {
    "duration": 54,
    "start_time": "2023-03-15T17:48:21.868Z"
   },
   {
    "duration": 22,
    "start_time": "2023-03-15T17:48:21.924Z"
   },
   {
    "duration": 82,
    "start_time": "2023-03-16T16:36:21.659Z"
   },
   {
    "duration": 68,
    "start_time": "2023-03-16T16:37:06.861Z"
   },
   {
    "duration": 65,
    "start_time": "2023-03-16T16:37:10.262Z"
   },
   {
    "duration": 1673,
    "start_time": "2023-03-16T16:37:21.733Z"
   },
   {
    "duration": 276,
    "start_time": "2023-03-16T16:37:23.408Z"
   },
   {
    "duration": 15,
    "start_time": "2023-03-16T16:37:23.686Z"
   },
   {
    "duration": 18,
    "start_time": "2023-03-16T16:37:23.703Z"
   },
   {
    "duration": 12,
    "start_time": "2023-03-16T16:37:23.724Z"
   },
   {
    "duration": 27,
    "start_time": "2023-03-16T16:37:23.738Z"
   },
   {
    "duration": 12,
    "start_time": "2023-03-16T16:37:23.767Z"
   },
   {
    "duration": 7,
    "start_time": "2023-03-16T16:37:23.780Z"
   },
   {
    "duration": 14,
    "start_time": "2023-03-16T16:37:23.789Z"
   },
   {
    "duration": 16,
    "start_time": "2023-03-16T16:37:23.805Z"
   },
   {
    "duration": 6,
    "start_time": "2023-03-16T16:37:23.823Z"
   },
   {
    "duration": 27,
    "start_time": "2023-03-16T16:37:23.831Z"
   },
   {
    "duration": 9,
    "start_time": "2023-03-16T16:37:23.862Z"
   },
   {
    "duration": 15,
    "start_time": "2023-03-16T16:37:23.874Z"
   },
   {
    "duration": 16,
    "start_time": "2023-03-16T16:37:23.891Z"
   },
   {
    "duration": 12,
    "start_time": "2023-03-16T16:37:23.909Z"
   },
   {
    "duration": 18,
    "start_time": "2023-03-16T16:37:23.945Z"
   },
   {
    "duration": 10,
    "start_time": "2023-03-16T16:37:23.964Z"
   },
   {
    "duration": 19,
    "start_time": "2023-03-16T16:37:23.976Z"
   },
   {
    "duration": 61,
    "start_time": "2023-03-16T16:37:23.997Z"
   },
   {
    "duration": 10,
    "start_time": "2023-03-16T16:37:24.060Z"
   },
   {
    "duration": 340,
    "start_time": "2023-03-16T16:37:24.072Z"
   },
   {
    "duration": 447,
    "start_time": "2023-03-16T16:37:24.414Z"
   },
   {
    "duration": 68,
    "start_time": "2023-03-16T16:37:24.866Z"
   },
   {
    "duration": 0,
    "start_time": "2023-03-16T16:37:24.936Z"
   },
   {
    "duration": 0,
    "start_time": "2023-03-16T16:37:24.938Z"
   },
   {
    "duration": 0,
    "start_time": "2023-03-16T16:37:24.939Z"
   },
   {
    "duration": 0,
    "start_time": "2023-03-16T16:37:24.946Z"
   },
   {
    "duration": 0,
    "start_time": "2023-03-16T16:37:24.947Z"
   },
   {
    "duration": 0,
    "start_time": "2023-03-16T16:37:24.948Z"
   },
   {
    "duration": 0,
    "start_time": "2023-03-16T16:37:24.949Z"
   },
   {
    "duration": 0,
    "start_time": "2023-03-16T16:37:24.957Z"
   },
   {
    "duration": 0,
    "start_time": "2023-03-16T16:37:24.961Z"
   },
   {
    "duration": 0,
    "start_time": "2023-03-16T16:37:24.964Z"
   },
   {
    "duration": 0,
    "start_time": "2023-03-16T16:37:24.966Z"
   },
   {
    "duration": 0,
    "start_time": "2023-03-16T16:37:24.967Z"
   },
   {
    "duration": 0,
    "start_time": "2023-03-16T16:37:24.968Z"
   },
   {
    "duration": 0,
    "start_time": "2023-03-16T16:37:24.970Z"
   },
   {
    "duration": 0,
    "start_time": "2023-03-16T16:37:24.971Z"
   },
   {
    "duration": 0,
    "start_time": "2023-03-16T16:37:24.972Z"
   },
   {
    "duration": 0,
    "start_time": "2023-03-16T16:37:24.974Z"
   },
   {
    "duration": 0,
    "start_time": "2023-03-16T16:37:24.975Z"
   },
   {
    "duration": 0,
    "start_time": "2023-03-16T16:37:24.977Z"
   },
   {
    "duration": 0,
    "start_time": "2023-03-16T16:37:24.978Z"
   },
   {
    "duration": 0,
    "start_time": "2023-03-16T16:37:24.980Z"
   },
   {
    "duration": 0,
    "start_time": "2023-03-16T16:37:24.981Z"
   },
   {
    "duration": 0,
    "start_time": "2023-03-16T16:37:24.983Z"
   },
   {
    "duration": 1238,
    "start_time": "2023-03-16T16:39:18.707Z"
   },
   {
    "duration": 95,
    "start_time": "2023-03-16T16:39:19.950Z"
   },
   {
    "duration": 15,
    "start_time": "2023-03-16T16:39:20.047Z"
   },
   {
    "duration": 11,
    "start_time": "2023-03-16T16:39:20.063Z"
   },
   {
    "duration": 14,
    "start_time": "2023-03-16T16:39:20.077Z"
   },
   {
    "duration": 9,
    "start_time": "2023-03-16T16:39:20.093Z"
   },
   {
    "duration": 7,
    "start_time": "2023-03-16T16:39:20.103Z"
   },
   {
    "duration": 37,
    "start_time": "2023-03-16T16:39:20.111Z"
   },
   {
    "duration": 17,
    "start_time": "2023-03-16T16:39:20.149Z"
   },
   {
    "duration": 21,
    "start_time": "2023-03-16T16:39:20.168Z"
   },
   {
    "duration": 8,
    "start_time": "2023-03-16T16:39:20.190Z"
   },
   {
    "duration": 11,
    "start_time": "2023-03-16T16:39:20.200Z"
   },
   {
    "duration": 11,
    "start_time": "2023-03-16T16:39:20.212Z"
   },
   {
    "duration": 33,
    "start_time": "2023-03-16T16:39:20.227Z"
   },
   {
    "duration": 14,
    "start_time": "2023-03-16T16:39:20.262Z"
   },
   {
    "duration": 15,
    "start_time": "2023-03-16T16:39:20.279Z"
   },
   {
    "duration": 32,
    "start_time": "2023-03-16T16:39:20.295Z"
   },
   {
    "duration": 21,
    "start_time": "2023-03-16T16:39:20.328Z"
   },
   {
    "duration": 29,
    "start_time": "2023-03-16T16:39:20.350Z"
   },
   {
    "duration": 18,
    "start_time": "2023-03-16T16:39:20.380Z"
   },
   {
    "duration": 4,
    "start_time": "2023-03-16T16:39:20.399Z"
   },
   {
    "duration": 374,
    "start_time": "2023-03-16T16:39:20.405Z"
   },
   {
    "duration": 427,
    "start_time": "2023-03-16T16:39:20.781Z"
   },
   {
    "duration": 13,
    "start_time": "2023-03-16T16:39:21.209Z"
   },
   {
    "duration": 38,
    "start_time": "2023-03-16T16:39:21.223Z"
   },
   {
    "duration": 211,
    "start_time": "2023-03-16T16:39:21.263Z"
   },
   {
    "duration": 299,
    "start_time": "2023-03-16T16:39:21.476Z"
   },
   {
    "duration": 245,
    "start_time": "2023-03-16T16:39:21.776Z"
   },
   {
    "duration": 374,
    "start_time": "2023-03-16T16:39:22.023Z"
   },
   {
    "duration": 3,
    "start_time": "2023-03-16T16:39:22.398Z"
   },
   {
    "duration": 11,
    "start_time": "2023-03-16T16:39:22.403Z"
   },
   {
    "duration": 169,
    "start_time": "2023-03-16T16:39:22.416Z"
   },
   {
    "duration": 149,
    "start_time": "2023-03-16T16:39:22.587Z"
   },
   {
    "duration": 12,
    "start_time": "2023-03-16T16:39:22.738Z"
   },
   {
    "duration": 7,
    "start_time": "2023-03-16T16:39:22.752Z"
   },
   {
    "duration": 167,
    "start_time": "2023-03-16T16:39:22.761Z"
   },
   {
    "duration": 198,
    "start_time": "2023-03-16T16:39:22.929Z"
   },
   {
    "duration": 4,
    "start_time": "2023-03-16T16:39:23.129Z"
   },
   {
    "duration": 276,
    "start_time": "2023-03-16T16:39:23.135Z"
   },
   {
    "duration": 55,
    "start_time": "2023-03-16T16:39:23.413Z"
   },
   {
    "duration": 189,
    "start_time": "2023-03-16T16:39:23.473Z"
   },
   {
    "duration": 11,
    "start_time": "2023-03-16T16:39:23.666Z"
   },
   {
    "duration": 16,
    "start_time": "2023-03-16T16:39:23.679Z"
   },
   {
    "duration": 14,
    "start_time": "2023-03-16T16:39:23.697Z"
   },
   {
    "duration": 50,
    "start_time": "2023-03-16T16:39:23.713Z"
   },
   {
    "duration": 16,
    "start_time": "2023-03-16T16:39:23.765Z"
   },
   {
    "duration": 239,
    "start_time": "2023-03-16T16:41:40.226Z"
   },
   {
    "duration": 242,
    "start_time": "2023-03-16T16:41:50.340Z"
   },
   {
    "duration": 257,
    "start_time": "2023-03-16T16:41:56.299Z"
   },
   {
    "duration": 253,
    "start_time": "2023-03-16T16:42:03.077Z"
   },
   {
    "duration": 6,
    "start_time": "2023-03-16T16:43:26.315Z"
   },
   {
    "duration": 143,
    "start_time": "2023-03-16T16:43:36.639Z"
   },
   {
    "duration": 5,
    "start_time": "2023-03-16T16:44:12.794Z"
   },
   {
    "duration": 386,
    "start_time": "2023-03-16T16:44:22.615Z"
   },
   {
    "duration": 246,
    "start_time": "2023-03-16T16:45:48.146Z"
   },
   {
    "duration": 305,
    "start_time": "2023-03-16T16:47:32.391Z"
   },
   {
    "duration": 10,
    "start_time": "2023-03-16T16:52:52.566Z"
   },
   {
    "duration": 1189,
    "start_time": "2023-03-16T16:57:08.122Z"
   },
   {
    "duration": 93,
    "start_time": "2023-03-16T16:57:09.312Z"
   },
   {
    "duration": 10,
    "start_time": "2023-03-16T16:57:09.407Z"
   },
   {
    "duration": 16,
    "start_time": "2023-03-16T16:57:09.418Z"
   },
   {
    "duration": 34,
    "start_time": "2023-03-16T16:57:09.436Z"
   },
   {
    "duration": 7,
    "start_time": "2023-03-16T16:57:09.472Z"
   },
   {
    "duration": 21,
    "start_time": "2023-03-16T16:57:09.480Z"
   },
   {
    "duration": 16,
    "start_time": "2023-03-16T16:57:09.502Z"
   },
   {
    "duration": 38,
    "start_time": "2023-03-16T16:57:09.519Z"
   },
   {
    "duration": 12,
    "start_time": "2023-03-16T16:57:09.558Z"
   },
   {
    "duration": 6,
    "start_time": "2023-03-16T16:57:09.571Z"
   },
   {
    "duration": 8,
    "start_time": "2023-03-16T16:57:09.578Z"
   },
   {
    "duration": 10,
    "start_time": "2023-03-16T16:57:09.587Z"
   },
   {
    "duration": 10,
    "start_time": "2023-03-16T16:57:09.599Z"
   },
   {
    "duration": 11,
    "start_time": "2023-03-16T16:57:09.610Z"
   },
   {
    "duration": 14,
    "start_time": "2023-03-16T16:57:09.622Z"
   },
   {
    "duration": 36,
    "start_time": "2023-03-16T16:57:09.637Z"
   },
   {
    "duration": 7,
    "start_time": "2023-03-16T16:57:09.676Z"
   },
   {
    "duration": 15,
    "start_time": "2023-03-16T16:57:09.685Z"
   },
   {
    "duration": 16,
    "start_time": "2023-03-16T16:57:09.702Z"
   },
   {
    "duration": 4,
    "start_time": "2023-03-16T16:57:09.720Z"
   },
   {
    "duration": 305,
    "start_time": "2023-03-16T16:57:09.725Z"
   },
   {
    "duration": 399,
    "start_time": "2023-03-16T16:57:10.031Z"
   },
   {
    "duration": 38,
    "start_time": "2023-03-16T16:57:10.431Z"
   },
   {
    "duration": 19,
    "start_time": "2023-03-16T16:57:10.471Z"
   },
   {
    "duration": 236,
    "start_time": "2023-03-16T16:57:10.492Z"
   },
   {
    "duration": 350,
    "start_time": "2023-03-16T16:57:10.730Z"
   },
   {
    "duration": 237,
    "start_time": "2023-03-16T16:57:11.082Z"
   },
   {
    "duration": 377,
    "start_time": "2023-03-16T16:57:11.320Z"
   },
   {
    "duration": 2,
    "start_time": "2023-03-16T16:57:11.699Z"
   },
   {
    "duration": 12,
    "start_time": "2023-03-16T16:57:11.703Z"
   },
   {
    "duration": 151,
    "start_time": "2023-03-16T16:57:11.716Z"
   },
   {
    "duration": 148,
    "start_time": "2023-03-16T16:57:11.869Z"
   },
   {
    "duration": 4,
    "start_time": "2023-03-16T16:57:12.019Z"
   },
   {
    "duration": 21,
    "start_time": "2023-03-16T16:57:12.024Z"
   },
   {
    "duration": 172,
    "start_time": "2023-03-16T16:57:12.046Z"
   },
   {
    "duration": 237,
    "start_time": "2023-03-16T16:57:12.220Z"
   },
   {
    "duration": 5,
    "start_time": "2023-03-16T16:57:12.458Z"
   },
   {
    "duration": 263,
    "start_time": "2023-03-16T16:57:12.465Z"
   },
   {
    "duration": 47,
    "start_time": "2023-03-16T16:57:12.730Z"
   },
   {
    "duration": 181,
    "start_time": "2023-03-16T16:57:12.782Z"
   },
   {
    "duration": 12,
    "start_time": "2023-03-16T16:57:12.974Z"
   },
   {
    "duration": 8,
    "start_time": "2023-03-16T16:57:12.987Z"
   },
   {
    "duration": 6,
    "start_time": "2023-03-16T16:57:12.997Z"
   },
   {
    "duration": 44,
    "start_time": "2023-03-16T16:57:13.005Z"
   },
   {
    "duration": 17,
    "start_time": "2023-03-16T16:57:13.058Z"
   },
   {
    "duration": 1286,
    "start_time": "2023-03-16T17:15:49.483Z"
   },
   {
    "duration": 112,
    "start_time": "2023-03-16T17:15:50.782Z"
   },
   {
    "duration": 11,
    "start_time": "2023-03-16T17:15:50.895Z"
   },
   {
    "duration": 18,
    "start_time": "2023-03-16T17:15:50.909Z"
   },
   {
    "duration": 30,
    "start_time": "2023-03-16T17:15:50.930Z"
   },
   {
    "duration": 23,
    "start_time": "2023-03-16T17:15:50.962Z"
   },
   {
    "duration": 5,
    "start_time": "2023-03-16T17:15:50.988Z"
   },
   {
    "duration": 12,
    "start_time": "2023-03-16T17:15:50.994Z"
   },
   {
    "duration": 9,
    "start_time": "2023-03-16T17:15:51.008Z"
   },
   {
    "duration": 3,
    "start_time": "2023-03-16T17:15:51.019Z"
   },
   {
    "duration": 8,
    "start_time": "2023-03-16T17:15:51.024Z"
   },
   {
    "duration": 18,
    "start_time": "2023-03-16T17:15:51.034Z"
   },
   {
    "duration": 27,
    "start_time": "2023-03-16T17:15:51.054Z"
   },
   {
    "duration": 10,
    "start_time": "2023-03-16T17:15:51.087Z"
   },
   {
    "duration": 10,
    "start_time": "2023-03-16T17:15:51.098Z"
   },
   {
    "duration": 12,
    "start_time": "2023-03-16T17:15:51.109Z"
   },
   {
    "duration": 11,
    "start_time": "2023-03-16T17:15:51.123Z"
   },
   {
    "duration": 36,
    "start_time": "2023-03-16T17:15:51.135Z"
   },
   {
    "duration": 17,
    "start_time": "2023-03-16T17:15:51.172Z"
   },
   {
    "duration": 40,
    "start_time": "2023-03-16T17:15:51.190Z"
   },
   {
    "duration": 17,
    "start_time": "2023-03-16T17:15:51.232Z"
   },
   {
    "duration": 139,
    "start_time": "2023-03-16T17:15:51.262Z"
   },
   {
    "duration": 0,
    "start_time": "2023-03-16T17:15:51.404Z"
   },
   {
    "duration": 0,
    "start_time": "2023-03-16T17:15:51.405Z"
   },
   {
    "duration": 0,
    "start_time": "2023-03-16T17:15:51.406Z"
   },
   {
    "duration": 0,
    "start_time": "2023-03-16T17:15:51.408Z"
   },
   {
    "duration": 0,
    "start_time": "2023-03-16T17:15:51.409Z"
   },
   {
    "duration": 0,
    "start_time": "2023-03-16T17:15:51.410Z"
   },
   {
    "duration": 0,
    "start_time": "2023-03-16T17:15:51.412Z"
   },
   {
    "duration": 0,
    "start_time": "2023-03-16T17:15:51.413Z"
   },
   {
    "duration": 0,
    "start_time": "2023-03-16T17:15:51.415Z"
   },
   {
    "duration": 0,
    "start_time": "2023-03-16T17:15:51.416Z"
   },
   {
    "duration": 0,
    "start_time": "2023-03-16T17:15:51.417Z"
   },
   {
    "duration": 0,
    "start_time": "2023-03-16T17:15:51.418Z"
   },
   {
    "duration": 0,
    "start_time": "2023-03-16T17:15:51.420Z"
   },
   {
    "duration": 0,
    "start_time": "2023-03-16T17:15:51.421Z"
   },
   {
    "duration": 0,
    "start_time": "2023-03-16T17:15:51.440Z"
   },
   {
    "duration": 0,
    "start_time": "2023-03-16T17:15:51.440Z"
   },
   {
    "duration": 0,
    "start_time": "2023-03-16T17:15:51.441Z"
   },
   {
    "duration": 0,
    "start_time": "2023-03-16T17:15:51.442Z"
   },
   {
    "duration": 0,
    "start_time": "2023-03-16T17:15:51.442Z"
   },
   {
    "duration": 0,
    "start_time": "2023-03-16T17:15:51.443Z"
   },
   {
    "duration": 0,
    "start_time": "2023-03-16T17:15:51.443Z"
   },
   {
    "duration": 0,
    "start_time": "2023-03-16T17:15:51.444Z"
   },
   {
    "duration": 0,
    "start_time": "2023-03-16T17:15:51.444Z"
   },
   {
    "duration": 0,
    "start_time": "2023-03-16T17:15:51.445Z"
   },
   {
    "duration": 21,
    "start_time": "2023-03-16T17:16:29.978Z"
   },
   {
    "duration": 342,
    "start_time": "2023-03-16T17:16:39.308Z"
   },
   {
    "duration": 1141,
    "start_time": "2023-03-16T17:16:44.696Z"
   },
   {
    "duration": 138,
    "start_time": "2023-03-16T17:16:45.849Z"
   },
   {
    "duration": 13,
    "start_time": "2023-03-16T17:16:45.991Z"
   },
   {
    "duration": 12,
    "start_time": "2023-03-16T17:16:46.007Z"
   },
   {
    "duration": 14,
    "start_time": "2023-03-16T17:16:46.021Z"
   },
   {
    "duration": 28,
    "start_time": "2023-03-16T17:16:46.037Z"
   },
   {
    "duration": 18,
    "start_time": "2023-03-16T17:16:46.067Z"
   },
   {
    "duration": 8,
    "start_time": "2023-03-16T17:16:46.089Z"
   },
   {
    "duration": 10,
    "start_time": "2023-03-16T17:16:46.098Z"
   },
   {
    "duration": 5,
    "start_time": "2023-03-16T17:16:46.110Z"
   },
   {
    "duration": 7,
    "start_time": "2023-03-16T17:16:46.117Z"
   },
   {
    "duration": 9,
    "start_time": "2023-03-16T17:16:46.126Z"
   },
   {
    "duration": 20,
    "start_time": "2023-03-16T17:16:46.137Z"
   },
   {
    "duration": 19,
    "start_time": "2023-03-16T17:16:46.165Z"
   },
   {
    "duration": 18,
    "start_time": "2023-03-16T17:16:46.195Z"
   },
   {
    "duration": 10,
    "start_time": "2023-03-16T17:16:46.215Z"
   },
   {
    "duration": 21,
    "start_time": "2023-03-16T17:16:46.227Z"
   },
   {
    "duration": 18,
    "start_time": "2023-03-16T17:16:46.250Z"
   },
   {
    "duration": 24,
    "start_time": "2023-03-16T17:16:46.270Z"
   },
   {
    "duration": 24,
    "start_time": "2023-03-16T17:16:46.296Z"
   },
   {
    "duration": 5,
    "start_time": "2023-03-16T17:16:46.321Z"
   },
   {
    "duration": 375,
    "start_time": "2023-03-16T17:16:46.328Z"
   },
   {
    "duration": 488,
    "start_time": "2023-03-16T17:16:46.705Z"
   },
   {
    "duration": 13,
    "start_time": "2023-03-16T17:16:47.196Z"
   },
   {
    "duration": 24,
    "start_time": "2023-03-16T17:16:47.210Z"
   },
   {
    "duration": 328,
    "start_time": "2023-03-16T17:16:47.236Z"
   },
   {
    "duration": 392,
    "start_time": "2023-03-16T17:16:47.565Z"
   },
   {
    "duration": 342,
    "start_time": "2023-03-16T17:16:47.964Z"
   },
   {
    "duration": 365,
    "start_time": "2023-03-16T17:16:48.308Z"
   },
   {
    "duration": 3,
    "start_time": "2023-03-16T17:16:48.674Z"
   },
   {
    "duration": 11,
    "start_time": "2023-03-16T17:16:48.678Z"
   },
   {
    "duration": 202,
    "start_time": "2023-03-16T17:16:48.691Z"
   },
   {
    "duration": 191,
    "start_time": "2023-03-16T17:16:48.902Z"
   },
   {
    "duration": 5,
    "start_time": "2023-03-16T17:16:49.094Z"
   },
   {
    "duration": 5,
    "start_time": "2023-03-16T17:16:49.100Z"
   },
   {
    "duration": 224,
    "start_time": "2023-03-16T17:16:49.107Z"
   },
   {
    "duration": 240,
    "start_time": "2023-03-16T17:16:49.333Z"
   },
   {
    "duration": 12,
    "start_time": "2023-03-16T17:16:49.581Z"
   },
   {
    "duration": 288,
    "start_time": "2023-03-16T17:16:49.597Z"
   },
   {
    "duration": 26,
    "start_time": "2023-03-16T17:16:49.888Z"
   },
   {
    "duration": 184,
    "start_time": "2023-03-16T17:16:49.918Z"
   },
   {
    "duration": 12,
    "start_time": "2023-03-16T17:16:50.104Z"
   },
   {
    "duration": 9,
    "start_time": "2023-03-16T17:16:50.117Z"
   },
   {
    "duration": 40,
    "start_time": "2023-03-16T17:16:50.127Z"
   },
   {
    "duration": 25,
    "start_time": "2023-03-16T17:16:50.176Z"
   },
   {
    "duration": 13,
    "start_time": "2023-03-16T17:16:50.203Z"
   },
   {
    "duration": 1243,
    "start_time": "2023-03-17T14:12:13.302Z"
   },
   {
    "duration": 243,
    "start_time": "2023-03-17T14:12:14.548Z"
   },
   {
    "duration": 14,
    "start_time": "2023-03-17T14:12:14.793Z"
   },
   {
    "duration": 12,
    "start_time": "2023-03-17T14:12:14.810Z"
   },
   {
    "duration": 10,
    "start_time": "2023-03-17T14:12:14.824Z"
   },
   {
    "duration": 9,
    "start_time": "2023-03-17T14:12:14.836Z"
   },
   {
    "duration": 8,
    "start_time": "2023-03-17T14:12:14.847Z"
   },
   {
    "duration": 39,
    "start_time": "2023-03-17T14:12:14.857Z"
   },
   {
    "duration": 18,
    "start_time": "2023-03-17T14:12:14.898Z"
   },
   {
    "duration": 4,
    "start_time": "2023-03-17T14:12:14.917Z"
   },
   {
    "duration": 8,
    "start_time": "2023-03-17T14:12:14.923Z"
   },
   {
    "duration": 9,
    "start_time": "2023-03-17T14:12:14.933Z"
   },
   {
    "duration": 7,
    "start_time": "2023-03-17T14:12:14.944Z"
   },
   {
    "duration": 37,
    "start_time": "2023-03-17T14:12:14.954Z"
   },
   {
    "duration": 15,
    "start_time": "2023-03-17T14:12:15.001Z"
   },
   {
    "duration": 26,
    "start_time": "2023-03-17T14:12:15.018Z"
   },
   {
    "duration": 14,
    "start_time": "2023-03-17T14:12:15.046Z"
   },
   {
    "duration": 10,
    "start_time": "2023-03-17T14:12:15.062Z"
   },
   {
    "duration": 26,
    "start_time": "2023-03-17T14:12:15.074Z"
   },
   {
    "duration": 25,
    "start_time": "2023-03-17T14:12:15.110Z"
   },
   {
    "duration": 7,
    "start_time": "2023-03-17T14:12:15.138Z"
   },
   {
    "duration": 341,
    "start_time": "2023-03-17T14:12:15.146Z"
   },
   {
    "duration": 459,
    "start_time": "2023-03-17T14:12:15.489Z"
   },
   {
    "duration": 15,
    "start_time": "2023-03-17T14:12:15.950Z"
   },
   {
    "duration": 37,
    "start_time": "2023-03-17T14:12:15.967Z"
   },
   {
    "duration": 255,
    "start_time": "2023-03-17T14:12:16.008Z"
   },
   {
    "duration": 401,
    "start_time": "2023-03-17T14:12:16.265Z"
   },
   {
    "duration": 363,
    "start_time": "2023-03-17T14:12:16.669Z"
   },
   {
    "duration": 434,
    "start_time": "2023-03-17T14:12:17.034Z"
   },
   {
    "duration": 5,
    "start_time": "2023-03-17T14:12:17.470Z"
   },
   {
    "duration": 30,
    "start_time": "2023-03-17T14:12:17.477Z"
   },
   {
    "duration": 180,
    "start_time": "2023-03-17T14:12:17.509Z"
   },
   {
    "duration": 175,
    "start_time": "2023-03-17T14:12:17.693Z"
   },
   {
    "duration": 5,
    "start_time": "2023-03-17T14:12:17.870Z"
   },
   {
    "duration": 33,
    "start_time": "2023-03-17T14:12:17.876Z"
   },
   {
    "duration": 344,
    "start_time": "2023-03-17T14:12:17.911Z"
   },
   {
    "duration": 241,
    "start_time": "2023-03-17T14:12:18.257Z"
   },
   {
    "duration": 11,
    "start_time": "2023-03-17T14:12:18.500Z"
   },
   {
    "duration": 328,
    "start_time": "2023-03-17T14:12:18.515Z"
   },
   {
    "duration": 56,
    "start_time": "2023-03-17T14:12:18.846Z"
   },
   {
    "duration": 228,
    "start_time": "2023-03-17T14:12:18.910Z"
   },
   {
    "duration": 12,
    "start_time": "2023-03-17T14:12:19.140Z"
   },
   {
    "duration": 21,
    "start_time": "2023-03-17T14:12:19.154Z"
   },
   {
    "duration": 31,
    "start_time": "2023-03-17T14:12:19.177Z"
   },
   {
    "duration": 52,
    "start_time": "2023-03-17T14:12:19.214Z"
   },
   {
    "duration": 14,
    "start_time": "2023-03-17T14:12:19.268Z"
   }
  ],
  "kernelspec": {
   "display_name": "Python 3 (ipykernel)",
   "language": "python",
   "name": "python3"
  },
  "language_info": {
   "codemirror_mode": {
    "name": "ipython",
    "version": 3
   },
   "file_extension": ".py",
   "mimetype": "text/x-python",
   "name": "python",
   "nbconvert_exporter": "python",
   "pygments_lexer": "ipython3",
   "version": "3.9.13"
  },
  "toc": {
   "base_numbering": 1,
   "nav_menu": {},
   "number_sections": false,
   "sideBar": true,
   "skip_h1_title": false,
   "title_cell": "Table of Contents",
   "title_sidebar": "Contents",
   "toc_cell": false,
   "toc_position": {
    "height": "calc(100% - 180px)",
    "left": "10px",
    "top": "150px",
    "width": "165px"
   },
   "toc_section_display": true,
   "toc_window_display": true
  }
 },
 "nbformat": 4,
 "nbformat_minor": 2
}
